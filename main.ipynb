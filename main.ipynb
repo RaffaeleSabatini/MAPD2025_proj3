{
 "cells": [
  {
   "cell_type": "markdown",
   "id": "37d92118-3f45-4d38-a2a9-730f57634aac",
   "metadata": {},
   "source": [
    "# Creation of the Spark Session and Context"
   ]
  },
  {
   "cell_type": "code",
   "execution_count": 1,
   "id": "e8b76336-8f50-45ca-8605-531a1f1e9817",
   "metadata": {},
   "outputs": [
    {
     "name": "stderr",
     "output_type": "stream",
     "text": [
      "Setting default log level to \"WARN\".\n",
      "To adjust logging level use sc.setLogLevel(newLevel). For SparkR, use setLogLevel(newLevel).\n",
      "25/07/27 15:47:23 WARN NativeCodeLoader: Unable to load native-hadoop library for your platform... using builtin-java classes where applicable\n"
     ]
    }
   ],
   "source": [
    "import pandas as pd\n",
    "import numpy as np\n",
    "import matplotlib.pyplot as plt\n",
    "import os\n",
    "import pyspark.sql.functions as sf\n",
    "from pyspark.sql import SparkSession\n",
    "from pyspark import SparkFiles\n",
    "\n",
    "os.environ[\"PYSPARK_PYTHON\"] = \"/opt/miniconda3/bin/python\"\n",
    "os.environ[\"PYSPARK_DRIVER_PYTHON\"] = \"/opt/miniconda3/bin/python\"\n",
    "\n",
    "spark = SparkSession.builder \\\n",
    "    .appName(\"User_B_Session\") \\\n",
    "    .master(\"spark://10.67.22.135:7077\") \\\n",
    "    .config(\"spark.scheduler.mode\", \"FAIR\") \\\n",
    "    .config(\"spark.dynamicAllocation.enabled\", \"false\") \\\n",
    "    .config(\"spark.shuffle.service.enabled\", \"false\") \\\n",
    "    .config(\"spark.scheduler.pool\", \"user_b\") \\\n",
    "    .getOrCreate()\n",
    "\n",
    "sc = spark.sparkContext"
   ]
  },
  {
   "cell_type": "markdown",
   "id": "a5025883-f632-4dd6-a155-cc400748ff88",
   "metadata": {},
   "source": [
    "# Dataset upload and partition"
   ]
  },
  {
   "cell_type": "code",
   "execution_count": 3,
   "id": "572c438c-52e6-48e2-ab72-8c4aba761f72",
   "metadata": {},
   "outputs": [],
   "source": [
    "Npartition = 16 # to change (one of project goal)"
   ]
  },
  {
   "cell_type": "code",
   "execution_count": 2,
   "id": "a4f13136-99cd-4587-b41a-939782920223",
   "metadata": {},
   "outputs": [
    {
     "name": "stderr",
     "output_type": "stream",
     "text": [
      "25/07/27 15:47:41 WARN FairSchedulableBuilder: A job was submitted with scheduler pool user_b, which has not been configured. This can happen when the file that pools are read from isn't set, or when that file doesn't contain user_b. Created user_b with default configuration (schedulingMode: FIFO, minShare: 0, weight: 1)\n",
      "                                                                                "
     ]
    }
   ],
   "source": [
    "df = spark.read.option(\"header\", True).csv(\"file:///mnt/shared/dataset.csv\")\n",
    "df = df.repartition(Npartition)"
   ]
  },
  {
   "cell_type": "code",
   "execution_count": 6,
   "id": "00454021-2f0f-41eb-8b68-29c894a914f3",
   "metadata": {},
   "outputs": [],
   "source": [
    "#df.groupBy(\"hwid\").count().show()\n",
    "#df.rdd.getNumPartitions()"
   ]
  },
  {
   "cell_type": "code",
   "execution_count": 7,
   "id": "81051779-dc36-4e67-980b-46843f3826aa",
   "metadata": {},
   "outputs": [
    {
     "name": "stdout",
     "output_type": "stream",
     "text": [
      "root\n",
      " |-- when: string (nullable = true)\n",
      " |-- hwid: string (nullable = true)\n",
      " |-- metric: string (nullable = true)\n",
      " |-- value: string (nullable = true)\n",
      "\n"
     ]
    }
   ],
   "source": [
    "df.printSchema()"
   ]
  },
  {
   "cell_type": "markdown",
   "id": "1bb6ebcb-2a1e-4c9d-9f15-2600f04883f4",
   "metadata": {},
   "source": [
    "# Preprocessing"
   ]
  },
  {
   "cell_type": "code",
   "execution_count": 16,
   "id": "13a9d3a5-9805-4732-868c-b40007b6dcca",
   "metadata": {},
   "outputs": [],
   "source": [
    "from pyspark.sql.functions import col, from_unixtime, first\n",
    "\n",
    "df = df.withColumn(\"when\", col(\"when\").cast(\"long\"))"
   ]
  },
  {
   "cell_type": "code",
   "execution_count": 12,
   "id": "b274cc0f-fa59-4034-8939-d44866d42681",
   "metadata": {},
   "outputs": [
    {
     "name": "stderr",
     "output_type": "stream",
     "text": [
      "[Stage 10:================================>                        (9 + 7) / 16]"
     ]
    },
    {
     "name": "stdout",
     "output_type": "stream",
     "text": [
      "+------+\n",
      "|  hwid|\n",
      "+------+\n",
      "|SW-088|\n",
      "|SW-106|\n",
      "|SW-065|\n",
      "|SW-115|\n",
      "+------+\n",
      "\n"
     ]
    },
    {
     "name": "stderr",
     "output_type": "stream",
     "text": [
      "                                                                                "
     ]
    }
   ],
   "source": [
    "hwid_list = df.select(\"hwid\").distinct()\n",
    "hwid_list.show()"
   ]
  },
  {
   "cell_type": "code",
   "execution_count": 13,
   "id": "91d73c3d-8f98-440b-84d8-3c650cd8db8a",
   "metadata": {},
   "outputs": [],
   "source": [
    "hardware = \"SW-106\"\n",
    "df_hard = df.filter(col(\"hwid\") == hardware).withColumn(\"timestamp\", from_unixtime(col(\"when\")))"
   ]
  },
  {
   "cell_type": "code",
   "execution_count": 14,
   "id": "1475d0b5-bc02-4558-9594-3bb077c61086",
   "metadata": {},
   "outputs": [
    {
     "name": "stdout",
     "output_type": "stream",
     "text": [
      "root\n",
      " |-- when: long (nullable = true)\n",
      " |-- hwid: string (nullable = true)\n",
      " |-- metric: string (nullable = true)\n",
      " |-- value: string (nullable = true)\n",
      " |-- timestamp: string (nullable = true)\n",
      "\n"
     ]
    }
   ],
   "source": [
    "df_hard.printSchema()"
   ]
  },
  {
   "cell_type": "code",
   "execution_count": 17,
   "id": "92e86e13-dd87-4abd-a9a4-70321af57176",
   "metadata": {},
   "outputs": [
    {
     "name": "stderr",
     "output_type": "stream",
     "text": [
      "                                                                                "
     ]
    }
   ],
   "source": [
    "df_hard = df_hard.groupBy(\"when\").pivot(\"metric\").agg(first(\"value\")).orderBy(\"when\")"
   ]
  },
  {
   "cell_type": "code",
   "execution_count": 18,
   "id": "cf99b20f-f39e-496f-b541-1f3ab4a37092",
   "metadata": {},
   "outputs": [
    {
     "name": "stdout",
     "output_type": "stream",
     "text": [
      "root\n",
      " |-- when: long (nullable = true)\n",
      " |-- A5: string (nullable = true)\n",
      " |-- A9: string (nullable = true)\n",
      " |-- ComError: string (nullable = true)\n",
      " |-- P1: string (nullable = true)\n",
      " |-- P10: string (nullable = true)\n",
      " |-- P15: string (nullable = true)\n",
      " |-- P16: string (nullable = true)\n",
      " |-- P17: string (nullable = true)\n",
      " |-- P18: string (nullable = true)\n",
      " |-- P2: string (nullable = true)\n",
      " |-- P5: string (nullable = true)\n",
      " |-- P6: string (nullable = true)\n",
      " |-- P7: string (nullable = true)\n",
      " |-- P8: string (nullable = true)\n",
      " |-- P9: string (nullable = true)\n",
      " |-- S1: string (nullable = true)\n",
      " |-- S10: string (nullable = true)\n",
      " |-- S100: string (nullable = true)\n",
      " |-- S101: string (nullable = true)\n",
      " |-- S102: string (nullable = true)\n",
      " |-- S106: string (nullable = true)\n",
      " |-- S107: string (nullable = true)\n",
      " |-- S108: string (nullable = true)\n",
      " |-- S109: string (nullable = true)\n",
      " |-- S11: string (nullable = true)\n",
      " |-- S110: string (nullable = true)\n",
      " |-- S112: string (nullable = true)\n",
      " |-- S113: string (nullable = true)\n",
      " |-- S114: string (nullable = true)\n",
      " |-- S115: string (nullable = true)\n",
      " |-- S117: string (nullable = true)\n",
      " |-- S118: string (nullable = true)\n",
      " |-- S122: string (nullable = true)\n",
      " |-- S123: string (nullable = true)\n",
      " |-- S124: string (nullable = true)\n",
      " |-- S125: string (nullable = true)\n",
      " |-- S126: string (nullable = true)\n",
      " |-- S127: string (nullable = true)\n",
      " |-- S128: string (nullable = true)\n",
      " |-- S129: string (nullable = true)\n",
      " |-- S130: string (nullable = true)\n",
      " |-- S137: string (nullable = true)\n",
      " |-- S138: string (nullable = true)\n",
      " |-- S140: string (nullable = true)\n",
      " |-- S143: string (nullable = true)\n",
      " |-- S147: string (nullable = true)\n",
      " |-- S15: string (nullable = true)\n",
      " |-- S151: string (nullable = true)\n",
      " |-- S154: string (nullable = true)\n",
      " |-- S157: string (nullable = true)\n",
      " |-- S158: string (nullable = true)\n",
      " |-- S159: string (nullable = true)\n",
      " |-- S16: string (nullable = true)\n",
      " |-- S163: string (nullable = true)\n",
      " |-- S164: string (nullable = true)\n",
      " |-- S165: string (nullable = true)\n",
      " |-- S166: string (nullable = true)\n",
      " |-- S167: string (nullable = true)\n",
      " |-- S169: string (nullable = true)\n",
      " |-- S17: string (nullable = true)\n",
      " |-- S170: string (nullable = true)\n",
      " |-- S171: string (nullable = true)\n",
      " |-- S172: string (nullable = true)\n",
      " |-- S173: string (nullable = true)\n",
      " |-- S174: string (nullable = true)\n",
      " |-- S175: string (nullable = true)\n",
      " |-- S176: string (nullable = true)\n",
      " |-- S178: string (nullable = true)\n",
      " |-- S179: string (nullable = true)\n",
      " |-- S180: string (nullable = true)\n",
      " |-- S181: string (nullable = true)\n",
      " |-- S183: string (nullable = true)\n",
      " |-- S19: string (nullable = true)\n",
      " |-- S2: string (nullable = true)\n",
      " |-- S201: string (nullable = true)\n",
      " |-- S202: string (nullable = true)\n",
      " |-- S203: string (nullable = true)\n",
      " |-- S204: string (nullable = true)\n",
      " |-- S205: string (nullable = true)\n",
      " |-- S206: string (nullable = true)\n",
      " |-- S25: string (nullable = true)\n",
      " |-- S3: string (nullable = true)\n",
      " |-- S33: string (nullable = true)\n",
      " |-- S34: string (nullable = true)\n",
      " |-- S35: string (nullable = true)\n",
      " |-- S37: string (nullable = true)\n",
      " |-- S39: string (nullable = true)\n",
      " |-- S40: string (nullable = true)\n",
      " |-- S41: string (nullable = true)\n",
      " |-- S42: string (nullable = true)\n",
      " |-- S43: string (nullable = true)\n",
      " |-- S45: string (nullable = true)\n",
      " |-- S46: string (nullable = true)\n",
      " |-- S47: string (nullable = true)\n",
      " |-- S49: string (nullable = true)\n",
      " |-- S5: string (nullable = true)\n",
      " |-- S50: string (nullable = true)\n",
      " |-- S53: string (nullable = true)\n",
      " |-- S54: string (nullable = true)\n",
      " |-- S55: string (nullable = true)\n",
      " |-- S56: string (nullable = true)\n",
      " |-- S57: string (nullable = true)\n",
      " |-- S6: string (nullable = true)\n",
      " |-- S63: string (nullable = true)\n",
      " |-- S64: string (nullable = true)\n",
      " |-- S69: string (nullable = true)\n",
      " |-- S7: string (nullable = true)\n",
      " |-- S70: string (nullable = true)\n",
      " |-- S71: string (nullable = true)\n",
      " |-- S72: string (nullable = true)\n",
      " |-- S73: string (nullable = true)\n",
      " |-- S8: string (nullable = true)\n",
      " |-- S80: string (nullable = true)\n",
      " |-- S81: string (nullable = true)\n",
      " |-- S83: string (nullable = true)\n",
      " |-- S86: string (nullable = true)\n",
      " |-- S9: string (nullable = true)\n",
      " |-- S90: string (nullable = true)\n",
      " |-- S94: string (nullable = true)\n",
      " |-- S97: string (nullable = true)\n",
      " |-- SA1: string (nullable = true)\n",
      " |-- SA10: string (nullable = true)\n",
      " |-- SA11: string (nullable = true)\n",
      " |-- SA12: string (nullable = true)\n",
      " |-- SA2: string (nullable = true)\n",
      " |-- SA3: string (nullable = true)\n",
      " |-- SA4: string (nullable = true)\n",
      " |-- SA5: string (nullable = true)\n",
      " |-- SA6: string (nullable = true)\n",
      " |-- SA7: string (nullable = true)\n",
      " |-- SA8: string (nullable = true)\n",
      " |-- SA9: string (nullable = true)\n",
      " |-- SW: string (nullable = true)\n",
      "\n"
     ]
    }
   ],
   "source": [
    "df_hard.printSchema()"
   ]
  },
  {
   "cell_type": "code",
   "execution_count": null,
   "id": "28b071f9-4c55-448f-87ed-ea874e8e764e",
   "metadata": {},
   "outputs": [],
   "source": []
  },
  {
   "cell_type": "code",
   "execution_count": null,
   "id": "6b4fa421-6c3d-4d9e-a18e-44a3f08c7ef6",
   "metadata": {},
   "outputs": [],
   "source": []
  },
  {
   "cell_type": "code",
   "execution_count": null,
   "id": "1b63cd73-76c6-4746-a301-24bf44285ed5",
   "metadata": {},
   "outputs": [],
   "source": []
  },
  {
   "cell_type": "code",
   "execution_count": null,
   "id": "8d1f158e-d3d8-4a7c-abe2-26cf672e397b",
   "metadata": {},
   "outputs": [],
   "source": []
  },
  {
   "cell_type": "code",
   "execution_count": null,
   "id": "9c4ff1dd-93db-4005-accf-721b5838d53d",
   "metadata": {},
   "outputs": [],
   "source": []
  },
  {
   "cell_type": "code",
   "execution_count": null,
   "id": "d5993654-7c21-436e-8552-4b4d3b23d88b",
   "metadata": {},
   "outputs": [],
   "source": []
  },
  {
   "cell_type": "code",
   "execution_count": null,
   "id": "6029d797-d124-43ef-8209-ae009d4d055f",
   "metadata": {},
   "outputs": [],
   "source": []
  },
  {
   "cell_type": "code",
   "execution_count": null,
   "id": "31659118-bfe4-4941-8049-7d8de813e0e7",
   "metadata": {},
   "outputs": [],
   "source": []
  },
  {
   "cell_type": "code",
   "execution_count": null,
   "id": "ba7593e0-7c05-4ff3-a3b8-6f0f6f24ce16",
   "metadata": {},
   "outputs": [],
   "source": []
  },
  {
   "cell_type": "markdown",
   "id": "2930c16b-276b-4e9a-b7b2-78a9e82c0776",
   "metadata": {},
   "source": [
    "# *** Remember to close Spark Session ***"
   ]
  },
  {
   "cell_type": "code",
   "execution_count": null,
   "id": "5e33c131-fe4d-4135-8844-5d1015fb0eb9",
   "metadata": {},
   "outputs": [],
   "source": [
    "spark.stop()"
   ]
  }
 ],
 "metadata": {
  "kernelspec": {
   "display_name": "Python 3 (ipykernel)",
   "language": "python",
   "name": "python3"
  },
  "language_info": {
   "codemirror_mode": {
    "name": "ipython",
    "version": 3
   },
   "file_extension": ".py",
   "mimetype": "text/x-python",
   "name": "python",
   "nbconvert_exporter": "python",
   "pygments_lexer": "ipython3",
   "version": "3.13.2"
  }
 },
 "nbformat": 4,
 "nbformat_minor": 5
}
