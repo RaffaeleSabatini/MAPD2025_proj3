{
 "cells": [
  {
   "cell_type": "markdown",
   "id": "54e55622-6c1e-4ce7-9b6a-66e7c05b9b36",
   "metadata": {},
   "source": [
    "# *** Choose your configuration: 0 docker, 1 cloudveneto ***"
   ]
  },
  {
   "cell_type": "code",
   "execution_count": 1,
   "id": "851da545-cf4b-47fd-b5ad-58b94f4cb1d5",
   "metadata": {},
   "outputs": [],
   "source": [
    "#0 Docker, 1 CloudVeneto\n",
    "FIGHTER = 1"
   ]
  },
  {
   "cell_type": "code",
   "execution_count": 2,
   "id": "c732a165-f0e4-4a4d-bda7-8d878cccce4d",
   "metadata": {},
   "outputs": [],
   "source": [
    "# la porta dove vedere i jobs --- METTERE LA PROPRIA QUI ---\n",
    "portamagica = 4041\n",
    "\n",
    "# nicolò 4040\n",
    "# marco  4041\n",
    "# francesco 4042\n",
    "# raffaele  4043\n",
    "\n",
    "# MASTER 8080 E' PER TUTTI"
   ]
  },
  {
   "cell_type": "markdown",
   "id": "3eb13812-cf42-4545-975f-62e4e50efbe4",
   "metadata": {},
   "source": [
    "<span style=\"font-size: 150%\">Porta 8080, voce Running Applications: puoi vedere se qualcuno ci sta lavorando.\n",
    "<br>\n",
    "Porta 8080, voce Workers: vedresti core e memoria usata se c'è qualcun'altro.</span>"
   ]
  },
  {
   "cell_type": "code",
   "execution_count": 3,
   "id": "6c2fe857-f085-4f00-b986-b7e78e2dc6e2",
   "metadata": {},
   "outputs": [],
   "source": [
    "user = \"user_a\" # \"user_a\"  o  \"user_b\" (B SE SI E' I SECONDI A LAVORARCI)"
   ]
  },
  {
   "cell_type": "code",
   "execution_count": 4,
   "id": "668376d9-f121-415a-a9ed-91f504dbf33f",
   "metadata": {},
   "outputs": [],
   "source": [
    "core = 8 # 8 di 16, lasciare così se si lavora in due"
   ]
  },
  {
   "cell_type": "code",
   "execution_count": 5,
   "id": "57db6b01-e376-4361-9139-84de9663a1a9",
   "metadata": {},
   "outputs": [],
   "source": [
    "Npartition = 8"
   ]
  },
  {
   "cell_type": "code",
   "execution_count": null,
   "id": "365e78a8-730d-45e1-a598-07ce3fc812d9",
   "metadata": {},
   "outputs": [],
   "source": []
  },
  {
   "cell_type": "code",
   "execution_count": null,
   "id": "62719f70-d097-45e5-b2c9-0d0b45b95198",
   "metadata": {},
   "outputs": [],
   "source": []
  },
  {
   "cell_type": "code",
   "execution_count": null,
   "id": "647913fa-1c24-4acc-af7d-c2fe6111adf8",
   "metadata": {},
   "outputs": [],
   "source": []
  },
  {
   "cell_type": "markdown",
   "id": "e8da69cf-69b3-46be-95d3-5ee1682d1283",
   "metadata": {},
   "source": [
    "# *** Remember to close Spark Session ***"
   ]
  },
  {
   "cell_type": "code",
   "execution_count": 94,
   "id": "efd5c59d-1172-405a-bafe-4754d41f8414",
   "metadata": {},
   "outputs": [],
   "source": [
    "spark.stop()"
   ]
  },
  {
   "cell_type": "code",
   "execution_count": null,
   "id": "8f5b12ef-bcf8-4c6d-a2e7-767ef409d634",
   "metadata": {},
   "outputs": [],
   "source": []
  },
  {
   "cell_type": "markdown",
   "id": "220edd20-24f9-44e7-9364-0ad0552a105f",
   "metadata": {},
   "source": [
    "<hr style=\"height:4px; background-color:black; border:none;\" />"
   ]
  },
  {
   "cell_type": "markdown",
   "id": "37d92118-3f45-4d38-a2a9-730f57634aac",
   "metadata": {},
   "source": [
    "# Creation of the Spark Session and Context"
   ]
  },
  {
   "cell_type": "code",
   "execution_count": 95,
   "id": "33a28d44-c369-4659-a27f-36556398bf56",
   "metadata": {},
   "outputs": [],
   "source": [
    "# Standard libraries\n",
    "import os\n",
    "import numpy as np\n",
    "import pandas as pd\n",
    "from math import ceil\n",
    "import matplotlib.pyplot as plt\n",
    "\n",
    "# PySpark core\n",
    "from pyspark import SparkFiles\n",
    "from pyspark.sql import SparkSession, DataFrame, Window\n",
    "from pyspark.sql.types import IntegerType\n",
    "from pyspark.sql.functions import window, col\n",
    "\n",
    "# PySpark functions\n",
    "from pyspark.sql.functions import (\n",
    "    col, lag, expr, when, count, sum as sum_, abs as abs_, round as spark_round,\n",
    "    min as spark_min, max as spark_max, avg as spark_avg, min_by,\n",
    "    explode, sequence, from_unixtime, to_date, unix_timestamp,\n",
    "    first, desc, asc, mode\n",
    ")"
   ]
  },
  {
   "cell_type": "code",
   "execution_count": 96,
   "id": "e8b76336-8f50-45ca-8605-531a1f1e9817",
   "metadata": {},
   "outputs": [],
   "source": [
    "if FIGHTER==0:\n",
    "\n",
    "    spark = SparkSession.builder \\\n",
    "        .master(\"spark://spark-master:7077\") \\\n",
    "        .appName(\"ProjectDocker\") \\\n",
    "        .config(\"spark.executor.memory\", \"1000m\") \\\n",
    "        .config(\"spark.sql.execution.arrow.pyspark.enabled\", \"true\") \\\n",
    "        .config(\"spark.sql.execution.arrow.pyspark.fallback.enabled\", \"false\") \\\n",
    "        .getOrCreate()\n",
    "\n",
    "        # SE NON FUNZIONA TOGLI I DUE CONFIG DI ARROW\n",
    "\n",
    "        # .config(\"spark.executor.memory\", \"1500m\")\n",
    "        # .config(\"spark.executor.cores\", \"1\")\\\n",
    "        # .config(\"spark.executor.instances\", \"12\")\\\n",
    "        # .config(\"spark.cores.max\", \"12\")\\\n",
    "        # .config(\"spark.default.parallelism\", \"24\")\\\n",
    "        # .config(\"spark.sql.adaptive.enabled\", \"true\")\\\n",
    "\n",
    "elif FIGHTER==1:\n",
    "\n",
    "        os.environ[\"PYSPARK_PYTHON\"] = \"/opt/miniconda3/bin/python\"\n",
    "        os.environ[\"PYSPARK_DRIVER_PYTHON\"] = \"/opt/miniconda3/bin/python\"\n",
    "        \n",
    "        spark = SparkSession.builder \\\n",
    "            .appName(\"ProjectCloudVeneto\") \\\n",
    "            .master(\"spark://10.67.22.135:7077\") \\\n",
    "            .config(\"spark.scheduler.mode\", \"FAIR\") \\\n",
    "            .config(\"spark.scheduler.pool\", user) \\\n",
    "            .config(\"spark.scheduler.allocation.file\", \"file:///usr/local/spark/conf/fairscheduler.xml\") \\\n",
    "            .config(\"spark.cores.max\", core) \\\n",
    "            .config(\"spark.sql.execution.arrow.pyspark.enabled\", \"true\") \\\n",
    "            .config(\"spark.sql.execution.arrow.pyspark.fallback.enabled\", \"false\") \\\n",
    "            .config(\"spark.dynamicAllocation.enabled\", \"false\") \\\n",
    "            .config(\"spark.shuffle.service.enabled\", \"false\") \\\n",
    "            .config(\"spark.ui.port\", portamagica) \\\n",
    "            .getOrCreate()\n",
    "    \n",
    "else : print(\"Better choose an available fighter, you little bastard.\")\n",
    "\n",
    "sc = spark.sparkContext"
   ]
  },
  {
   "cell_type": "markdown",
   "id": "a5025883-f632-4dd6-a155-cc400748ff88",
   "metadata": {},
   "source": [
    "# Dataset upload and partition"
   ]
  },
  {
   "cell_type": "code",
   "execution_count": 97,
   "id": "a4f13136-99cd-4587-b41a-939782920223",
   "metadata": {},
   "outputs": [
    {
     "name": "stderr",
     "output_type": "stream",
     "text": [
      "                                                                                "
     ]
    }
   ],
   "source": [
    "if FIGHTER==0:\n",
    "    df = spark.read.option(\"header\", True).option(\"inferSchema\", True).csv(\"/ProvePreliminari/SW-106.csv\")\n",
    "\n",
    "elif FIGHTER==1:\n",
    "    df = spark.read.option(\"header\", True).option(\"inferSchema\", True).csv(\"file:///mnt/shared/dataset.csv\")\n",
    "\n",
    "else:\n",
    "    print(\"Better choose an available fighter, you little bastard\")\n",
    "\n",
    "\n",
    "df = df.repartition(Npartition)"
   ]
  },
  {
   "cell_type": "code",
   "execution_count": 98,
   "id": "00454021-2f0f-41eb-8b68-29c894a914f3",
   "metadata": {},
   "outputs": [],
   "source": [
    "# print(f\"Number of partition used {df.rdd.getNumPartitions()}\")"
   ]
  },
  {
   "cell_type": "code",
   "execution_count": 99,
   "id": "81051779-dc36-4e67-980b-46843f3826aa",
   "metadata": {},
   "outputs": [
    {
     "name": "stdout",
     "output_type": "stream",
     "text": [
      "root\n",
      " |-- when: long (nullable = true)\n",
      " |-- hwid: string (nullable = true)\n",
      " |-- metric: string (nullable = true)\n",
      " |-- value: integer (nullable = true)\n",
      "\n"
     ]
    }
   ],
   "source": [
    "df.printSchema()"
   ]
  },
  {
   "cell_type": "markdown",
   "id": "1bb6ebcb-2a1e-4c9d-9f15-2600f04883f4",
   "metadata": {},
   "source": [
    "# Focus on one hardware at time"
   ]
  },
  {
   "cell_type": "code",
   "execution_count": 100,
   "id": "13a9d3a5-9805-4732-868c-b40007b6dcca",
   "metadata": {},
   "outputs": [],
   "source": [
    "df = df.withColumn(\"when\", spark_round(col(\"when\") / 1000).cast(IntegerType()))"
   ]
  },
  {
   "cell_type": "code",
   "execution_count": 101,
   "id": "b274cc0f-fa59-4034-8939-d44866d42681",
   "metadata": {},
   "outputs": [
    {
     "name": "stderr",
     "output_type": "stream",
     "text": [
      "[Stage 4:=======>                                                   (1 + 7) / 8]"
     ]
    },
    {
     "name": "stdout",
     "output_type": "stream",
     "text": [
      "+------+\n",
      "|  hwid|\n",
      "+------+\n",
      "|SW-088|\n",
      "|SW-106|\n",
      "|SW-065|\n",
      "|SW-115|\n",
      "+------+\n",
      "\n"
     ]
    },
    {
     "name": "stderr",
     "output_type": "stream",
     "text": [
      "                                                                                "
     ]
    }
   ],
   "source": [
    "hwid_list = df.select(\"hwid\").distinct()\n",
    "hwid_list.show()"
   ]
  },
  {
   "cell_type": "code",
   "execution_count": 102,
   "id": "91d73c3d-8f98-440b-84d8-3c650cd8db8a",
   "metadata": {},
   "outputs": [],
   "source": [
    "# CHANGE HERE HARDWARE TO ANALYZE\n",
    "hardware = \"SW-106\"\n",
    "df_hard = df.filter(col(\"hwid\") == hardware)"
   ]
  },
  {
   "cell_type": "code",
   "execution_count": 103,
   "id": "1475d0b5-bc02-4558-9594-3bb077c61086",
   "metadata": {},
   "outputs": [
    {
     "name": "stdout",
     "output_type": "stream",
     "text": [
      "root\n",
      " |-- when: integer (nullable = true)\n",
      " |-- hwid: string (nullable = true)\n",
      " |-- metric: string (nullable = true)\n",
      " |-- value: integer (nullable = true)\n",
      "\n"
     ]
    }
   ],
   "source": [
    "df_hard.printSchema()"
   ]
  },
  {
   "cell_type": "code",
   "execution_count": 104,
   "id": "caf23a45-2011-4309-ba81-9d90f697d75b",
   "metadata": {},
   "outputs": [
    {
     "name": "stderr",
     "output_type": "stream",
     "text": [
      "[Stage 8:======================================================>  (37 + 2) / 39]"
     ]
    },
    {
     "name": "stdout",
     "output_type": "stream",
     "text": [
      "+----------+------+------+-----+\n",
      "|when      |hwid  |metric|value|\n",
      "+----------+------+------+-----+\n",
      "|1602251162|SW-106|S15   |0    |\n",
      "|1602364571|SW-106|S69   |0    |\n",
      "|1602281747|SW-106|S35   |1    |\n",
      "|1602018974|SW-106|S117  |0    |\n",
      "|1602188058|SW-106|S11   |0    |\n",
      "+----------+------+------+-----+\n",
      "only showing top 5 rows\n",
      "\n"
     ]
    },
    {
     "name": "stderr",
     "output_type": "stream",
     "text": [
      "                                                                                "
     ]
    }
   ],
   "source": [
    "df_hard.show(5, truncate=False)"
   ]
  },
  {
   "cell_type": "code",
   "execution_count": 105,
   "id": "92e86e13-dd87-4abd-a9a4-70321af57176",
   "metadata": {},
   "outputs": [
    {
     "name": "stderr",
     "output_type": "stream",
     "text": [
      "                                                                                "
     ]
    }
   ],
   "source": [
    "df_hard = df_hard.groupBy(\"when\")\\\n",
    "    .pivot(\"metric\")\\\n",
    "    .agg(first(\"value\"))\\\n",
    "    .withColumn(\"time\", from_unixtime(col(\"when\")))\\\n",
    "    .orderBy(\"when\")\n",
    "\n",
    "# Comodo\n",
    "if FIGHTER == 0: \n",
    "    df_hard.persist()\n",
    "    df_hard.take(2) # solo per triggerare il persist\n",
    "elif FIGHTER==1:\n",
    "    df_hard = df_hard.persist() # mi sembra che bisogna fare così (riassegnare la variabile)\n",
    "    df_hard.take(2) # solo per triggerare il persist    "
   ]
  },
  {
   "cell_type": "code",
   "execution_count": 106,
   "id": "cf99b20f-f39e-496f-b541-1f3ab4a37092",
   "metadata": {},
   "outputs": [
    {
     "name": "stdout",
     "output_type": "stream",
     "text": [
      "root\n",
      " |-- when: integer (nullable = true)\n",
      " |-- A5: integer (nullable = true)\n",
      " |-- A9: integer (nullable = true)\n",
      " |-- ComError: integer (nullable = true)\n",
      " |-- P1: integer (nullable = true)\n",
      " |-- P10: integer (nullable = true)\n",
      " |-- P15: integer (nullable = true)\n",
      " |-- P16: integer (nullable = true)\n",
      " |-- P17: integer (nullable = true)\n",
      " |-- P18: integer (nullable = true)\n",
      " |-- P2: integer (nullable = true)\n",
      " |-- P5: integer (nullable = true)\n",
      " |-- P6: integer (nullable = true)\n",
      " |-- P7: integer (nullable = true)\n",
      " |-- P8: integer (nullable = true)\n",
      " |-- P9: integer (nullable = true)\n",
      " |-- S1: integer (nullable = true)\n",
      " |-- S10: integer (nullable = true)\n",
      " |-- S100: integer (nullable = true)\n",
      " |-- S101: integer (nullable = true)\n",
      " |-- S102: integer (nullable = true)\n",
      " |-- S106: integer (nullable = true)\n",
      " |-- S107: integer (nullable = true)\n",
      " |-- S108: integer (nullable = true)\n",
      " |-- S109: integer (nullable = true)\n",
      " |-- S11: integer (nullable = true)\n",
      " |-- S110: integer (nullable = true)\n",
      " |-- S112: integer (nullable = true)\n",
      " |-- S113: integer (nullable = true)\n",
      " |-- S114: integer (nullable = true)\n",
      " |-- S115: integer (nullable = true)\n",
      " |-- S117: integer (nullable = true)\n",
      " |-- S118: integer (nullable = true)\n",
      " |-- S122: integer (nullable = true)\n",
      " |-- S123: integer (nullable = true)\n",
      " |-- S124: integer (nullable = true)\n",
      " |-- S125: integer (nullable = true)\n",
      " |-- S126: integer (nullable = true)\n",
      " |-- S127: integer (nullable = true)\n",
      " |-- S128: integer (nullable = true)\n",
      " |-- S129: integer (nullable = true)\n",
      " |-- S130: integer (nullable = true)\n",
      " |-- S137: integer (nullable = true)\n",
      " |-- S138: integer (nullable = true)\n",
      " |-- S140: integer (nullable = true)\n",
      " |-- S143: integer (nullable = true)\n",
      " |-- S147: integer (nullable = true)\n",
      " |-- S15: integer (nullable = true)\n",
      " |-- S151: integer (nullable = true)\n",
      " |-- S154: integer (nullable = true)\n",
      " |-- S157: integer (nullable = true)\n",
      " |-- S158: integer (nullable = true)\n",
      " |-- S159: integer (nullable = true)\n",
      " |-- S16: integer (nullable = true)\n",
      " |-- S163: integer (nullable = true)\n",
      " |-- S164: integer (nullable = true)\n",
      " |-- S165: integer (nullable = true)\n",
      " |-- S166: integer (nullable = true)\n",
      " |-- S167: integer (nullable = true)\n",
      " |-- S169: integer (nullable = true)\n",
      " |-- S17: integer (nullable = true)\n",
      " |-- S170: integer (nullable = true)\n",
      " |-- S171: integer (nullable = true)\n",
      " |-- S172: integer (nullable = true)\n",
      " |-- S173: integer (nullable = true)\n",
      " |-- S174: integer (nullable = true)\n",
      " |-- S175: integer (nullable = true)\n",
      " |-- S176: integer (nullable = true)\n",
      " |-- S178: integer (nullable = true)\n",
      " |-- S179: integer (nullable = true)\n",
      " |-- S180: integer (nullable = true)\n",
      " |-- S181: integer (nullable = true)\n",
      " |-- S183: integer (nullable = true)\n",
      " |-- S19: integer (nullable = true)\n",
      " |-- S2: integer (nullable = true)\n",
      " |-- S201: integer (nullable = true)\n",
      " |-- S202: integer (nullable = true)\n",
      " |-- S203: integer (nullable = true)\n",
      " |-- S204: integer (nullable = true)\n",
      " |-- S205: integer (nullable = true)\n",
      " |-- S206: integer (nullable = true)\n",
      " |-- S25: integer (nullable = true)\n",
      " |-- S3: integer (nullable = true)\n",
      " |-- S33: integer (nullable = true)\n",
      " |-- S34: integer (nullable = true)\n",
      " |-- S35: integer (nullable = true)\n",
      " |-- S37: integer (nullable = true)\n",
      " |-- S39: integer (nullable = true)\n",
      " |-- S40: integer (nullable = true)\n",
      " |-- S41: integer (nullable = true)\n",
      " |-- S42: integer (nullable = true)\n",
      " |-- S43: integer (nullable = true)\n",
      " |-- S45: integer (nullable = true)\n",
      " |-- S46: integer (nullable = true)\n",
      " |-- S47: integer (nullable = true)\n",
      " |-- S49: integer (nullable = true)\n",
      " |-- S5: integer (nullable = true)\n",
      " |-- S50: integer (nullable = true)\n",
      " |-- S53: integer (nullable = true)\n",
      " |-- S54: integer (nullable = true)\n",
      " |-- S55: integer (nullable = true)\n",
      " |-- S56: integer (nullable = true)\n",
      " |-- S57: integer (nullable = true)\n",
      " |-- S6: integer (nullable = true)\n",
      " |-- S63: integer (nullable = true)\n",
      " |-- S64: integer (nullable = true)\n",
      " |-- S69: integer (nullable = true)\n",
      " |-- S7: integer (nullable = true)\n",
      " |-- S70: integer (nullable = true)\n",
      " |-- S71: integer (nullable = true)\n",
      " |-- S72: integer (nullable = true)\n",
      " |-- S73: integer (nullable = true)\n",
      " |-- S8: integer (nullable = true)\n",
      " |-- S80: integer (nullable = true)\n",
      " |-- S81: integer (nullable = true)\n",
      " |-- S83: integer (nullable = true)\n",
      " |-- S86: integer (nullable = true)\n",
      " |-- S9: integer (nullable = true)\n",
      " |-- S90: integer (nullable = true)\n",
      " |-- S94: integer (nullable = true)\n",
      " |-- S97: integer (nullable = true)\n",
      " |-- SA1: integer (nullable = true)\n",
      " |-- SA10: integer (nullable = true)\n",
      " |-- SA11: integer (nullable = true)\n",
      " |-- SA12: integer (nullable = true)\n",
      " |-- SA2: integer (nullable = true)\n",
      " |-- SA3: integer (nullable = true)\n",
      " |-- SA4: integer (nullable = true)\n",
      " |-- SA5: integer (nullable = true)\n",
      " |-- SA6: integer (nullable = true)\n",
      " |-- SA7: integer (nullable = true)\n",
      " |-- SA8: integer (nullable = true)\n",
      " |-- SA9: integer (nullable = true)\n",
      " |-- SW: integer (nullable = true)\n",
      " |-- time: string (nullable = true)\n",
      "\n"
     ]
    }
   ],
   "source": [
    "df_hard.printSchema()"
   ]
  },
  {
   "cell_type": "code",
   "execution_count": 107,
   "id": "28b071f9-4c55-448f-87ed-ea874e8e764e",
   "metadata": {},
   "outputs": [],
   "source": [
    "selected_cols = [\"when\", \"time\", \"S117\", \"S118\", \"S169\", \"S170\"]"
   ]
  },
  {
   "cell_type": "code",
   "execution_count": 108,
   "id": "6b4fa421-6c3d-4d9e-a18e-44a3f08c7ef6",
   "metadata": {},
   "outputs": [
    {
     "name": "stdout",
     "output_type": "stream",
     "text": [
      "+----------+-------------------+----+----+----+----+\n",
      "|      when|               time|S117|S118|S169|S170|\n",
      "+----------+-------------------+----+----+----+----+\n",
      "|1601510422|2020-10-01 00:00:22|   0|   1|NULL|NULL|\n",
      "|1601510425|2020-10-01 00:00:25|NULL|NULL|   0|   1|\n",
      "|1601510453|2020-10-01 00:00:53|   0|   1|NULL|NULL|\n",
      "|1601510455|2020-10-01 00:00:55|NULL|NULL|   0|   1|\n",
      "|1601510483|2020-10-01 00:01:23|   0|   1|NULL|NULL|\n",
      "+----------+-------------------+----+----+----+----+\n",
      "only showing top 5 rows\n",
      "\n"
     ]
    }
   ],
   "source": [
    "# show first 5 rows\n",
    "df_hard.select(*selected_cols).orderBy(col(\"time\").asc()).show(5)"
   ]
  },
  {
   "cell_type": "code",
   "execution_count": 109,
   "id": "1b63cd73-76c6-4746-a301-24bf44285ed5",
   "metadata": {},
   "outputs": [
    {
     "name": "stdout",
     "output_type": "stream",
     "text": [
      "+----------+-------------------+----+----+----+----+\n",
      "|      when|               time|S117|S118|S169|S170|\n",
      "+----------+-------------------+----+----+----+----+\n",
      "|1616830056|2021-03-27 07:27:36|NULL|NULL|   0|   0|\n",
      "|1616830083|2021-03-27 07:28:03|   1|   0|NULL|NULL|\n",
      "|1616830086|2021-03-27 07:28:06|NULL|NULL|   0|   0|\n",
      "|1616830114|2021-03-27 07:28:34|   0|   0|NULL|NULL|\n",
      "|1616830117|2021-03-27 07:28:37|NULL|NULL|   0|   0|\n",
      "+----------+-------------------+----+----+----+----+\n",
      "\n"
     ]
    }
   ],
   "source": [
    "# show last 5 rows\n",
    "df_hard.select(*selected_cols).orderBy(col(\"time\").desc()).limit(5).orderBy(col(\"time\").asc()).show()"
   ]
  },
  {
   "cell_type": "markdown",
   "id": "6f8c3426-d368-4a67-8b7f-6088fce72d7b",
   "metadata": {},
   "source": [
    "Usefull function to inspect a general dataframe"
   ]
  },
  {
   "cell_type": "code",
   "execution_count": 110,
   "id": "481ef893-9a57-4d41-8e88-f9afa940ff80",
   "metadata": {},
   "outputs": [],
   "source": [
    "def inspect(df: DataFrame, sensors: list, start: int, end: int) -> DataFrame:\n",
    "    \"\"\"\n",
    "    Filter a DataFrame by time range and select specified sensor columns.\n",
    "\n",
    "    Args:\n",
    "        df:        Input Spark DataFrame with 'when' and 'time' columns.\n",
    "        sensors:   List of sensor column names to include (e.g., ['S117', 'S118']).\n",
    "        start:  Start of the time range (Unix timestamp, in seconds).\n",
    "        end:    End of the time range (Unix timestamp, in seconds).\n",
    "\n",
    "    Returns:\n",
    "        Filtered Spark DataFrame with columns ['time', 'when', ...sensors].\n",
    "    \"\"\"\n",
    "    selected_columns = [\"time\", \"when\"] + sensors\n",
    "\n",
    "    return (\n",
    "        df.select(*selected_columns)\n",
    "          .filter((col(\"when\") >= start) & (col(\"when\") <= end))\n",
    "    )"
   ]
  },
  {
   "cell_type": "code",
   "execution_count": 111,
   "id": "64e95f0b-c822-4459-9734-fab239bd6b82",
   "metadata": {},
   "outputs": [
    {
     "name": "stdout",
     "output_type": "stream",
     "text": [
      "+-------------------+----------+----+\n",
      "|               time|      when|S117|\n",
      "+-------------------+----------+----+\n",
      "|2020-10-01 04:30:32|1601526632|   0|\n",
      "|2020-10-01 04:30:39|1601526639|NULL|\n",
      "|2020-10-01 04:31:02|1601526662|   0|\n",
      "|2020-10-01 04:31:05|1601526665|NULL|\n",
      "|2020-10-01 04:31:33|1601526693|   0|\n",
      "|2020-10-01 04:31:35|1601526695|NULL|\n",
      "|2020-10-01 04:32:03|1601526723|   0|\n",
      "|2020-10-01 04:34:10|1601526850|   0|\n",
      "|2020-10-01 04:34:13|1601526853|NULL|\n",
      "|2020-10-01 04:34:41|1601526881|   0|\n",
      "+-------------------+----------+----+\n",
      "only showing top 10 rows\n",
      "\n"
     ]
    }
   ],
   "source": [
    "inspect(df_hard, sensors=[\"S117\"], start=1601526622, end=1601531000).show(10)"
   ]
  },
  {
   "cell_type": "markdown",
   "id": "0f446543-3012-4f64-8855-04f3a94b9725",
   "metadata": {
    "jp-MarkdownHeadingCollapsed": true
   },
   "source": [
    "# Timestamp analysis"
   ]
  },
  {
   "cell_type": "code",
   "execution_count": 25,
   "id": "5ba0f6fc-7d52-4f8b-9dab-a31bc4041a87",
   "metadata": {},
   "outputs": [],
   "source": [
    "def compute_time_differences(df, when_col=\"when\", max_collect=1_000_000):\n",
    "    \"\"\"\n",
    "    Computes time differences (Δwhen) between consecutive rows in a DataFrame.\n",
    "\n",
    "    Args:\n",
    "        df (DataFrame): Spark DataFrame with a time column (e.g., 'when').\n",
    "        when_col (str): Name of the time column to compute differences on.\n",
    "        max_collect (int): Threshold to safely collect diffs to driver.\n",
    "\n",
    "    Returns:\n",
    "        rdd_diff (RDD): RDD of differences (current - previous).\n",
    "    \"\"\"\n",
    "    rdd_times = df.select(when_col).rdd.map(lambda row: row[when_col])\n",
    "    rdd_shifted = rdd_times.zipWithIndex().map(lambda x: (x[1], x[0]))  # (index, time)\n",
    "    rdd_prev = rdd_shifted.map(lambda x: (x[0] + 1, x[1]))              # shift by +1 index\n",
    "    rdd_joined = rdd_shifted.join(rdd_prev).sortByKey()\n",
    "    rdd_diff = rdd_joined.map(lambda x: x[1][0] - x[1][1])\n",
    "\n",
    "    num_diffs = rdd_diff.count()\n",
    "    print(f\"Number of time differences: {num_diffs}\")\n",
    "\n",
    "    if num_diffs < max_collect:\n",
    "        return rdd_diff\n",
    "    else:\n",
    "        print(\"Too many differences to collect safely.\")\n",
    "        return None"
   ]
  },
  {
   "cell_type": "code",
   "execution_count": 26,
   "id": "02d3298f-a690-4ad9-87ce-84babcaf15b1",
   "metadata": {},
   "outputs": [],
   "source": [
    "def time_diff_summary(rdd_diff, spark, top_n=5):\n",
    "    \"\"\"\n",
    "    Summarizes the RDD of time differences into a frequency table and prints top/bottom values.\n",
    "\n",
    "    Args:\n",
    "        rdd_diff (RDD): RDD of integer time differences.\n",
    "        spark (SparkSession): Active Spark session.\n",
    "        top_n (int): Number of rows to show from top and bottom.\n",
    "\n",
    "    Returns:\n",
    "        df_freq (DataFrame): DataFrame with columns ['diff', 'count'].\n",
    "    \"\"\"\n",
    "    if rdd_diff is None:\n",
    "        print(\"No differences available to summarize.\")\n",
    "        return None\n",
    "\n",
    "    df_freq = rdd_diff.map(lambda d: (d, 1)) \\\n",
    "                      .reduceByKey(lambda a, b: a + b) \\\n",
    "                      .toDF([\"diff\", \"count\"]) \\\n",
    "                      .orderBy(\"diff\")\n",
    "\n",
    "    print(f\"\\n{top_n} smallest time differences:\")\n",
    "    df_freq.show(top_n, truncate=False)\n",
    "\n",
    "    print(f\"\\n{top_n} largest time differences:\")\n",
    "    df_freq.orderBy(\"diff\", ascending=False).show(top_n, truncate=False)\n",
    "\n",
    "    return df_freq"
   ]
  },
  {
   "cell_type": "code",
   "execution_count": 27,
   "id": "3b23163b-0c73-4674-8401-5024b4276d0d",
   "metadata": {},
   "outputs": [
    {
     "name": "stderr",
     "output_type": "stream",
     "text": [
      "                                                                                "
     ]
    },
    {
     "name": "stdout",
     "output_type": "stream",
     "text": [
      "Number of time differences: 398038\n"
     ]
    },
    {
     "name": "stderr",
     "output_type": "stream",
     "text": [
      "                                                                                "
     ]
    },
    {
     "name": "stdout",
     "output_type": "stream",
     "text": [
      "\n",
      "5 smallest time differences:\n"
     ]
    },
    {
     "name": "stderr",
     "output_type": "stream",
     "text": [
      "                                                                                "
     ]
    },
    {
     "name": "stdout",
     "output_type": "stream",
     "text": [
      "+----+------+\n",
      "|diff|count |\n",
      "+----+------+\n",
      "|2   |23809 |\n",
      "|3   |166233|\n",
      "|4   |5106  |\n",
      "|5   |464   |\n",
      "|6   |298   |\n",
      "+----+------+\n",
      "only showing top 5 rows\n",
      "\n",
      "\n",
      "5 largest time differences:\n"
     ]
    },
    {
     "name": "stderr",
     "output_type": "stream",
     "text": [
      "[Stage 89:==================================================>   (373 + 8) / 400]"
     ]
    },
    {
     "name": "stdout",
     "output_type": "stream",
     "text": [
      "+-------+-----+\n",
      "|diff   |count|\n",
      "+-------+-----+\n",
      "|5003774|1    |\n",
      "|2066908|1    |\n",
      "|757864 |1    |\n",
      "|48451  |1    |\n",
      "|28598  |1    |\n",
      "+-------+-----+\n",
      "only showing top 5 rows\n",
      "\n"
     ]
    },
    {
     "name": "stderr",
     "output_type": "stream",
     "text": [
      "                                                                                "
     ]
    }
   ],
   "source": [
    "# Compute time differences\n",
    "rdd_diff = compute_time_differences(df_hard)\n",
    "\n",
    "# Summarize and print top/bottom time gaps\n",
    "df_diff_summary = time_diff_summary(rdd_diff, spark)"
   ]
  },
  {
   "cell_type": "code",
   "execution_count": 28,
   "id": "a988ee9a-11ad-4296-bb6b-4af7dfda97ad",
   "metadata": {},
   "outputs": [],
   "source": [
    "def plot_diff_histogram(differences, min_diff, max_diff, delta):\n",
    "    \n",
    "    filtered = [d for d in differences if min_diff <= d <= max_diff]\n",
    "\n",
    "    bins = int((max_diff - min_diff) / delta)\n",
    "\n",
    "    plt.figure(figsize=(10, 6))\n",
    "    plt.hist(filtered, bins=bins, color=\"steelblue\", edgecolor=\"black\")\n",
    "    plt.title(f\"Time Difference Events (range {min_diff} - {max_diff} [s])\")\n",
    "    plt.xlabel(\"Time difference [s]\")\n",
    "    plt.ylabel(\"Counts\")\n",
    "    #plt.grid(True)\n",
    "    plt.show()"
   ]
  },
  {
   "cell_type": "code",
   "execution_count": 29,
   "id": "8da52466-b638-4f78-a69b-675637894c7f",
   "metadata": {},
   "outputs": [
    {
     "name": "stderr",
     "output_type": "stream",
     "text": [
      "                                                                                "
     ]
    }
   ],
   "source": [
    "diffs = rdd_diff.collect() # check previously the dimension"
   ]
  },
  {
   "cell_type": "code",
   "execution_count": 30,
   "id": "a58fc7ad-7b64-43ba-a24a-c792ebcbba37",
   "metadata": {},
   "outputs": [
    {
     "data": {
      "image/png": "[encoded data removed]",
      "text/plain": [
       "<Figure size 1000x600 with 1 Axes>"
      ]
     },
     "metadata": {},
     "output_type": "display_data"
    }
   ],
   "source": [
    "plot_diff_histogram(differences=diffs, min_diff=0, max_diff=180, delta=2)"
   ]
  },
  {
   "cell_type": "code",
   "execution_count": 31,
   "id": "89ddab6d-ec14-4fa8-852b-1b82c8e37477",
   "metadata": {},
   "outputs": [
    {
     "data": {
      "image/png": "[encoded data removed]",
      "text/plain": [
       "<Figure size 1000x600 with 1 Axes>"
      ]
     },
     "metadata": {},
     "output_type": "display_data"
    }
   ],
   "source": [
    "plot_diff_histogram(differences=diffs, min_diff=180, max_diff=4000, delta=25)"
   ]
  },
  {
   "cell_type": "code",
   "execution_count": null,
   "id": "7273e1db-4af1-4865-a024-0e18656b22df",
   "metadata": {},
   "outputs": [],
   "source": []
  },
  {
   "cell_type": "markdown",
   "id": "3d3a42ed-503b-48f1-8424-3797e172ef8a",
   "metadata": {},
   "source": [
    "# Handling missing data & gaps"
   ]
  },
  {
   "cell_type": "code",
   "execution_count": 112,
   "id": "e83afa5d-6e1e-48ca-86d8-866ed42cc511",
   "metadata": {},
   "outputs": [
    {
     "name": "stdout",
     "output_type": "stream",
     "text": [
      "+----------+----+----+--------+---+---+---+---+---+---+---+---+---+---+---+---+---+---+----+----+----+----+----+----+----+---+----+----+----+----+----+----+----+----+----+----+----+----+----+----+----+----+----+----+----+----+----+---+----+----+----+----+----+---+----+----+----+----+----+----+---+----+----+----+----+----+----+----+----+----+----+----+----+---+---+----+----+----+----+----+----+---+---+---+---+---+---+---+---+---+---+---+---+---+---+---+---+---+---+---+---+---+---+---+---+---+---+---+----+---+---+---+---+---+---+---+---+---+---+---+---+---+----+----+----+---+---+---+---+---+---+---+---+---+-------------------+\n",
      "|when      |A5  |A9  |ComError|P1 |P10|P15|P16|P17|P18|P2 |P5 |P6 |P7 |P8 |P9 |S1 |S10|S100|S101|S102|S106|S107|S108|S109|S11|S110|S112|S113|S114|S115|S117|S118|S122|S123|S124|S125|S126|S127|S128|S129|S130|S137|S138|S140|S143|S147|S15|S151|S154|S157|S158|S159|S16|S163|S164|S165|S166|S167|S169|S17|S170|S171|S172|S173|S174|S175|S176|S178|S179|S180|S181|S183|S19|S2 |S201|S202|S203|S204|S205|S206|S25|S3 |S33|S34|S35|S37|S39|S40|S41|S42|S43|S45|S46|S47|S49|S5 |S50|S53|S54|S55|S56|S57|S6 |S63|S64|S69|S7 |S70 |S71|S72|S73|S8 |S80|S81|S83|S86|S9 |S90|S94|S97|SA1|SA10|SA11|SA12|SA2|SA3|SA4|SA5|SA6|SA7|SA8|SA9|SW |time               |\n",
      "+----------+----+----+--------+---+---+---+---+---+---+---+---+---+---+---+---+---+---+----+----+----+----+----+----+----+---+----+----+----+----+----+----+----+----+----+----+----+----+----+----+----+----+----+----+----+----+----+---+----+----+----+----+----+---+----+----+----+----+----+----+---+----+----+----+----+----+----+----+----+----+----+----+----+---+---+----+----+----+----+----+----+---+---+---+---+---+---+---+---+---+---+---+---+---+---+---+---+---+---+---+---+---+---+---+---+---+---+---+----+---+---+---+---+---+---+---+---+---+---+---+---+---+----+----+----+---+---+---+---+---+---+---+---+---+-------------------+\n",
      "|1601510422|NULL|NULL|NULL    |2  |450|0  |100|400|450|0  |300|180|260|150|300|0  |70 |81  |211 |211 |0   |452 |0   |616 |0  |0   |1   |1   |0   |0   |0   |1   |409 |1   |-82 |57  |24  |0   |51  |110 |NULL|NULL|NULL|NULL|NULL|NULL|0  |NULL|NULL|NULL|NULL|NULL|0  |NULL|NULL|NULL|NULL|NULL|NULL|0  |NULL|NULL|NULL|NULL|NULL|NULL|NULL|NULL|NULL|NULL|NULL|NULL|0  |2  |NULL|NULL|NULL|NULL|NULL|NULL|0  |91 |1  |0  |1  |701|103|74 |234|0  |0  |0  |451|454|0  |4  |0  |0  |0  |1  |0  |0  |450|0  |0  |0  |0  |1000|50 |109|1  |0  |109|49 |73 |100|0  |100|41 |78 |0  |0   |0   |0   |0  |0  |0  |0  |0  |0  |0  |0  |1  |2020-10-01 00:00:22|\n",
      "+----------+----+----+--------+---+---+---+---+---+---+---+---+---+---+---+---+---+---+----+----+----+----+----+----+----+---+----+----+----+----+----+----+----+----+----+----+----+----+----+----+----+----+----+----+----+----+----+---+----+----+----+----+----+---+----+----+----+----+----+----+---+----+----+----+----+----+----+----+----+----+----+----+----+---+---+----+----+----+----+----+----+---+---+---+---+---+---+---+---+---+---+---+---+---+---+---+---+---+---+---+---+---+---+---+---+---+---+---+----+---+---+---+---+---+---+---+---+---+---+---+---+---+----+----+----+---+---+---+---+---+---+---+---+---+-------------------+\n",
      "only showing top 1 row\n",
      "\n"
     ]
    }
   ],
   "source": [
    "df_hard.show(1, truncate=False)"
   ]
  },
  {
   "cell_type": "code",
   "execution_count": 113,
   "id": "fcef6f98-b347-4526-90a2-7feb74c168be",
   "metadata": {},
   "outputs": [
    {
     "name": "stdout",
     "output_type": "stream",
     "text": [
      "+-------------------+----+\n",
      "|time               |S170|\n",
      "+-------------------+----+\n",
      "|2020-10-01 00:00:22|NULL|\n",
      "|2020-10-01 00:00:25|1   |\n",
      "|2020-10-01 00:00:53|NULL|\n",
      "|2020-10-01 00:00:55|1   |\n",
      "|2020-10-01 00:01:23|NULL|\n",
      "|2020-10-01 00:01:26|1   |\n",
      "|2020-10-01 00:01:53|NULL|\n",
      "|2020-10-01 00:01:56|1   |\n",
      "|2020-10-01 00:02:23|NULL|\n",
      "|2020-10-01 00:02:26|1   |\n",
      "+-------------------+----+\n",
      "only showing top 10 rows\n",
      "\n"
     ]
    }
   ],
   "source": [
    "df_hard.select('time', 'S170').show(10, truncate=False)"
   ]
  },
  {
   "cell_type": "markdown",
   "id": "c4dbacf3-8b46-4a7e-8c50-d58ef6cffb72",
   "metadata": {},
   "source": [
    "Direi di tenere questa funzione \"FillGaps\" e continuare ad implementare partendo da questa"
   ]
  },
  {
   "cell_type": "code",
   "execution_count": 126,
   "id": "035e45e5-4245-4719-b11f-30dec4d4afaa",
   "metadata": {},
   "outputs": [],
   "source": [
    "def FillGaps(\n",
    "    df_hard: DataFrame,\n",
    "    sensors: list = None,\n",
    "    interval: int = 60,\n",
    "    modality: str = 'auto',\n",
    "    fill_null: bool = False\n",
    ") -> DataFrame:\n",
    "    \"\"\"\n",
    "    Aggregates sensor data into fixed-size time windows and fills missing values using Spark.\n",
    "\n",
    "    Args:\n",
    "        df_hard:    Spark DataFrame with a 'when' column (UNIX timestamp in seconds).\n",
    "        sensors:    List of sensor column names. If None, inferred from all columns except 'when' and 'time'.\n",
    "        interval:   Window size in seconds.\n",
    "        modality:   Aggregation method: 'mean', 'min', 'max', or 'auto'.\n",
    "        fill_null:  If True, fills missing values using forward and backward fill in Spark.\n",
    "\n",
    "    Returns:\n",
    "        Aggregated and optionally gap-filled DataFrame, with a `when` column at the center of the window.\n",
    "    \"\"\"\n",
    "\n",
    "    # 1. Infer sensor columns if not provided\n",
    "    if sensors is None:\n",
    "        sensors = [c for c in df_hard.columns if c not in (\"when\", \"time\")]\n",
    "\n",
    "    # 2. Build aggregation expressions for each sensor\n",
    "    aggregations = []\n",
    "    for s in sensors:\n",
    "        if modality == 'mean':\n",
    "            agg_func = spark_avg(col(s)).alias(s)\n",
    "        elif modality == 'min':\n",
    "            agg_func = spark_min(col(s)).alias(s)\n",
    "        elif modality == 'max':\n",
    "            agg_func = spark_max(col(s)).alias(s)\n",
    "        elif modality == 'auto':\n",
    "            stats = df_hard.selectExpr(f\"min({s}) as min\", f\"max({s}) as max\").first()\n",
    "            if stats[\"min\"] is not None and stats[\"max\"] is not None and 0 <= stats[\"min\"] and stats[\"max\"] <= 1:\n",
    "                agg_func = spark_min(col(s)).alias(s)\n",
    "            else:\n",
    "                agg_func = spark_avg(col(s)).alias(s)\n",
    "        else:\n",
    "            raise ValueError(f\"Invalid modality: {modality}\")\n",
    "        aggregations.append(agg_func)\n",
    "\n",
    "    # 3. Add timestamp column and compute window-based aggregation\n",
    "    df_with_ts = df_hard.withColumn(\"timestamp\", from_unixtime(col(\"when\")).cast(\"timestamp\"))\n",
    "\n",
    "    windowed_df = (\n",
    "        df_with_ts\n",
    "        .groupBy(window(\"timestamp\", f\"{interval} seconds\"))\n",
    "        .agg(*aggregations)\n",
    "        .withColumn(\"window_start\", col(\"window.start\"))\n",
    "        .withColumn(\"window_end\", col(\"window.end\"))\n",
    "        .drop(\"window\")\n",
    "    )\n",
    "\n",
    "    # 4. Add 'when' as center of the window and format time column\n",
    "    result_df = (\n",
    "        windowed_df\n",
    "        .withColumn(\"when\", expr(\"unix_timestamp(window_start) + int((unix_timestamp(window_end) - unix_timestamp(window_start)) / 2)\"))\n",
    "        .orderBy(\"when\")\n",
    "    )\n",
    "\n",
    "    # 5. Fill nulls using Spark-native forward/backward fill if requested\n",
    "    if fill_null:\n",
    "        w = Window.orderBy(\"when\").rowsBetween(Window.unboundedPreceding, 0)\n",
    "        for s in sensors:\n",
    "            result_df = result_df.withColumn(s, last(col(s), ignorenulls=True).over(w))\n",
    "\n",
    "        # Backward fill for leading nulls\n",
    "        w_rev = Window.orderBy(\"when\").rowsBetween(0, Window.unboundedFollowing)\n",
    "        for s in sensors:\n",
    "            result_df = result_df.withColumn(s, first(col(s), ignorenulls=True).over(w_rev))\n",
    "\n",
    "    return result_df.select([\"when\",\"window_start\",\"window_end\"] + sensors)\n",
    "\n",
    "    # # 5. Optionally fill nulls using Pandas (costly)\n",
    "    # if fill_null:\n",
    "    #     pandas_df = result_df.toPandas()\n",
    "    #     pandas_df = pandas_df.ffill().bfill()\n",
    "    #     return spark.createDataFrame(pandas_df)\n",
    "    # else:\n",
    "    #     return result_df"
   ]
  },
  {
   "cell_type": "code",
   "execution_count": 127,
   "id": "84b10bd4-2fae-45c1-9fab-389d96d8bd94",
   "metadata": {},
   "outputs": [
    {
     "name": "stderr",
     "output_type": "stream",
     "text": [
      "[Stage 7426:===================================================>(199 + 1) / 200]"
     ]
    },
    {
     "name": "stdout",
     "output_type": "stream",
     "text": [
      "+----------+-------------------+-------------------+----+----+--------+---+-----+---+-----+-----+-----+---+-----+-----+-----+-----+-----+---+----+----+-----+-----+----+-----+----+-----+---+----+----+----+----+----+----+----+-----+----+-----+----+----+----+----+-----+----+-----+----+----+-----+-----+---+----+----+----+-----+-----+---+----+-----+----+-----+----+----+---+----+----+----+----+----+----+----+-----+----+-------+----+----+---+---+------+------+------+------+------+------+---+----+---+---+---+-----+-----+----+-----+---+---+---+-----+-----+---+---+---+---+---+---+---+---+-----+---+---+---+---+------+----+-----+---+---+-----+----+----+-----+---+-----+----+----+---+----+----+----+---+---+---+---+---+---+---+---+---+\n",
      "|when      |window_start       |window_end         |A5  |A9  |ComError|P1 |P10  |P15|P16  |P17  |P18  |P2 |P5   |P6   |P7   |P8   |P9   |S1 |S10 |S100|S101 |S102 |S106|S107 |S108|S109 |S11|S110|S112|S113|S114|S115|S117|S118|S122 |S123|S124 |S125|S126|S127|S128|S129 |S130|S137 |S138|S140|S143 |S147 |S15|S151|S154|S157|S158 |S159 |S16|S163|S164 |S165|S166 |S167|S169|S17|S170|S171|S172|S173|S174|S175|S176|S178 |S179|S180   |S181|S183|S19|S2 |S201  |S202  |S203  |S204  |S205  |S206  |S25|S3  |S33|S34|S35|S37  |S39  |S40 |S41  |S42|S43|S45|S46  |S47  |S49|S5 |S50|S53|S54|S55|S56|S57|S6   |S63|S64|S69|S7 |S70   |S71 |S72  |S73|S8 |S80  |S81 |S83 |S86  |S9 |S90  |S94 |S97 |SA1|SA10|SA11|SA12|SA2|SA3|SA4|SA5|SA6|SA7|SA8|SA9|SW |\n",
      "+----------+-------------------+-------------------+----+----+--------+---+-----+---+-----+-----+-----+---+-----+-----+-----+-----+-----+---+----+----+-----+-----+----+-----+----+-----+---+----+----+----+----+----+----+----+-----+----+-----+----+----+----+----+-----+----+-----+----+----+-----+-----+---+----+----+----+-----+-----+---+----+-----+----+-----+----+----+---+----+----+----+----+----+----+----+-----+----+-------+----+----+---+---+------+------+------+------+------+------+---+----+---+---+---+-----+-----+----+-----+---+---+---+-----+-----+---+---+---+---+---+---+---+---+-----+---+---+---+---+------+----+-----+---+---+-----+----+----+-----+---+-----+----+----+---+----+----+----+---+---+---+---+---+---+---+---+---+\n",
      "|1601510430|2020-10-01 00:00:00|2020-10-01 00:01:00|NULL|NULL|NULL    |2.0|450.0|0  |100.0|400.0|450.0|0  |300.0|180.0|260.0|150.0|300.0|0  |70.0|81.0|211.0|211.5|0   |452.0|0   |616.0|0  |0   |1   |1   |0   |0   |0   |1   |410.0|1.0 |-81.5|57.0|24.0|0   |51.0|110.0|1.0 |110.0|47.0|86.0|100.0|100.0|0  |40.5|84.5|79.0|208.0|211.5|0  |0   |451.0|0   |622.0|0   |0   |0  |1   |1   |1   |0   |0   |0   |0   |408.5|1.0 |65454.0|57.0|0   |0  |2.0|7182.0|7179.0|7179.0|7182.0|7179.0|7179.0|0  |91.0|1  |0  |1  |701.0|103.0|74.0|234.0|0  |0  |0  |451.0|452.5|0  |4.0|0  |0  |0  |1  |0  |0  |450.0|0  |0  |0  |0  |1000.0|50.0|109.0|1.0|0  |109.0|40.0|72.5|100.0|0.0|100.0|39.5|77.5|0.0|0.0 |0   |0   |0.0|0  |0  |0  |0.0|0  |0  |0  |1  |\n",
      "+----------+-------------------+-------------------+----+----+--------+---+-----+---+-----+-----+-----+---+-----+-----+-----+-----+-----+---+----+----+-----+-----+----+-----+----+-----+---+----+----+----+----+----+----+----+-----+----+-----+----+----+----+----+-----+----+-----+----+----+-----+-----+---+----+----+----+-----+-----+---+----+-----+----+-----+----+----+---+----+----+----+----+----+----+----+-----+----+-------+----+----+---+---+------+------+------+------+------+------+---+----+---+---+---+-----+-----+----+-----+---+---+---+-----+-----+---+---+---+---+---+---+---+---+-----+---+---+---+---+------+----+-----+---+---+-----+----+----+-----+---+-----+----+----+---+----+----+----+---+---+---+---+---+---+---+---+---+\n",
      "only showing top 1 row\n",
      "\n",
      "CPU times: user 220 ms, sys: 81.2 ms, total: 301 ms\n",
      "Wall time: 32.1 s\n"
     ]
    },
    {
     "name": "stderr",
     "output_type": "stream",
     "text": [
      "                                                                                "
     ]
    }
   ],
   "source": [
    "%%time\n",
    "\n",
    "#1° MODALITA' USO FUNZIONE FillGaps\n",
    "df_resampled = FillGaps(df_hard, interval=60, modality=\"auto\", fill_null=False)\n",
    "df_resampled.show(1, truncate = False)"
   ]
  },
  {
   "cell_type": "code",
   "execution_count": 130,
   "id": "32363f5b-f834-41c1-a348-a8b31d4ed446",
   "metadata": {},
   "outputs": [
    {
     "name": "stderr",
     "output_type": "stream",
     "text": [
      "[Stage 7448:===============================================>    (181 + 6) / 200]"
     ]
    },
    {
     "name": "stdout",
     "output_type": "stream",
     "text": [
      "+----------+-------------------+-------------------+----+----+----+----+----+----+----+-----+\n",
      "|when      |window_start       |window_end         |S110|S112|S113|S114|S115|S117|S118|S122 |\n",
      "+----------+-------------------+-------------------+----+----+----+----+----+----+----+-----+\n",
      "|1601510430|2020-10-01 00:00:00|2020-10-01 00:01:00|0   |1   |1   |0   |0   |0   |1   |410.0|\n",
      "+----------+-------------------+-------------------+----+----+----+----+----+----+----+-----+\n",
      "only showing top 1 row\n",
      "\n",
      "CPU times: user 5.7 ms, sys: 0 ns, total: 5.7 ms\n",
      "Wall time: 1.13 s\n"
     ]
    },
    {
     "name": "stderr",
     "output_type": "stream",
     "text": [
      "                                                                                "
     ]
    }
   ],
   "source": [
    "%%time\n",
    "df_resampled.select(\"when\",\"window_start\",\"window_end\",\"S110\",\"S112\",\"S113\",\"S114\",\"S115\",\"S117\",\"S118\",\"S122\").show(1, truncate = False)"
   ]
  },
  {
   "cell_type": "code",
   "execution_count": 92,
   "id": "c255e5b8-89c4-4599-95ba-82c63eebd049",
   "metadata": {},
   "outputs": [
    {
     "name": "stderr",
     "output_type": "stream",
     "text": [
      "[Stage 947:=================================================>   (188 + 4) / 200]"
     ]
    },
    {
     "name": "stdout",
     "output_type": "stream",
     "text": [
      "+---------+---------+--------+---------+---------+-------------+-------------------+-------------------+\n",
      "|min(S169)|min(S117)|min(S41)|min(S170)|min(S118)|min(ComError)|window_start       |window_end         |\n",
      "+---------+---------+--------+---------+---------+-------------+-------------------+-------------------+\n",
      "|0        |0        |234     |1        |1        |NULL         |2020-10-01 00:00:00|2020-10-01 00:01:00|\n",
      "|0        |0        |232     |1        |1        |NULL         |2020-10-01 00:01:00|2020-10-01 00:02:00|\n",
      "|0        |0        |230     |1        |1        |NULL         |2020-10-01 00:02:00|2020-10-01 00:03:00|\n",
      "|0        |0        |230     |1        |1        |NULL         |2020-10-01 00:03:00|2020-10-01 00:04:00|\n",
      "|0        |0        |232     |1        |1        |NULL         |2020-10-01 00:04:00|2020-10-01 00:05:00|\n",
      "|0        |0        |230     |1        |1        |NULL         |2020-10-01 00:05:00|2020-10-01 00:06:00|\n",
      "|0        |0        |232     |1        |1        |NULL         |2020-10-01 00:06:00|2020-10-01 00:07:00|\n",
      "|1        |0        |232     |0        |1        |NULL         |2020-10-01 00:07:00|2020-10-01 00:08:00|\n",
      "|1        |0        |232     |0        |1        |NULL         |2020-10-01 00:08:00|2020-10-01 00:09:00|\n",
      "|1        |0        |234     |0        |1        |NULL         |2020-10-01 00:09:00|2020-10-01 00:10:00|\n",
      "+---------+---------+--------+---------+---------+-------------+-------------------+-------------------+\n",
      "only showing top 10 rows\n",
      "\n",
      "CPU times: user 0 ns, sys: 6.92 ms, total: 6.92 ms\n",
      "Wall time: 1.45 s\n"
     ]
    },
    {
     "name": "stderr",
     "output_type": "stream",
     "text": [
      "                                                                                "
     ]
    }
   ],
   "source": [
    "%%time\n",
    "\n",
    "#2° MODALITA' USO FUNZIONE FillGaps\n",
    "#Doesn't seem to be particularly dependent on the number of metrics (9 seconds with 1, 13 seconds with 15)\n",
    "sensors=['S117', 'S118',  'S169', 'S170', 'S41', 'ComError']#, 'A5', 'A9', 'P18', 'P2', 'P5', 'P6', 'P7', 'P8', 'P9', 'S1']\n",
    "GridDF = FillGaps(df_hard, sensors=sensors, modality=\"min\", interval=60)\n",
    "GridDF.show(10, truncate = False)"
   ]
  },
  {
   "cell_type": "code",
   "execution_count": 88,
   "id": "ab0362e8-eef4-4e8a-b65d-a8f407b0e419",
   "metadata": {},
   "outputs": [
    {
     "name": "stdout",
     "output_type": "stream",
     "text": [
      "+-------------------+----------+----+----+----+--------+----+----+\n",
      "|               time|      when|S170|S117| S41|ComError|S129|S122|\n",
      "+-------------------+----------+----+----+----+--------+----+----+\n",
      "|2020-10-01 00:00:22|1601510422|NULL|   0| 234|    NULL| 110| 409|\n",
      "|2020-10-01 00:00:25|1601510425|   1|NULL|NULL|    NULL|NULL|NULL|\n",
      "|2020-10-01 00:00:53|1601510453|NULL|   0| 234|    NULL| 110| 411|\n",
      "|2020-10-01 00:00:55|1601510455|   1|NULL|NULL|    NULL|NULL|NULL|\n",
      "|2020-10-01 00:01:23|1601510483|NULL|   0| 232|    NULL| 110| 407|\n",
      "|2020-10-01 00:01:26|1601510486|   1|NULL|NULL|    NULL|NULL|NULL|\n",
      "|2020-10-01 00:01:53|1601510513|NULL|   0| 232|    NULL| 110| 406|\n",
      "|2020-10-01 00:01:56|1601510516|   1|NULL|NULL|    NULL|NULL|NULL|\n",
      "|2020-10-01 00:02:23|1601510543|NULL|   0| 230|    NULL| 110| 409|\n",
      "|2020-10-01 00:02:26|1601510546|   1|NULL|NULL|    NULL|NULL|NULL|\n",
      "|2020-10-01 00:02:53|1601510573|NULL|   0| 230|    NULL| 110| 409|\n",
      "|2020-10-01 00:02:56|1601510576|   1|NULL|NULL|    NULL|NULL|NULL|\n",
      "|2020-10-01 00:03:24|1601510604|NULL|   0| 230|    NULL| 110| 406|\n",
      "|2020-10-01 00:03:27|1601510607|   1|NULL|NULL|    NULL|NULL|NULL|\n",
      "|2020-10-01 00:03:54|1601510634|NULL|   0| 230|    NULL| 110| 407|\n",
      "|2020-10-01 00:03:57|1601510637|   1|NULL|NULL|    NULL|NULL|NULL|\n",
      "|2020-10-01 00:04:24|1601510664|NULL|   0| 232|    NULL| 110| 407|\n",
      "|2020-10-01 00:04:27|1601510667|   1|NULL|NULL|    NULL|NULL|NULL|\n",
      "|2020-10-01 00:04:54|1601510694|NULL|   0| 232|    NULL| 110| 406|\n",
      "|2020-10-01 00:04:57|1601510697|   1|NULL|NULL|    NULL|NULL|NULL|\n",
      "|2020-10-01 00:05:24|1601510724|NULL|   0| 230|    NULL| 110| 406|\n",
      "|2020-10-01 00:05:27|1601510727|   1|NULL|NULL|    NULL|NULL|NULL|\n",
      "|2020-10-01 00:05:54|1601510754|NULL|   0| 232|    NULL| 110| 409|\n",
      "|2020-10-01 00:05:57|1601510757|   1|NULL|NULL|    NULL|NULL|NULL|\n",
      "|2020-10-01 00:06:24|1601510784|NULL|   0| 232|    NULL| 110|   0|\n",
      "|2020-10-01 00:06:27|1601510787|   1|NULL|NULL|    NULL|NULL|NULL|\n",
      "|2020-10-01 00:06:54|1601510814|NULL|   0| 232|    NULL| 110|   0|\n",
      "|2020-10-01 00:06:57|1601510817|   1|NULL|NULL|    NULL|NULL|NULL|\n",
      "|2020-10-01 00:07:25|1601510845|NULL|   0| 232|    NULL| 110|   0|\n",
      "|2020-10-01 00:07:28|1601510848|   0|NULL|NULL|    NULL|NULL|NULL|\n",
      "|2020-10-01 00:07:55|1601510875|NULL|   0| 232|    NULL| 110|   0|\n",
      "|2020-10-01 00:07:58|1601510878|   0|NULL|NULL|    NULL|NULL|NULL|\n",
      "|2020-10-01 00:08:25|1601510905|NULL|   0| 232|    NULL| 110|   0|\n",
      "|2020-10-01 00:08:28|1601510908|   0|NULL|NULL|    NULL|NULL|NULL|\n",
      "|2020-10-01 00:08:55|1601510935|NULL|   0| 234|    NULL| 110|   0|\n",
      "|2020-10-01 00:08:58|1601510938|   0|NULL|NULL|    NULL|NULL|NULL|\n",
      "|2020-10-01 00:09:25|1601510965|NULL|   0| 234|    NULL| 110|   0|\n",
      "|2020-10-01 00:09:28|1601510968|   0|NULL|NULL|    NULL|NULL|NULL|\n",
      "|2020-10-01 00:09:55|1601510995|NULL|   0| 234|    NULL| 110|   0|\n",
      "|2020-10-01 00:09:58|1601510998|   0|NULL|NULL|    NULL|NULL|NULL|\n",
      "|2020-10-01 00:10:25|1601511025|NULL|   0| 237|    NULL| 110|   0|\n",
      "|2020-10-01 00:10:28|1601511028|   0|NULL|NULL|    NULL|NULL|NULL|\n",
      "|2020-10-01 00:10:55|1601511055|NULL|   1| 237|    NULL| 110|   0|\n",
      "|2020-10-01 00:10:58|1601511058|   0|NULL|NULL|    NULL|NULL|NULL|\n",
      "|2020-10-01 00:11:25|1601511085|NULL|   1| 239|    NULL| 110|   0|\n",
      "|2020-10-01 00:11:28|1601511088|   0|NULL|NULL|    NULL|NULL|NULL|\n",
      "|2020-10-01 00:11:55|1601511115|NULL|   1| 241|    NULL| 110|   0|\n",
      "|2020-10-01 00:11:58|1601511118|   0|NULL|NULL|    NULL|NULL|NULL|\n",
      "|2020-10-01 00:12:25|1601511145|NULL|   1| 241|    NULL| 110|   0|\n",
      "|2020-10-01 00:12:28|1601511148|   0|NULL|NULL|    NULL|NULL|NULL|\n",
      "|2020-10-01 00:14:54|1601511294|NULL|   1| 243|    NULL| 110|   0|\n",
      "|2020-10-01 00:14:57|1601511297|   0|NULL|NULL|    NULL|NULL|NULL|\n",
      "|2020-10-01 00:15:24|1601511324|NULL|   1| 243|    NULL| 110|   0|\n",
      "|2020-10-01 00:15:27|1601511327|   0|NULL|NULL|    NULL|NULL|NULL|\n",
      "|2020-10-01 00:15:55|1601511355|NULL|   1| 243|    NULL| 110|   0|\n",
      "|2020-10-01 00:15:57|1601511357|   0|NULL|NULL|    NULL|NULL|NULL|\n",
      "|2020-10-01 00:16:25|1601511385|NULL|   1| 243|    NULL| 110|   0|\n",
      "|2020-10-01 00:16:28|1601511388|   0|NULL|NULL|    NULL|NULL|NULL|\n",
      "|2020-10-01 00:16:55|1601511415|NULL|   1| 243|    NULL| 110|   0|\n",
      "|2020-10-01 00:19:05|1601511545|NULL|   1| 241|    NULL| 110| 350|\n",
      "|2020-10-01 00:19:09|1601511549|   0|NULL|NULL|    NULL|NULL|NULL|\n",
      "|2020-10-01 00:19:36|1601511576|NULL|   1| 239|    NULL| 110| 379|\n",
      "|2020-10-01 00:19:48|1601511588|   0|NULL|NULL|    NULL|NULL|NULL|\n",
      "|2020-10-01 00:20:06|1601511606|NULL|   1| 237|    NULL| 110| 379|\n",
      "|2020-10-01 00:20:09|1601511609|   0|NULL|NULL|    NULL|NULL|NULL|\n",
      "|2020-10-01 00:20:36|1601511636|NULL|   1| 237|    NULL| 110| 379|\n",
      "|2020-10-01 00:20:40|1601511640|   0|NULL|NULL|    NULL|NULL|NULL|\n",
      "|2020-10-01 00:21:07|1601511667|NULL|   1| 234|    NULL| 110| 383|\n",
      "|2020-10-01 00:21:10|1601511670|   0|NULL|NULL|    NULL|NULL|NULL|\n",
      "|2020-10-01 00:21:37|1601511697|NULL|   1| 234|    NULL| 110| 385|\n",
      "|2020-10-01 00:21:40|1601511700|   0|NULL|NULL|    NULL|NULL|NULL|\n",
      "|2020-10-01 00:22:07|1601511727|NULL|   1| 232|    NULL| 110| 385|\n",
      "|2020-10-01 00:22:10|1601511730|   0|NULL|NULL|    NULL|NULL|NULL|\n",
      "|2020-10-01 00:22:38|1601511758|NULL|   1| 232|    NULL| 110| 385|\n",
      "|2020-10-01 00:22:40|1601511760|   0|NULL|NULL|    NULL|NULL|NULL|\n",
      "|2020-10-01 00:23:08|1601511788|NULL|   1| 232|    NULL| 110| 388|\n",
      "|2020-10-01 00:23:11|1601511791|   0|NULL|NULL|    NULL|NULL|NULL|\n",
      "|2020-10-01 00:23:38|1601511818|NULL|   1| 232|    NULL| 110| 390|\n",
      "|2020-10-01 00:25:45|1601511945|NULL|   1| 230|    NULL| 110| 384|\n",
      "|2020-10-01 00:25:48|1601511948|   0|NULL|NULL|    NULL|NULL|NULL|\n",
      "|2020-10-01 00:26:16|1601511976|NULL|   1| 232|    NULL| 110| 385|\n",
      "+-------------------+----------+----+----+----+--------+----+----+\n",
      "\n"
     ]
    }
   ],
   "source": [
    "inspect(df_hard, sensors=[\"S170\",\"S117\",\"S41\",\"ComError\",\"S129\",\"S122\"], start=1601510422, end=1601512022).show(100)"
   ]
  },
  {
   "cell_type": "markdown",
   "id": "604fd046-8e47-4bdd-b7eb-28b3a55c029c",
   "metadata": {
    "jp-MarkdownHeadingCollapsed": true
   },
   "source": [
    "### Prova sull'intero datset"
   ]
  },
  {
   "cell_type": "code",
   "execution_count": 23,
   "id": "30cf8b93-aa97-47b2-9a8e-fa10eae093f5",
   "metadata": {},
   "outputs": [],
   "source": [
    "# from pyspark.sql.functions import broadcast, abs as abs_, row_number\n",
    "# from pyspark.sql.window import Window\n",
    "\n",
    "# def resample_fast(df_hard, interval=60):\n",
    "#     #spark = df_hard.sparkSession\n",
    "#     half = interval / 2\n",
    "\n",
    "#     # Build tiny time grid and broadcast it\n",
    "#     min_time, max_time = df_hard.selectExpr(\"min(when)\", \"max(when)\").first()\n",
    "#     times = list(range(min_time, max_time + 1, interval))\n",
    "#     grid_df = spark.createDataFrame([(t,) for t in times], [\"target_when\"])\n",
    "#     grid_df = broadcast(grid_df)\n",
    "\n",
    "#     # Range join on when BETWEEN target_when ± half\n",
    "#     joined = df_hard.join(\n",
    "#         grid_df,\n",
    "#         (df_hard.when >= grid_df.target_when - half) &\n",
    "#         (df_hard.when <= grid_df.target_when + half),\n",
    "#         how=\"inner\"\n",
    "#     )\n",
    "\n",
    "#     # Pick the nearest row per target_when\n",
    "#     window_spec = Window.partitionBy(\"target_when\").orderBy(abs_(col(\"when\") - col(\"target_when\")))\n",
    "#     best = (\n",
    "#         joined\n",
    "#           .withColumn(\"rn\", row_number().over(window_spec))\n",
    "#           .filter(col(\"rn\") == 1)\n",
    "#           .drop(\"rn\")              # drop row‑number\n",
    "#           .drop(\"when\")            # DROP original `when`\n",
    "#           .withColumnRenamed(\"target_when\", \"when\")  # rename the grid col\n",
    "#     )\n",
    "\n",
    "#     return best\n",
    "\n",
    "# from functools import reduce\n",
    "\n",
    "# def resample_one_sensor(df_hard, sensor, interval=60):\n",
    "#     # Select only the timestamp and this single sensor\n",
    "#     df_sel = df_hard.select(\"time\",\"when\", sensor)\n",
    "#     return resample_fast(df_sel, interval).select(\"time\",\"when\", sensor)"
   ]
  },
  {
   "cell_type": "code",
   "execution_count": 24,
   "id": "f884c75b-6e0d-45d7-9615-f0859c7def77",
   "metadata": {},
   "outputs": [],
   "source": [
    "# INFINITE TIME\n",
    "\n",
    "# # List of your sensor columns\n",
    "# sensors = [c for c in df_hard.columns if c not in (\"time\",\"when\")]\n",
    "\n",
    "# # Resample each sensor individually\n",
    "# sensor_dfs = [resample_one_sensor(df_hard, s, 60) for s in sensors]\n",
    "\n",
    "# # Join them all back on \"when\"\n",
    "# df_resampled = reduce(\n",
    "#     lambda left, right: left.join(right, on=\"when\", how=\"outer\"),\n",
    "#     sensor_dfs\n",
    "# ).orderBy(\"when\")\n",
    "\n",
    "# df_resampled.show(5)"
   ]
  },
  {
   "cell_type": "code",
   "execution_count": 25,
   "id": "1be8132a-3f0c-48f8-ae56-03c69227e451",
   "metadata": {},
   "outputs": [],
   "source": [
    "# resample_one_sensor(df_hard, \"S117\", 60).show(5)"
   ]
  },
  {
   "cell_type": "markdown",
   "id": "4fca02a0-e945-4d6a-9e70-237afb583c78",
   "metadata": {
    "jp-MarkdownHeadingCollapsed": true
   },
   "source": [
    "### Su solo una colonna (metodo nearest) FUNZIONANTE"
   ]
  },
  {
   "cell_type": "code",
   "execution_count": 21,
   "id": "9eb44695-86d4-4d5d-8af8-93de34608f50",
   "metadata": {},
   "outputs": [],
   "source": [
    "def resample_sensor_simple(\n",
    "    df_hard: DataFrame,\n",
    "    sensor: str,\n",
    "    interval: int = 60\n",
    ") -> DataFrame:\n",
    "    \"\"\"\n",
    "    Resample a single sensor column to regular intervals using the nearest non-null value.\n",
    "\n",
    "    Args:\n",
    "        df_hard:   Spark DataFrame with columns ['when', sensor].\n",
    "        sensor:    Name of the sensor column (e.g., 'S117').\n",
    "        interval:  Resample interval in seconds.\n",
    "\n",
    "    Returns:\n",
    "        Resampled DataFrame with ['when', sensor, 'time'], using only non-null nearest values.\n",
    "    \"\"\"\n",
    "    spark = df_hard.sparkSession\n",
    "    half = interval / 2\n",
    "\n",
    "    # 1. Create target timestamp grid\n",
    "    bounds = df_hard.selectExpr(\"min(when) as min_t\", \"max(when) as max_t\").first()\n",
    "    min_t, max_t = bounds.min_t, bounds.max_t\n",
    "\n",
    "    grid_df = (\n",
    "        spark.range(1)\n",
    "             .selectExpr(f\"sequence({min_t}, {max_t}, {interval}) as times\")\n",
    "             .select(explode(\"times\").alias(\"target_when\"))\n",
    "    )\n",
    "\n",
    "    # 2. Range join within ±half interval and exclude NULLs before aggregation\n",
    "    joined = (\n",
    "        df_hard\n",
    "          .select(\"when\", sensor)\n",
    "          .filter(col(sensor).isNotNull())  # <-- filter out nulls before min_by\n",
    "          .join(\n",
    "              grid_df,\n",
    "              (col(\"when\") >= col(\"target_when\") - half) &\n",
    "              (col(\"when\") <= col(\"target_when\") + half),\n",
    "              how=\"inner\"\n",
    "          )\n",
    "          .withColumn(\"time_diff\", abs_(col(\"when\") - col(\"target_when\")))\n",
    "    )\n",
    "\n",
    "    # 3. Pick value with minimum time difference (nearest non-null)\n",
    "    result = (\n",
    "        joined.groupBy(\"target_when\")\n",
    "              .agg(min_by(col(sensor), col(\"time_diff\")).alias(sensor))\n",
    "    )\n",
    "\n",
    "    # 4. Format output\n",
    "    final = (\n",
    "        result\n",
    "          .withColumnRenamed(\"target_when\", \"when\")\n",
    "          .withColumn(\"time\", from_unixtime(col(\"when\")))\n",
    "          .orderBy(\"when\")\n",
    "    )\n",
    "\n",
    "\n",
    "    return final\n"
   ]
  },
  {
   "cell_type": "code",
   "execution_count": 22,
   "id": "89425435-d21b-4e22-8357-4074901dc376",
   "metadata": {},
   "outputs": [
    {
     "name": "stderr",
     "output_type": "stream",
     "text": [
      "25/07/31 09:24:46 WARN DAGScheduler: Broadcasting large task binary with size 2.0 MiB\n",
      "25/07/31 09:24:46 WARN DAGScheduler: Broadcasting large task binary with size 2.4 MiB\n",
      "[Stage 68:=======================================>              (148 + 8) / 200]"
     ]
    },
    {
     "name": "stdout",
     "output_type": "stream",
     "text": [
      "+----------+---+-------------------+\n",
      "|when      |A5 |time               |\n",
      "+----------+---+-------------------+\n",
      "|1601511322|0  |2020-10-01 00:15:22|\n",
      "|1601683582|0  |2020-10-03 00:06:22|\n",
      "|1601772142|0  |2020-10-04 00:42:22|\n",
      "|1601786902|0  |2020-10-04 04:48:22|\n",
      "|1601856802|0  |2020-10-05 00:13:22|\n",
      "|1601944402|0  |2020-10-06 00:33:22|\n",
      "|1602116722|0  |2020-10-08 00:25:22|\n",
      "|1602201922|0  |2020-10-09 00:05:22|\n",
      "|1602290782|0  |2020-10-10 00:46:22|\n",
      "|1602376342|0  |2020-10-11 00:32:22|\n",
      "+----------+---+-------------------+\n",
      "only showing top 10 rows\n",
      "\n",
      "CPU times: user 12.3 ms, sys: 769 μs, total: 13.1 ms\n",
      "Wall time: 2.63 s\n"
     ]
    },
    {
     "name": "stderr",
     "output_type": "stream",
     "text": [
      "25/07/31 09:24:48 WARN DAGScheduler: Broadcasting large task binary with size 2.4 MiB\n",
      "                                                                                "
     ]
    }
   ],
   "source": [
    "%%time\n",
    "\n",
    "df_resampled_S117 = resample_sensor_simple(df_hard, \"A5\", interval=60)\n",
    "df_resampled_S117.show(10, truncate=False)"
   ]
  },
  {
   "cell_type": "markdown",
   "id": "7326d19b-fcfc-4259-a540-b36a948b1297",
   "metadata": {},
   "source": [
    "<span style=\"font-size: 200%\">Various checks to show that everything works</span>"
   ]
  },
  {
   "cell_type": "code",
   "execution_count": 20,
   "id": "a520425d-e090-433c-96f1-20fdbddce8ec",
   "metadata": {},
   "outputs": [
    {
     "name": "stderr",
     "output_type": "stream",
     "text": [
      "25/07/30 07:48:35 WARN DAGScheduler: Broadcasting large task binary with size 2.0 MiB\n",
      "25/07/30 07:49:26 WARN DAGScheduler: Broadcasting large task binary with size 2.1 MiB\n",
      "25/07/30 07:49:28 WARN DAGScheduler: Broadcasting large task binary with size 2.1 MiB\n",
      "                                                                                "
     ]
    },
    {
     "name": "stdout",
     "output_type": "stream",
     "text": [
      "+----------+----+-------------------+\n",
      "|      when|S117|               time|\n",
      "+----------+----+-------------------+\n",
      "|1601526622|   0|2020-10-01 04:30:22|\n",
      "|1601526682|   0|2020-10-01 04:31:22|\n",
      "|1601526742|   0|2020-10-01 04:32:22|\n",
      "|1601526862|   0|2020-10-01 04:34:22|\n",
      "|1601526922|   0|2020-10-01 04:35:22|\n",
      "|1601526982|   0|2020-10-01 04:36:22|\n",
      "|1601527042|   0|2020-10-01 04:37:22|\n",
      "|1601527102|   0|2020-10-01 04:38:22|\n",
      "|1601527162|   0|2020-10-01 04:39:22|\n",
      "|1601527222|   0|2020-10-01 04:40:22|\n",
      "|1601529262|   0|2020-10-01 05:14:22|\n",
      "|1601529322|   0|2020-10-01 05:15:22|\n",
      "|1601529382|   0|2020-10-01 05:16:22|\n",
      "|1601529442|   0|2020-10-01 05:17:22|\n",
      "|1601529502|   0|2020-10-01 05:18:22|\n",
      "|1601529562|   0|2020-10-01 05:19:22|\n",
      "|1601529622|   0|2020-10-01 05:20:22|\n",
      "|1601529682|   0|2020-10-01 05:21:22|\n",
      "|1601529742|   0|2020-10-01 05:22:22|\n",
      "|1601529802|   0|2020-10-01 05:23:22|\n",
      "+----------+----+-------------------+\n",
      "only showing top 20 rows\n",
      "\n"
     ]
    }
   ],
   "source": [
    "# inspect a specific region\n",
    "start_ts = 1601526622\n",
    "end_ts   = 1601531000\n",
    "\n",
    "df_resampled_S117.filter(\n",
    "    (col(\"when\") >= start_ts) & \n",
    "    (col(\"when\") <= end_ts)\n",
    ").show()"
   ]
  },
  {
   "cell_type": "code",
   "execution_count": 22,
   "id": "22ec865f-5198-4bc9-9ad7-74b2d9b0ea67",
   "metadata": {},
   "outputs": [
    {
     "name": "stderr",
     "output_type": "stream",
     "text": [
      "[Stage 70:>                                                         (0 + 3) / 4]"
     ]
    },
    {
     "name": "stdout",
     "output_type": "stream",
     "text": [
      "+-------------------+----------+----+\n",
      "|               time|      when|S117|\n",
      "+-------------------+----------+----+\n",
      "|2020-10-01 04:30:32|1601526632|   0|\n",
      "|2020-10-01 04:30:39|1601526639|NULL|\n",
      "|2020-10-01 04:31:02|1601526662|   0|\n",
      "|2020-10-01 04:31:05|1601526665|NULL|\n",
      "|2020-10-01 04:31:33|1601526693|   0|\n",
      "|2020-10-01 04:31:35|1601526695|NULL|\n",
      "|2020-10-01 04:32:03|1601526723|   0|\n",
      "|2020-10-01 04:34:10|1601526850|   0|\n",
      "|2020-10-01 04:34:13|1601526853|NULL|\n",
      "|2020-10-01 04:34:41|1601526881|   0|\n",
      "|2020-10-01 04:34:43|1601526883|NULL|\n",
      "|2020-10-01 04:35:11|1601526911|   0|\n",
      "|2020-10-01 04:35:14|1601526914|NULL|\n",
      "|2020-10-01 04:35:41|1601526941|   0|\n",
      "|2020-10-01 04:35:45|1601526945|NULL|\n",
      "|2020-10-01 04:36:11|1601526971|   0|\n",
      "|2020-10-01 04:36:19|1601526979|NULL|\n",
      "|2020-10-01 04:36:42|1601527002|   0|\n",
      "|2020-10-01 04:36:45|1601527005|NULL|\n",
      "|2020-10-01 04:37:12|1601527032|   0|\n",
      "+-------------------+----------+----+\n",
      "only showing top 20 rows\n",
      "\n"
     ]
    },
    {
     "name": "stderr",
     "output_type": "stream",
     "text": [
      "                                                                                "
     ]
    }
   ],
   "source": [
    "inspect(df_hard, sensors=[\"S117\"], start=1601526622, end=1601531000).show()"
   ]
  },
  {
   "cell_type": "code",
   "execution_count": 29,
   "id": "78b1bdac-8a39-451c-9c8e-52d60b9ea15e",
   "metadata": {},
   "outputs": [
    {
     "name": "stderr",
     "output_type": "stream",
     "text": [
      "[Stage 131:====================================================>  (37 + 2) / 39]"
     ]
    },
    {
     "name": "stdout",
     "output_type": "stream",
     "text": [
      "+-------------------+----------+----+\n",
      "|               time|      when|S117|\n",
      "+-------------------+----------+----+\n",
      "|2020-10-01 04:38:23|1601527103|NULL|\n",
      "|2020-10-01 04:38:43|1601527123|   0|\n",
      "|2020-10-01 04:38:46|1601527126|NULL|\n",
      "|2020-10-01 04:39:14|1601527154|   0|\n",
      "|2020-10-01 04:39:17|1601527157|NULL|\n",
      "|2020-10-01 04:39:44|1601527184|   0|\n",
      "|2020-10-01 04:39:47|1601527187|NULL|\n",
      "|2020-10-01 04:40:14|1601527214|   0|\n",
      "|2020-10-01 04:40:17|1601527217|NULL|\n",
      "|2020-10-01 04:40:45|1601527245|   0|\n",
      "|2020-10-01 05:14:00|1601529240|   0|\n",
      "|2020-10-01 05:14:03|1601529243|NULL|\n",
      "|2020-10-01 05:14:31|1601529271|   0|\n",
      "|2020-10-01 05:14:33|1601529273|NULL|\n",
      "|2020-10-01 05:15:01|1601529301|   0|\n",
      "|2020-10-01 05:15:04|1601529304|NULL|\n",
      "|2020-10-01 05:15:31|1601529331|   0|\n",
      "|2020-10-01 05:15:34|1601529334|NULL|\n",
      "|2020-10-01 05:16:02|1601529362|   0|\n",
      "|2020-10-01 05:16:04|1601529364|NULL|\n",
      "+-------------------+----------+----+\n",
      "only showing top 20 rows\n",
      "\n"
     ]
    },
    {
     "name": "stderr",
     "output_type": "stream",
     "text": [
      "                                                                                "
     ]
    }
   ],
   "source": [
    "inspect(df_hard, sensors=[\"S117\"], start=1601527100, end=1601529400).show()"
   ]
  },
  {
   "cell_type": "code",
   "execution_count": 30,
   "id": "4a5de846-c5a6-4ad1-8121-3df91435ff28",
   "metadata": {},
   "outputs": [
    {
     "name": "stderr",
     "output_type": "stream",
     "text": [
      "25/07/29 13:19:01 WARN DAGScheduler: Broadcasting large task binary with size 2.0 MiB\n",
      "25/07/29 13:19:18 WARN DAGScheduler: Broadcasting large task binary with size 2.1 MiB\n",
      "25/07/29 13:19:35 WARN DAGScheduler: Broadcasting large task binary with size 2.1 MiB\n",
      "25/07/29 13:19:35 WARN DAGScheduler: Broadcasting large task binary with size 2.1 MiB\n",
      "25/07/29 13:19:36 WARN DAGScheduler: Broadcasting large task binary with size 2.1 MiB\n",
      "                                                                                "
     ]
    },
    {
     "name": "stdout",
     "output_type": "stream",
     "text": [
      "Number of time differences: 105888\n",
      "\n",
      "5 smallest time differences:\n",
      "+----+-----+\n",
      "|diff|count|\n",
      "+----+-----+\n",
      "|60  |98162|\n",
      "|120 |4869 |\n",
      "|180 |2168 |\n",
      "|240 |283  |\n",
      "|300 |131  |\n",
      "+----+-----+\n",
      "only showing top 5 rows\n",
      "\n",
      "\n",
      "5 largest time differences:\n",
      "+-------+-----+\n",
      "|diff   |count|\n",
      "+-------+-----+\n",
      "|5003760|1    |\n",
      "|2066880|1    |\n",
      "|757860 |1    |\n",
      "|51960  |1    |\n",
      "|28620  |1    |\n",
      "+-------+-----+\n",
      "only showing top 5 rows\n",
      "\n"
     ]
    }
   ],
   "source": [
    "# Check everything is fine\n",
    "\n",
    "# Compute time differences\n",
    "rdd_diff_S117 = compute_time_differences(df_resampled_S117)\n",
    "\n",
    "# Summarize and print top/bottom time gaps\n",
    "df_diff_summary_S117 = time_diff_summary(rdd_diff_S117, spark)"
   ]
  },
  {
   "cell_type": "code",
   "execution_count": 31,
   "id": "c5dce3a2-75a5-430a-b18b-6e5f4f35a6c2",
   "metadata": {},
   "outputs": [],
   "source": [
    "# questo dai dati di prima, sembra funzionare\n",
    "# |5003774|1    |\n",
    "# |2066908|1    |\n",
    "# |757864 |1    |\n",
    "# |48451  |1    |\n",
    "# |28598  |1    |"
   ]
  },
  {
   "cell_type": "markdown",
   "id": "918954cf-3faa-4535-b23f-ca83d8cc9dd2",
   "metadata": {},
   "source": [
    "<span style=\"font-size: 200%\">Filtered data block size</span>"
   ]
  },
  {
   "cell_type": "markdown",
   "id": "6b1e63c8-ee9b-4cf6-80e7-9d4162f13da4",
   "metadata": {
    "jp-MarkdownHeadingCollapsed": true
   },
   "source": [
    "#### Non parallelizzata (sposta tutto in unica partizione)"
   ]
  },
  {
   "cell_type": "code",
   "execution_count": 32,
   "id": "df384313-0b9d-4723-837c-1567440dca71",
   "metadata": {},
   "outputs": [],
   "source": [
    "def count_contiguous_blocks(df: DataFrame, interval: int, col_when: str = \"when\") -> DataFrame:\n",
    "    \"\"\"\n",
    "    Count contiguous blocks with exact interval spacing in the 'when' column.\n",
    "\n",
    "    Args:\n",
    "        df:         Input Spark DataFrame with a 'when' column in seconds.\n",
    "        interval:   Time interval in seconds (e.g., 60).\n",
    "        col_when:   Name of the time column (default = 'when').\n",
    "\n",
    "    Returns:\n",
    "        Spark DataFrame with:\n",
    "            - block_length: number of rows in each contiguous block\n",
    "            - block_count:  how many such blocks exist\n",
    "    \"\"\"\n",
    "    # Window partitioning (avoid single-partition performance issue)\n",
    "    w = Window.orderBy(col(col_when)).partitionBy()  # still no partition key but avoids warning\n",
    "\n",
    "    # 1. Calculate time difference between rows\n",
    "    df_with_diff = df.select(col(col_when)).withColumn(\n",
    "        \"prev\", lag(col(col_when)).over(w)\n",
    "    ).withColumn(\n",
    "        \"diff\", col(col_when) - col(\"prev\")\n",
    "    )\n",
    "\n",
    "    # 2. Mark the beginning of new blocks\n",
    "    df_with_flag = df_with_diff.withColumn(\n",
    "        \"is_new_block\", (col(\"diff\") != interval) | col(\"diff\").isNull()\n",
    "    )\n",
    "\n",
    "    # 3. Assign a block ID\n",
    "    df_with_block = df_with_flag.withColumn(\n",
    "        \"block_id\", sum_(col(\"is_new_block\").cast(\"int\")).over(w)\n",
    "    )\n",
    "\n",
    "    # 4. Count how many rows in each block\n",
    "    block_lengths = (\n",
    "        df_with_block.groupBy(\"block_id\")\n",
    "                     .count()\n",
    "                     .withColumnRenamed(\"count\", \"block_length\")\n",
    "    )\n",
    "\n",
    "    # 5. Count number of blocks per length\n",
    "    result = (\n",
    "        block_lengths.groupBy(\"block_length\")\n",
    "                     .count()\n",
    "                     .withColumnRenamed(\"count\", \"block_count\")\n",
    "                     .orderBy(\"block_length\")\n",
    "    )\n",
    "\n",
    "    return result"
   ]
  },
  {
   "cell_type": "code",
   "execution_count": 33,
   "id": "65513f30-5d86-47d9-bcd8-f611fe3e1d08",
   "metadata": {},
   "outputs": [],
   "source": [
    "def plot_diff_histogram(df_block_stats, min_length=1, max_length=100, step=1):\n",
    "    \"\"\"\n",
    "    Plots a histogram of block sizes from Spark DataFrame.\n",
    "\n",
    "    Args:\n",
    "        df_block_stats: DataFrame with columns [block_length, block_count]\n",
    "        min_length: Minimum block length to include in the plot\n",
    "        max_length: Maximum block length to include in the plot\n",
    "        step: Width of each histogram bar\n",
    "    \"\"\"\n",
    "    # Collect the result to the driver\n",
    "    data = df_block_stats.collect()\n",
    "\n",
    "    lengths = [row[\"block_length\"] for row in data]\n",
    "    counts = [row[\"block_count\"] for row in data]\n",
    "\n",
    "    plt.figure(figsize=(10, 5))\n",
    "    plt.bar(lengths, counts, width=step, align=\"center\")\n",
    "    plt.xlabel(\"Block Length\")\n",
    "    plt.ylabel(\"Number of Blocks\")\n",
    "    plt.title(\"Histogram of Contiguous Blocks\")\n",
    "    plt.xlim(min_length, max_length)\n",
    "    plt.grid(True)\n",
    "    plt.show()"
   ]
  },
  {
   "cell_type": "code",
   "execution_count": 34,
   "id": "934755c6-cc99-4645-9dc4-c43c875aa5a2",
   "metadata": {},
   "outputs": [
    {
     "name": "stderr",
     "output_type": "stream",
     "text": [
      "25/07/29 13:19:38 WARN WindowExec: No Partition Defined for Window operation! Moving all data to a single partition, this can cause serious performance degradation.\n",
      "25/07/29 13:19:38 WARN WindowExec: No Partition Defined for Window operation! Moving all data to a single partition, this can cause serious performance degradation.\n",
      "25/07/29 13:19:38 WARN WindowExec: No Partition Defined for Window operation! Moving all data to a single partition, this can cause serious performance degradation.\n",
      "25/07/29 13:19:38 WARN WindowExec: No Partition Defined for Window operation! Moving all data to a single partition, this can cause serious performance degradation.\n",
      "25/07/29 13:19:38 WARN DAGScheduler: Broadcasting large task binary with size 2.0 MiB\n",
      "25/07/29 13:19:39 WARN WindowExec: No Partition Defined for Window operation! Moving all data to a single partition, this can cause serious performance degradation.\n",
      "25/07/29 13:19:39 WARN WindowExec: No Partition Defined for Window operation! Moving all data to a single partition, this can cause serious performance degradation.\n",
      "25/07/29 13:19:39 WARN WindowExec: No Partition Defined for Window operation! Moving all data to a single partition, this can cause serious performance degradation.\n",
      "25/07/29 13:19:39 WARN WindowExec: No Partition Defined for Window operation! Moving all data to a single partition, this can cause serious performance degradation.\n",
      "25/07/29 13:19:53 WARN WindowExec: No Partition Defined for Window operation! Moving all data to a single partition, this can cause serious performance degradation.\n",
      "25/07/29 13:19:53 WARN WindowExec: No Partition Defined for Window operation! Moving all data to a single partition, this can cause serious performance degradation.\n",
      "25/07/29 13:19:53 WARN WindowExec: No Partition Defined for Window operation! Moving all data to a single partition, this can cause serious performance degradation.\n",
      "25/07/29 13:19:53 WARN WindowExec: No Partition Defined for Window operation! Moving all data to a single partition, this can cause serious performance degradation.\n",
      "25/07/29 13:19:58 WARN WindowExec: No Partition Defined for Window operation! Moving all data to a single partition, this can cause serious performance degradation.\n",
      "25/07/29 13:19:58 WARN WindowExec: No Partition Defined for Window operation! Moving all data to a single partition, this can cause serious performance degradation.\n",
      "25/07/29 13:19:58 WARN WindowExec: No Partition Defined for Window operation! Moving all data to a single partition, this can cause serious performance degradation.\n",
      "25/07/29 13:19:58 WARN WindowExec: No Partition Defined for Window operation! Moving all data to a single partition, this can cause serious performance degradation.\n",
      "25/07/29 13:19:58 WARN DAGScheduler: Broadcasting large task binary with size 2.1 MiB\n",
      "25/07/29 13:20:19 WARN WindowExec: No Partition Defined for Window operation! Moving all data to a single partition, this can cause serious performance degradation.\n",
      "25/07/29 13:20:19 WARN WindowExec: No Partition Defined for Window operation! Moving all data to a single partition, this can cause serious performance degradation.\n",
      "25/07/29 13:20:19 WARN WindowExec: No Partition Defined for Window operation! Moving all data to a single partition, this can cause serious performance degradation.\n",
      "25/07/29 13:20:19 WARN WindowExec: No Partition Defined for Window operation! Moving all data to a single partition, this can cause serious performance degradation.\n",
      "25/07/29 13:20:19 WARN DAGScheduler: Broadcasting large task binary with size 2.1 MiB\n",
      "25/07/29 13:20:19 WARN DAGScheduler: Broadcasting large task binary with size 2.1 MiB\n",
      "25/07/29 13:20:19 WARN WindowExec: No Partition Defined for Window operation! Moving all data to a single partition, this can cause serious performance degradation.\n",
      "25/07/29 13:20:19 WARN WindowExec: No Partition Defined for Window operation! Moving all data to a single partition, this can cause serious performance degradation.\n",
      "25/07/29 13:20:19 WARN WindowExec: No Partition Defined for Window operation! Moving all data to a single partition, this can cause serious performance degradation.\n",
      "25/07/29 13:20:19 WARN WindowExec: No Partition Defined for Window operation! Moving all data to a single partition, this can cause serious performance degradation.\n",
      "25/07/29 13:20:19 WARN DAGScheduler: Broadcasting large task binary with size 2.1 MiB\n",
      "25/07/29 13:20:19 WARN WindowExec: No Partition Defined for Window operation! Moving all data to a single partition, this can cause serious performance degradation.\n",
      "25/07/29 13:20:19 WARN WindowExec: No Partition Defined for Window operation! Moving all data to a single partition, this can cause serious performance degradation.\n",
      "25/07/29 13:20:19 WARN WindowExec: No Partition Defined for Window operation! Moving all data to a single partition, this can cause serious performance degradation.\n",
      "25/07/29 13:20:19 WARN WindowExec: No Partition Defined for Window operation! Moving all data to a single partition, this can cause serious performance degradation.\n",
      "25/07/29 13:20:19 WARN DAGScheduler: Broadcasting large task binary with size 2.1 MiB\n"
     ]
    },
    {
     "name": "stdout",
     "output_type": "stream",
     "text": [
      "+------------+-----------+\n",
      "|block_length|block_count|\n",
      "+------------+-----------+\n",
      "|           1|        451|\n",
      "|           2|        539|\n",
      "|           3|        477|\n",
      "|           4|        452|\n",
      "|           5|        427|\n",
      "|           6|        404|\n",
      "|           7|        381|\n",
      "|           8|        368|\n",
      "|           9|        338|\n",
      "|          10|        322|\n",
      "|          11|        240|\n",
      "|          12|        252|\n",
      "|          13|        211|\n",
      "|          14|        217|\n",
      "|          15|        202|\n",
      "|          16|        183|\n",
      "|          17|        155|\n",
      "|          18|        175|\n",
      "|          19|        148|\n",
      "|          20|        108|\n",
      "+------------+-----------+\n",
      "only showing top 20 rows\n",
      "\n"
     ]
    }
   ],
   "source": [
    "# Select only the timestamp column\n",
    "df_sample = df_resampled_S117.select(\"when\")\n",
    "\n",
    "# Compute block statistics\n",
    "block_stats = count_contiguous_blocks(df_sample, interval=60)\n",
    "\n",
    "# Show the result\n",
    "block_stats.show()"
   ]
  },
  {
   "cell_type": "code",
   "execution_count": 35,
   "id": "9e3cdc6c-543f-471c-ab98-9decd0a64b4e",
   "metadata": {},
   "outputs": [
    {
     "name": "stderr",
     "output_type": "stream",
     "text": [
      "25/07/29 13:20:20 WARN WindowExec: No Partition Defined for Window operation! Moving all data to a single partition, this can cause serious performance degradation.\n",
      "25/07/29 13:20:20 WARN WindowExec: No Partition Defined for Window operation! Moving all data to a single partition, this can cause serious performance degradation.\n",
      "25/07/29 13:20:20 WARN WindowExec: No Partition Defined for Window operation! Moving all data to a single partition, this can cause serious performance degradation.\n",
      "25/07/29 13:20:20 WARN WindowExec: No Partition Defined for Window operation! Moving all data to a single partition, this can cause serious performance degradation.\n",
      "25/07/29 13:20:20 WARN DAGScheduler: Broadcasting large task binary with size 2.0 MiB\n",
      "25/07/29 13:20:24 WARN WindowExec: No Partition Defined for Window operation! Moving all data to a single partition, this can cause serious performance degradation.\n",
      "25/07/29 13:20:24 WARN WindowExec: No Partition Defined for Window operation! Moving all data to a single partition, this can cause serious performance degradation.\n",
      "25/07/29 13:20:24 WARN WindowExec: No Partition Defined for Window operation! Moving all data to a single partition, this can cause serious performance degradation.\n",
      "25/07/29 13:20:24 WARN WindowExec: No Partition Defined for Window operation! Moving all data to a single partition, this can cause serious performance degradation.\n",
      "25/07/29 13:20:34 WARN WindowExec: No Partition Defined for Window operation! Moving all data to a single partition, this can cause serious performance degradation.\n",
      "25/07/29 13:20:34 WARN WindowExec: No Partition Defined for Window operation! Moving all data to a single partition, this can cause serious performance degradation.\n",
      "25/07/29 13:20:34 WARN WindowExec: No Partition Defined for Window operation! Moving all data to a single partition, this can cause serious performance degradation.\n",
      "25/07/29 13:20:34 WARN WindowExec: No Partition Defined for Window operation! Moving all data to a single partition, this can cause serious performance degradation.\n",
      "25/07/29 13:20:38 WARN WindowExec: No Partition Defined for Window operation! Moving all data to a single partition, this can cause serious performance degradation.\n",
      "25/07/29 13:20:38 WARN WindowExec: No Partition Defined for Window operation! Moving all data to a single partition, this can cause serious performance degradation.\n",
      "25/07/29 13:20:38 WARN WindowExec: No Partition Defined for Window operation! Moving all data to a single partition, this can cause serious performance degradation.\n",
      "25/07/29 13:20:38 WARN WindowExec: No Partition Defined for Window operation! Moving all data to a single partition, this can cause serious performance degradation.\n",
      "25/07/29 13:20:38 WARN DAGScheduler: Broadcasting large task binary with size 2.1 MiB\n",
      "25/07/29 13:20:57 WARN WindowExec: No Partition Defined for Window operation! Moving all data to a single partition, this can cause serious performance degradation.\n",
      "25/07/29 13:20:57 WARN WindowExec: No Partition Defined for Window operation! Moving all data to a single partition, this can cause serious performance degradation.\n",
      "25/07/29 13:20:57 WARN WindowExec: No Partition Defined for Window operation! Moving all data to a single partition, this can cause serious performance degradation.\n",
      "25/07/29 13:20:57 WARN WindowExec: No Partition Defined for Window operation! Moving all data to a single partition, this can cause serious performance degradation.\n",
      "25/07/29 13:20:57 WARN DAGScheduler: Broadcasting large task binary with size 2.1 MiB\n",
      "25/07/29 13:20:57 WARN DAGScheduler: Broadcasting large task binary with size 2.1 MiB\n",
      "25/07/29 13:20:57 WARN WindowExec: No Partition Defined for Window operation! Moving all data to a single partition, this can cause serious performance degradation.\n",
      "25/07/29 13:20:57 WARN WindowExec: No Partition Defined for Window operation! Moving all data to a single partition, this can cause serious performance degradation.\n",
      "25/07/29 13:20:57 WARN WindowExec: No Partition Defined for Window operation! Moving all data to a single partition, this can cause serious performance degradation.\n",
      "25/07/29 13:20:57 WARN WindowExec: No Partition Defined for Window operation! Moving all data to a single partition, this can cause serious performance degradation.\n",
      "25/07/29 13:20:57 WARN DAGScheduler: Broadcasting large task binary with size 2.1 MiB\n",
      "25/07/29 13:20:57 WARN WindowExec: No Partition Defined for Window operation! Moving all data to a single partition, this can cause serious performance degradation.\n",
      "25/07/29 13:20:57 WARN WindowExec: No Partition Defined for Window operation! Moving all data to a single partition, this can cause serious performance degradation.\n",
      "25/07/29 13:20:57 WARN WindowExec: No Partition Defined for Window operation! Moving all data to a single partition, this can cause serious performance degradation.\n",
      "25/07/29 13:20:57 WARN WindowExec: No Partition Defined for Window operation! Moving all data to a single partition, this can cause serious performance degradation.\n",
      "25/07/29 13:20:57 WARN DAGScheduler: Broadcasting large task binary with size 2.1 MiB\n",
      "                                                                                "
     ]
    },
    {
     "data": {
      "image/png": "[encoded data removed]",
      "text/plain": [
       "<Figure size 1000x500 with 1 Axes>"
      ]
     },
     "metadata": {},
     "output_type": "display_data"
    }
   ],
   "source": [
    "# Plot the histogram\n",
    "plot_diff_histogram(block_stats, min_length=1, max_length=1000, step=10)"
   ]
  },
  {
   "cell_type": "markdown",
   "id": "11ff157f-db7d-489b-8873-cd4416380597",
   "metadata": {},
   "source": [
    "#### Parallelizzata con partitionBy(\"day\") -- risultati leggermente diversi, c'è qualcosa che non va --"
   ]
  },
  {
   "cell_type": "code",
   "execution_count": 36,
   "id": "4d2198e8-7fc1-4d5b-b7b8-eca3b743769d",
   "metadata": {},
   "outputs": [],
   "source": [
    "def count_contiguous_blocks(\n",
    "    df: DataFrame,\n",
    "    interval: int,\n",
    "    col_when: str = \"when\"\n",
    ") -> DataFrame:\n",
    "    \"\"\"\n",
    "    Count contiguous blocks of rows spaced exactly `interval` seconds apart,\n",
    "    partitioned by day for parallelism.\n",
    "\n",
    "    Args:\n",
    "      df:         Spark DataFrame with a timestamp column in seconds.\n",
    "      interval:   Expected spacing between consecutive rows (in seconds).\n",
    "      col_when:   Name of that timestamp column (default 'when').\n",
    "\n",
    "    Returns:\n",
    "      DataFrame with columns:\n",
    "        - block_length: number of rows in each contiguous block\n",
    "        - block_count:  how many such blocks exist\n",
    "    \"\"\"\n",
    "    # 1) Add a 'day' column for partitioning\n",
    "    df2 = df.withColumn(\"day\", to_date(from_unixtime(col(col_when))))\n",
    "\n",
    "    # 2) Window over each day, ordered by timestamp\n",
    "    w = Window.partitionBy(\"day\").orderBy(col(col_when))\n",
    "\n",
    "    # 3) Compute the gap to the previous timestamp\n",
    "    df3 = (\n",
    "        df2\n",
    "        .withColumn(\"prev_when\", lag(col(col_when), 1).over(w))\n",
    "        .withColumn(\"gap\", col(col_when) - col(\"prev_when\"))\n",
    "    )\n",
    "\n",
    "    # 4) Flag start of new block when gap != interval (or first in day)\n",
    "    df4 = df3.withColumn(\n",
    "        \"is_new_block\",\n",
    "        expr(f\"CASE WHEN gap IS NULL OR gap != {interval} THEN 1 ELSE 0 END\")\n",
    "    )\n",
    "\n",
    "    # 5) Cumulative sum over the window to assign a block_id\n",
    "    df5 = df4.withColumn(\n",
    "        \"block_id\",\n",
    "        sum_(col(\"is_new_block\")).over(w)\n",
    "    )\n",
    "\n",
    "    # 6) Count rows per (day, block_id) → this is block_length\n",
    "    blocks = (\n",
    "        df5\n",
    "        .groupBy(\"day\", \"block_id\")\n",
    "        .agg(count(\"*\").alias(\"block_length\"))\n",
    "    )\n",
    "\n",
    "    # 7) Count how many blocks have each length across all days\n",
    "    result = (\n",
    "        blocks\n",
    "        .groupBy(\"block_length\")\n",
    "        .agg(count(\"*\").alias(\"block_count\"))\n",
    "        .orderBy(\"block_length\")\n",
    "    )\n",
    "\n",
    "    return result"
   ]
  },
  {
   "cell_type": "code",
   "execution_count": 37,
   "id": "78b2ca2b-a4fa-4d2a-a6c8-4087f351ac1a",
   "metadata": {},
   "outputs": [],
   "source": [
    "def plot_diff_histogram(df_block_stats, min_length=1, max_length=100, step=1):\n",
    "    \"\"\"\n",
    "    Plot a histogram of contiguous block lengths.\n",
    "\n",
    "    Args:\n",
    "      df_block_stats: Spark DataFrame with ['block_length','block_count']\n",
    "      min_length:     smallest block_length to include\n",
    "      max_length:     largest block_length to include\n",
    "      step:           bar width\n",
    "    \"\"\"\n",
    "    pdf = (\n",
    "        df_block_stats\n",
    "        .filter((col(\"block_length\") >= min_length) &\n",
    "                (col(\"block_length\") <= max_length))\n",
    "        .orderBy(\"block_length\")\n",
    "        .toPandas()\n",
    "    )\n",
    "\n",
    "    if pdf.empty:\n",
    "        print(\"No blocks in the specified range.\")\n",
    "        return\n",
    "\n",
    "    plt.figure(figsize=(10,5))\n",
    "    plt.bar(pdf[\"block_length\"], pdf[\"block_count\"], width=step, align=\"center\")\n",
    "    plt.xlabel(\"Block Length\")\n",
    "    plt.ylabel(\"Number of Blocks\")\n",
    "    plt.title(\"Histogram of Contiguous Block Lengths\")\n",
    "    plt.grid(True)\n",
    "    plt.xlim(min_length, max_length)\n",
    "    plt.show()"
   ]
  },
  {
   "cell_type": "code",
   "execution_count": 38,
   "id": "bef75a4e-3df8-4478-96cc-fe428203f65f",
   "metadata": {},
   "outputs": [
    {
     "name": "stderr",
     "output_type": "stream",
     "text": [
      "25/07/29 13:20:59 WARN DAGScheduler: Broadcasting large task binary with size 2.0 MiB\n",
      "25/07/29 13:21:18 WARN DAGScheduler: Broadcasting large task binary with size 2.1 MiB\n",
      "25/07/29 13:21:36 WARN DAGScheduler: Broadcasting large task binary with size 2.1 MiB\n",
      "25/07/29 13:21:36 WARN DAGScheduler: Broadcasting large task binary with size 2.1 MiB\n",
      "25/07/29 13:21:36 WARN DAGScheduler: Broadcasting large task binary with size 2.1 MiB\n",
      "25/07/29 13:21:37 WARN DAGScheduler: Broadcasting large task binary with size 2.1 MiB\n"
     ]
    },
    {
     "name": "stdout",
     "output_type": "stream",
     "text": [
      "+------------+-----------+\n",
      "|block_length|block_count|\n",
      "+------------+-----------+\n",
      "|           1|        459|\n",
      "|           2|        544|\n",
      "|           3|        491|\n",
      "|           4|        458|\n",
      "|           5|        434|\n",
      "|           6|        407|\n",
      "|           7|        388|\n",
      "|           8|        373|\n",
      "|           9|        346|\n",
      "|          10|        324|\n",
      "|          11|        241|\n",
      "|          12|        260|\n",
      "|          13|        215|\n",
      "|          14|        216|\n",
      "|          15|        200|\n",
      "|          16|        181|\n",
      "|          17|        155|\n",
      "|          18|        175|\n",
      "|          19|        144|\n",
      "|          20|        110|\n",
      "+------------+-----------+\n",
      "only showing top 20 rows\n",
      "\n"
     ]
    },
    {
     "name": "stderr",
     "output_type": "stream",
     "text": [
      "25/07/29 13:21:37 WARN DAGScheduler: Broadcasting large task binary with size 2.1 MiB\n"
     ]
    }
   ],
   "source": [
    "# 1) Select only the timestamp column\n",
    "df_sample = df_resampled_S117.select(\"when\")\n",
    "\n",
    "# 2) Compute contiguous block stats at 60s spacing\n",
    "block_stats = count_contiguous_blocks(df_sample, interval=60)\n",
    "\n",
    "# 3) Inspect\n",
    "block_stats.show()"
   ]
  },
  {
   "cell_type": "code",
   "execution_count": 39,
   "id": "127a96ce-c606-4b71-a820-587c173eda37",
   "metadata": {},
   "outputs": [
    {
     "name": "stderr",
     "output_type": "stream",
     "text": [
      "25/07/29 13:21:37 WARN DAGScheduler: Broadcasting large task binary with size 2.0 MiB\n",
      "25/07/29 13:21:56 WARN DAGScheduler: Broadcasting large task binary with size 2.1 MiB\n",
      "25/07/29 13:22:15 WARN DAGScheduler: Broadcasting large task binary with size 2.1 MiB\n",
      "25/07/29 13:22:15 WARN DAGScheduler: Broadcasting large task binary with size 2.1 MiB\n",
      "25/07/29 13:22:15 WARN DAGScheduler: Broadcasting large task binary with size 2.1 MiB\n",
      "25/07/29 13:22:16 WARN DAGScheduler: Broadcasting large task binary with size 2.1 MiB\n",
      "25/07/29 13:22:16 WARN DAGScheduler: Broadcasting large task binary with size 2.1 MiB\n",
      "25/07/29 13:22:16 WARN DAGScheduler: Broadcasting large task binary with size 2.1 MiB\n",
      "25/07/29 13:22:16 WARN DAGScheduler: Broadcasting large task binary with size 2.1 MiB\n"
     ]
    },
    {
     "data": {
      "image/png": "[encoded data removed]",
      "text/plain": [
       "<Figure size 1000x500 with 1 Axes>"
      ]
     },
     "metadata": {},
     "output_type": "display_data"
    }
   ],
   "source": [
    "# 4) Plot histogram for blocks length 1–1000\n",
    "plot_diff_histogram(block_stats, min_length=1, max_length=100, step=2)"
   ]
  },
  {
   "cell_type": "code",
   "execution_count": null,
   "id": "d373b431-09fb-4be5-b205-237db8c42fb6",
   "metadata": {},
   "outputs": [],
   "source": []
  },
  {
   "cell_type": "code",
   "execution_count": null,
   "id": "041b6528-8c7c-45c1-98b7-d64548d488d1",
   "metadata": {},
   "outputs": [],
   "source": []
  },
  {
   "cell_type": "markdown",
   "id": "8bf311c7-91c5-42c2-b69d-4ce24bee430e",
   "metadata": {
    "jp-MarkdownHeadingCollapsed": true
   },
   "source": [
    "### Con vari metodi riempimento (near,min,max,mean)"
   ]
  },
  {
   "cell_type": "code",
   "execution_count": 52,
   "id": "f6920ce8-101c-4288-aba4-92ff27f528cb",
   "metadata": {},
   "outputs": [],
   "source": [
    "def resample_sensor(\n",
    "    df_hard: DataFrame,\n",
    "    sensor: str,\n",
    "    interval: int = 60,\n",
    "    method: str = \"near\"\n",
    ") -> DataFrame:\n",
    "    \"\"\"\n",
    "    Resample a single sensor column to regular intervals.\n",
    "\n",
    "    Args:\n",
    "      df_hard:   DataFrame with 'when' (in seconds) and the sensor column.\n",
    "      sensor:    name of the sensor column (e.g. 'S117').\n",
    "      interval:  interval in seconds (e.g. 60).\n",
    "      method:    one of 'near', 'min', 'max', 'mean'.\n",
    "\n",
    "    Returns:\n",
    "      DataFrame with columns ['when', sensor, 'time'] at regular timestamps.\n",
    "      All values are non-null. If no data is found for a window, the row is skipped.\n",
    "    \"\"\"\n",
    "    spark = df_hard.sparkSession\n",
    "    half = interval / 2\n",
    "\n",
    "    # Validate method\n",
    "    if method not in (\"near\", \"min\", \"max\", \"mean\"):\n",
    "        raise ValueError(f\"Unsupported method '{method}'. Choose from 'near', 'min', 'max', 'mean'.\")\n",
    "\n",
    "    # 1. Create time grid\n",
    "    bounds = df_hard.selectExpr(\"min(when) as min_t\", \"max(when) as max_t\").first()\n",
    "    min_t, max_t = bounds.min_t, bounds.max_t\n",
    "\n",
    "    grid_df = (\n",
    "        spark.range(1)\n",
    "             .selectExpr(f\"sequence({min_t}, {max_t}, {interval}) as times\")\n",
    "             .select(explode(\"times\").alias(\"target_when\"))\n",
    "    )\n",
    "\n",
    "    # 2. Join with range ± half interval and exclude NULLs before aggregation\n",
    "    filtered = df_hard.select(\"when\", sensor).filter(col(sensor).isNotNull())\n",
    "\n",
    "    joined = (\n",
    "        filtered\n",
    "          .join(\n",
    "              grid_df,\n",
    "              (col(\"when\") >= col(\"target_when\") - half) &\n",
    "              (col(\"when\") <= col(\"target_when\") + half),\n",
    "              how=\"inner\"\n",
    "          )\n",
    "          .withColumn(\"time_diff\", abs_(col(\"when\") - col(\"target_when\")))\n",
    "    )\n",
    "\n",
    "    # 3. Aggregate based on method\n",
    "    if method == \"near\":\n",
    "        agg_expr = min_by(col(sensor), col(\"time_diff\")).alias(sensor)\n",
    "    elif method == \"min\":\n",
    "        agg_expr = spark_min(col(sensor)).alias(sensor)\n",
    "    elif method == \"max\":\n",
    "        agg_expr = spark_max(col(sensor)).alias(sensor)\n",
    "    else:  # mean\n",
    "        agg_expr = spark_avg(col(sensor)).alias(sensor)\n",
    "\n",
    "    result = (\n",
    "        joined.groupBy(\"target_when\")\n",
    "              .agg(agg_expr)\n",
    "    )\n",
    "\n",
    "    # 4. Final formatting\n",
    "    final = (\n",
    "        result\n",
    "          .withColumnRenamed(\"target_when\", \"when\")\n",
    "          .withColumn(\"time\", from_unixtime(col(\"when\")))\n",
    "          .orderBy(\"when\")\n",
    "    )\n",
    "\n",
    "    return final"
   ]
  },
  {
   "cell_type": "code",
   "execution_count": 106,
   "id": "148d2465-73f7-469c-a076-0b632c8148dd",
   "metadata": {},
   "outputs": [],
   "source": [
    "# Nearest‐time fill\n",
    "df_near = resample_sensor(df_hard, \"S117\", interval=60, method=\"near\")\n",
    "df_near.show(5)\n",
    "\n",
    "# Minimum‐value fill\n",
    "df_min = resample_sensor(df_hard, \"S117\", interval=60, method=\"min\")\n",
    "df_min.show(5)\n",
    "\n",
    "# Maximum‐value fill\n",
    "df_max = resample_sensor(df_hard, \"S117\", interval=60, method=\"max\")\n",
    "df_max.show(5)\n",
    "\n",
    "# Mean‐value fill\n",
    "df_mean = resample_sensor(df_hard, \"S117\", interval=60, method=\"mean\")\n",
    "df_mean.show(5)\n",
    "\n",
    "# Invalid method raises:\n",
    "# resample_sensor(df_hard, \"S117\", 60, method=\"median\")\n",
    "# → ValueError: Unsupported method 'median'. Choose from 'near', 'min', 'max', 'mean'."
   ]
  },
  {
   "cell_type": "code",
   "execution_count": null,
   "id": "25499f6d-09e4-4fb4-9a90-b0460fcd5519",
   "metadata": {},
   "outputs": [],
   "source": []
  },
  {
   "cell_type": "code",
   "execution_count": null,
   "id": "775cbdbb-e618-4c4a-a9e2-d0d144bf1c6a",
   "metadata": {},
   "outputs": [],
   "source": []
  },
  {
   "cell_type": "code",
   "execution_count": null,
   "id": "bf4b61fd-e032-4c3c-963e-29e465736e7b",
   "metadata": {},
   "outputs": [],
   "source": []
  },
  {
   "cell_type": "markdown",
   "id": "4ca499f0-111e-48db-b9b9-9e1d54ccbcf6",
   "metadata": {
    "jp-MarkdownHeadingCollapsed": true
   },
   "source": [
    "### Per convertire il sensore binario"
   ]
  },
  {
   "cell_type": "code",
   "execution_count": 47,
   "id": "95fc527f-30c0-4221-bd42-0f2e2e583742",
   "metadata": {},
   "outputs": [],
   "source": [
    "# PROVA MARCO VECCHIA CONVERSIONE SENSORI A5 A9, ricopiata il codice può essere utile\n",
    "# --- OCCHIO --- questo ti pare che faccia la conversione del binario da dx verso sx, dovrebbe essere il contrario\n",
    "\n",
    "# def convert_a5_to_binary_bits(df,sensor):\n",
    "#     df_with_bits = df\n",
    "    \n",
    "#     for i in range(16):\n",
    "#         bit_position = 15 - i  # S1 = bit 15 (leftmost), S16 = bit 0 (rightmost)\n",
    "#         df_with_bits = df_with_bits.withColumn(\n",
    "#             f\"YOLO{i+1}\",\n",
    "#             (  col(sensor).bitwiseAND(1 << bit_position)  > 0 ).cast(\"int\")\n",
    "#         )\n",
    "    \n",
    "#     return df_with_bits\n",
    "\n",
    "# # Usage\n",
    "# df_with_binary = convert_a5_to_binary_bits(df_pivoted,\"A5\")"
   ]
  },
  {
   "cell_type": "code",
   "execution_count": null,
   "id": "6029d797-d124-43ef-8209-ae009d4d055f",
   "metadata": {},
   "outputs": [],
   "source": []
  },
  {
   "cell_type": "code",
   "execution_count": null,
   "id": "31659118-bfe4-4941-8049-7d8de813e0e7",
   "metadata": {},
   "outputs": [],
   "source": []
  },
  {
   "cell_type": "code",
   "execution_count": null,
   "id": "75b3cc88-8ee2-4e66-97e5-a9ee72a2f334",
   "metadata": {},
   "outputs": [],
   "source": []
  },
  {
   "cell_type": "code",
   "execution_count": null,
   "id": "297ddc42-0e1f-4b74-95cf-47772b4b1904",
   "metadata": {},
   "outputs": [],
   "source": []
  },
  {
   "cell_type": "markdown",
   "id": "e4008f36-62bb-4c20-9a6f-5a310152a8fb",
   "metadata": {},
   "source": [
    "# Anomaly Detection"
   ]
  },
  {
   "cell_type": "markdown",
   "id": "8b53382d-ff59-4872-b543-79315fdac955",
   "metadata": {
    "jp-MarkdownHeadingCollapsed": true
   },
   "source": [
    "### Prova Marco sarà da cancellare"
   ]
  },
  {
   "cell_type": "code",
   "execution_count": 40,
   "id": "bba3e04d-c6d4-4477-83ae-97221ac42da0",
   "metadata": {},
   "outputs": [],
   "source": [
    "def detect_switch_anomaly(df, sensor, window_minutes=10, switch_threshold=5):\n",
    "    \"\"\"\n",
    "    Detects frequent switching for binary sensor, partitioned by day to avoid single-node pressure.\n",
    "    \"\"\"\n",
    "\n",
    "    # Extract day (or hour) from timestamp to partition\n",
    "    df = df.withColumn(\"day\", to_date(from_unixtime(col(\"when\"))))\n",
    "\n",
    "    # Lag to get previous value within each partition --- OTHERWISE IT MOVES ALL IN THE SAME PARTITION\n",
    "    w_lag = Window.partitionBy(\"day\").orderBy(\"when\")\n",
    "    df_lagged = df.withColumn(\"prev\", lag(col(sensor)).over(w_lag))\n",
    "\n",
    "    # Detect change 0→1 or 1→0\n",
    "    df_changes = df_lagged.withColumn(\n",
    "        \"change\", when((col(\"prev\") != col(sensor)), 1).otherwise(0)\n",
    "    )\n",
    "\n",
    "    # Rolling window over time with partition\n",
    "    w_time = Window.partitionBy(\"day\").orderBy(\"when\").rangeBetween(-window_minutes * 60, 0)\n",
    "    df_windowed = df_changes.withColumn(\n",
    "        \"change_count\", sum_(\"change\").over(w_time)\n",
    "    )\n",
    "\n",
    "    # Flag anomaly\n",
    "    df_anomaly = df_windowed.withColumn(\n",
    "        \"is_anomaly\", (col(\"change_count\") > switch_threshold)\n",
    "    ).drop(\"prev\", \"change\", \"change_count\", \"day\")\n",
    "\n",
    "    return df_anomaly"
   ]
  },
  {
   "cell_type": "code",
   "execution_count": 41,
   "id": "c849c25c-a75f-494b-b8ac-dcafe6e3ecf7",
   "metadata": {
    "scrolled": true
   },
   "outputs": [
    {
     "name": "stderr",
     "output_type": "stream",
     "text": [
      "25/07/29 13:22:17 WARN DAGScheduler: Broadcasting large task binary with size 2.0 MiB\n",
      "25/07/29 13:22:35 WARN DAGScheduler: Broadcasting large task binary with size 2.1 MiB\n",
      "25/07/29 13:22:54 WARN DAGScheduler: Broadcasting large task binary with size 2.1 MiB\n",
      "25/07/29 13:22:54 WARN DAGScheduler: Broadcasting large task binary with size 2.1 MiB\n",
      "25/07/29 13:22:54 WARN DAGScheduler: Broadcasting large task binary with size 2.1 MiB\n",
      "25/07/29 13:22:55 WARN DAGScheduler: Broadcasting large task binary with size 2.1 MiB\n"
     ]
    },
    {
     "name": "stdout",
     "output_type": "stream",
     "text": [
      "+----------+----+-------------------+----------+\n",
      "|      when|S117|               time|is_anomaly|\n",
      "+----------+----+-------------------+----------+\n",
      "|1602882502|   1|2020-10-16 21:08:22|      true|\n",
      "|1602882562|   1|2020-10-16 21:09:22|      true|\n",
      "|1602882622|   1|2020-10-16 21:10:22|      true|\n",
      "|1602882742|   0|2020-10-16 21:12:22|      true|\n",
      "|1602882802|   0|2020-10-16 21:13:22|      true|\n",
      "|1602882862|   0|2020-10-16 21:14:22|      true|\n",
      "|1602882922|   0|2020-10-16 21:15:22|      true|\n",
      "|1602932722|   1|2020-10-17 11:05:22|      true|\n",
      "|1602932782|   1|2020-10-17 11:06:22|      true|\n",
      "|1602932842|   1|2020-10-17 11:07:22|      true|\n",
      "|1602932902|   0|2020-10-17 11:08:22|      true|\n",
      "|1602932962|   0|2020-10-17 11:09:22|      true|\n",
      "|1602933022|   0|2020-10-17 11:10:22|      true|\n",
      "|1602933082|   0|2020-10-17 11:11:22|      true|\n",
      "|1602933142|   0|2020-10-17 11:12:22|      true|\n",
      "|1602933202|   0|2020-10-17 11:13:22|      true|\n",
      "|1602933262|   0|2020-10-17 11:14:22|      true|\n",
      "|1602933322|   0|2020-10-17 11:15:22|      true|\n",
      "|1602933742|   1|2020-10-17 11:22:22|      true|\n",
      "|1602933802|   1|2020-10-17 11:23:22|      true|\n",
      "+----------+----+-------------------+----------+\n",
      "only showing top 20 rows\n",
      "\n"
     ]
    }
   ],
   "source": [
    "df_anom = detect_switch_anomaly(\n",
    "  df_resampled_S117,\n",
    "  sensor=\"S117\",\n",
    "  window_minutes=60,\n",
    "  switch_threshold=6\n",
    ")\n",
    "df_anom.filter(\"is_anomaly\").show()"
   ]
  },
  {
   "cell_type": "code",
   "execution_count": 42,
   "id": "9d81b03a-aecd-46ae-aa92-d7ff6b6a7bdc",
   "metadata": {},
   "outputs": [],
   "source": [
    "ini = 1602882742-50*60"
   ]
  },
  {
   "cell_type": "code",
   "execution_count": 43,
   "id": "792ce942-07b8-49df-8664-b7dcba64f216",
   "metadata": {},
   "outputs": [],
   "source": [
    "fine =1602882742+50*60"
   ]
  },
  {
   "cell_type": "code",
   "execution_count": 44,
   "id": "979993d2-4313-4a1f-988c-156c1c6e7e0e",
   "metadata": {
    "scrolled": true
   },
   "outputs": [
    {
     "name": "stderr",
     "output_type": "stream",
     "text": [
      "25/07/29 13:22:55 WARN DAGScheduler: Broadcasting large task binary with size 2.0 MiB\n",
      "25/07/29 13:23:12 WARN DAGScheduler: Broadcasting large task binary with size 2.1 MiB\n"
     ]
    },
    {
     "name": "stdout",
     "output_type": "stream",
     "text": [
      "+-------------------+----------+----+\n",
      "|               time|      when|S117|\n",
      "+-------------------+----------+----+\n",
      "|2020-10-16 20:22:22|1602879742|   0|\n",
      "|2020-10-16 20:23:22|1602879802|   0|\n",
      "|2020-10-16 20:24:22|1602879862|   0|\n",
      "|2020-10-16 20:25:22|1602879922|   0|\n",
      "|2020-10-16 20:26:22|1602879982|   0|\n",
      "|2020-10-16 20:27:22|1602880042|   0|\n",
      "|2020-10-16 20:28:22|1602880102|   1|\n",
      "|2020-10-16 20:29:22|1602880162|   1|\n",
      "|2020-10-16 20:30:22|1602880222|   1|\n",
      "|2020-10-16 20:31:22|1602880282|   1|\n",
      "|2020-10-16 20:32:22|1602880342|   0|\n",
      "|2020-10-16 20:33:22|1602880402|   0|\n",
      "|2020-10-16 20:34:22|1602880462|   0|\n",
      "|2020-10-16 20:35:22|1602880522|   0|\n",
      "|2020-10-16 20:36:22|1602880582|   0|\n",
      "|2020-10-16 20:37:22|1602880642|   0|\n",
      "|2020-10-16 20:38:22|1602880702|   0|\n",
      "|2020-10-16 20:39:22|1602880762|   0|\n",
      "|2020-10-16 20:40:22|1602880822|   0|\n",
      "|2020-10-16 20:41:22|1602880882|   0|\n",
      "|2020-10-16 20:42:22|1602880942|   0|\n",
      "|2020-10-16 20:43:22|1602881002|   0|\n",
      "|2020-10-16 20:44:22|1602881062|   0|\n",
      "|2020-10-16 20:45:22|1602881122|   0|\n",
      "|2020-10-16 20:46:22|1602881182|   0|\n",
      "|2020-10-16 20:47:22|1602881242|   0|\n",
      "|2020-10-16 20:48:22|1602881302|   0|\n",
      "|2020-10-16 20:49:22|1602881362|   0|\n",
      "|2020-10-16 20:50:22|1602881422|   0|\n",
      "|2020-10-16 20:51:22|1602881482|   1|\n",
      "|2020-10-16 20:52:22|1602881542|   1|\n",
      "|2020-10-16 20:53:22|1602881602|   1|\n",
      "|2020-10-16 20:54:22|1602881662|   1|\n",
      "|2020-10-16 20:55:22|1602881722|   0|\n",
      "|2020-10-16 20:56:22|1602881782|   0|\n",
      "|2020-10-16 20:57:22|1602881842|   0|\n",
      "|2020-10-16 20:58:22|1602881902|   0|\n",
      "|2020-10-16 20:59:22|1602881962|   0|\n",
      "|2020-10-16 21:01:22|1602882082|   0|\n",
      "|2020-10-16 21:02:22|1602882142|   0|\n",
      "|2020-10-16 21:03:22|1602882202|   0|\n",
      "|2020-10-16 21:04:22|1602882262|   0|\n",
      "|2020-10-16 21:05:22|1602882322|   0|\n",
      "|2020-10-16 21:06:22|1602882382|   0|\n",
      "|2020-10-16 21:07:22|1602882442|   0|\n",
      "|2020-10-16 21:08:22|1602882502|   1|\n",
      "|2020-10-16 21:09:22|1602882562|   1|\n",
      "|2020-10-16 21:10:22|1602882622|   1|\n",
      "|2020-10-16 21:12:22|1602882742|   0|\n",
      "|2020-10-16 21:13:22|1602882802|   0|\n",
      "|2020-10-16 21:14:22|1602882862|   0|\n",
      "|2020-10-16 21:15:22|1602882922|   0|\n",
      "|2020-10-16 21:16:22|1602882982|   0|\n",
      "|2020-10-16 21:17:22|1602883042|   0|\n",
      "|2020-10-16 21:18:22|1602883102|   0|\n",
      "|2020-10-16 21:19:22|1602883162|   0|\n",
      "|2020-10-16 21:21:22|1602883282|   0|\n",
      "|2020-10-16 21:22:22|1602883342|   0|\n",
      "|2020-10-16 21:23:22|1602883402|   0|\n",
      "|2020-10-16 21:24:22|1602883462|   0|\n",
      "|2020-10-16 21:25:22|1602883522|   0|\n",
      "|2020-10-16 21:26:22|1602883582|   0|\n",
      "|2020-10-16 21:27:22|1602883642|   0|\n",
      "|2020-10-16 21:28:22|1602883702|   0|\n",
      "|2020-10-16 21:30:22|1602883822|   0|\n",
      "|2020-10-16 21:31:22|1602883882|   0|\n",
      "|2020-10-16 21:32:22|1602883942|   0|\n",
      "|2020-10-16 21:33:22|1602884002|   0|\n",
      "|2020-10-16 21:34:22|1602884062|   0|\n",
      "|2020-10-16 21:35:22|1602884122|   0|\n",
      "|2020-10-16 21:36:22|1602884182|   0|\n",
      "|2020-10-16 21:37:22|1602884242|   0|\n",
      "|2020-10-16 21:38:22|1602884302|   0|\n",
      "|2020-10-16 21:39:22|1602884362|   0|\n",
      "|2020-10-16 21:40:22|1602884422|   0|\n",
      "|2020-10-16 21:41:22|1602884482|   0|\n",
      "|2020-10-16 21:42:22|1602884542|   0|\n",
      "|2020-10-16 21:44:22|1602884662|   0|\n",
      "|2020-10-16 21:45:22|1602884722|   0|\n",
      "|2020-10-16 21:46:22|1602884782|   0|\n",
      "|2020-10-16 21:47:22|1602884842|   0|\n",
      "|2020-10-16 21:48:22|1602884902|   0|\n",
      "|2020-10-16 21:50:22|1602885022|   0|\n",
      "|2020-10-16 21:51:22|1602885082|   0|\n",
      "|2020-10-16 21:52:22|1602885142|   0|\n",
      "|2020-10-16 21:53:22|1602885202|   0|\n",
      "|2020-10-16 21:54:22|1602885262|   0|\n",
      "|2020-10-16 21:55:22|1602885322|   0|\n",
      "|2020-10-16 21:56:22|1602885382|   0|\n",
      "|2020-10-16 21:57:22|1602885442|   1|\n",
      "|2020-10-16 21:58:22|1602885502|   1|\n",
      "|2020-10-16 21:59:22|1602885562|   1|\n",
      "|2020-10-16 22:00:22|1602885622|   1|\n",
      "|2020-10-16 22:01:22|1602885682|   1|\n",
      "+-------------------+----------+----+\n",
      "\n"
     ]
    },
    {
     "name": "stderr",
     "output_type": "stream",
     "text": [
      "25/07/29 13:23:13 WARN DAGScheduler: Broadcasting large task binary with size 2.1 MiB\n",
      "                                                                                "
     ]
    }
   ],
   "source": [
    "inspect(df_resampled_S117, sensors=[\"S117\"], start=ini, end=fine).show(100)"
   ]
  },
  {
   "cell_type": "code",
   "execution_count": null,
   "id": "5c28753c-c068-4334-84de-1b6e141a9603",
   "metadata": {},
   "outputs": [],
   "source": []
  },
  {
   "cell_type": "markdown",
   "id": "299f715d-63c1-4925-8f41-7bfc13ec3abe",
   "metadata": {},
   "source": [
    "# Anomaly detection (Raffaele)"
   ]
  },
  {
   "cell_type": "code",
   "execution_count": 49,
   "id": "44f9a30b-b7f2-49a2-9928-511fb064bd5f",
   "metadata": {},
   "outputs": [],
   "source": [
    "def resample_sensors(df, sensors, time_int):\n",
    "    '''\n",
    "    Crea dataframe con sensori ricampionati. \n",
    "    '''\n",
    "    # Trovo istante iniziale\n",
    "    min_time = df.agg(spark_min(unix_timestamp('time')).alias('min_time')).collect()[0]['min_time']\n",
    "\n",
    "    # Creo lista di aggregatori da usare per mediare i dati vicini di ogni colonna\n",
    "    aggs = [mode(col(s)).alias(f\"mode_{s}\") for s in sensors] # mode prende il valore più frequente nel gruppo\n",
    "\n",
    "    # Creo df dove ogni dato della stessa colonna in [t, t+time_int] è mediato\n",
    "    resampled_df = df \\\n",
    "        .select('time', *sensors) \\\n",
    "        .withColumn('window_idx', spark_round((unix_timestamp(col('time'))-min_time)/time_int)) \\\n",
    "        .groupBy('window_idx').agg(*aggs) \\\n",
    "        .withColumn('sampling_time', from_unixtime(col('window_idx')*time_int + min_time)) \\\n",
    "        .withColumn('when', unix_timestamp(col('sampling_time'))) \\\n",
    "        .orderBy('sampling_time')\n",
    "    return resampled_df\n",
    "\n",
    "\n",
    "############################################################################\n",
    "\n",
    "\n",
    "def detect_switch_anomalies(df, sensors, window_minutes=10, switch_threshold=5):\n",
    "    \"\"\"\n",
    "    Detects frequent switching for binary sensors, partitioned by day to avoid single-node pressure.\n",
    "    \"\"\"\n",
    "\n",
    "    # Extract day (or hour) from timestamp to partition\n",
    "    df = df.withColumn(\"day\", to_date(col('sampling_time')))\n",
    "\n",
    "    # Lag to get previous value within each partition --- OTHERWISE IT MOVES ALL IN THE SAME PARTITION\n",
    "    w_lag = Window.partitionBy(\"day\").orderBy(\"when\")\n",
    "    lagged_columns = [lag(col(s)).over(w_lag) for s in sensors] # per ogni sensore prendo le righe shiftate di 1 all'indietro\n",
    "    lag_names      = [f\"lagged_{s}\" for s in sensors]\n",
    "    \n",
    "    df_lagged = df.withColumns(dict(zip(lag_names, lagged_columns)))\n",
    "\n",
    "    # Detect change 0→1 or 1→0\n",
    "    didSwitch   = [when((col(f\"lagged_{s}\") != col(s)), 1).otherwise(0) for s in sensors] # per ogni sensore verifico se il valore è cambiato rispetto al precedente \n",
    "    switch_names = [f\"switch_{s}\" for s in sensors]\n",
    "    \n",
    "    df_changes = df_lagged.withColumns(dict(zip(switch_names, didSwitch)))\n",
    "\n",
    "    # Rolling window over time with partition\n",
    "    w_time = Window.partitionBy(\"day\").orderBy(\"when\").rangeBetween(-window_minutes * 60, 0)\n",
    "    change_counts = [sum_(f\"switch_{s}\").over(w_time) for s in sensors]\n",
    "    counts_names  = [f\"change_count_{s}\" for s in sensors]\n",
    "    \n",
    "    df_windowed = df_changes.withColumns(dict(zip(counts_names, change_counts)))\n",
    "\n",
    "    # Flag anomaly\n",
    "    anomalies       = [col(f\"change_count_{s}\") > switch_threshold for s in sensors]\n",
    "    anomalies_names = [f\"{s}_anomaly\" for s in sensors]\n",
    "    \n",
    "    df_anomaly = df_windowed \\\n",
    "    .withColumns(dict(zip(anomalies_names, anomalies))) \\\n",
    "    .drop(*lag_names, *switch_names, *counts_names, \"day\", \"when\", \"window_idx\")\n",
    "\n",
    "    return df_anomaly"
   ]
  },
  {
   "cell_type": "code",
   "execution_count": 50,
   "id": "545b4d46-3a5c-4a13-8863-36d7f2a0cd4b",
   "metadata": {
    "scrolled": true
   },
   "outputs": [
    {
     "name": "stderr",
     "output_type": "stream",
     "text": [
      "[Stage 162:===================================================> (194 + 2) / 200]"
     ]
    },
    {
     "name": "stdout",
     "output_type": "stream",
     "text": [
      "+----------+---------+---------+---------+---------+-------------------+----------+\n",
      "|window_idx|mode_S117|mode_S118|mode_S169|mode_S170|sampling_time      |when      |\n",
      "+----------+---------+---------+---------+---------+-------------------+----------+\n",
      "|0.0       |0        |1        |0        |1        |2020-10-01 00:00:22|1601510422|\n",
      "|1.0       |0        |1        |0        |1        |2020-10-01 00:01:22|1601510482|\n",
      "|2.0       |0        |1        |0        |1        |2020-10-01 00:02:22|1601510542|\n",
      "|3.0       |0        |1        |0        |1        |2020-10-01 00:03:22|1601510602|\n",
      "|4.0       |0        |1        |0        |1        |2020-10-01 00:04:22|1601510662|\n",
      "|5.0       |0        |1        |0        |1        |2020-10-01 00:05:22|1601510722|\n",
      "|6.0       |0        |1        |0        |1        |2020-10-01 00:06:22|1601510782|\n",
      "|7.0       |0        |1        |1        |1        |2020-10-01 00:07:22|1601510842|\n",
      "|8.0       |0        |1        |1        |0        |2020-10-01 00:08:22|1601510902|\n",
      "|9.0       |0        |1        |1        |0        |2020-10-01 00:09:22|1601510962|\n",
      "+----------+---------+---------+---------+---------+-------------------+----------+\n",
      "only showing top 10 rows\n",
      "\n",
      "CPU times: user 5.57 ms, sys: 7.84 ms, total: 13.4 ms\n",
      "Wall time: 2.95 s\n"
     ]
    },
    {
     "name": "stderr",
     "output_type": "stream",
     "text": [
      "                                                                                "
     ]
    }
   ],
   "source": [
    "%%time\n",
    "sensors = ['S117', 'S118', 'S169', 'S170']\n",
    "new_df = resample_sensors(df_hard, sensors, 60)\n",
    "new_df.show(10, truncate=False)"
   ]
  },
  {
   "cell_type": "code",
   "execution_count": 51,
   "id": "49728a35-64fc-4b0e-a6ad-08cd647d26cc",
   "metadata": {},
   "outputs": [
    {
     "name": "stderr",
     "output_type": "stream",
     "text": [
      "                                                                                "
     ]
    },
    {
     "name": "stdout",
     "output_type": "stream",
     "text": [
      "+---------+---------+---------+---------+-------------------+-----------------+-----------------+-----------------+-----------------+\n",
      "|mode_S117|mode_S118|mode_S169|mode_S170|sampling_time      |mode_S117_anomaly|mode_S118_anomaly|mode_S169_anomaly|mode_S170_anomaly|\n",
      "+---------+---------+---------+---------+-------------------+-----------------+-----------------+-----------------+-----------------+\n",
      "|1        |1        |0        |1        |2020-10-16 20:11:22|true             |false            |false            |false            |\n",
      "|1        |1        |0        |1        |2020-10-16 20:12:22|true             |false            |false            |false            |\n",
      "|1        |1        |1        |1        |2020-10-16 20:51:22|true             |false            |false            |false            |\n",
      "|1        |1        |1        |0        |2020-10-16 20:52:22|true             |false            |false            |false            |\n",
      "|1        |1        |1        |0        |2020-10-16 20:53:22|true             |false            |false            |false            |\n",
      "|1        |1        |1        |0        |2020-10-16 20:54:22|true             |false            |false            |false            |\n",
      "|0        |1        |1        |0        |2020-10-16 20:55:22|true             |false            |false            |false            |\n",
      "|0        |1        |1        |0        |2020-10-16 20:56:22|true             |false            |false            |false            |\n",
      "|0        |1        |1        |0        |2020-10-16 20:57:22|true             |false            |false            |false            |\n",
      "|0        |1        |1        |0        |2020-10-16 20:58:22|true             |false            |false            |false            |\n",
      "|0        |1        |NULL     |NULL     |2020-10-16 20:59:22|true             |false            |false            |false            |\n",
      "|0        |1        |1        |0        |2020-10-16 21:01:22|true             |false            |false            |false            |\n",
      "|1        |0        |0        |1        |2020-10-16 21:08:22|true             |false            |false            |false            |\n",
      "|1        |0        |0        |1        |2020-10-16 21:09:22|true             |false            |false            |false            |\n",
      "|1        |0        |0        |1        |2020-10-16 21:10:22|true             |false            |false            |false            |\n",
      "|0        |1        |0        |1        |2020-10-16 21:12:22|true             |false            |false            |false            |\n",
      "|0        |1        |0        |1        |2020-10-16 21:13:22|true             |false            |false            |false            |\n",
      "|0        |1        |0        |1        |2020-10-16 21:14:22|true             |false            |false            |false            |\n",
      "|0        |1        |0        |1        |2020-10-16 21:15:22|true             |false            |false            |false            |\n",
      "|1        |1        |1        |0        |2020-10-17 11:05:22|true             |false            |false            |false            |\n",
      "+---------+---------+---------+---------+-------------------+-----------------+-----------------+-----------------+-----------------+\n",
      "only showing top 20 rows\n",
      "\n",
      "CPU times: user 8.67 ms, sys: 8.38 ms, total: 17.1 ms\n",
      "Wall time: 3.08 s\n"
     ]
    },
    {
     "name": "stderr",
     "output_type": "stream",
     "text": [
      "                                                                                "
     ]
    }
   ],
   "source": [
    "%%time\n",
    "anomalies = detect_switch_anomalies(\n",
    "  new_df,\n",
    "  sensors=[f\"mode_{s}\" for s in sensors],\n",
    "  window_minutes=60,\n",
    "  switch_threshold=6\n",
    ")\n",
    "\n",
    "# Per confronto vediamo se le anomalie del S117 corrispondono a quelle del metodo di Marco:\n",
    "anomalies \\\n",
    "    .filter(\"mode_S117_anomaly\") \\\n",
    "    .show(truncate=False)\n",
    "\n",
    "# Questo non va ancora\n",
    "#filters = [col(f\"mode_{s}_anomaly\") for s in sensors] \n",
    "#total_filter = filters[0]\n",
    "#for i in range(1, len(filters)):\n",
    "#    total_filter = total_filter & filters[i]\n"
   ]
  },
  {
   "cell_type": "code",
   "execution_count": 55,
   "id": "cbb4ae3f-7772-4400-9541-bc41f9f587d2",
   "metadata": {},
   "outputs": [],
   "source": [
    "def plot_anomaly_hist(df, sensors, time_start, time_end):\n",
    "    '''\n",
    "    Plotta il numero di anomalie al giorno per ogni sensore, nell'arco di tempo [time_start, time_end]\n",
    "    '''\n",
    "\n",
    "    casts = [col(f'mode_{s}_anomaly').cast('Int') for s in sensors] # per convertire i booleani in mode_S_anomaly in 0/1 \n",
    "    aggs = [sum_(col(f'mode_{s}_anomaly')).alias(f'anomaly_count_{s}') for s in sensors] # per contare le anomalie ogni giorno\n",
    "\n",
    "    new_df = df \\\n",
    "    .select('sampling_time', *[f\"mode_{s}_anomaly\" for s in sensors]) \\\n",
    "    .filter(unix_timestamp(col('sampling_time')).between(time_start, time_end)) \\\n",
    "    .withColumn('day', to_date(col('sampling_time'))) \\\n",
    "    .withColumns(dict(zip([f'mode_{s}_anomaly' for s in sensors], casts))) \\\n",
    "    .groupBy('day').agg(*aggs) \\\n",
    "    .orderBy('day')\n",
    "\n",
    "    n_sensors = len(sensors)\n",
    "    fig, axes = plt.subplots(ceil(n_sensors/2), 2, figsize=(20, 5))\n",
    "    days = new_df.select('day').rdd.flatMap(lambda x: x).collect()\n",
    "    for i in range(n_sensors):\n",
    "        counts = new_df.select(f'anomaly_count_{sensors[i]}').rdd.flatMap(lambda x: x).collect()\n",
    "        idx = i if n_sensors <= 2 else (i//2, i%2)\n",
    "        axes[idx].bar(days, counts)\n",
    "        axes[idx].set_title(f'anomaly_count_{sensors[i]}')\n",
    "        axes[idx].set(xlabel=\"day\", ylabel=\"counts\")\n",
    "        #print(sensors[i], counts)\n",
    "    fig.tight_layout()\n",
    "  "
   ]
  },
  {
   "cell_type": "code",
   "execution_count": 56,
   "id": "c8e15d87-3ea8-426e-b432-5a94d04aed75",
   "metadata": {},
   "outputs": [
    {
     "name": "stderr",
     "output_type": "stream",
     "text": [
      "                                                                                "
     ]
    },
    {
     "data": {
      "image/png": "[encoded data removed]",
      "text/plain": [
       "<Figure size 2000x500 with 4 Axes>"
      ]
     },
     "metadata": {},
     "output_type": "display_data"
    }
   ],
   "source": [
    "plot_anomaly_hist(anomalies, ['S117', 'S118', 'S169', 'S170'], 1602879000, 1602879000+10000000)  "
   ]
  },
  {
   "cell_type": "code",
   "execution_count": null,
   "id": "c63f463a-5d59-43b2-854e-f69d3d866df8",
   "metadata": {},
   "outputs": [],
   "source": []
  },
  {
   "cell_type": "code",
   "execution_count": null,
   "id": "916f98d6-1af1-4e82-8c7e-46b25d3b9479",
   "metadata": {},
   "outputs": [],
   "source": []
  },
  {
   "cell_type": "markdown",
   "id": "67fecb82-d909-4dc6-a026-16d5347faaa7",
   "metadata": {},
   "source": [
    "# Predictive Maintenance"
   ]
  },
  {
   "cell_type": "code",
   "execution_count": null,
   "id": "4f7b6c25-4344-4d39-b74f-886da19b1aa1",
   "metadata": {},
   "outputs": [],
   "source": []
  },
  {
   "cell_type": "code",
   "execution_count": null,
   "id": "7ff72c85-a4cb-4486-adf4-4bb541f5e867",
   "metadata": {},
   "outputs": [],
   "source": []
  },
  {
   "cell_type": "code",
   "execution_count": null,
   "id": "c282937a-70c2-4cd6-a0f3-85864215978e",
   "metadata": {},
   "outputs": [],
   "source": []
  },
  {
   "cell_type": "code",
   "execution_count": null,
   "id": "9167f121-b1ef-4e2c-bf48-07f55a14afad",
   "metadata": {},
   "outputs": [],
   "source": []
  },
  {
   "cell_type": "code",
   "execution_count": null,
   "id": "7604ef5e-bbb2-4528-ab5c-b6901b18a4a6",
   "metadata": {},
   "outputs": [],
   "source": []
  },
  {
   "cell_type": "code",
   "execution_count": null,
   "id": "1d2a8d74-a326-4733-a3f7-157b2b1ad302",
   "metadata": {},
   "outputs": [],
   "source": []
  },
  {
   "cell_type": "code",
   "execution_count": null,
   "id": "48c34c12-7e6b-44c1-99be-3a8635e2a905",
   "metadata": {},
   "outputs": [],
   "source": []
  },
  {
   "cell_type": "code",
   "execution_count": null,
   "id": "ba7593e0-7c05-4ff3-a3b8-6f0f6f24ce16",
   "metadata": {},
   "outputs": [],
   "source": []
  },
  {
   "cell_type": "markdown",
   "id": "2930c16b-276b-4e9a-b7b2-78a9e82c0776",
   "metadata": {},
   "source": [
    "# *** Remember to close Spark Session ***"
   ]
  },
  {
   "cell_type": "code",
   "execution_count": 45,
   "id": "5e33c131-fe4d-4135-8844-5d1015fb0eb9",
   "metadata": {},
   "outputs": [],
   "source": [
    "spark.stop()"
   ]
  },
  {
   "cell_type": "code",
   "execution_count": null,
   "id": "88f2f446-cd02-4d0d-a3d9-f501963a87be",
   "metadata": {},
   "outputs": [],
   "source": []
  },
  {
   "cell_type": "code",
   "execution_count": null,
   "id": "a41fcced-1f35-4f53-b9bc-ba8e97617d51",
   "metadata": {},
   "outputs": [],
   "source": []
  },
  {
   "cell_type": "code",
   "execution_count": null,
   "id": "57265f1f-2d05-47e5-8427-099e79949cb9",
   "metadata": {},
   "outputs": [],
   "source": []
  }
 ],
 "metadata": {
  "kernelspec": {
   "display_name": "Python 3 (ipykernel)",
   "language": "python",
   "name": "python3"
  },
  "language_info": {
   "codemirror_mode": {
    "name": "ipython",
    "version": 3
   },
   "file_extension": ".py",
   "mimetype": "text/x-python",
   "name": "python",
   "nbconvert_exporter": "python",
   "pygments_lexer": "ipython3",
   "version": "3.13.2"
  }
 },
 "nbformat": 4,
 "nbformat_minor": 5
}
