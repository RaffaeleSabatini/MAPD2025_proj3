{
 "cells": [
  {
   "cell_type": "code",
   "execution_count": 2,
   "id": "d01d742e-2c08-4f76-9e6c-2a8c61976f14",
   "metadata": {},
   "outputs": [
    {
     "data": {
      "text/plain": [
       "0"
      ]
     },
     "execution_count": 2,
     "metadata": {},
     "output_type": "execute_result"
    }
   ],
   "source": [
    "# Pulizia delle cache (rimuove se ci sono dataframe persistati)\n",
    "\n",
    "#spark.catalog.clearCache()\n",
    "import gc\n",
    "gc.collect()"
   ]
  },
  {
   "cell_type": "code",
   "execution_count": 46,
   "id": "efd5c59d-1172-405a-bafe-4754d41f8414",
   "metadata": {},
   "outputs": [],
   "source": [
    "spark.stop()"
   ]
  },
  {
   "cell_type": "code",
   "execution_count": 4,
   "id": "c732a165-f0e4-4a4d-bda7-8d878cccce4d",
   "metadata": {},
   "outputs": [],
   "source": [
    "SparkUI = 4040\n",
    "# nicolò 4040\n",
    "# marco  4041\n",
    "# francesco 4042\n",
    "# raffaele  4043\n",
    "user = \"user_a\" # \"user_a\" \"user_b\" (B SE SI E' I SECONDI A LAVORARCI)\n",
    "core = 16\n",
    "Npartition = 4*core # Regola generale: numero_partizioni = numero_core * (2 o 4)"
   ]
  },
  {
   "cell_type": "markdown",
   "id": "233dd9bb-da1c-477d-898e-045d7c8589d3",
   "metadata": {},
   "source": [
    "sudo pkill -u $(whoami) -f \"jupyter-notebook\""
   ]
  },
  {
   "cell_type": "markdown",
   "id": "37d92118-3f45-4d38-a2a9-730f57634aac",
   "metadata": {},
   "source": [
    "# Setting Spark Session"
   ]
  },
  {
   "cell_type": "code",
   "execution_count": 5,
   "id": "33a28d44-c369-4659-a27f-36556398bf56",
   "metadata": {},
   "outputs": [],
   "source": [
    "import os\n",
    "import numpy as np\n",
    "import pandas as pd\n",
    "from math import ceil\n",
    "import matplotlib.pyplot as plt\n",
    "from joblib import Parallel, delayed\n",
    "\n",
    "from pyspark import SparkFiles\n",
    "from pyspark.sql import SparkSession, DataFrame, Window\n",
    "from pyspark.sql.types import StructType, StructField, IntegerType, DoubleType, TimestampType, BooleanType\n",
    "\n",
    "from pyspark.sql.functions import (\n",
    "    coalesce, corr, array, countDistinct, approx_count_distinct,\n",
    "    col, lit, expr, when, count, count_if, row_number, sum as spark_sum, abs as spark_abs,\n",
    "    round as spark_round, min as spark_min, max as spark_max, avg as spark_avg,\n",
    "    first, last, lag, lead, row_number, desc, asc, bool_or, floor,\n",
    "    explode, sequence, from_unixtime, to_date, unix_timestamp,\n",
    "    window, min_by, mode, concat, monotonically_increasing_id, mean\n",
    ")"
   ]
  },
  {
   "cell_type": "code",
   "execution_count": 6,
   "id": "e8b76336-8f50-45ca-8605-531a1f1e9817",
   "metadata": {
    "scrolled": true
   },
   "outputs": [
    {
     "name": "stderr",
     "output_type": "stream",
     "text": [
      "Setting default log level to \"WARN\".\n",
      "To adjust logging level use sc.setLogLevel(newLevel). For SparkR, use setLogLevel(newLevel).\n",
      "25/08/18 17:09:33 WARN NativeCodeLoader: Unable to load native-hadoop library for your platform... using builtin-java classes where applicable\n"
     ]
    }
   ],
   "source": [
    "os.environ[\"PYSPARK_PYTHON\"] = \"/opt/miniconda3/bin/python\"\n",
    "os.environ[\"PYSPARK_DRIVER_PYTHON\"] = \"/opt/miniconda3/bin/python\"\n",
    "\n",
    "configs = {\n",
    "   \"spark.scheduler.mode\": \"FAIR\",                                  # Multi-user scheduler\n",
    "   \"spark.scheduler.pool\": user,                                    # User pool\n",
    "   \"spark.scheduler.allocation.file\": \"file:///usr/local/spark/conf/fairscheduler.xml\",  # Scheduler config file\n",
    "   \"spark.executor.memory\": \"3000m\",                                # Executor RAM\n",
    "   \"spark.cores.max\": core,                                         # Total cores\n",
    "   \"spark.sql.shuffle.partitions\": Npartition,                      # Shuffle partitions\n",
    "   \"spark.sql.execution.arrow.pyspark.enabled\": \"true\",             # Enable Arrow\n",
    "   \"spark.sql.execution.arrow.pyspark.fallback.enabled\": \"false\",   # No Arrow fallback\n",
    "   \"spark.dynamicAllocation.enabled\": \"false\",                      # No dynamic allocation\n",
    "   \"spark.shuffle.service.enabled\": \"false\",                        # No shuffle service\n",
    "   \"spark.ui.port\": SparkUI,                                        # Custom UI port\n",
    "   \"spark.sql.debug.maxToStringFields\": 1000                        # Debug fields limit\n",
    "}\n",
    "\n",
    "spark_builder = SparkSession.builder \\\n",
    "   .appName(\"ProjectCloudVeneto\") \\\n",
    "   .master(\"spark://10.67.22.135:7077\")\n",
    "\n",
    "for key, value in configs.items():\n",
    "   spark_builder = spark_builder.config(key, value)\n",
    "\n",
    "spark = spark_builder.getOrCreate()\n",
    "\n",
    "sc = spark.sparkContext"
   ]
  },
  {
   "cell_type": "markdown",
   "id": "600f2a22-ef59-4e77-a9fa-8a753ba23f97",
   "metadata": {},
   "source": [
    "# SEGUENTI TRE CELLE SARANNO DA CANCELLARE SERVONO A NOI ORA PER LAVORARE (si crea e legge i vari df_final)"
   ]
  },
  {
   "cell_type": "code",
   "execution_count": null,
   "id": "800c3c28-b56a-4088-9bad-1cd654e538f5",
   "metadata": {},
   "outputs": [],
   "source": [
    "# %%time\n",
    "# -----  PER CREARE I FILES df_final DEGLI HW (SOVRASCRIVE IL FILE) -----\n",
    "# try:\n",
    "#     pandas_df = df_final.toPandas()\n",
    "#     file_path = f\"/mnt/shared/df_final_{hardware}.csv\"\n",
    "#     pandas_df.to_csv(file_path, index=False, header=True)\n",
    "#     os.chmod(file_path, 0o775) # Imposta permessi\n",
    "#     print(f\"File creato e permessi impostati: {file_path}\")\n",
    "# except Exception as e:\n",
    "#     print(f\"Errore: {e}\")"
   ]
  },
  {
   "cell_type": "code",
   "execution_count": null,
   "id": "4ef5c215-10b9-4094-82fe-101a101c2639",
   "metadata": {},
   "outputs": [],
   "source": [
    "# hardware = \"SW-106\"\n",
    "# df_saved = spark.read.option(\"header\", True).option(\"inferSchema\", True).csv(f\"/mnt/shared/df_final_{hardware}.csv\").repartition(Npartition)\n",
    "# df_casted = df_saved.select(*[col(c).cast(\"int\").alias(c) if isinstance(f.dataType, DoubleType) else col(c) for c, f in zip(df_saved.columns, df_saved.schema.fields)])\n",
    "# df_final = df_casted\n",
    "# df_final = df_final.persist()\n",
    "# df_final.count()"
   ]
  },
  {
   "cell_type": "code",
   "execution_count": 7,
   "id": "0a086615-8658-4445-8e2c-db5b27608457",
   "metadata": {},
   "outputs": [
    {
     "name": "stdout",
     "output_type": "stream",
     "text": [
      "['A5', 'A9', 'ComError', 'P1', 'P10', 'P15', 'P16', 'P17', 'P18', 'P2', 'P5', 'P6', 'P7', 'P8', 'P9', 'S1', 'S10', 'S100', 'S101', 'S102', 'S106', 'S107', 'S108', 'S109', 'S11', 'S110', 'S112', 'S113', 'S114', 'S115', 'S117', 'S118', 'S122', 'S123', 'S124', 'S125', 'S126', 'S127', 'S128', 'S129', 'S130', 'S137', 'S138', 'S140', 'S143', 'S147', 'S15', 'S151', 'S154', 'S157', 'S158', 'S159', 'S16', 'S163', 'S164', 'S165', 'S166', 'S167', 'S169', 'S17', 'S170', 'S171', 'S172', 'S173', 'S174', 'S175', 'S176', 'S178', 'S179', 'S180', 'S181', 'S183', 'S19', 'S2', 'S201', 'S202', 'S203', 'S204', 'S205', 'S206', 'S25', 'S3', 'S33', 'S34', 'S35', 'S37', 'S39', 'S40', 'S41', 'S42', 'S43', 'S45', 'S46', 'S47', 'S49', 'S5', 'S50', 'S53', 'S54', 'S55', 'S56', 'S57', 'S6', 'S63', 'S64', 'S69', 'S7', 'S70', 'S71', 'S72', 'S73', 'S8', 'S80', 'S81', 'S83', 'S86', 'S9', 'S90', 'S94', 'S97', 'SA1', 'SA10', 'SA11', 'SA12', 'SA2', 'SA3', 'SA4', 'SA5', 'SA6', 'SA7', 'SA8', 'SA9', 'SW']\n"
     ]
    }
   ],
   "source": [
    "sensors = ['A5', 'A9', 'ComError', 'P1', 'P10', 'P15', 'P16', 'P17', 'P18', 'P2', 'P5', 'P6', 'P7', 'P8', 'P9', 'S1', 'S10', 'S100', 'S101', 'S102', 'S106', 'S107', 'S108', 'S109', 'S11', 'S110', 'S112', 'S113', 'S114', 'S115', 'S117', 'S118', 'S122', 'S123', 'S124', 'S125', 'S126', 'S127', 'S128', 'S129', 'S130', 'S137', 'S138', 'S140', 'S143', 'S147', 'S15', 'S151', 'S154', 'S157', 'S158', 'S159', 'S16', 'S163', 'S164', 'S165', 'S166', 'S167', 'S169', 'S17', 'S170', 'S171', 'S172', 'S173', 'S174', 'S175', 'S176', 'S178', 'S179', 'S180', 'S181', 'S183', 'S19', 'S2', 'S201', 'S202', 'S203', 'S204', 'S205', 'S206', 'S25', 'S3', 'S33', 'S34', 'S35', 'S37', 'S39', 'S40', 'S41', 'S42', 'S43', 'S45', 'S46', 'S47', 'S49', 'S5', 'S50', 'S53', 'S54', 'S55', 'S56', 'S57', 'S6', 'S63', 'S64', 'S69', 'S7', 'S70', 'S71', 'S72', 'S73', 'S8', 'S80', 'S81', 'S83', 'S86', 'S9', 'S90', 'S94', 'S97', 'SA1', 'SA10', 'SA11', 'SA12', 'SA2', 'SA3', 'SA4', 'SA5', 'SA6', 'SA7', 'SA8', 'SA9', 'SW']\n",
    "print(sensors)"
   ]
  },
  {
   "cell_type": "markdown",
   "id": "a5025883-f632-4dd6-a155-cc400748ff88",
   "metadata": {},
   "source": [
    "# Upload and inspect dataset"
   ]
  },
  {
   "cell_type": "code",
   "execution_count": 8,
   "id": "a4f13136-99cd-4587-b41a-939782920223",
   "metadata": {},
   "outputs": [
    {
     "name": "stderr",
     "output_type": "stream",
     "text": [
      "[Stage 1:======================================================>  (37 + 2) / 39]"
     ]
    },
    {
     "name": "stdout",
     "output_type": "stream",
     "text": [
      "CPU times: user 31.2 ms, sys: 0 ns, total: 31.2 ms\n",
      "Wall time: 19.5 s\n"
     ]
    },
    {
     "name": "stderr",
     "output_type": "stream",
     "text": [
      "                                                                                "
     ]
    }
   ],
   "source": [
    "%%time \n",
    "df = spark.read.option(\"header\", True).option(\"inferSchema\", True).csv(\"file:///mnt/shared/dataset.csv\").repartition(Npartition)\n",
    "\n",
    "# convert milliseconds into seconds\n",
    "df = df.withColumn(\"when\", spark_round(col(\"when\") / 1000).cast(IntegerType()))"
   ]
  },
  {
   "cell_type": "code",
   "execution_count": 9,
   "id": "81051779-dc36-4e67-980b-46843f3826aa",
   "metadata": {},
   "outputs": [
    {
     "name": "stdout",
     "output_type": "stream",
     "text": [
      "root\n",
      " |-- when: integer (nullable = true)\n",
      " |-- hwid: string (nullable = true)\n",
      " |-- metric: string (nullable = true)\n",
      " |-- value: integer (nullable = true)\n",
      "\n"
     ]
    }
   ],
   "source": [
    "# inspect dataset\n",
    "df.printSchema()"
   ]
  },
  {
   "cell_type": "code",
   "execution_count": 10,
   "id": "4d0acae8-0964-47f7-938d-762a11b32d5b",
   "metadata": {},
   "outputs": [
    {
     "name": "stderr",
     "output_type": "stream",
     "text": [
      "[Stage 2:=======================================================> (38 + 1) / 39]"
     ]
    },
    {
     "name": "stdout",
     "output_type": "stream",
     "text": [
      "+----------+------+------+-----+\n",
      "|when      |hwid  |metric|value|\n",
      "+----------+------+------+-----+\n",
      "|1606595137|SW-065|S181  |0    |\n",
      "|1606389102|SW-065|SA12  |0    |\n",
      "|1606158449|SW-065|P9    |300  |\n",
      "+----------+------+------+-----+\n",
      "only showing top 3 rows\n",
      "\n"
     ]
    },
    {
     "name": "stderr",
     "output_type": "stream",
     "text": [
      "                                                                                "
     ]
    }
   ],
   "source": [
    "# inspect dataset\n",
    "df.show(3, truncate=False)"
   ]
  },
  {
   "cell_type": "code",
   "execution_count": 11,
   "id": "b274cc0f-fa59-4034-8939-d44866d42681",
   "metadata": {},
   "outputs": [
    {
     "name": "stderr",
     "output_type": "stream",
     "text": [
      "[Stage 7:================================================>        (55 + 9) / 64]"
     ]
    },
    {
     "name": "stdout",
     "output_type": "stream",
     "text": [
      "+------+\n",
      "|  hwid|\n",
      "+------+\n",
      "|SW-088|\n",
      "|SW-106|\n",
      "|SW-115|\n",
      "|SW-065|\n",
      "+------+\n",
      "\n"
     ]
    },
    {
     "name": "stderr",
     "output_type": "stream",
     "text": [
      "                                                                                "
     ]
    }
   ],
   "source": [
    "# inspect hardwares of dataset\n",
    "hwid_list = df.select(\"hwid\").distinct()\n",
    "hwid_list.show()"
   ]
  },
  {
   "cell_type": "code",
   "execution_count": 12,
   "id": "91d73c3d-8f98-440b-84d8-3c650cd8db8a",
   "metadata": {},
   "outputs": [
    {
     "name": "stderr",
     "output_type": "stream",
     "text": [
      "[Stage 48:================================================>       (55 + 9) / 64]"
     ]
    },
    {
     "name": "stdout",
     "output_type": "stream",
     "text": [
      "+----------+-------------------+----+----+----+----+\n",
      "|      when|               time|S117|S118|S169|S170|\n",
      "+----------+-------------------+----+----+----+----+\n",
      "|1601510459|2020-10-01 00:00:59|   0|   0|NULL|NULL|\n",
      "|1601510462|2020-10-01 00:01:02|NULL|NULL|   0|   0|\n",
      "|1601510488|2020-10-01 00:01:28|   0|   0|NULL|NULL|\n",
      "|1601510491|2020-10-01 00:01:31|NULL|NULL|   0|   0|\n",
      "|1601510519|2020-10-01 00:01:59|   0|   0|NULL|NULL|\n",
      "+----------+-------------------+----+----+----+----+\n",
      "only showing top 5 rows\n",
      "\n",
      "CPU times: user 52.2 ms, sys: 21.7 ms, total: 73.8 ms\n",
      "Wall time: 51.2 s\n"
     ]
    },
    {
     "name": "stderr",
     "output_type": "stream",
     "text": [
      "                                                                                "
     ]
    }
   ],
   "source": [
    "%%time\n",
    "\n",
    "hardware = \"SW-088\" \n",
    "\n",
    "df_hw = df.filter(col(\"hwid\") == hardware)\\\n",
    "        .groupBy(\"when\")\\\n",
    "        .pivot(\"metric\")\\\n",
    "        .agg(first(\"value\"))\\\n",
    "        .withColumn(\"time\", from_unixtime(col(\"when\")))\\\n",
    "        .orderBy(\"when\") \\\n",
    "        .repartition(Npartition)\n",
    "\n",
    "df_hw = df_hw.persist()\n",
    "\n",
    "# show first 5 rows\n",
    "engines = [\"S117\", \"S118\", \"S169\", \"S170\"]\n",
    "df_hw.select(\"when\",\"time\",*engines).orderBy(col(\"time\").asc()).show(5)"
   ]
  },
  {
   "cell_type": "code",
   "execution_count": 13,
   "id": "cf99b20f-f39e-496f-b541-1f3ab4a37092",
   "metadata": {
    "scrolled": true
   },
   "outputs": [
    {
     "name": "stdout",
     "output_type": "stream",
     "text": [
      "root\n",
      " |-- when: integer (nullable = true)\n",
      " |-- A5: integer (nullable = true)\n",
      " |-- A9: integer (nullable = true)\n",
      " |-- ComError: integer (nullable = true)\n",
      " |-- P1: integer (nullable = true)\n",
      " |-- P10: integer (nullable = true)\n",
      " |-- P15: integer (nullable = true)\n",
      " |-- P16: integer (nullable = true)\n",
      " |-- P17: integer (nullable = true)\n",
      " |-- P18: integer (nullable = true)\n",
      " |-- P2: integer (nullable = true)\n",
      " |-- P5: integer (nullable = true)\n",
      " |-- P6: integer (nullable = true)\n",
      " |-- P7: integer (nullable = true)\n",
      " |-- P8: integer (nullable = true)\n",
      " |-- P9: integer (nullable = true)\n",
      " |-- S1: integer (nullable = true)\n",
      " |-- S10: integer (nullable = true)\n",
      " |-- S100: integer (nullable = true)\n",
      " |-- S101: integer (nullable = true)\n",
      " |-- S102: integer (nullable = true)\n",
      " |-- S106: integer (nullable = true)\n",
      " |-- S107: integer (nullable = true)\n",
      " |-- S108: integer (nullable = true)\n",
      " |-- S109: integer (nullable = true)\n",
      " |-- S11: integer (nullable = true)\n",
      " |-- S110: integer (nullable = true)\n",
      " |-- S112: integer (nullable = true)\n",
      " |-- S113: integer (nullable = true)\n",
      " |-- S114: integer (nullable = true)\n",
      " |-- S115: integer (nullable = true)\n",
      " |-- S117: integer (nullable = true)\n",
      " |-- S118: integer (nullable = true)\n",
      " |-- S122: integer (nullable = true)\n",
      " |-- S123: integer (nullable = true)\n",
      " |-- S124: integer (nullable = true)\n",
      " |-- S125: integer (nullable = true)\n",
      " |-- S126: integer (nullable = true)\n",
      " |-- S127: integer (nullable = true)\n",
      " |-- S128: integer (nullable = true)\n",
      " |-- S129: integer (nullable = true)\n",
      " |-- S130: integer (nullable = true)\n",
      " |-- S137: integer (nullable = true)\n",
      " |-- S138: integer (nullable = true)\n",
      " |-- S140: integer (nullable = true)\n",
      " |-- S143: integer (nullable = true)\n",
      " |-- S147: integer (nullable = true)\n",
      " |-- S15: integer (nullable = true)\n",
      " |-- S151: integer (nullable = true)\n",
      " |-- S154: integer (nullable = true)\n",
      " |-- S157: integer (nullable = true)\n",
      " |-- S158: integer (nullable = true)\n",
      " |-- S159: integer (nullable = true)\n",
      " |-- S16: integer (nullable = true)\n",
      " |-- S163: integer (nullable = true)\n",
      " |-- S164: integer (nullable = true)\n",
      " |-- S165: integer (nullable = true)\n",
      " |-- S166: integer (nullable = true)\n",
      " |-- S167: integer (nullable = true)\n",
      " |-- S169: integer (nullable = true)\n",
      " |-- S17: integer (nullable = true)\n",
      " |-- S170: integer (nullable = true)\n",
      " |-- S171: integer (nullable = true)\n",
      " |-- S172: integer (nullable = true)\n",
      " |-- S173: integer (nullable = true)\n",
      " |-- S174: integer (nullable = true)\n",
      " |-- S175: integer (nullable = true)\n",
      " |-- S176: integer (nullable = true)\n",
      " |-- S178: integer (nullable = true)\n",
      " |-- S179: integer (nullable = true)\n",
      " |-- S180: integer (nullable = true)\n",
      " |-- S181: integer (nullable = true)\n",
      " |-- S183: integer (nullable = true)\n",
      " |-- S19: integer (nullable = true)\n",
      " |-- S2: integer (nullable = true)\n",
      " |-- S201: integer (nullable = true)\n",
      " |-- S202: integer (nullable = true)\n",
      " |-- S203: integer (nullable = true)\n",
      " |-- S204: integer (nullable = true)\n",
      " |-- S205: integer (nullable = true)\n",
      " |-- S206: integer (nullable = true)\n",
      " |-- S25: integer (nullable = true)\n",
      " |-- S3: integer (nullable = true)\n",
      " |-- S33: integer (nullable = true)\n",
      " |-- S34: integer (nullable = true)\n",
      " |-- S35: integer (nullable = true)\n",
      " |-- S37: integer (nullable = true)\n",
      " |-- S39: integer (nullable = true)\n",
      " |-- S40: integer (nullable = true)\n",
      " |-- S41: integer (nullable = true)\n",
      " |-- S42: integer (nullable = true)\n",
      " |-- S43: integer (nullable = true)\n",
      " |-- S45: integer (nullable = true)\n",
      " |-- S46: integer (nullable = true)\n",
      " |-- S47: integer (nullable = true)\n",
      " |-- S49: integer (nullable = true)\n",
      " |-- S5: integer (nullable = true)\n",
      " |-- S50: integer (nullable = true)\n",
      " |-- S53: integer (nullable = true)\n",
      " |-- S54: integer (nullable = true)\n",
      " |-- S55: integer (nullable = true)\n",
      " |-- S56: integer (nullable = true)\n",
      " |-- S57: integer (nullable = true)\n",
      " |-- S6: integer (nullable = true)\n",
      " |-- S63: integer (nullable = true)\n",
      " |-- S64: integer (nullable = true)\n",
      " |-- S69: integer (nullable = true)\n",
      " |-- S7: integer (nullable = true)\n",
      " |-- S70: integer (nullable = true)\n",
      " |-- S71: integer (nullable = true)\n",
      " |-- S72: integer (nullable = true)\n",
      " |-- S73: integer (nullable = true)\n",
      " |-- S8: integer (nullable = true)\n",
      " |-- S80: integer (nullable = true)\n",
      " |-- S81: integer (nullable = true)\n",
      " |-- S83: integer (nullable = true)\n",
      " |-- S86: integer (nullable = true)\n",
      " |-- S9: integer (nullable = true)\n",
      " |-- S90: integer (nullable = true)\n",
      " |-- S94: integer (nullable = true)\n",
      " |-- S97: integer (nullable = true)\n",
      " |-- SA1: integer (nullable = true)\n",
      " |-- SA10: integer (nullable = true)\n",
      " |-- SA11: integer (nullable = true)\n",
      " |-- SA12: integer (nullable = true)\n",
      " |-- SA2: integer (nullable = true)\n",
      " |-- SA3: integer (nullable = true)\n",
      " |-- SA4: integer (nullable = true)\n",
      " |-- SA5: integer (nullable = true)\n",
      " |-- SA6: integer (nullable = true)\n",
      " |-- SA7: integer (nullable = true)\n",
      " |-- SA8: integer (nullable = true)\n",
      " |-- SA9: integer (nullable = true)\n",
      " |-- SW: integer (nullable = true)\n",
      " |-- time: string (nullable = true)\n",
      "\n"
     ]
    }
   ],
   "source": [
    "df_hw.printSchema()"
   ]
  },
  {
   "cell_type": "code",
   "execution_count": 14,
   "id": "c11f1145-3266-4f93-9f04-6c30e6049a98",
   "metadata": {},
   "outputs": [
    {
     "name": "stdout",
     "output_type": "stream",
     "text": [
      "['A5', 'A9', 'ComError', 'P1', 'P10', 'P15', 'P16', 'P17', 'P18', 'P2', 'P5', 'P6', 'P7', 'P8', 'P9', 'S1', 'S10', 'S100', 'S101', 'S102', 'S106', 'S107', 'S108', 'S109', 'S11', 'S110', 'S112', 'S113', 'S114', 'S115', 'S117', 'S118', 'S122', 'S123', 'S124', 'S125', 'S126', 'S127', 'S128', 'S129', 'S130', 'S137', 'S138', 'S140', 'S143', 'S147', 'S15', 'S151', 'S154', 'S157', 'S158', 'S159', 'S16', 'S163', 'S164', 'S165', 'S166', 'S167', 'S169', 'S17', 'S170', 'S171', 'S172', 'S173', 'S174', 'S175', 'S176', 'S178', 'S179', 'S180', 'S181', 'S183', 'S19', 'S2', 'S201', 'S202', 'S203', 'S204', 'S205', 'S206', 'S25', 'S3', 'S33', 'S34', 'S35', 'S37', 'S39', 'S40', 'S41', 'S42', 'S43', 'S45', 'S46', 'S47', 'S49', 'S5', 'S50', 'S53', 'S54', 'S55', 'S56', 'S57', 'S6', 'S63', 'S64', 'S69', 'S7', 'S70', 'S71', 'S72', 'S73', 'S8', 'S80', 'S81', 'S83', 'S86', 'S9', 'S90', 'S94', 'S97', 'SA1', 'SA10', 'SA11', 'SA12', 'SA2', 'SA3', 'SA4', 'SA5', 'SA6', 'SA7', 'SA8', 'SA9', 'SW']\n"
     ]
    }
   ],
   "source": [
    "# Get sensors list\n",
    "sensors = [field.name for field in df_hw.schema.fields \n",
    "           if field.name not in [\"when\", \"time\"] ]\n",
    "\n",
    "print(sensors)"
   ]
  },
  {
   "cell_type": "markdown",
   "id": "0f446543-3012-4f64-8855-04f3a94b9725",
   "metadata": {},
   "source": [
    "# Timestamp analysis"
   ]
  },
  {
   "cell_type": "code",
   "execution_count": 15,
   "id": "5ba0f6fc-7d52-4f8b-9dab-a31bc4041a87",
   "metadata": {},
   "outputs": [],
   "source": [
    "def compute_time_differences(df, when_col=\"when\", max_collect=1_000_000):\n",
    "    rdd_times = df.select(when_col).rdd.map(lambda row: row[when_col])\n",
    "    rdd_shifted = rdd_times.zipWithIndex().map(lambda x: (x[1], x[0]))  # (index, time)\n",
    "    rdd_prev = rdd_shifted.map(lambda x: (x[0] + 1, x[1]))              # shift by +1 index\n",
    "    rdd_joined = rdd_shifted.join(rdd_prev).sortByKey()\n",
    "    rdd_diff = rdd_joined.map(lambda x: x[1][0] - x[1][1])\n",
    "\n",
    "    num_diffs = rdd_diff.count()\n",
    "    print(f\"Number of time differences: {num_diffs}\")\n",
    "\n",
    "    if num_diffs < max_collect:\n",
    "        return rdd_diff\n",
    "    else:\n",
    "        print(\"Too many differences to collect safely.\")\n",
    "        return None"
   ]
  },
  {
   "cell_type": "code",
   "execution_count": 16,
   "id": "02d3298f-a690-4ad9-87ce-84babcaf15b1",
   "metadata": {},
   "outputs": [],
   "source": [
    "def time_diff_summary(rdd_diff, spark, top_n=5):\n",
    "    df_freq = rdd_diff.map(lambda d: (d, 1)) \\\n",
    "                      .reduceByKey(lambda a, b: a + b) \\\n",
    "                      .toDF([\"diff\", \"count\"]) \\\n",
    "                      .orderBy(\"diff\")\n",
    "\n",
    "    print(f\"\\n{top_n} smallest time differences:\")\n",
    "    df_freq.show(top_n, truncate=False)\n",
    "\n",
    "    print(f\"\\n{top_n} largest time differences:\")\n",
    "    df_freq.orderBy(\"diff\", ascending=False).show(top_n, truncate=False)\n",
    "\n",
    "    return df_freq"
   ]
  },
  {
   "cell_type": "code",
   "execution_count": 17,
   "id": "3b23163b-0c73-4674-8401-5024b4276d0d",
   "metadata": {},
   "outputs": [
    {
     "name": "stderr",
     "output_type": "stream",
     "text": [
      "                                                                                "
     ]
    },
    {
     "name": "stdout",
     "output_type": "stream",
     "text": [
      "Number of time differences: 639868\n"
     ]
    },
    {
     "name": "stderr",
     "output_type": "stream",
     "text": [
      "                                                                                "
     ]
    },
    {
     "name": "stdout",
     "output_type": "stream",
     "text": [
      "\n",
      "5 smallest time differences:\n"
     ]
    },
    {
     "name": "stderr",
     "output_type": "stream",
     "text": [
      "                                                                                "
     ]
    },
    {
     "name": "stdout",
     "output_type": "stream",
     "text": [
      "+---------+-----+\n",
      "|diff     |count|\n",
      "+---------+-----+\n",
      "|-15404895|1    |\n",
      "|-15392290|1    |\n",
      "|-15218196|1    |\n",
      "|-15217218|1    |\n",
      "|-14908772|1    |\n",
      "+---------+-----+\n",
      "only showing top 5 rows\n",
      "\n",
      "\n",
      "5 largest time differences:\n",
      "+--------+-----+\n",
      "|diff    |count|\n",
      "+--------+-----+\n",
      "|13665378|1    |\n",
      "|12092522|1    |\n",
      "|11792242|1    |\n",
      "|11206600|1    |\n",
      "|11043736|1    |\n",
      "+--------+-----+\n",
      "only showing top 5 rows\n",
      "\n"
     ]
    }
   ],
   "source": [
    "# Compute time differences\n",
    "rdd_diff = compute_time_differences(df_hw)\n",
    "\n",
    "# Summarize and print top/bottom time gaps\n",
    "df_diff_summary = time_diff_summary(rdd_diff, spark)"
   ]
  },
  {
   "cell_type": "code",
   "execution_count": 18,
   "id": "a988ee9a-11ad-4296-bb6b-4af7dfda97ad",
   "metadata": {},
   "outputs": [],
   "source": [
    "def plot_diff_histogram(differences, min_diff, max_diff, delta):\n",
    "    \n",
    "    filtered = [d for d in differences if min_diff <= d <= max_diff]\n",
    "\n",
    "    bins = int((max_diff - min_diff) / delta)\n",
    "\n",
    "    plt.figure(figsize=(10, 6))\n",
    "    plt.hist(filtered, bins=bins, color=\"steelblue\", edgecolor=\"black\")\n",
    "    plt.title(f\"Time Difference Events (range {min_diff} - {max_diff} [s])\")\n",
    "    plt.xlabel(\"Time difference [s]\")\n",
    "    plt.ylabel(\"Counts\")\n",
    "    plt.show()"
   ]
  },
  {
   "cell_type": "code",
   "execution_count": 19,
   "id": "8da52466-b638-4f78-a69b-675637894c7f",
   "metadata": {},
   "outputs": [],
   "source": [
    "diffs = rdd_diff.collect() # check previously the dimension"
   ]
  },
  {
   "cell_type": "code",
   "execution_count": 20,
   "id": "a58fc7ad-7b64-43ba-a24a-c792ebcbba37",
   "metadata": {},
   "outputs": [
    {
     "data": {
      "image/png": "[encoded data removed]",
      "text/plain": [
       "<Figure size 1000x600 with 1 Axes>"
      ]
     },
     "metadata": {},
     "output_type": "display_data"
    }
   ],
   "source": [
    "plot_diff_histogram(differences=diffs, min_diff=0, max_diff=180, delta=2)"
   ]
  },
  {
   "cell_type": "code",
   "execution_count": 21,
   "id": "89ddab6d-ec14-4fa8-852b-1b82c8e37477",
   "metadata": {},
   "outputs": [
    {
     "data": {
      "image/png": "[encoded data removed]",
      "text/plain": [
       "<Figure size 1000x600 with 1 Axes>"
      ]
     },
     "metadata": {},
     "output_type": "display_data"
    }
   ],
   "source": [
    "plot_diff_histogram(differences=diffs, min_diff=180, max_diff=4000, delta=20)"
   ]
  },
  {
   "cell_type": "markdown",
   "id": "3d3a42ed-503b-48f1-8424-3797e172ef8a",
   "metadata": {},
   "source": [
    "# Data preparation"
   ]
  },
  {
   "cell_type": "code",
   "execution_count": 22,
   "id": "035e45e5-4245-4719-b11f-30dec4d4afaa",
   "metadata": {},
   "outputs": [],
   "source": [
    "def CreateGrid(df, interval):\n",
    "\n",
    "    df_windowed = df.withColumn(\"time_window\", window(\"time\", f\"{interval} seconds\"))\n",
    "\n",
    "    aggs = []\n",
    "    sensors = [c for c in df.columns if c not in (\"when\", \"time\")]\n",
    "    for s in sensors:\n",
    "        stats = df.selectExpr(f\"min({s}) as min\", f\"max({s}) as max\").first()\n",
    "        is_binary = stats[\"min\"] is not None and stats[\"max\"] is not None    and    0 <= stats[\"min\"] and stats[\"max\"] <= 1\n",
    "        if s in [\"A5\", \"A9\"] or is_binary:\n",
    "            agg_func = spark_max(col(s)).alias(s)\n",
    "        else:\n",
    "            agg_func = spark_avg(col(s)).alias(s)\n",
    "        aggs.append(agg_func)\n",
    "\n",
    "    result_df = (\n",
    "        df_windowed\n",
    "        .groupBy(\"time_window\")\n",
    "        .agg(*aggs)\n",
    "    )\n",
    "\n",
    "    result_df = (\n",
    "        result_df\n",
    "        .withColumn(\"window_start\", col(\"time_window.start\"))\n",
    "        .withColumn(\"window_end\", col(\"time_window.end\"))\n",
    "        .withColumn(\"when\", expr(\"unix_timestamp(window_start) + int((unix_timestamp(window_end) - unix_timestamp(window_start)) / 2)\"))\n",
    "        .drop(\"time_window\")\n",
    "        .orderBy(\"when\")\n",
    "    )\n",
    "\n",
    "    return result_df.select([\"when\",\"window_start\",\"window_end\"]+sensors)"
   ]
  },
  {
   "cell_type": "code",
   "execution_count": 23,
   "id": "84b10bd4-2fae-45c1-9fab-389d96d8bd94",
   "metadata": {},
   "outputs": [
    {
     "name": "stderr",
     "output_type": "stream",
     "text": [
      "[Stage 1874:=========================================>           (50 + 14) / 64]"
     ]
    },
    {
     "name": "stdout",
     "output_type": "stream",
     "text": [
      "+----------+-------------------+-------------------+----+----+----+----+\n",
      "|when      |window_start       |window_end         |S117|S118|S169|S170|\n",
      "+----------+-------------------+-------------------+----+----+----+----+\n",
      "|1601510430|2020-10-01 00:00:00|2020-10-01 00:01:00|0   |0   |NULL|NULL|\n",
      "|1601510490|2020-10-01 00:01:00|2020-10-01 00:02:00|0   |0   |0   |0   |\n",
      "|1601510550|2020-10-01 00:02:00|2020-10-01 00:03:00|0   |0   |0   |0   |\n",
      "+----------+-------------------+-------------------+----+----+----+----+\n",
      "only showing top 3 rows\n",
      "\n",
      "CPU times: user 221 ms, sys: 95.6 ms, total: 317 ms\n",
      "Wall time: 24.3 s\n"
     ]
    },
    {
     "name": "stderr",
     "output_type": "stream",
     "text": [
      "                                                                                "
     ]
    },
    {
     "data": {
      "text/plain": [
       "DataFrame[when: int, A5: int, A9: int, ComError: int, P1: int, P10: int, P15: int, P16: int, P17: int, P18: int, P2: int, P5: int, P6: int, P7: int, P8: int, P9: int, S1: int, S10: int, S100: int, S101: int, S102: int, S106: int, S107: int, S108: int, S109: int, S11: int, S110: int, S112: int, S113: int, S114: int, S115: int, S117: int, S118: int, S122: int, S123: int, S124: int, S125: int, S126: int, S127: int, S128: int, S129: int, S130: int, S137: int, S138: int, S140: int, S143: int, S147: int, S15: int, S151: int, S154: int, S157: int, S158: int, S159: int, S16: int, S163: int, S164: int, S165: int, S166: int, S167: int, S169: int, S17: int, S170: int, S171: int, S172: int, S173: int, S174: int, S175: int, S176: int, S178: int, S179: int, S180: int, S181: int, S183: int, S19: int, S2: int, S201: int, S202: int, S203: int, S204: int, S205: int, S206: int, S25: int, S3: int, S33: int, S34: int, S35: int, S37: int, S39: int, S40: int, S41: int, S42: int, S43: int, S45: int, S46: int, S47: int, S49: int, S5: int, S50: int, S53: int, S54: int, S55: int, S56: int, S57: int, S6: int, S63: int, S64: int, S69: int, S7: int, S70: int, S71: int, S72: int, S73: int, S8: int, S80: int, S81: int, S83: int, S86: int, S9: int, S90: int, S94: int, S97: int, SA1: int, SA10: int, SA11: int, SA12: int, SA2: int, SA3: int, SA4: int, SA5: int, SA6: int, SA7: int, SA8: int, SA9: int, SW: int, time: string]"
      ]
     },
     "execution_count": 23,
     "metadata": {},
     "output_type": "execute_result"
    }
   ],
   "source": [
    "%%time\n",
    "\n",
    "interval = 60 #seconds\n",
    "\n",
    "df_grid = CreateGrid(df_hw, interval)\n",
    "df_grid = df_grid.persist()\n",
    "df_grid.select(\"when\",\"window_start\",\"window_end\",*engines).show(3, truncate = False)\n",
    "df_hw.unpersist()"
   ]
  },
  {
   "cell_type": "code",
   "execution_count": 24,
   "id": "eb77fdb3-61bd-43f4-a5c7-000461168075",
   "metadata": {},
   "outputs": [],
   "source": [
    "def BuildBlocks(df, max_interval):\n",
    "    w_global = Window.partitionBy(lit(1)).orderBy(\"when\")\n",
    "    df = (df\n",
    "          .withColumn(\"Prev_TimeStamp\", lag(\"when\").over(w_global))\n",
    "          .withColumn(\"Next_TimeStamp\", lead(\"when\").over(w_global))\n",
    "          .withColumn(\"PrevDiff_s\", col(\"when\") - col(\"Prev_TimeStamp\"))\n",
    "          .withColumn(\"NextDiff_s\", col(\"Next_TimeStamp\") - col(\"when\"))\n",
    "         )\n",
    "\n",
    "    #Check if the timediff between two consecutive data is more than max_interval\n",
    "    df = df.withColumn(\n",
    "        \"CheckNewBlock\",\n",
    "        when(col(\"PrevDiff_s\") > max_interval, 1).otherwise(0))\n",
    "    df = df.withColumn(\"BlockID\", spark_sum(\"CheckNewBlock\").over(w_global))\n",
    "\n",
    "    #Copy these rows if there are any gaps (timediff > 60 but less than max_interval)\n",
    "    skip_cols = {\n",
    "        \"when\", \"Prev_TimeStamp\", \"Next_TimeStamp\",\n",
    "        \"PrevDiff_s\", \"NextDiff_s\", \"CheckNewBlock\", \"BlockID\",\n",
    "        \"window_start\", \"window_end\"}\n",
    "    other_cols = [c for c in df.columns if c not in skip_cols]\n",
    "\n",
    "    # Next values (lead) within EACH block to copy if there are gaps\n",
    "    w_block = Window.partitionBy(\"BlockID\").orderBy(\"when\")\n",
    "    for c in other_cols:\n",
    "        df = df.withColumn(f\"Next_{c}\", lead(c).over(w_block))\n",
    "\n",
    "    #Fill values only for intra-block gaps: 60 < gap < max_interval\n",
    "    df = df.withColumn(\n",
    "        \"NumFill\",\n",
    "        when(\n",
    "            (col(\"NextDiff_s\") > 60) & (col(\"NextDiff_s\") < max_interval),\n",
    "            (floor(col(\"NextDiff_s\")/60) - 1).cast(\"int\")).otherwise(0))\n",
    "\n",
    "    #Timestamps to insert between current and next row (every 60s)\n",
    "    df = df.withColumn(\"FillTimestamps\",\n",
    "            when(col(\"NumFill\") > 0,\n",
    "                    expr(\"sequence(when + 60, Next_TimeStamp - 60, 60)\")).otherwise(array()))\n",
    "\n",
    "    #Artificial rows copy NEXT row's non-time columns\n",
    "    fill_rows = (df\n",
    "        .filter(col(\"NumFill\") > 0)\n",
    "        .select(\"BlockID\",\n",
    "            explode(\"FillTimestamps\").alias(\"when\"),\n",
    "            *[col(f\"Next_{c}\").alias(c) for c in other_cols],\n",
    "            lit(True).alias(\"is_artificial\")))\n",
    "\n",
    "    #Original rows\n",
    "    original_rows = df.select(\"BlockID\", \"when\", *other_cols, lit(False).alias(\"is_artificial\"))\n",
    "\n",
    "    #Union, order, recompute windows from 'when'\n",
    "    final = ( original_rows.unionByName(fill_rows).orderBy(\"BlockID\", \"when\") )\n",
    "\n",
    "    # Recompute window_id and window bounds\n",
    "    w_block_final = Window.partitionBy(\"BlockID\").orderBy(\"when\")\n",
    "    final = (final\n",
    "             .withColumn(\"window_id\", row_number().over(w_block_final) - 1)\n",
    "             .withColumn(\"window_start\", from_unixtime(col(\"when\") - 30))\n",
    "             .withColumn(\"window_end\",   from_unixtime(col(\"when\") + 30)))\n",
    "\n",
    "    #Recompute TimeDiff_s after filling\n",
    "    final = (final\n",
    "             .withColumn(\"PrevWhenInBlock\", lag(\"when\").over(w_block_final))\n",
    "             .withColumn(\"TimeDiff_s\",\n",
    "                  when(col(\"PrevWhenInBlock\").isNull(), lit(None).cast(\"int\"))\n",
    "                  .otherwise(col(\"when\") - col(\"PrevWhenInBlock\"))).drop(\"PrevWhenInBlock\"))\n",
    "\n",
    "    return final"
   ]
  },
  {
   "cell_type": "code",
   "execution_count": 25,
   "id": "a95e46ba-92be-4850-8d1b-c06076999a4f",
   "metadata": {},
   "outputs": [
    {
     "name": "stderr",
     "output_type": "stream",
     "text": [
      "[Stage 1958:==================================================>   (14 + 1) / 15]"
     ]
    },
    {
     "name": "stdout",
     "output_type": "stream",
     "text": [
      "+---------+----------+-------------------+-------------------+----------+-------+\n",
      "|window_id|      when|       window_start|         window_end|TimeDiff_s|BlockID|\n",
      "+---------+----------+-------------------+-------------------+----------+-------+\n",
      "|        0|1601673750|2020-10-02 21:22:00|2020-10-02 21:23:00|      NULL|      9|\n",
      "|        1|1601673810|2020-10-02 21:23:00|2020-10-02 21:24:00|        60|      9|\n",
      "|        2|1601673870|2020-10-02 21:24:00|2020-10-02 21:25:00|        60|      9|\n",
      "+---------+----------+-------------------+-------------------+----------+-------+\n",
      "only showing top 3 rows\n",
      "\n",
      "CPU times: user 125 ms, sys: 63.8 ms, total: 189 ms\n",
      "Wall time: 42.5 s\n"
     ]
    },
    {
     "name": "stderr",
     "output_type": "stream",
     "text": [
      "                                                                                "
     ]
    },
    {
     "data": {
      "text/plain": [
       "DataFrame[when: bigint, window_start: timestamp, window_end: timestamp, A5: int, A9: int, ComError: int, P1: double, P10: double, P15: int, P16: double, P17: double, P18: double, P2: int, P5: double, P6: double, P7: double, P8: double, P9: double, S1: int, S10: double, S100: double, S101: double, S102: double, S106: int, S107: double, S108: int, S109: double, S11: int, S110: int, S112: int, S113: int, S114: int, S115: int, S117: int, S118: int, S122: double, S123: double, S124: double, S125: double, S126: double, S127: int, S128: double, S129: double, S130: double, S137: double, S138: double, S140: double, S143: double, S147: double, S15: int, S151: double, S154: double, S157: double, S158: double, S159: double, S16: int, S163: int, S164: double, S165: int, S166: double, S167: int, S169: int, S17: int, S170: int, S171: int, S172: int, S173: int, S174: int, S175: int, S176: int, S178: double, S179: double, S180: double, S181: double, S183: int, S19: int, S2: double, S201: double, S202: double, S203: double, S204: double, S205: double, S206: double, S25: int, S3: double, S33: int, S34: int, S35: int, S37: double, S39: double, S40: double, S41: double, S42: int, S43: int, S45: int, S46: double, S47: double, S49: int, S5: double, S50: int, S53: int, S54: int, S55: int, S56: int, S57: int, S6: double, S63: int, S64: int, S69: int, S7: int, S70: double, S71: double, S72: double, S73: double, S8: int, S80: double, S81: double, S83: double, S86: double, S9: double, S90: double, S94: double, S97: double, SA1: double, SA10: double, SA11: double, SA12: int, SA2: double, SA3: int, SA4: int, SA5: double, SA6: int, SA7: double, SA8: int, SA9: double, SW: int]"
      ]
     },
     "execution_count": 25,
     "metadata": {},
     "output_type": "execute_result"
    }
   ],
   "source": [
    "%%time\n",
    "\n",
    "df_blocks = BuildBlocks(df_grid, max_interval = 240)\n",
    "df_blocks = spark.createDataFrame(df_blocks.rdd, df_blocks.schema)  # Break lineage\n",
    "df_blocks = df_blocks.persist()\n",
    "df_blocks.select(\"window_id\", \"when\", \"window_start\", \"window_end\", \"TimeDiff_s\", \"BlockID\").show(3)\n",
    "df_grid.unpersist()"
   ]
  },
  {
   "cell_type": "code",
   "execution_count": 26,
   "id": "f6edf947-7fb3-40be-81ca-d95866d5a72f",
   "metadata": {},
   "outputs": [
    {
     "name": "stdout",
     "output_type": "stream",
     "text": [
      "Longest blocks:\n",
      "\n",
      "      BlockID  minutes\n",
      "1359      209     1422\n",
      "1360      585     1434\n",
      "1361      210     2073\n"
     ]
    },
    {
     "data": {
      "image/png": "[encoded data removed]",
      "text/plain": [
       "<Figure size 1000x400 with 2 Axes>"
      ]
     },
     "metadata": {},
     "output_type": "display_data"
    }
   ],
   "source": [
    "dist_blocks = df_blocks.groupBy(\"BlockID\").agg(count(\"*\").alias(\"minutes\")).orderBy(\"minutes\")\n",
    "data = dist_blocks.toPandas()\n",
    "print(\"Longest blocks:\\n\")\n",
    "print( data.tail(3) )\n",
    "\n",
    "fig, axes = plt.subplots(1, 2, figsize=(10, 4))\n",
    "axes[0].hist(data['minutes'], bins=50)\n",
    "axes[0].set_xlim(0, 2800)\n",
    "axes[0].set_xlabel(\"block length [minutes]\")\n",
    "axes[0].set_ylabel(\"# blocks\")\n",
    "axes[0].set_title(\"Block Size Distribution\")\n",
    "\n",
    "data_low_range = data[(data['minutes'] >= 0) & (data['minutes'] <= 200)]\n",
    "axes[1].hist(data_low_range['minutes'], bins=25)\n",
    "axes[1].set_xlim(0, 200)\n",
    "axes[1].set_xlabel(\"block length [minutes]\")\n",
    "axes[1].set_ylabel(\"# blocks\")\n",
    "axes[1].set_title(\"Block Size Distribution (0-200 minutes range)\")\n",
    "plt.tight_layout()\n",
    "plt.show()"
   ]
  },
  {
   "cell_type": "markdown",
   "id": "299f715d-63c1-4925-8f41-7bfc13ec3abe",
   "metadata": {},
   "source": [
    "# Anomaly detection"
   ]
  },
  {
   "cell_type": "code",
   "execution_count": 27,
   "id": "62abaaa8-669b-4ff6-913c-aaae0c49ca5c",
   "metadata": {},
   "outputs": [],
   "source": [
    "def detect_anomalies(df, time_separator, threshold, sensors, extended = False, debug = False):\n",
    "    # Lag to get previous value within each partition (i.e. within each block)\n",
    "    window         = Window.partitionBy(\"BlockID\").orderBy(\"window_id\")\n",
    "    lagged_columns = [lag(col(s)).over(window) for s in sensors] \n",
    "    lag_names      = [f\"lagged_{s}\" for s in sensors]\n",
    "\n",
    "    df_interest = df.select(\"BlockID\",\"window_id\",\"when\",*sensors)\n",
    "    df_lagged = df_interest.withColumns(dict(zip(lag_names, lagged_columns)))\n",
    "\n",
    "    # Determina switch del sensore (didSwitch = 1 se il sensore passa da 0 a 1 o viceversa, didSwitch = 0 altrimenti)\n",
    "    switch_w     = Window.partitionBy('BlockID').orderBy('window_id')\n",
    "    didSwitch    = [when((col(f\"lagged_{s}\") != col(s)), 1).otherwise(0) for s in sensors] \n",
    "    switch_names = [f\"didSwitch_{s}\" for s in sensors]    \n",
    "\n",
    "    df_didSwitch = df_lagged.withColumns(dict(zip(switch_names, didSwitch)))\n",
    "\n",
    "    # Detect anomaly group: when two clusters are more distant than time_separator they are grouped as different anomalies\n",
    "    # Tutte le anomalie di uno stesso gruppo hanno stesso id, cioè un numero crescente che si resetta ad ogni nuovo blocco\n",
    "    df_anomalies = df_didSwitch\n",
    "    for sensor in sensors:   \n",
    "        # Il periodo anomalo inizia quando il sensore è 1 e finisce quando esso è 0\n",
    "        df_start = (\n",
    "            df_didSwitch \\\n",
    "            .withColumn(f'theres0Before_{sensor}', count_if(col(sensor) == 0).over(window.rowsBetween(1, int(time_separator/60))) > 0) \\\n",
    "            .withColumn(f'theres0After_{sensor}', count_if(col(sensor) == 0).over(window.rowsBetween(-int(time_separator/60), -1)) > 0) \\\n",
    "            .filter( \n",
    "                (col(f'didSwitch_{sensor}') == 1) & \n",
    "                (when(col(sensor) == 1, col(f'theres0Before_{sensor}')).otherwise(True)) &\n",
    "                (when(col(sensor) == 0, col(f'theres0After_{sensor}')).otherwise(True))\n",
    "            ) \\\n",
    "            .withColumn(f'startGroup_{sensor}', when((col('when')-lag(col('when'), 1, -1e9).over(window))>time_separator, 1).otherwise(0)) \\\n",
    "            .withColumn(f'anomalyID_{sensor}', spark_sum(col(f'startGroup_{sensor}')).over(window)) \\\n",
    "        )\n",
    "        \n",
    "        df_anomalies = df_anomalies.join(\n",
    "            other = df_start.select('BlockID', 'window_id', f'startGroup_{sensor}', f'anomalyID_{sensor}'),\n",
    "            on = ['BlockID', 'window_id'],\n",
    "            how = 'left'\n",
    "        )\n",
    "\n",
    "    count_names = [f'count_{s}' for s in sensors]\n",
    "    count_cols  = [count('*').over(Window.partitionBy('BlockID', f'anomalyID_{s}')) for s in sensors]\n",
    "\n",
    "    flag_names  = [f'flag_{s}' for s in sensors]\n",
    "    flag_cols   = [when((col(f'count_{s}') >= threshold) & (col(f'anomalyID_{s}') > 0), True).otherwise(False) for s in sensors]\n",
    "    \n",
    "    df_flag = df_anomalies \\\n",
    "        .withColumns(dict(zip(count_names, count_cols))) \\\n",
    "        .withColumns(dict(zip(flag_names, flag_cols))) \\\n",
    "        .orderBy('BlockID', 'window_id')\n",
    "\n",
    "    # anomaly condition: just one of the engines had an anomaly\n",
    "    condition = sum(col(f).cast('int') for f in flag_names) > 0\n",
    "    df_flag = df_flag.withColumn( \"flag_anomaly\", when(condition, 1).otherwise(0).cast('int'))\n",
    "\n",
    "        \n",
    "    if debug:\n",
    "        next_w  = Window.partitionBy('BlockID').orderBy('window_id').rowsBetween(0, int(time_separator/60))\n",
    "        prev_w  = Window.partitionBy('BlockID').orderBy('window_id').rowsBetween(-int(time_separator/60), 0)\n",
    "        prev_names = [f'prevID_{s}' for s in sensors]\n",
    "        prev_id = [when((bool_or(f'flag_{s}').over(prev_w)), spark_max(f'anomalyID_{s}').over(prev_w)).otherwise(None) for s in sensors]\n",
    "        next_names = [f'nextID_{s}' for s in sensors]\n",
    "        next_id = [when((bool_or(f'flag_{s}').over(next_w)), spark_min(f'anomalyID_{s}').over(next_w)).otherwise(None) for s in sensors]\n",
    "\n",
    "        df_newID = (\n",
    "            df_flag.withColumns(dict(zip(prev_names, prev_id))).withColumns(dict(zip(next_names, next_id)))\n",
    "        )\n",
    "\n",
    "        new_flags = [when((col(f'nextID_{s}') == col(f'prevID_{s}')) & (col(f'nextID_{s}') > 0), True).otherwise(col(f'flag_{s}')) for s in sensors]   \n",
    "        df_flag = df_newID.withColumns(dict(zip(flag_names, new_flags)))\n",
    "\n",
    "        return df_flag .select(\"BlockID\", \"window_id\", \"when\", 'S117' ,'didSwitch_S117','startGroup_S117','anomalyID_S117','count_S117', 'flag_S117', 'prevID_S117', 'nextID_S117')\n",
    "    \n",
    "    else:\n",
    "        return df_flag .select(\"BlockID\", \"window_id\", \"when\", *sensors, *flag_names, \"flag_anomaly\")"
   ]
  },
  {
   "cell_type": "code",
   "execution_count": 28,
   "id": "77b66a0f-059b-4c14-bbaf-c7c0e3aeb60e",
   "metadata": {
    "scrolled": true
   },
   "outputs": [
    {
     "name": "stdout",
     "output_type": "stream",
     "text": [
      "CPU times: user 29.2 ms, sys: 9.27 ms, total: 38.5 ms\n",
      "Wall time: 321 ms\n"
     ]
    }
   ],
   "source": [
    "%%time\n",
    "\n",
    "# preatty heavy to look better into detect_anomalies() function\n",
    "df_anomalies = detect_anomalies(\n",
    "    df = df_blocks,\n",
    "    time_separator = 60*30, # seconds\n",
    "    threshold = 6,\n",
    "    sensors = engines,\n",
    "    debug = False\n",
    ")"
   ]
  },
  {
   "cell_type": "code",
   "execution_count": 29,
   "id": "c09ad9e5-a674-4d26-b8fa-1e8a21b4a17f",
   "metadata": {},
   "outputs": [
    {
     "name": "stderr",
     "output_type": "stream",
     "text": [
      "                                                                                "
     ]
    },
    {
     "name": "stdout",
     "output_type": "stream",
     "text": [
      "+-------+---------+----------+----+----+----+----+---------+---------+---------+---------+------------+\n",
      "|BlockID|window_id|when      |S117|S118|S169|S170|flag_S117|flag_S118|flag_S169|flag_S170|flag_anomaly|\n",
      "+-------+---------+----------+----+----+----+----+---------+---------+---------+---------+------------+\n",
      "|102    |148      |1602568710|1   |0   |1   |1   |true     |true     |false    |false    |1           |\n",
      "|102    |150      |1602568830|0   |0   |0   |1   |true     |false    |false    |false    |1           |\n",
      "|102    |168      |1602570090|1   |0   |0   |1   |true     |true     |false    |false    |1           |\n",
      "+-------+---------+----------+----+----+----+----+---------+---------+---------+---------+------------+\n",
      "only showing top 3 rows\n",
      "\n",
      "CPU times: user 11.4 ms, sys: 735 μs, total: 12.1 ms\n",
      "Wall time: 3.94 s\n"
     ]
    },
    {
     "name": "stderr",
     "output_type": "stream",
     "text": [
      "                                                                                "
     ]
    }
   ],
   "source": [
    "%%time\n",
    "\n",
    "df_anomalies = spark.createDataFrame(df_anomalies.rdd, df_anomalies.schema)  # Break lineage\n",
    "df_anomalies = df_anomalies.persist()\n",
    "# see which block had an anomaly regarding engine \"S117\"\n",
    "df_anomalies.filter('flag_S117').show(3, truncate=False)"
   ]
  },
  {
   "cell_type": "code",
   "execution_count": 30,
   "id": "73b36e9e-2da3-4745-8e58-3160e776d7d4",
   "metadata": {},
   "outputs": [],
   "source": [
    "def inspect_anomalies(df, sensor, blockID):\n",
    "\n",
    "    def extract_column(df, column, default):\n",
    "        return df.filter(col('BlockID') == blockID) \\\n",
    "            .select(when(col(column).isNull(), default).otherwise(col(column))) \\\n",
    "            .rdd.flatMap(lambda x: x).collect()\n",
    "\n",
    "    values    = extract_column(df, sensor, 0)\n",
    "    anomalies = extract_column(df, f'flag_{sensor}', False)\n",
    "    t = range(len(anomalies))\n",
    "\n",
    "    plt.bar(t, values, width = 1, alpha = 0.5, edgecolor=None, lw=1)\n",
    "    plt.bar(t, anomalies, width= 1, alpha = 0.5, label=\"anomaly period\")\n",
    "    plt.xlabel(\"Minutes\")\n",
    "    plt.ylabel(sensor)\n",
    "    plt.legend(loc='lower right')\n",
    "    plt.title(f\"Block N.{blockID}\")\n",
    "    plt.legend()\n",
    "    plt.show()"
   ]
  },
  {
   "cell_type": "code",
   "execution_count": 31,
   "id": "0e5d9fb3-3a43-4f9a-9bea-837f9a437eda",
   "metadata": {},
   "outputs": [
    {
     "data": {
      "image/png": "[encoded data removed]",
      "text/plain": [
       "<Figure size 640x480 with 1 Axes>"
      ]
     },
     "metadata": {},
     "output_type": "display_data"
    }
   ],
   "source": [
    "inspect_anomalies(df_anomalies, 'S117', 102)"
   ]
  },
  {
   "cell_type": "code",
   "execution_count": 32,
   "id": "c876b1b4-ab69-44c1-b31b-1017a9eecfc5",
   "metadata": {},
   "outputs": [
    {
     "name": "stderr",
     "output_type": "stream",
     "text": [
      "[Stage 2255:===========================================>          (52 + 8) / 64]"
     ]
    },
    {
     "name": "stdout",
     "output_type": "stream",
     "text": [
      "+----------+-------+----+----+--------+---+-----+---+-----+-----+-----+---+-----+-----+-----+-----+-----+---+---+-----+-----+-----+----+-----+----+-----+---+----+----+----+----+----+----+----+----+----+----+----+----+----+-----+-----+----+-----+----+----+-----+-----+---+----+----+-----+-----+-----+---+----+-----+----+-----+----+----+---+----+----+----+----+----+----+----+----+----+----+----+----+---+---+------+------+------+------+------+------+---+-----+---+---+---+---+-----+-----+-----+---+---+---+-----+-----+---+---+---+---+---+---+---+---+-----+---+---+---+---+---+-----+-----+---+---+-----+----+-----+---+---+---+---+-----+---+----+----+----+---+---+---+-------+---+---+---+---+---+-------------+---------+-------------------+-------------------+----------+------------+\n",
      "|      when|BlockID|  A5|  A9|ComError| P1|  P10|P15|  P16|  P17|  P18| P2|   P5|   P6|   P7|   P8|   P9| S1|S10| S100| S101| S102|S106| S107|S108| S109|S11|S110|S112|S113|S114|S115|S117|S118|S122|S123|S124|S125|S126|S127| S128| S129|S130| S137|S138|S140| S143| S147|S15|S151|S154| S157| S158| S159|S16|S163| S164|S165| S166|S167|S169|S17|S170|S171|S172|S173|S174|S175|S176|S178|S179|S180|S181|S183|S19| S2|  S201|  S202|  S203|  S204|  S205|  S206|S25|   S3|S33|S34|S35|S37|  S39|  S40|  S41|S42|S43|S45|  S46|  S47|S49| S5|S50|S53|S54|S55|S56|S57|   S6|S63|S64|S69| S7|S70|  S71|  S72|S73| S8|  S80| S81|  S83|S86| S9|S90|S94|  S97|SA1|SA10|SA11|SA12|SA2|SA3|SA4|    SA5|SA6|SA7|SA8|SA9| SW|is_artificial|window_id|       window_start|         window_end|TimeDiff_s|flag_anomaly|\n",
      "+----------+-------+----+----+--------+---+-----+---+-----+-----+-----+---+-----+-----+-----+-----+-----+---+---+-----+-----+-----+----+-----+----+-----+---+----+----+----+----+----+----+----+----+----+----+----+----+----+-----+-----+----+-----+----+----+-----+-----+---+----+----+-----+-----+-----+---+----+-----+----+-----+----+----+---+----+----+----+----+----+----+----+----+----+----+----+----+---+---+------+------+------+------+------+------+---+-----+---+---+---+---+-----+-----+-----+---+---+---+-----+-----+---+---+---+---+---+---+---+---+-----+---+---+---+---+---+-----+-----+---+---+-----+----+-----+---+---+---+---+-----+---+----+----+----+---+---+---+-------+---+---+---+---+---+-------------+---------+-------------------+-------------------+----------+------------+\n",
      "|1601673870|      9|NULL|NULL|    NULL|0.0|450.0|  0|125.0|400.0|450.0|  0|300.0|180.0|260.0|150.0|300.0|  0|0.0|159.0|159.0|159.0|   0|254.0|   0|261.0|  0|   0|   1|   1|   0|   0|   0|   0| 0.0| 1.0| 9.0| 0.0|11.0|   0|109.0|110.0| 0.0|109.0|44.0|24.0|100.0|100.0|  0| 0.0|19.0|139.0|140.0|140.0|  0|   0|215.0|   0|283.0|   0|   0|  0|   0|   1|   1|   0|   0|   0|   0| 0.0| 1.0| 2.0| 0.0|   0|  0|0.0|7183.0|7183.0|7183.0|7183.0|7179.0|7179.0|  0|125.0|  0|  0|  0|0.0|101.0|101.0|221.0|  0|  0|  0|233.0|451.0|  0|0.0|  0|  1|  0|  0|  0|  0|450.0|  0|  0|  0|  1|0.0|110.0|110.0|0.0|  1|110.0|-3.0|-29.0|0.0|0.0|0.0|0.0|-27.0|0.0| 0.0| 0.0|   0|0.0|  1|  0|18496.0|  0|0.0|  0|0.0|  1|        false|        2|2020-10-02 21:24:00|2020-10-02 21:25:00|        60|           0|\n",
      "+----------+-------+----+----+--------+---+-----+---+-----+-----+-----+---+-----+-----+-----+-----+-----+---+---+-----+-----+-----+----+-----+----+-----+---+----+----+----+----+----+----+----+----+----+----+----+----+----+-----+-----+----+-----+----+----+-----+-----+---+----+----+-----+-----+-----+---+----+-----+----+-----+----+----+---+----+----+----+----+----+----+----+----+----+----+----+----+---+---+------+------+------+------+------+------+---+-----+---+---+---+---+-----+-----+-----+---+---+---+-----+-----+---+---+---+---+---+---+---+---+-----+---+---+---+---+---+-----+-----+---+---+-----+----+-----+---+---+---+---+-----+---+----+----+----+---+---+---+-------+---+---+---+---+---+-------------+---------+-------------------+-------------------+----------+------------+\n",
      "only showing top 1 row\n",
      "\n"
     ]
    },
    {
     "name": "stderr",
     "output_type": "stream",
     "text": [
      "                                                                                "
     ]
    },
    {
     "data": {
      "text/plain": [
       "DataFrame[BlockID: bigint, when: bigint, A5: int, A9: int, ComError: int, P1: double, P10: double, P15: int, P16: double, P17: double, P18: double, P2: int, P5: double, P6: double, P7: double, P8: double, P9: double, S1: int, S10: double, S100: double, S101: double, S102: double, S106: int, S107: double, S108: int, S109: double, S11: int, S110: int, S112: int, S113: int, S114: int, S115: int, S117: int, S118: int, S122: double, S123: double, S124: double, S125: double, S126: double, S127: int, S128: double, S129: double, S130: double, S137: double, S138: double, S140: double, S143: double, S147: double, S15: int, S151: double, S154: double, S157: double, S158: double, S159: double, S16: int, S163: int, S164: double, S165: int, S166: double, S167: int, S169: int, S17: int, S170: int, S171: int, S172: int, S173: int, S174: int, S175: int, S176: int, S178: double, S179: double, S180: double, S181: double, S183: int, S19: int, S2: double, S201: double, S202: double, S203: double, S204: double, S205: double, S206: double, S25: int, S3: double, S33: int, S34: int, S35: int, S37: double, S39: double, S40: double, S41: double, S42: int, S43: int, S45: int, S46: double, S47: double, S49: int, S5: double, S50: int, S53: int, S54: int, S55: int, S56: int, S57: int, S6: double, S63: int, S64: int, S69: int, S7: int, S70: double, S71: double, S72: double, S73: double, S8: int, S80: double, S81: double, S83: double, S86: double, S9: double, S90: double, S94: double, S97: double, SA1: double, SA10: double, SA11: double, SA12: int, SA2: double, SA3: int, SA4: int, SA5: double, SA6: int, SA7: double, SA8: int, SA9: double, SW: int, is_artificial: boolean, window_id: int, window_start: string, window_end: string, TimeDiff_s: bigint]"
      ]
     },
     "execution_count": 32,
     "metadata": {},
     "output_type": "execute_result"
    }
   ],
   "source": [
    "# Join on `when` and take just `flag_anomaly`\n",
    "\n",
    "df_anom = df_anomalies.select('when', 'flag_anomaly')\n",
    "df_anom = spark.createDataFrame(df_anom.rdd, df_anom.schema)  # Break lineage\n",
    "df_blocks_anom = df_blocks.join( df_anom, on='when', how='left' )\n",
    "df_blocks_anom = df_blocks_anom.persist()\n",
    "df_blocks_anom.show(1)\n",
    "\n",
    "df_blocks.unpersist()"
   ]
  },
  {
   "cell_type": "markdown",
   "id": "e38515ef-2ff7-4e90-b897-3a65dcfde423",
   "metadata": {},
   "source": [
    "# A5 A9 Alarms"
   ]
  },
  {
   "cell_type": "code",
   "execution_count": 33,
   "id": "fcb321d1-2adb-49b0-8964-5954fc64d3c0",
   "metadata": {},
   "outputs": [],
   "source": [
    "def extract_alarms(df: DataFrame, columns=[\"A5\", \"A9\"], bits=[6, 7, 8]) -> DataFrame:\n",
    "    for col_name in columns:\n",
    "        for bit in bits:\n",
    "            convert_bit = bit - 1  # bit 1 is LSB\n",
    "            df = df.withColumn( f\"{bit}-{col_name}\", ((col(col_name).bitwiseAND(1 << convert_bit)) > 0).cast(\"int\") )\n",
    "    \n",
    "    all_bit_cols = [col(f\"{bit}-{col_name}\") for col_name in columns for bit in bits]\n",
    "    \n",
    "    # condition ad least one alarm to get overheating\n",
    "    condition = sum(all_bit_cols) > 0 # already menaged NULL, it gives 0\n",
    "    df = df.withColumn(\"overheating\", when(condition, 1).otherwise(0).cast(\"int\"))\n",
    " \n",
    "    return df"
   ]
  },
  {
   "cell_type": "code",
   "execution_count": 34,
   "id": "b4ed71ba-db40-4ecb-876c-cd456a66aebd",
   "metadata": {},
   "outputs": [
    {
     "name": "stdout",
     "output_type": "stream",
     "text": [
      "+----------+----+----+----+----+----+----+----+----+-----------+\n",
      "|      when|  A5|  A9|6-A5|7-A5|8-A5|6-A9|7-A9|8-A9|overheating|\n",
      "+----------+----+----+----+----+----+----+----+----+-----------+\n",
      "|1601673870|NULL|NULL|NULL|NULL|NULL|NULL|NULL|NULL|          0|\n",
      "|1601677770|NULL|NULL|NULL|NULL|NULL|NULL|NULL|NULL|          0|\n",
      "|1601678910|NULL|NULL|NULL|NULL|NULL|NULL|NULL|NULL|          0|\n",
      "+----------+----+----+----+----+----+----+----+----+-----------+\n",
      "only showing top 3 rows\n",
      "\n",
      "+----------+----+----+----+----+----+----+----+----+-----------+\n",
      "|      when|  A5|  A9|6-A5|7-A5|8-A5|6-A9|7-A9|8-A9|overheating|\n",
      "+----------+----+----+----+----+----+----+----+----+-----------+\n",
      "|1602376050|   0|   0|   0|   0|   0|   0|   0|   0|          0|\n",
      "|1603240110|   0|   0|   0|   0|   0|   0|   0|   0|          0|\n",
      "|1611813750|NULL|8256|NULL|NULL|NULL|   0|   1|   0|          0|\n",
      "+----------+----+----+----+----+----+----+----+----+-----------+\n",
      "only showing top 3 rows\n",
      "\n",
      "+----------+---+---+----+----+----+----+----+----+-----------+\n",
      "|      when| A5| A9|6-A5|7-A5|8-A5|6-A9|7-A9|8-A9|overheating|\n",
      "+----------+---+---+----+----+----+----+----+----+-----------+\n",
      "|1617030450| 64|  0|   0|   1|   0|   0|   0|   0|          1|\n",
      "|1616112810|  0| 64|   0|   0|   0|   0|   1|   0|          1|\n",
      "|1615334550|  0| 64|   0|   0|   0|   0|   1|   0|          1|\n",
      "+----------+---+---+----+----+----+----+----+----+-----------+\n",
      "only showing top 3 rows\n",
      "\n"
     ]
    }
   ],
   "source": [
    "# Extract bits from alarms\n",
    "df_alarms = extract_alarms(df_blocks_anom.select(\"when\",\"A5\",\"A9\"), columns=[\"A5\", \"A9\"], bits=[6, 7, 8])\n",
    "\n",
    "df_alarms.show(3)\n",
    "df_alarms.where( (col(\"A5\").isNotNull()) | (col(\"A9\").isNotNull()) ).show(3)\n",
    "df_alarms.where( col(\"overheating\") == 1 ).show(3)"
   ]
  },
  {
   "cell_type": "code",
   "execution_count": 35,
   "id": "f694c257-bb55-49ea-97f4-4c08c6832356",
   "metadata": {},
   "outputs": [
    {
     "name": "stderr",
     "output_type": "stream",
     "text": [
      "25/08/18 17:14:13 WARN DAGScheduler: Broadcasting large task binary with size 1054.8 KiB\n",
      "25/08/18 17:14:18 WARN DAGScheduler: Broadcasting large task binary with size 1077.0 KiB\n"
     ]
    },
    {
     "name": "stdout",
     "output_type": "stream",
     "text": [
      "+----------+-------+----+----+--------+---+-----+---+-----+-----+-----+---+-----+-----+-----+-----+-----+---+---+-----+-----+-----+----+-----+----+-----+---+----+----+----+----+----+----+----+----+----+----+----+----+----+-----+-----+----+-----+----+----+-----+-----+---+----+----+-----+-----+-----+---+----+-----+----+-----+----+----+---+----+----+----+----+----+----+----+----+----+-------+----+----+---+---+------+------+------+------+------+------+---+-----+---+---+---+---+-----+-----+-----+---+---+---+-----+-----+---+---+---+---+---+---+---+---+-----+---+---+---+---+---+-----+-----+---+---+-----+-----+-----+---+---+---+---+-----+---+----+----+----+---+---+---+-------+---+---+---+---+---+-------------+---------+-------------------+-------------------+----------+------------+-----------+\n",
      "|      when|BlockID|  A5|  A9|ComError| P1|  P10|P15|  P16|  P17|  P18| P2|   P5|   P6|   P7|   P8|   P9| S1|S10| S100| S101| S102|S106| S107|S108| S109|S11|S110|S112|S113|S114|S115|S117|S118|S122|S123|S124|S125|S126|S127| S128| S129|S130| S137|S138|S140| S143| S147|S15|S151|S154| S157| S158| S159|S16|S163| S164|S165| S166|S167|S169|S17|S170|S171|S172|S173|S174|S175|S176|S178|S179|   S180|S181|S183|S19| S2|  S201|  S202|  S203|  S204|  S205|  S206|S25|   S3|S33|S34|S35|S37|  S39|  S40|  S41|S42|S43|S45|  S46|  S47|S49| S5|S50|S53|S54|S55|S56|S57|   S6|S63|S64|S69| S7|S70|  S71|  S72|S73| S8|  S80|  S81|  S83|S86| S9|S90|S94|  S97|SA1|SA10|SA11|SA12|SA2|SA3|SA4|    SA5|SA6|SA7|SA8|SA9| SW|is_artificial|window_id|       window_start|         window_end|TimeDiff_s|flag_anomaly|overheating|\n",
      "+----------+-------+----+----+--------+---+-----+---+-----+-----+-----+---+-----+-----+-----+-----+-----+---+---+-----+-----+-----+----+-----+----+-----+---+----+----+----+----+----+----+----+----+----+----+----+----+----+-----+-----+----+-----+----+----+-----+-----+---+----+----+-----+-----+-----+---+----+-----+----+-----+----+----+---+----+----+----+----+----+----+----+----+----+-------+----+----+---+---+------+------+------+------+------+------+---+-----+---+---+---+---+-----+-----+-----+---+---+---+-----+-----+---+---+---+---+---+---+---+---+-----+---+---+---+---+---+-----+-----+---+---+-----+-----+-----+---+---+---+---+-----+---+----+----+----+---+---+---+-------+---+---+---+---+---+-------------+---------+-------------------+-------------------+----------+------------+-----------+\n",
      "|1601511570|      0|NULL|NULL|    NULL|0.0|450.0|  0|125.0|400.0|450.0|  0|300.0|180.0|260.0|150.0|300.0|  0|0.0|158.0|158.0|158.0|   0|222.0|   0|245.0|  0|   0|   1|   1|   0|   0|   0|   0| 0.0| 1.0|36.0| 0.0|11.0|   0|109.0|110.0| 0.0|109.0|70.0|33.0|100.0|100.0|  0| 0.0|34.0|119.0|120.0|119.0|  0|   0|172.0|   0|255.0|   0|   0|  0|   0|   1|   1|   0|   0|   0|   0| 0.0| 1.0|65528.0| 0.0|   0|  0|0.0|7183.0|7183.0|7183.0|7183.0|7179.0|7179.0|  0|125.0|  0|  0|  0|0.0|104.0|104.0|173.0|  0|  0|  0|216.0|464.0|  0|0.0|  0|  1|  0|  0|  0|  0|450.0|  0|  0|  0|  1|0.0|110.0|110.0|0.0|  1|110.0|-18.0|-57.0|0.0|0.0|0.0|0.0|-54.0|0.0| 0.0| 0.0|   0|0.0|  1|  0|18496.0|  0|0.0|  0|0.0|  1|        false|       19|2020-10-01 00:19:00|2020-10-01 00:20:00|        60|           0|          0|\n",
      "+----------+-------+----+----+--------+---+-----+---+-----+-----+-----+---+-----+-----+-----+-----+-----+---+---+-----+-----+-----+----+-----+----+-----+---+----+----+----+----+----+----+----+----+----+----+----+----+----+-----+-----+----+-----+----+----+-----+-----+---+----+----+-----+-----+-----+---+----+-----+----+-----+----+----+---+----+----+----+----+----+----+----+----+----+-------+----+----+---+---+------+------+------+------+------+------+---+-----+---+---+---+---+-----+-----+-----+---+---+---+-----+-----+---+---+---+---+---+---+---+---+-----+---+---+---+---+---+-----+-----+---+---+-----+-----+-----+---+---+---+---+-----+---+----+----+----+---+---+---+-------+---+---+---+---+---+-------------+---------+-------------------+-------------------+----------+------------+-----------+\n",
      "only showing top 1 row\n",
      "\n"
     ]
    },
    {
     "name": "stderr",
     "output_type": "stream",
     "text": [
      "                                                                                "
     ]
    },
    {
     "data": {
      "text/plain": [
       "DataFrame[when: bigint, BlockID: bigint, A5: int, A9: int, ComError: int, P1: double, P10: double, P15: int, P16: double, P17: double, P18: double, P2: int, P5: double, P6: double, P7: double, P8: double, P9: double, S1: int, S10: double, S100: double, S101: double, S102: double, S106: int, S107: double, S108: int, S109: double, S11: int, S110: int, S112: int, S113: int, S114: int, S115: int, S117: int, S118: int, S122: double, S123: double, S124: double, S125: double, S126: double, S127: int, S128: double, S129: double, S130: double, S137: double, S138: double, S140: double, S143: double, S147: double, S15: int, S151: double, S154: double, S157: double, S158: double, S159: double, S16: int, S163: int, S164: double, S165: int, S166: double, S167: int, S169: int, S17: int, S170: int, S171: int, S172: int, S173: int, S174: int, S175: int, S176: int, S178: double, S179: double, S180: double, S181: double, S183: int, S19: int, S2: double, S201: double, S202: double, S203: double, S204: double, S205: double, S206: double, S25: int, S3: double, S33: int, S34: int, S35: int, S37: double, S39: double, S40: double, S41: double, S42: int, S43: int, S45: int, S46: double, S47: double, S49: int, S5: double, S50: int, S53: int, S54: int, S55: int, S56: int, S57: int, S6: double, S63: int, S64: int, S69: int, S7: int, S70: double, S71: double, S72: double, S73: double, S8: int, S80: double, S81: double, S83: double, S86: double, S9: double, S90: double, S94: double, S97: double, SA1: double, SA10: double, SA11: double, SA12: int, SA2: double, SA3: int, SA4: int, SA5: double, SA6: int, SA7: double, SA8: int, SA9: double, SW: int, is_artificial: boolean, window_id: int, window_start: string, window_end: string, TimeDiff_s: bigint, flag_anomaly: int]"
      ]
     },
     "execution_count": 35,
     "metadata": {},
     "output_type": "execute_result"
    }
   ],
   "source": [
    "# add overheating columns in order to obtain final df ( all sensors + anomaly + overheating )\n",
    "\n",
    "df_blocks_anom_alarm = df_blocks_anom.join( df_alarms.select('when', 'overheating') , on='when', how='left' )\n",
    "df_final = spark.createDataFrame(df_blocks_anom_alarm.rdd, df_blocks_anom_alarm.schema)  # Break lineage\n",
    "df_final = df_final.persist()\n",
    "df_final.show(1)\n",
    "\n",
    "df_blocks_anom.unpersist()"
   ]
  },
  {
   "cell_type": "markdown",
   "id": "078a2ec2-300d-4f32-afe5-ce274a6784c0",
   "metadata": {},
   "source": [
    "# Correlations setup ( anomaly, S125-S181, A5-A9)"
   ]
  },
  {
   "cell_type": "code",
   "execution_count": 36,
   "id": "03bd24ea-fda1-4359-ac46-0ec9fcf2cc13",
   "metadata": {},
   "outputs": [
    {
     "name": "stderr",
     "output_type": "stream",
     "text": [
      "25/08/18 17:14:19 WARN DAGScheduler: Broadcasting large task binary with size 1378.3 KiB\n",
      "25/08/18 17:17:17 WARN DAGScheduler: Broadcasting large task binary with size 1556.5 KiB\n",
      "25/08/18 17:17:19 WARN DAGScheduler: Broadcasting large task binary with size 1670.4 KiB\n",
      "                                                                                "
     ]
    }
   ],
   "source": [
    "# consider only changing sensors for correlations tasks\n",
    "\n",
    "real_sensors = [s for s in sensors if s not in [\"A5\", \"A9\", *engines]]\n",
    "\n",
    "counts = df_final.agg(*(countDistinct(c).alias(c) for c in real_sensors)).first().asDict()\n",
    "\n",
    "useful_sensors = [c for c, v in counts.items() if v > 1]"
   ]
  },
  {
   "cell_type": "code",
   "execution_count": 37,
   "id": "25e31325-4ce2-4210-95b0-94c97d9e4b76",
   "metadata": {},
   "outputs": [
    {
     "name": "stdout",
     "output_type": "stream",
     "text": [
      "There are 97 sensors with more than one distinct values\n",
      "['ComError', 'P1', 'P10', 'P16', 'P17', 'P18', 'P2', 'P5', 'P6', 'P7', 'P8', 'P9', 'S1', 'S10', 'S100', 'S101', 'S102', 'S107', 'S109', 'S112', 'S113', 'S114', 'S115', 'S122', 'S123', 'S124', 'S125', 'S126', 'S127', 'S128', 'S129', 'S130', 'S137', 'S138', 'S140', 'S143', 'S147', 'S151', 'S154', 'S157', 'S158', 'S159', 'S164', 'S166', 'S171', 'S172', 'S173', 'S174', 'S178', 'S179', 'S180', 'S181', 'S183', 'S2', 'S201', 'S202', 'S203', 'S204', 'S205', 'S206', 'S25', 'S3', 'S33', 'S35', 'S37', 'S39', 'S40', 'S41', 'S46', 'S47', 'S5', 'S53', 'S55', 'S6', 'S64', 'S7', 'S70', 'S71', 'S72', 'S73', 'S8', 'S80', 'S81', 'S83', 'S86', 'S9', 'S90', 'S94', 'S97', 'SA1', 'SA10', 'SA11', 'SA2', 'SA3', 'SA5', 'SA7', 'SA9']\n"
     ]
    }
   ],
   "source": [
    "print(f\"There are {len(useful_sensors)} sensors with more than one distinct values\")\n",
    "print(useful_sensors)"
   ]
  },
  {
   "cell_type": "code",
   "execution_count": 38,
   "id": "ff2be2ec-a36b-409a-83a6-5ef7234e3b31",
   "metadata": {},
   "outputs": [],
   "source": [
    "def correlations(df, sensors_list, target_col, batch_size=25):\n",
    "    \"\"\"\n",
    "    Compute correlations between sensors and target column in batches.\n",
    "    Returns sorted DataFrame by absolute correlation (descending).\n",
    "    \"\"\"   \n",
    "    all_correlations = []\n",
    "    \n",
    "    # Process sensors in batches to avoid broadcasting large tasks\n",
    "    for i in range(0, len(sensors_list), batch_size):\n",
    "        batch_sensors = sensors_list[i:i + batch_size]\n",
    "        \n",
    "        # Create correlation expressions for current batch\n",
    "        corr_expressions = [corr(target_col, sensor).alias(f\"corr_{sensor}\") for sensor in batch_sensors]\n",
    "        \n",
    "        # Execute correlations for this batch\n",
    "        batch_results = df.agg(*corr_expressions).collect()[0]\n",
    "        \n",
    "        # Extract correlation values (handle nulls as 0.0)\n",
    "        batch_correlations = [batch_results[f\"corr_{sensor}\"] or 0.0 \n",
    "                            for sensor in batch_sensors]\n",
    "        all_correlations.extend(batch_correlations)\n",
    "    \n",
    "    # Create DataFrame with results\n",
    "    results_df = pd.DataFrame({\n",
    "        \"Sensors\": sensors_list, \n",
    "        \"Correlations\": all_correlations\n",
    "    })\n",
    "    \n",
    "    # Sort by absolute correlation (highest first)\n",
    "    sorted_results = results_df.reindex(\n",
    "        results_df[\"Correlations\"].abs().sort_values(ascending=False).index\n",
    "    ).reset_index(drop=True)\n",
    "    \n",
    "    return sorted_results"
   ]
  },
  {
   "cell_type": "code",
   "execution_count": 39,
   "id": "8f011e23-15b7-4944-a64a-7db67abfd5ba",
   "metadata": {},
   "outputs": [],
   "source": [
    "def plot_correlations(df_spark, target_col, feature_cols, corr_df):\n",
    "    import matplotlib.pyplot as plt\n",
    "    pd_df = df_spark.select(target_col, *feature_cols).toPandas()\n",
    "    \n",
    "    for feature in feature_cols:\n",
    "        corr_val = corr_df[corr_df[\"Sensors\"] == feature][\"Correlations\"].values\n",
    "        corr_str = f\"{corr_val[0]:.3f}\" if len(corr_val) > 0 else \"N/A\"\n",
    "        \n",
    "        fig, (ax1, ax2) = plt.subplots(1, 2, figsize=(12, 4))\n",
    "        \n",
    "        ax1.scatter(pd_df[feature], pd_df[target_col], color=\"steelblue\", alpha=0.005)\n",
    "        ax1.set_ylabel(target_col)\n",
    "        \n",
    "        for target_val, color in zip([0, 1], [\"steelblue\", \"tomato\"]):\n",
    "            subset = pd_df[pd_df[target_col] == target_val]\n",
    "            ax2.hist(subset[feature], bins=30, alpha=0.5, color=color, \n",
    "                    label=f\"{target_col}={target_val}\", density=True)\n",
    "        \n",
    "        ax2.set_ylabel(\"Density\")\n",
    "        ax2.legend()\n",
    "        \n",
    "        fig.suptitle(f\"{feature} - Correlation: {corr_str}\")\n",
    "        plt.tight_layout()\n",
    "        plt.show()"
   ]
  },
  {
   "cell_type": "markdown",
   "id": "964295f8-4de3-49d3-8794-9b0141804b46",
   "metadata": {},
   "source": [
    "### PCA"
   ]
  },
  {
   "cell_type": "code",
   "execution_count": 43,
   "id": "fc3e63fc-9502-4e49-ba43-30e920febebd",
   "metadata": {},
   "outputs": [
    {
     "name": "stdout",
     "output_type": "stream",
     "text": [
      "root\n",
      " |-- ComError: integer (nullable = true)\n",
      " |-- P1: double (nullable = true)\n",
      " |-- P10: double (nullable = true)\n",
      " |-- P16: double (nullable = true)\n",
      " |-- P17: double (nullable = true)\n",
      " |-- P18: double (nullable = true)\n",
      " |-- P2: integer (nullable = true)\n",
      " |-- P5: double (nullable = true)\n",
      " |-- P6: double (nullable = true)\n",
      " |-- P7: double (nullable = true)\n",
      " |-- P8: double (nullable = true)\n",
      " |-- P9: double (nullable = true)\n",
      " |-- S1: integer (nullable = true)\n",
      " |-- S10: double (nullable = true)\n",
      " |-- S100: double (nullable = true)\n",
      " |-- S101: double (nullable = true)\n",
      " |-- S102: double (nullable = true)\n",
      " |-- S107: double (nullable = true)\n",
      " |-- S109: double (nullable = true)\n",
      " |-- S112: integer (nullable = true)\n",
      " |-- S113: integer (nullable = true)\n",
      " |-- S114: integer (nullable = true)\n",
      " |-- S115: integer (nullable = true)\n",
      " |-- S122: double (nullable = true)\n",
      " |-- S123: double (nullable = true)\n",
      " |-- S124: double (nullable = true)\n",
      " |-- S125: double (nullable = true)\n",
      " |-- S126: double (nullable = true)\n",
      " |-- S127: integer (nullable = true)\n",
      " |-- S128: double (nullable = true)\n",
      " |-- S129: double (nullable = true)\n",
      " |-- S130: double (nullable = true)\n",
      " |-- S137: double (nullable = true)\n",
      " |-- S138: double (nullable = true)\n",
      " |-- S140: double (nullable = true)\n",
      " |-- S143: double (nullable = true)\n",
      " |-- S147: double (nullable = true)\n",
      " |-- S151: double (nullable = true)\n",
      " |-- S154: double (nullable = true)\n",
      " |-- S157: double (nullable = true)\n",
      " |-- S158: double (nullable = true)\n",
      " |-- S159: double (nullable = true)\n",
      " |-- S164: double (nullable = true)\n",
      " |-- S166: double (nullable = true)\n",
      " |-- S171: integer (nullable = true)\n",
      " |-- S172: integer (nullable = true)\n",
      " |-- S173: integer (nullable = true)\n",
      " |-- S174: integer (nullable = true)\n",
      " |-- S178: double (nullable = true)\n",
      " |-- S179: double (nullable = true)\n",
      " |-- S180: double (nullable = true)\n",
      " |-- S181: double (nullable = true)\n",
      " |-- S183: integer (nullable = true)\n",
      " |-- S2: double (nullable = true)\n",
      " |-- S201: double (nullable = true)\n",
      " |-- S202: double (nullable = true)\n",
      " |-- S203: double (nullable = true)\n",
      " |-- S204: double (nullable = true)\n",
      " |-- S205: double (nullable = true)\n",
      " |-- S206: double (nullable = true)\n",
      " |-- S25: integer (nullable = true)\n",
      " |-- S3: double (nullable = true)\n",
      " |-- S33: integer (nullable = true)\n",
      " |-- S35: integer (nullable = true)\n",
      " |-- S37: double (nullable = true)\n",
      " |-- S39: double (nullable = true)\n",
      " |-- S40: double (nullable = true)\n",
      " |-- S41: double (nullable = true)\n",
      " |-- S46: double (nullable = true)\n",
      " |-- S47: double (nullable = true)\n",
      " |-- S5: double (nullable = true)\n",
      " |-- S53: integer (nullable = true)\n",
      " |-- S55: integer (nullable = true)\n",
      " |-- S6: double (nullable = true)\n",
      " |-- S64: integer (nullable = true)\n",
      " |-- S7: integer (nullable = true)\n",
      " |-- S70: double (nullable = true)\n",
      " |-- S71: double (nullable = true)\n",
      " |-- S72: double (nullable = true)\n",
      " |-- S73: double (nullable = true)\n",
      " |-- S8: integer (nullable = true)\n",
      " |-- S80: double (nullable = true)\n",
      " |-- S81: double (nullable = true)\n",
      " |-- S83: double (nullable = true)\n",
      " |-- S86: double (nullable = true)\n",
      " |-- S9: double (nullable = true)\n",
      " |-- S90: double (nullable = true)\n",
      " |-- S94: double (nullable = true)\n",
      " |-- S97: double (nullable = true)\n",
      " |-- SA1: double (nullable = true)\n",
      " |-- SA10: double (nullable = true)\n",
      " |-- SA11: double (nullable = true)\n",
      " |-- SA2: double (nullable = true)\n",
      " |-- SA3: integer (nullable = true)\n",
      " |-- SA5: double (nullable = true)\n",
      " |-- SA7: double (nullable = true)\n",
      " |-- SA9: double (nullable = true)\n",
      "\n",
      "+--------+----+-----+-----+-----+-----+----+-----+-----+-----+-----+-----+----+----+-----+-----+-----+-----+-----+----+----+----+----+----+----+----+----+----+----+-----+-----+----+-----+----+----+-----+-----+----+----+-----+-----+-----+-----+-----+----+----+----+----+----+----+-------+----+----+----+------+------+------+------+------+------+----+-----+----+----+----+-----+-----+-----+-----+-----+----+----+----+-----+----+----+----+-----+-----+----+----+-----+-----+-----+----+----+----+----+-----+----+----+----+----+----+-------+----+----+\n",
      "|ComError|  P1|  P10|  P16|  P17|  P18|  P2|   P5|   P6|   P7|   P8|   P9|  S1| S10| S100| S101| S102| S107| S109|S112|S113|S114|S115|S122|S123|S124|S125|S126|S127| S128| S129|S130| S137|S138|S140| S143| S147|S151|S154| S157| S158| S159| S164| S166|S171|S172|S173|S174|S178|S179|   S180|S181|S183|  S2|  S201|  S202|  S203|  S204|  S205|  S206| S25|   S3| S33| S35| S37|  S39|  S40|  S41|  S46|  S47|  S5| S53| S55|   S6| S64|  S7| S70|  S71|  S72| S73|  S8|  S80|  S81|  S83| S86|  S9| S90| S94|  S97| SA1|SA10|SA11| SA2| SA3|    SA5| SA7| SA9|\n",
      "+--------+----+-----+-----+-----+-----+----+-----+-----+-----+-----+-----+----+----+-----+-----+-----+-----+-----+----+----+----+----+----+----+----+----+----+----+-----+-----+----+-----+----+----+-----+-----+----+----+-----+-----+-----+-----+-----+----+----+----+----+----+----+-------+----+----+----+------+------+------+------+------+------+----+-----+----+----+----+-----+-----+-----+-----+-----+----+----+----+-----+----+----+----+-----+-----+----+----+-----+-----+-----+----+----+----+----+-----+----+----+----+----+----+-------+----+----+\n",
      "|    NULL| 0.0|450.0|125.0|400.0|450.0|   0|300.0|180.0|260.0|150.0|300.0|   0| 0.0|158.0|158.0|158.0|222.0|245.0|   1|   1|   0|   0| 0.0| 1.0|36.0| 0.0|11.0|   0|109.0|110.0| 0.0|109.0|70.0|33.0|100.0|100.0| 0.0|34.0|119.0|120.0|119.0|172.0|255.0|   1|   1|   0|   0| 0.0| 1.0|65528.0| 0.0|   0| 0.0|7183.0|7183.0|7183.0|7183.0|7179.0|7179.0|   0|125.0|   0|   0| 0.0|104.0|104.0|173.0|216.0|464.0| 0.0|   1|   0|450.0|   0|   1| 0.0|110.0|110.0| 0.0|   1|110.0|-18.0|-57.0| 0.0| 0.0| 0.0| 0.0|-54.0| 0.0| 0.0| 0.0| 0.0|   1|18496.0| 0.0| 0.0|\n",
      "|    NULL| 0.0|450.0|125.0|400.0|450.0|   0|300.0|180.0|260.0|150.0|300.0|   0| 0.0|158.0|158.0|158.0|222.0|245.0|   1|   1|   0|   0| 0.0| 1.0|36.0| 0.0|11.0|   0|109.0|110.0| 0.0|109.0|70.0|33.0|100.0|100.0| 0.0|34.0|119.0|120.0|119.0|172.0|255.0|   1|   1|   0|   0| 0.0| 1.0|65528.0| 0.0|   0| 0.0|7183.0|7183.0|7183.0|7183.0|7179.0|7179.0|   0|125.0|   0|   0| 0.0|105.0|105.0|174.0|216.0|464.0| 0.0|   1|   0|450.0|   0|   1| 0.0|110.0|110.0| 0.0|   1|110.0|-18.0|-57.0| 0.0| 0.0| 0.0| 0.0|-54.0| 0.0| 0.0| 0.0| 0.0|   1|18496.0| 0.0| 0.0|\n",
      "|    NULL| 0.0|450.0|125.0|400.0|450.0|   0|300.0|180.0|260.0|150.0|300.0|   0| 0.0|158.0|158.0|157.0|222.0|243.0|   1|   1|   0|   0| 0.0| 1.0|36.0| 0.0|11.0|   0|109.0|110.0| 0.0|109.0|71.0|36.0|100.0|100.0| 0.0|36.0|118.0|119.0|118.0|193.5|254.0|   1|   1|   0|   0| 0.0| 1.0|65501.5| 0.0|   0| 0.0|7183.0|7183.0|7183.0|7183.0|7179.0|7179.0|   0|125.0|   0|   0| 0.0| 99.0| 99.5|178.0|217.0|461.0| 0.0|   1|   0|450.0|   0|   1| 0.0|110.0|110.0| 0.0|   1|110.0|-21.0|-59.0| 0.0| 0.0| 0.0| 0.0|-56.0| 0.0| 0.0| 0.0| 0.0|   1|18496.0| 0.0| 0.0|\n",
      "|    NULL|NULL| NULL| NULL| NULL| NULL|NULL| NULL| NULL| NULL| NULL| NULL|NULL|NULL| NULL| NULL| NULL| NULL| NULL|NULL|NULL|NULL|NULL|NULL|NULL|NULL|NULL|NULL|NULL| NULL| NULL| 0.0|109.0|75.0|37.0|100.0|100.0| 0.0|39.0|113.0|114.0|114.0|224.0|243.0|   1|   1|   0|   0| 0.0| 1.0|65459.0| 0.0|   0|NULL|7183.0|7183.0|7183.0|7183.0|7179.0|7179.0|NULL| NULL|NULL|NULL|NULL| NULL| NULL| NULL| NULL| NULL|NULL|NULL|NULL| NULL|NULL|NULL|NULL| NULL| NULL|NULL|NULL| NULL| NULL| NULL|NULL|NULL|NULL|NULL| NULL|NULL|NULL|NULL|NULL|NULL|   NULL|NULL|NULL|\n",
      "|    NULL| 0.0|450.0|125.0|400.0|450.0|   0|300.0|180.0|260.0|150.0|300.0|   0| 0.0|157.0|158.0|157.0|217.0|234.0|   1|   1|   0|   0| 0.0| 1.0|39.0| 0.0|11.0|   0|105.0|109.0| 0.0|109.0|75.0|37.0|100.0|100.0| 0.0|39.0|113.0|114.0|114.0|224.0|243.0|   1|   1|   0|   0| 0.0| 1.0|65459.0| 0.0|   0| 0.0|7183.0|7183.0|7183.0|7183.0|7179.0|7179.0|   0|125.0|   0|   0| 0.0| 98.0| 99.0|167.0|236.0|454.0| 0.0|   1|   0|450.0|   0|   1| 0.0|110.0|110.0| 0.0|   1|110.0|-29.0|-67.0| 0.0| 0.0| 0.0| 0.0|-63.0| 0.0| 0.0| 0.0| 0.0|   1|18496.0| 0.0| 0.0|\n",
      "+--------+----+-----+-----+-----+-----+----+-----+-----+-----+-----+-----+----+----+-----+-----+-----+-----+-----+----+----+----+----+----+----+----+----+----+----+-----+-----+----+-----+----+----+-----+-----+----+----+-----+-----+-----+-----+-----+----+----+----+----+----+----+-------+----+----+----+------+------+------+------+------+------+----+-----+----+----+----+-----+-----+-----+-----+-----+----+----+----+-----+----+----+----+-----+-----+----+----+-----+-----+-----+----+----+----+----+-----+----+----+----+----+----+-------+----+----+\n",
      "only showing top 5 rows\n",
      "\n"
     ]
    }
   ],
   "source": [
    "df_anomalies_n = df_final\n",
    "df_anomalies_n = df_anomalies_n.select(useful_sensors)\n",
    "df_anomalies_n.printSchema()\n",
    "df_anomalies_n.show(5)"
   ]
  },
  {
   "cell_type": "code",
   "execution_count": 44,
   "id": "2b901cea-cb88-4e26-858d-e06db6ab83c4",
   "metadata": {},
   "outputs": [
    {
     "ename": "Py4JJavaError",
     "evalue": "An error occurred while calling z:org.apache.spark.api.python.PythonRDD.collectAndServe.\n: org.apache.spark.SparkException: Job aborted due to stage failure: Task 9 in stage 2668.0 failed 4 times, most recent failure: Lost task 9.3 in stage 2668.0 (TID 11646) (10.67.22.135 executor 0): org.apache.spark.SparkException: [FAILED_EXECUTE_UDF] Failed to execute user defined function (`VectorAssembler$$Lambda$4745/0x00007fe25902e2a8`: (struct<ComError:double,P1:double,P10:double,P16:double,P17:double,P18:double,P2:double,P5:double,P6:double,P7:double,P8:double,P9:double,S1:double,S10:double,S100:double,S101:double,S102:double,S107:double,S109:double,S112:double,S113:double,S114:double,S115:double,S122:double,S123:double,S124:double,S125:double,S126:double,S127:double,S128:double,S129:double,S130:double,S137:double,S138:double,S140:double,S143:double,S147:double,S151:double,S154:double,S157:double,S158:double,S159:double,S164:double,S166:double,S171:double,S172:double,S173:double,S174:double,S178:double,S179:double,S180:double,S181:double,S183:double,S2:double,S201:double,S202:double,S203:double,S204:double,S205:double,S206:double,S25:double,S3:double,S33:double,S35:double,S37:double,S39:double,S40:double,S41:double,S46:double,S47:double,S5:double,S53:double,S55:double,S6:double,S64:double,S7:double,S70:double,S71:double,S72:double,S73:double,S8:double,S80:double,S81:double,S83:double,S86:double,S9:double,S90:double,S94:double,S97:double,SA1:double,SA10:double,SA11:double,SA2:double,SA3:double,SA5:double,SA7:double,SA9:double>) => struct<type:tinyint,size:int,indices:array<int>,values:array<double>>).\n\tat org.apache.spark.sql.errors.QueryExecutionErrors$.failedExecuteUserDefinedFunctionError(QueryExecutionErrors.scala:198)\n\tat org.apache.spark.sql.errors.QueryExecutionErrors.failedExecuteUserDefinedFunctionError(QueryExecutionErrors.scala)\n\tat org.apache.spark.sql.catalyst.expressions.GeneratedClass$GeneratedIteratorForCodegenStage1.processNext(Unknown Source)\n\tat org.apache.spark.sql.execution.BufferedRowIterator.hasNext(BufferedRowIterator.java:43)\n\tat org.apache.spark.sql.execution.WholeStageCodegenEvaluatorFactory$WholeStageCodegenPartitionEvaluator$$anon$1.hasNext(WholeStageCodegenEvaluatorFactory.scala:43)\n\tat scala.collection.Iterator$$anon$10.hasNext(Iterator.scala:460)\n\tat org.apache.spark.ContextAwareIterator.hasNext(ContextAwareIterator.scala:39)\n\tat org.apache.spark.api.python.SerDeUtil$AutoBatchedPickler.hasNext(SerDeUtil.scala:86)\n\tat scala.collection.Iterator.foreach(Iterator.scala:943)\n\tat scala.collection.Iterator.foreach$(Iterator.scala:943)\n\tat org.apache.spark.api.python.SerDeUtil$AutoBatchedPickler.foreach(SerDeUtil.scala:80)\n\tat org.apache.spark.api.python.PythonRDD$.writeIteratorToStream(PythonRDD.scala:322)\n\tat org.apache.spark.api.python.PythonRunner$$anon$2.writeIteratorToStream(PythonRunner.scala:751)\n\tat org.apache.spark.api.python.BasePythonRunner$WriterThread.$anonfun$run$1(PythonRunner.scala:451)\n\tat org.apache.spark.util.Utils$.logUncaughtExceptions(Utils.scala:1928)\n\tat org.apache.spark.api.python.BasePythonRunner$WriterThread.run(PythonRunner.scala:282)\nCaused by: org.apache.spark.SparkException: Encountered null while assembling a row with handleInvalid = \"error\". Consider\nremoving nulls from dataset or using handleInvalid = \"keep\" or \"skip\".\n\tat org.apache.spark.ml.feature.VectorAssembler$.$anonfun$assemble$1(VectorAssembler.scala:291)\n\tat org.apache.spark.ml.feature.VectorAssembler$.$anonfun$assemble$1$adapted(VectorAssembler.scala:260)\n\tat scala.collection.IndexedSeqOptimized.foreach(IndexedSeqOptimized.scala:36)\n\tat scala.collection.IndexedSeqOptimized.foreach$(IndexedSeqOptimized.scala:33)\n\tat scala.collection.mutable.WrappedArray.foreach(WrappedArray.scala:38)\n\tat org.apache.spark.ml.feature.VectorAssembler$.assemble(VectorAssembler.scala:260)\n\tat org.apache.spark.ml.feature.VectorAssembler.$anonfun$transform$6(VectorAssembler.scala:143)\n\t... 14 more\n\nDriver stacktrace:\n\tat org.apache.spark.scheduler.DAGScheduler.failJobAndIndependentStages(DAGScheduler.scala:2856)\n\tat org.apache.spark.scheduler.DAGScheduler.$anonfun$abortStage$2(DAGScheduler.scala:2792)\n\tat org.apache.spark.scheduler.DAGScheduler.$anonfun$abortStage$2$adapted(DAGScheduler.scala:2791)\n\tat scala.collection.mutable.ResizableArray.foreach(ResizableArray.scala:62)\n\tat scala.collection.mutable.ResizableArray.foreach$(ResizableArray.scala:55)\n\tat scala.collection.mutable.ArrayBuffer.foreach(ArrayBuffer.scala:49)\n\tat org.apache.spark.scheduler.DAGScheduler.abortStage(DAGScheduler.scala:2791)\n\tat org.apache.spark.scheduler.DAGScheduler.$anonfun$handleTaskSetFailed$1(DAGScheduler.scala:1247)\n\tat org.apache.spark.scheduler.DAGScheduler.$anonfun$handleTaskSetFailed$1$adapted(DAGScheduler.scala:1247)\n\tat scala.Option.foreach(Option.scala:407)\n\tat org.apache.spark.scheduler.DAGScheduler.handleTaskSetFailed(DAGScheduler.scala:1247)\n\tat org.apache.spark.scheduler.DAGSchedulerEventProcessLoop.doOnReceive(DAGScheduler.scala:3060)\n\tat org.apache.spark.scheduler.DAGSchedulerEventProcessLoop.onReceive(DAGScheduler.scala:2994)\n\tat org.apache.spark.scheduler.DAGSchedulerEventProcessLoop.onReceive(DAGScheduler.scala:2983)\n\tat org.apache.spark.util.EventLoop$$anon$1.run(EventLoop.scala:49)\n\tat org.apache.spark.scheduler.DAGScheduler.runJob(DAGScheduler.scala:989)\n\tat org.apache.spark.SparkContext.runJob(SparkContext.scala:2393)\n\tat org.apache.spark.SparkContext.runJob(SparkContext.scala:2414)\n\tat org.apache.spark.SparkContext.runJob(SparkContext.scala:2433)\n\tat org.apache.spark.SparkContext.runJob(SparkContext.scala:2458)\n\tat org.apache.spark.rdd.RDD.$anonfun$collect$1(RDD.scala:1049)\n\tat org.apache.spark.rdd.RDDOperationScope$.withScope(RDDOperationScope.scala:151)\n\tat org.apache.spark.rdd.RDDOperationScope$.withScope(RDDOperationScope.scala:112)\n\tat org.apache.spark.rdd.RDD.withScope(RDD.scala:410)\n\tat org.apache.spark.rdd.RDD.collect(RDD.scala:1048)\n\tat org.apache.spark.api.python.PythonRDD$.collectAndServe(PythonRDD.scala:195)\n\tat org.apache.spark.api.python.PythonRDD.collectAndServe(PythonRDD.scala)\n\tat java.base/jdk.internal.reflect.NativeMethodAccessorImpl.invoke0(Native Method)\n\tat java.base/jdk.internal.reflect.NativeMethodAccessorImpl.invoke(NativeMethodAccessorImpl.java:77)\n\tat java.base/jdk.internal.reflect.DelegatingMethodAccessorImpl.invoke(DelegatingMethodAccessorImpl.java:43)\n\tat java.base/java.lang.reflect.Method.invoke(Method.java:569)\n\tat py4j.reflection.MethodInvoker.invoke(MethodInvoker.java:244)\n\tat py4j.reflection.ReflectionEngine.invoke(ReflectionEngine.java:374)\n\tat py4j.Gateway.invoke(Gateway.java:282)\n\tat py4j.commands.AbstractCommand.invokeMethod(AbstractCommand.java:132)\n\tat py4j.commands.CallCommand.execute(CallCommand.java:79)\n\tat py4j.ClientServerConnection.waitForCommands(ClientServerConnection.java:182)\n\tat py4j.ClientServerConnection.run(ClientServerConnection.java:106)\n\tat java.base/java.lang.Thread.run(Thread.java:840)\nCaused by: org.apache.spark.SparkException: [FAILED_EXECUTE_UDF] Failed to execute user defined function (`VectorAssembler$$Lambda$4745/0x00007fe25902e2a8`: (struct<ComError:double,P1:double,P10:double,P16:double,P17:double,P18:double,P2:double,P5:double,P6:double,P7:double,P8:double,P9:double,S1:double,S10:double,S100:double,S101:double,S102:double,S107:double,S109:double,S112:double,S113:double,S114:double,S115:double,S122:double,S123:double,S124:double,S125:double,S126:double,S127:double,S128:double,S129:double,S130:double,S137:double,S138:double,S140:double,S143:double,S147:double,S151:double,S154:double,S157:double,S158:double,S159:double,S164:double,S166:double,S171:double,S172:double,S173:double,S174:double,S178:double,S179:double,S180:double,S181:double,S183:double,S2:double,S201:double,S202:double,S203:double,S204:double,S205:double,S206:double,S25:double,S3:double,S33:double,S35:double,S37:double,S39:double,S40:double,S41:double,S46:double,S47:double,S5:double,S53:double,S55:double,S6:double,S64:double,S7:double,S70:double,S71:double,S72:double,S73:double,S8:double,S80:double,S81:double,S83:double,S86:double,S9:double,S90:double,S94:double,S97:double,SA1:double,SA10:double,SA11:double,SA2:double,SA3:double,SA5:double,SA7:double,SA9:double>) => struct<type:tinyint,size:int,indices:array<int>,values:array<double>>).\n\tat org.apache.spark.sql.errors.QueryExecutionErrors$.failedExecuteUserDefinedFunctionError(QueryExecutionErrors.scala:198)\n\tat org.apache.spark.sql.errors.QueryExecutionErrors.failedExecuteUserDefinedFunctionError(QueryExecutionErrors.scala)\n\tat org.apache.spark.sql.catalyst.expressions.GeneratedClass$GeneratedIteratorForCodegenStage1.processNext(Unknown Source)\n\tat org.apache.spark.sql.execution.BufferedRowIterator.hasNext(BufferedRowIterator.java:43)\n\tat org.apache.spark.sql.execution.WholeStageCodegenEvaluatorFactory$WholeStageCodegenPartitionEvaluator$$anon$1.hasNext(WholeStageCodegenEvaluatorFactory.scala:43)\n\tat scala.collection.Iterator$$anon$10.hasNext(Iterator.scala:460)\n\tat org.apache.spark.ContextAwareIterator.hasNext(ContextAwareIterator.scala:39)\n\tat org.apache.spark.api.python.SerDeUtil$AutoBatchedPickler.hasNext(SerDeUtil.scala:86)\n\tat scala.collection.Iterator.foreach(Iterator.scala:943)\n\tat scala.collection.Iterator.foreach$(Iterator.scala:943)\n\tat org.apache.spark.api.python.SerDeUtil$AutoBatchedPickler.foreach(SerDeUtil.scala:80)\n\tat org.apache.spark.api.python.PythonRDD$.writeIteratorToStream(PythonRDD.scala:322)\n\tat org.apache.spark.api.python.PythonRunner$$anon$2.writeIteratorToStream(PythonRunner.scala:751)\n\tat org.apache.spark.api.python.BasePythonRunner$WriterThread.$anonfun$run$1(PythonRunner.scala:451)\n\tat org.apache.spark.util.Utils$.logUncaughtExceptions(Utils.scala:1928)\n\tat org.apache.spark.api.python.BasePythonRunner$WriterThread.run(PythonRunner.scala:282)\nCaused by: org.apache.spark.SparkException: Encountered null while assembling a row with handleInvalid = \"error\". Consider\nremoving nulls from dataset or using handleInvalid = \"keep\" or \"skip\".\n\tat org.apache.spark.ml.feature.VectorAssembler$.$anonfun$assemble$1(VectorAssembler.scala:291)\n\tat org.apache.spark.ml.feature.VectorAssembler$.$anonfun$assemble$1$adapted(VectorAssembler.scala:260)\n\tat scala.collection.IndexedSeqOptimized.foreach(IndexedSeqOptimized.scala:36)\n\tat scala.collection.IndexedSeqOptimized.foreach$(IndexedSeqOptimized.scala:33)\n\tat scala.collection.mutable.WrappedArray.foreach(WrappedArray.scala:38)\n\tat org.apache.spark.ml.feature.VectorAssembler$.assemble(VectorAssembler.scala:260)\n\tat org.apache.spark.ml.feature.VectorAssembler.$anonfun$transform$6(VectorAssembler.scala:143)\n\t... 14 more\n",
     "output_type": "error",
     "traceback": [
      "\u001b[31m---------------------------------------------------------------------------\u001b[39m",
      "\u001b[31mPy4JJavaError\u001b[39m                             Traceback (most recent call last)",
      "\u001b[36mCell\u001b[39m\u001b[36m \u001b[39m\u001b[32mIn[44]\u001b[39m\u001b[32m, line 32\u001b[39m\n\u001b[32m     23\u001b[39m     cov_matrix = (\n\u001b[32m     24\u001b[39m         df_centered_vec.rdd\n\u001b[32m     25\u001b[39m         .map(\u001b[38;5;28;01mlambda\u001b[39;00m row: row.features.toArray())\n\u001b[32m     26\u001b[39m         .map(\u001b[38;5;28;01mlambda\u001b[39;00m x: np.outer(x, x))\n\u001b[32m     27\u001b[39m         .reduce(\u001b[38;5;28;01mlambda\u001b[39;00m a, b: a + b) / (n - \u001b[32m1\u001b[39m)\n\u001b[32m     28\u001b[39m     )\n\u001b[32m     30\u001b[39m     \u001b[38;5;28;01mreturn\u001b[39;00m cov_matrix, cols\n\u001b[32m---> \u001b[39m\u001b[32m32\u001b[39m cov_matrix, columns = \u001b[43mcovariance_matrix\u001b[49m\u001b[43m(\u001b[49m\u001b[43mdf_anomalies_n\u001b[49m\u001b[43m)\u001b[49m\n\u001b[32m     34\u001b[39m \u001b[38;5;28mprint\u001b[39m(\u001b[33m\"\u001b[39m\u001b[33mColumns:\u001b[39m\u001b[33m\"\u001b[39m, columns)\n\u001b[32m     35\u001b[39m \u001b[38;5;28mprint\u001b[39m(\u001b[33m\"\u001b[39m\u001b[33mCovariance matrix:\u001b[39m\u001b[38;5;130;01m\\n\u001b[39;00m\u001b[33m\"\u001b[39m, cov_matrix)\n",
      "\u001b[36mCell\u001b[39m\u001b[36m \u001b[39m\u001b[32mIn[44]\u001b[39m\u001b[32m, line 27\u001b[39m, in \u001b[36mcovariance_matrix\u001b[39m\u001b[34m(df, cols)\u001b[39m\n\u001b[32m     20\u001b[39m df_centered_vec = assembler.transform(df_centered).select(\u001b[33m\"\u001b[39m\u001b[33mfeatures\u001b[39m\u001b[33m\"\u001b[39m)\n\u001b[32m     22\u001b[39m n = df.count()\n\u001b[32m     23\u001b[39m cov_matrix = (\n\u001b[32m     24\u001b[39m     \u001b[43mdf_centered_vec\u001b[49m\u001b[43m.\u001b[49m\u001b[43mrdd\u001b[49m\n\u001b[32m     25\u001b[39m \u001b[43m    \u001b[49m\u001b[43m.\u001b[49m\u001b[43mmap\u001b[49m\u001b[43m(\u001b[49m\u001b[38;5;28;43;01mlambda\u001b[39;49;00m\u001b[43m \u001b[49m\u001b[43mrow\u001b[49m\u001b[43m:\u001b[49m\u001b[43m \u001b[49m\u001b[43mrow\u001b[49m\u001b[43m.\u001b[49m\u001b[43mfeatures\u001b[49m\u001b[43m.\u001b[49m\u001b[43mtoArray\u001b[49m\u001b[43m(\u001b[49m\u001b[43m)\u001b[49m\u001b[43m)\u001b[49m\n\u001b[32m     26\u001b[39m \u001b[43m    \u001b[49m\u001b[43m.\u001b[49m\u001b[43mmap\u001b[49m\u001b[43m(\u001b[49m\u001b[38;5;28;43;01mlambda\u001b[39;49;00m\u001b[43m \u001b[49m\u001b[43mx\u001b[49m\u001b[43m:\u001b[49m\u001b[43m \u001b[49m\u001b[43mnp\u001b[49m\u001b[43m.\u001b[49m\u001b[43mouter\u001b[49m\u001b[43m(\u001b[49m\u001b[43mx\u001b[49m\u001b[43m,\u001b[49m\u001b[43m \u001b[49m\u001b[43mx\u001b[49m\u001b[43m)\u001b[49m\u001b[43m)\u001b[49m\n\u001b[32m---> \u001b[39m\u001b[32m27\u001b[39m \u001b[43m    \u001b[49m\u001b[43m.\u001b[49m\u001b[43mreduce\u001b[49m\u001b[43m(\u001b[49m\u001b[38;5;28;43;01mlambda\u001b[39;49;00m\u001b[43m \u001b[49m\u001b[43ma\u001b[49m\u001b[43m,\u001b[49m\u001b[43m \u001b[49m\u001b[43mb\u001b[49m\u001b[43m:\u001b[49m\u001b[43m \u001b[49m\u001b[43ma\u001b[49m\u001b[43m \u001b[49m\u001b[43m+\u001b[49m\u001b[43m \u001b[49m\u001b[43mb\u001b[49m\u001b[43m)\u001b[49m / (n - \u001b[32m1\u001b[39m)\n\u001b[32m     28\u001b[39m )\n\u001b[32m     30\u001b[39m \u001b[38;5;28;01mreturn\u001b[39;00m cov_matrix, cols\n",
      "\u001b[36mFile \u001b[39m\u001b[32m/usr/local/spark/python/pyspark/rdd.py:1924\u001b[39m, in \u001b[36mRDD.reduce\u001b[39m\u001b[34m(self, f)\u001b[39m\n\u001b[32m   1921\u001b[39m         \u001b[38;5;28;01mreturn\u001b[39;00m\n\u001b[32m   1922\u001b[39m     \u001b[38;5;28;01myield\u001b[39;00m reduce(f, iterator, initial)\n\u001b[32m-> \u001b[39m\u001b[32m1924\u001b[39m vals = \u001b[38;5;28;43mself\u001b[39;49m\u001b[43m.\u001b[49m\u001b[43mmapPartitions\u001b[49m\u001b[43m(\u001b[49m\u001b[43mfunc\u001b[49m\u001b[43m)\u001b[49m\u001b[43m.\u001b[49m\u001b[43mcollect\u001b[49m\u001b[43m(\u001b[49m\u001b[43m)\u001b[49m\n\u001b[32m   1925\u001b[39m \u001b[38;5;28;01mif\u001b[39;00m vals:\n\u001b[32m   1926\u001b[39m     \u001b[38;5;28;01mreturn\u001b[39;00m reduce(f, vals)\n",
      "\u001b[36mFile \u001b[39m\u001b[32m/usr/local/spark/python/pyspark/rdd.py:1833\u001b[39m, in \u001b[36mRDD.collect\u001b[39m\u001b[34m(self)\u001b[39m\n\u001b[32m   1831\u001b[39m \u001b[38;5;28;01mwith\u001b[39;00m SCCallSiteSync(\u001b[38;5;28mself\u001b[39m.context):\n\u001b[32m   1832\u001b[39m     \u001b[38;5;28;01massert\u001b[39;00m \u001b[38;5;28mself\u001b[39m.ctx._jvm \u001b[38;5;129;01mis\u001b[39;00m \u001b[38;5;129;01mnot\u001b[39;00m \u001b[38;5;28;01mNone\u001b[39;00m\n\u001b[32m-> \u001b[39m\u001b[32m1833\u001b[39m     sock_info = \u001b[38;5;28;43mself\u001b[39;49m\u001b[43m.\u001b[49m\u001b[43mctx\u001b[49m\u001b[43m.\u001b[49m\u001b[43m_jvm\u001b[49m\u001b[43m.\u001b[49m\u001b[43mPythonRDD\u001b[49m\u001b[43m.\u001b[49m\u001b[43mcollectAndServe\u001b[49m\u001b[43m(\u001b[49m\u001b[38;5;28;43mself\u001b[39;49m\u001b[43m.\u001b[49m\u001b[43m_jrdd\u001b[49m\u001b[43m.\u001b[49m\u001b[43mrdd\u001b[49m\u001b[43m(\u001b[49m\u001b[43m)\u001b[49m\u001b[43m)\u001b[49m\n\u001b[32m   1834\u001b[39m \u001b[38;5;28;01mreturn\u001b[39;00m \u001b[38;5;28mlist\u001b[39m(_load_from_socket(sock_info, \u001b[38;5;28mself\u001b[39m._jrdd_deserializer))\n",
      "\u001b[36mFile \u001b[39m\u001b[32m/usr/local/spark/python/lib/py4j-0.10.9.7-src.zip/py4j/java_gateway.py:1322\u001b[39m, in \u001b[36mJavaMember.__call__\u001b[39m\u001b[34m(self, *args)\u001b[39m\n\u001b[32m   1316\u001b[39m command = proto.CALL_COMMAND_NAME +\\\n\u001b[32m   1317\u001b[39m     \u001b[38;5;28mself\u001b[39m.command_header +\\\n\u001b[32m   1318\u001b[39m     args_command +\\\n\u001b[32m   1319\u001b[39m     proto.END_COMMAND_PART\n\u001b[32m   1321\u001b[39m answer = \u001b[38;5;28mself\u001b[39m.gateway_client.send_command(command)\n\u001b[32m-> \u001b[39m\u001b[32m1322\u001b[39m return_value = \u001b[43mget_return_value\u001b[49m\u001b[43m(\u001b[49m\n\u001b[32m   1323\u001b[39m \u001b[43m    \u001b[49m\u001b[43manswer\u001b[49m\u001b[43m,\u001b[49m\u001b[43m \u001b[49m\u001b[38;5;28;43mself\u001b[39;49m\u001b[43m.\u001b[49m\u001b[43mgateway_client\u001b[49m\u001b[43m,\u001b[49m\u001b[43m \u001b[49m\u001b[38;5;28;43mself\u001b[39;49m\u001b[43m.\u001b[49m\u001b[43mtarget_id\u001b[49m\u001b[43m,\u001b[49m\u001b[43m \u001b[49m\u001b[38;5;28;43mself\u001b[39;49m\u001b[43m.\u001b[49m\u001b[43mname\u001b[49m\u001b[43m)\u001b[49m\n\u001b[32m   1325\u001b[39m \u001b[38;5;28;01mfor\u001b[39;00m temp_arg \u001b[38;5;129;01min\u001b[39;00m temp_args:\n\u001b[32m   1326\u001b[39m     \u001b[38;5;28;01mif\u001b[39;00m \u001b[38;5;28mhasattr\u001b[39m(temp_arg, \u001b[33m\"\u001b[39m\u001b[33m_detach\u001b[39m\u001b[33m\"\u001b[39m):\n",
      "\u001b[36mFile \u001b[39m\u001b[32m/usr/local/spark/python/pyspark/errors/exceptions/captured.py:179\u001b[39m, in \u001b[36mcapture_sql_exception.<locals>.deco\u001b[39m\u001b[34m(*a, **kw)\u001b[39m\n\u001b[32m    177\u001b[39m \u001b[38;5;28;01mdef\u001b[39;00m\u001b[38;5;250m \u001b[39m\u001b[34mdeco\u001b[39m(*a: Any, **kw: Any) -> Any:\n\u001b[32m    178\u001b[39m     \u001b[38;5;28;01mtry\u001b[39;00m:\n\u001b[32m--> \u001b[39m\u001b[32m179\u001b[39m         \u001b[38;5;28;01mreturn\u001b[39;00m \u001b[43mf\u001b[49m\u001b[43m(\u001b[49m\u001b[43m*\u001b[49m\u001b[43ma\u001b[49m\u001b[43m,\u001b[49m\u001b[43m \u001b[49m\u001b[43m*\u001b[49m\u001b[43m*\u001b[49m\u001b[43mkw\u001b[49m\u001b[43m)\u001b[49m\n\u001b[32m    180\u001b[39m     \u001b[38;5;28;01mexcept\u001b[39;00m Py4JJavaError \u001b[38;5;28;01mas\u001b[39;00m e:\n\u001b[32m    181\u001b[39m         converted = convert_exception(e.java_exception)\n",
      "\u001b[36mFile \u001b[39m\u001b[32m/usr/local/spark/python/lib/py4j-0.10.9.7-src.zip/py4j/protocol.py:326\u001b[39m, in \u001b[36mget_return_value\u001b[39m\u001b[34m(answer, gateway_client, target_id, name)\u001b[39m\n\u001b[32m    324\u001b[39m value = OUTPUT_CONVERTER[\u001b[38;5;28mtype\u001b[39m](answer[\u001b[32m2\u001b[39m:], gateway_client)\n\u001b[32m    325\u001b[39m \u001b[38;5;28;01mif\u001b[39;00m answer[\u001b[32m1\u001b[39m] == REFERENCE_TYPE:\n\u001b[32m--> \u001b[39m\u001b[32m326\u001b[39m     \u001b[38;5;28;01mraise\u001b[39;00m Py4JJavaError(\n\u001b[32m    327\u001b[39m         \u001b[33m\"\u001b[39m\u001b[33mAn error occurred while calling \u001b[39m\u001b[38;5;132;01m{0}\u001b[39;00m\u001b[38;5;132;01m{1}\u001b[39;00m\u001b[38;5;132;01m{2}\u001b[39;00m\u001b[33m.\u001b[39m\u001b[38;5;130;01m\\n\u001b[39;00m\u001b[33m\"\u001b[39m.\n\u001b[32m    328\u001b[39m         \u001b[38;5;28mformat\u001b[39m(target_id, \u001b[33m\"\u001b[39m\u001b[33m.\u001b[39m\u001b[33m\"\u001b[39m, name), value)\n\u001b[32m    329\u001b[39m \u001b[38;5;28;01melse\u001b[39;00m:\n\u001b[32m    330\u001b[39m     \u001b[38;5;28;01mraise\u001b[39;00m Py4JError(\n\u001b[32m    331\u001b[39m         \u001b[33m\"\u001b[39m\u001b[33mAn error occurred while calling \u001b[39m\u001b[38;5;132;01m{0}\u001b[39;00m\u001b[38;5;132;01m{1}\u001b[39;00m\u001b[38;5;132;01m{2}\u001b[39;00m\u001b[33m. Trace:\u001b[39m\u001b[38;5;130;01m\\n\u001b[39;00m\u001b[38;5;132;01m{3}\u001b[39;00m\u001b[38;5;130;01m\\n\u001b[39;00m\u001b[33m\"\u001b[39m.\n\u001b[32m    332\u001b[39m         \u001b[38;5;28mformat\u001b[39m(target_id, \u001b[33m\"\u001b[39m\u001b[33m.\u001b[39m\u001b[33m\"\u001b[39m, name, value))\n",
      "\u001b[31mPy4JJavaError\u001b[39m: An error occurred while calling z:org.apache.spark.api.python.PythonRDD.collectAndServe.\n: org.apache.spark.SparkException: Job aborted due to stage failure: Task 9 in stage 2668.0 failed 4 times, most recent failure: Lost task 9.3 in stage 2668.0 (TID 11646) (10.67.22.135 executor 0): org.apache.spark.SparkException: [FAILED_EXECUTE_UDF] Failed to execute user defined function (`VectorAssembler$$Lambda$4745/0x00007fe25902e2a8`: (struct<ComError:double,P1:double,P10:double,P16:double,P17:double,P18:double,P2:double,P5:double,P6:double,P7:double,P8:double,P9:double,S1:double,S10:double,S100:double,S101:double,S102:double,S107:double,S109:double,S112:double,S113:double,S114:double,S115:double,S122:double,S123:double,S124:double,S125:double,S126:double,S127:double,S128:double,S129:double,S130:double,S137:double,S138:double,S140:double,S143:double,S147:double,S151:double,S154:double,S157:double,S158:double,S159:double,S164:double,S166:double,S171:double,S172:double,S173:double,S174:double,S178:double,S179:double,S180:double,S181:double,S183:double,S2:double,S201:double,S202:double,S203:double,S204:double,S205:double,S206:double,S25:double,S3:double,S33:double,S35:double,S37:double,S39:double,S40:double,S41:double,S46:double,S47:double,S5:double,S53:double,S55:double,S6:double,S64:double,S7:double,S70:double,S71:double,S72:double,S73:double,S8:double,S80:double,S81:double,S83:double,S86:double,S9:double,S90:double,S94:double,S97:double,SA1:double,SA10:double,SA11:double,SA2:double,SA3:double,SA5:double,SA7:double,SA9:double>) => struct<type:tinyint,size:int,indices:array<int>,values:array<double>>).\n\tat org.apache.spark.sql.errors.QueryExecutionErrors$.failedExecuteUserDefinedFunctionError(QueryExecutionErrors.scala:198)\n\tat org.apache.spark.sql.errors.QueryExecutionErrors.failedExecuteUserDefinedFunctionError(QueryExecutionErrors.scala)\n\tat org.apache.spark.sql.catalyst.expressions.GeneratedClass$GeneratedIteratorForCodegenStage1.processNext(Unknown Source)\n\tat org.apache.spark.sql.execution.BufferedRowIterator.hasNext(BufferedRowIterator.java:43)\n\tat org.apache.spark.sql.execution.WholeStageCodegenEvaluatorFactory$WholeStageCodegenPartitionEvaluator$$anon$1.hasNext(WholeStageCodegenEvaluatorFactory.scala:43)\n\tat scala.collection.Iterator$$anon$10.hasNext(Iterator.scala:460)\n\tat org.apache.spark.ContextAwareIterator.hasNext(ContextAwareIterator.scala:39)\n\tat org.apache.spark.api.python.SerDeUtil$AutoBatchedPickler.hasNext(SerDeUtil.scala:86)\n\tat scala.collection.Iterator.foreach(Iterator.scala:943)\n\tat scala.collection.Iterator.foreach$(Iterator.scala:943)\n\tat org.apache.spark.api.python.SerDeUtil$AutoBatchedPickler.foreach(SerDeUtil.scala:80)\n\tat org.apache.spark.api.python.PythonRDD$.writeIteratorToStream(PythonRDD.scala:322)\n\tat org.apache.spark.api.python.PythonRunner$$anon$2.writeIteratorToStream(PythonRunner.scala:751)\n\tat org.apache.spark.api.python.BasePythonRunner$WriterThread.$anonfun$run$1(PythonRunner.scala:451)\n\tat org.apache.spark.util.Utils$.logUncaughtExceptions(Utils.scala:1928)\n\tat org.apache.spark.api.python.BasePythonRunner$WriterThread.run(PythonRunner.scala:282)\nCaused by: org.apache.spark.SparkException: Encountered null while assembling a row with handleInvalid = \"error\". Consider\nremoving nulls from dataset or using handleInvalid = \"keep\" or \"skip\".\n\tat org.apache.spark.ml.feature.VectorAssembler$.$anonfun$assemble$1(VectorAssembler.scala:291)\n\tat org.apache.spark.ml.feature.VectorAssembler$.$anonfun$assemble$1$adapted(VectorAssembler.scala:260)\n\tat scala.collection.IndexedSeqOptimized.foreach(IndexedSeqOptimized.scala:36)\n\tat scala.collection.IndexedSeqOptimized.foreach$(IndexedSeqOptimized.scala:33)\n\tat scala.collection.mutable.WrappedArray.foreach(WrappedArray.scala:38)\n\tat org.apache.spark.ml.feature.VectorAssembler$.assemble(VectorAssembler.scala:260)\n\tat org.apache.spark.ml.feature.VectorAssembler.$anonfun$transform$6(VectorAssembler.scala:143)\n\t... 14 more\n\nDriver stacktrace:\n\tat org.apache.spark.scheduler.DAGScheduler.failJobAndIndependentStages(DAGScheduler.scala:2856)\n\tat org.apache.spark.scheduler.DAGScheduler.$anonfun$abortStage$2(DAGScheduler.scala:2792)\n\tat org.apache.spark.scheduler.DAGScheduler.$anonfun$abortStage$2$adapted(DAGScheduler.scala:2791)\n\tat scala.collection.mutable.ResizableArray.foreach(ResizableArray.scala:62)\n\tat scala.collection.mutable.ResizableArray.foreach$(ResizableArray.scala:55)\n\tat scala.collection.mutable.ArrayBuffer.foreach(ArrayBuffer.scala:49)\n\tat org.apache.spark.scheduler.DAGScheduler.abortStage(DAGScheduler.scala:2791)\n\tat org.apache.spark.scheduler.DAGScheduler.$anonfun$handleTaskSetFailed$1(DAGScheduler.scala:1247)\n\tat org.apache.spark.scheduler.DAGScheduler.$anonfun$handleTaskSetFailed$1$adapted(DAGScheduler.scala:1247)\n\tat scala.Option.foreach(Option.scala:407)\n\tat org.apache.spark.scheduler.DAGScheduler.handleTaskSetFailed(DAGScheduler.scala:1247)\n\tat org.apache.spark.scheduler.DAGSchedulerEventProcessLoop.doOnReceive(DAGScheduler.scala:3060)\n\tat org.apache.spark.scheduler.DAGSchedulerEventProcessLoop.onReceive(DAGScheduler.scala:2994)\n\tat org.apache.spark.scheduler.DAGSchedulerEventProcessLoop.onReceive(DAGScheduler.scala:2983)\n\tat org.apache.spark.util.EventLoop$$anon$1.run(EventLoop.scala:49)\n\tat org.apache.spark.scheduler.DAGScheduler.runJob(DAGScheduler.scala:989)\n\tat org.apache.spark.SparkContext.runJob(SparkContext.scala:2393)\n\tat org.apache.spark.SparkContext.runJob(SparkContext.scala:2414)\n\tat org.apache.spark.SparkContext.runJob(SparkContext.scala:2433)\n\tat org.apache.spark.SparkContext.runJob(SparkContext.scala:2458)\n\tat org.apache.spark.rdd.RDD.$anonfun$collect$1(RDD.scala:1049)\n\tat org.apache.spark.rdd.RDDOperationScope$.withScope(RDDOperationScope.scala:151)\n\tat org.apache.spark.rdd.RDDOperationScope$.withScope(RDDOperationScope.scala:112)\n\tat org.apache.spark.rdd.RDD.withScope(RDD.scala:410)\n\tat org.apache.spark.rdd.RDD.collect(RDD.scala:1048)\n\tat org.apache.spark.api.python.PythonRDD$.collectAndServe(PythonRDD.scala:195)\n\tat org.apache.spark.api.python.PythonRDD.collectAndServe(PythonRDD.scala)\n\tat java.base/jdk.internal.reflect.NativeMethodAccessorImpl.invoke0(Native Method)\n\tat java.base/jdk.internal.reflect.NativeMethodAccessorImpl.invoke(NativeMethodAccessorImpl.java:77)\n\tat java.base/jdk.internal.reflect.DelegatingMethodAccessorImpl.invoke(DelegatingMethodAccessorImpl.java:43)\n\tat java.base/java.lang.reflect.Method.invoke(Method.java:569)\n\tat py4j.reflection.MethodInvoker.invoke(MethodInvoker.java:244)\n\tat py4j.reflection.ReflectionEngine.invoke(ReflectionEngine.java:374)\n\tat py4j.Gateway.invoke(Gateway.java:282)\n\tat py4j.commands.AbstractCommand.invokeMethod(AbstractCommand.java:132)\n\tat py4j.commands.CallCommand.execute(CallCommand.java:79)\n\tat py4j.ClientServerConnection.waitForCommands(ClientServerConnection.java:182)\n\tat py4j.ClientServerConnection.run(ClientServerConnection.java:106)\n\tat java.base/java.lang.Thread.run(Thread.java:840)\nCaused by: org.apache.spark.SparkException: [FAILED_EXECUTE_UDF] Failed to execute user defined function (`VectorAssembler$$Lambda$4745/0x00007fe25902e2a8`: (struct<ComError:double,P1:double,P10:double,P16:double,P17:double,P18:double,P2:double,P5:double,P6:double,P7:double,P8:double,P9:double,S1:double,S10:double,S100:double,S101:double,S102:double,S107:double,S109:double,S112:double,S113:double,S114:double,S115:double,S122:double,S123:double,S124:double,S125:double,S126:double,S127:double,S128:double,S129:double,S130:double,S137:double,S138:double,S140:double,S143:double,S147:double,S151:double,S154:double,S157:double,S158:double,S159:double,S164:double,S166:double,S171:double,S172:double,S173:double,S174:double,S178:double,S179:double,S180:double,S181:double,S183:double,S2:double,S201:double,S202:double,S203:double,S204:double,S205:double,S206:double,S25:double,S3:double,S33:double,S35:double,S37:double,S39:double,S40:double,S41:double,S46:double,S47:double,S5:double,S53:double,S55:double,S6:double,S64:double,S7:double,S70:double,S71:double,S72:double,S73:double,S8:double,S80:double,S81:double,S83:double,S86:double,S9:double,S90:double,S94:double,S97:double,SA1:double,SA10:double,SA11:double,SA2:double,SA3:double,SA5:double,SA7:double,SA9:double>) => struct<type:tinyint,size:int,indices:array<int>,values:array<double>>).\n\tat org.apache.spark.sql.errors.QueryExecutionErrors$.failedExecuteUserDefinedFunctionError(QueryExecutionErrors.scala:198)\n\tat org.apache.spark.sql.errors.QueryExecutionErrors.failedExecuteUserDefinedFunctionError(QueryExecutionErrors.scala)\n\tat org.apache.spark.sql.catalyst.expressions.GeneratedClass$GeneratedIteratorForCodegenStage1.processNext(Unknown Source)\n\tat org.apache.spark.sql.execution.BufferedRowIterator.hasNext(BufferedRowIterator.java:43)\n\tat org.apache.spark.sql.execution.WholeStageCodegenEvaluatorFactory$WholeStageCodegenPartitionEvaluator$$anon$1.hasNext(WholeStageCodegenEvaluatorFactory.scala:43)\n\tat scala.collection.Iterator$$anon$10.hasNext(Iterator.scala:460)\n\tat org.apache.spark.ContextAwareIterator.hasNext(ContextAwareIterator.scala:39)\n\tat org.apache.spark.api.python.SerDeUtil$AutoBatchedPickler.hasNext(SerDeUtil.scala:86)\n\tat scala.collection.Iterator.foreach(Iterator.scala:943)\n\tat scala.collection.Iterator.foreach$(Iterator.scala:943)\n\tat org.apache.spark.api.python.SerDeUtil$AutoBatchedPickler.foreach(SerDeUtil.scala:80)\n\tat org.apache.spark.api.python.PythonRDD$.writeIteratorToStream(PythonRDD.scala:322)\n\tat org.apache.spark.api.python.PythonRunner$$anon$2.writeIteratorToStream(PythonRunner.scala:751)\n\tat org.apache.spark.api.python.BasePythonRunner$WriterThread.$anonfun$run$1(PythonRunner.scala:451)\n\tat org.apache.spark.util.Utils$.logUncaughtExceptions(Utils.scala:1928)\n\tat org.apache.spark.api.python.BasePythonRunner$WriterThread.run(PythonRunner.scala:282)\nCaused by: org.apache.spark.SparkException: Encountered null while assembling a row with handleInvalid = \"error\". Consider\nremoving nulls from dataset or using handleInvalid = \"keep\" or \"skip\".\n\tat org.apache.spark.ml.feature.VectorAssembler$.$anonfun$assemble$1(VectorAssembler.scala:291)\n\tat org.apache.spark.ml.feature.VectorAssembler$.$anonfun$assemble$1$adapted(VectorAssembler.scala:260)\n\tat scala.collection.IndexedSeqOptimized.foreach(IndexedSeqOptimized.scala:36)\n\tat scala.collection.IndexedSeqOptimized.foreach$(IndexedSeqOptimized.scala:33)\n\tat scala.collection.mutable.WrappedArray.foreach(WrappedArray.scala:38)\n\tat org.apache.spark.ml.feature.VectorAssembler$.assemble(VectorAssembler.scala:260)\n\tat org.apache.spark.ml.feature.VectorAssembler.$anonfun$transform$6(VectorAssembler.scala:143)\n\t... 14 more\n"
     ]
    }
   ],
   "source": [
    "from pyspark.sql.types import DoubleType\n",
    "from pyspark.ml.feature import VectorAssembler\n",
    "\n",
    "def covariance_matrix(df, cols=None):\n",
    "    \"\"\"\n",
    "    This function returns the covariance matrix from the df\n",
    "    \"\"\"\n",
    "    \n",
    "    if cols is None:\n",
    "        cols = df.columns\n",
    "\n",
    "    for c in cols:\n",
    "        df = df.withColumn(c, col(c).cast(DoubleType()))\n",
    "    \n",
    "    means = df.select([mean(c).alias(c) for c in cols]).collect()[0].asDict()\n",
    "    \n",
    "    df_centered = df.select(*[(col(c) - means[c]).alias(c) for c in cols])\n",
    "    \n",
    "    assembler = VectorAssembler(inputCols=cols, outputCol=\"features\")\n",
    "    df_centered_vec = assembler.transform(df_centered).select(\"features\")\n",
    "    \n",
    "    n = df.count()\n",
    "    cov_matrix = (\n",
    "        df_centered_vec.rdd\n",
    "        .map(lambda row: row.features.toArray())\n",
    "        .map(lambda x: np.outer(x, x))\n",
    "        .reduce(lambda a, b: a + b) / (n - 1)\n",
    "    )\n",
    "    \n",
    "    return cov_matrix, cols\n",
    "\n",
    "cov_matrix, columns = covariance_matrix(df_anomalies_n)\n",
    "\n",
    "print(\"Columns:\", columns)\n",
    "print(\"Covariance matrix:\\n\", cov_matrix)"
   ]
  },
  {
   "cell_type": "code",
   "execution_count": null,
   "id": "0fc8c3f3-2143-4cb2-9dac-3f7966970622",
   "metadata": {},
   "outputs": [],
   "source": [
    "def pca_from_cov(cov_matrix, cols, verbose = False):\n",
    "    \"\"\"\n",
    "    PCA from covariance matrix\n",
    "    \"\"\"\n",
    "    eigvals, eigvecs = np.linalg.eigh(cov_matrix)\n",
    "\n",
    "    idx = np.argsort(eigvals)[::-1]\n",
    "    eigvals = eigvals[idx]\n",
    "    eigvecs = eigvecs[:, idx]\n",
    "\n",
    "    explained_var_ratio = eigvals / eigvals.sum()\n",
    "\n",
    "    if verbose:\n",
    "        print(\"Covariance matrix:\\n\", cov_matrix, \"\\n\")\n",
    "        print(\"Eigenvalues (variance explained):\", eigvals)\n",
    "        print(\"Explained variance ratio:\", explained_var_ratio, \"\\n\")\n",
    "        print(\"Principal Components (eigenvectors):\")\n",
    "        for i in range(len(cols)):\n",
    "            print(f\"PC{i+1} ({explained_var_ratio[i]*100:.2f}% variance):\")\n",
    "            for col, weight in zip(cols, eigvecs[:, i]):\n",
    "                print(f\"  {col}: {weight:.4f}\")\n",
    "            print()\n",
    "\n",
    "\n",
    "pca_from_cov(cov_matrix, columns, verbose = True)"
   ]
  },
  {
   "cell_type": "markdown",
   "id": "ab408605-5921-4f4c-825a-31bc14f3a66c",
   "metadata": {},
   "source": [
    "# Anomaly correlations (S117,S118,S169,S170)"
   ]
  },
  {
   "cell_type": "code",
   "execution_count": null,
   "id": "6c128135-3e05-4255-9ac5-bf7ee0cc3c39",
   "metadata": {},
   "outputs": [],
   "source": [
    "%%time\n",
    "\n",
    "anomaly_corr = correlations(df_final.select(*useful_sensors,\"flag_anomaly\"), useful_sensors, \"flag_anomaly\")\n",
    "top_anomaly_corr = anomaly_corr.head(5)[\"Sensors\"].tolist()"
   ]
  },
  {
   "cell_type": "code",
   "execution_count": null,
   "id": "c59495af-aed4-422e-9d6b-c6b9e5410b9f",
   "metadata": {},
   "outputs": [],
   "source": [
    "anomaly_corr.head(5)"
   ]
  },
  {
   "cell_type": "code",
   "execution_count": null,
   "id": "bfd8151c-be8e-43f4-8f57-15942cf14513",
   "metadata": {},
   "outputs": [],
   "source": [
    "plot_correlations( df_final, \"flag_anomaly\", top_anomaly_corr, anomaly_corr )"
   ]
  },
  {
   "cell_type": "code",
   "execution_count": null,
   "id": "3761ce23-032f-4325-a33f-88ceb76076e8",
   "metadata": {},
   "outputs": [],
   "source": []
  },
  {
   "cell_type": "markdown",
   "id": "cfee75e3-f334-4ddd-b8f8-2039228ce12e",
   "metadata": {},
   "source": [
    "# Device load vs Eternal temperature (S125-S181 vs S41)"
   ]
  },
  {
   "cell_type": "code",
   "execution_count": null,
   "id": "9abca432-38f8-4b44-9a11-85d15a80dc02",
   "metadata": {},
   "outputs": [],
   "source": []
  },
  {
   "cell_type": "code",
   "execution_count": null,
   "id": "33a4adff-7ddd-476d-9eab-1274409ed960",
   "metadata": {},
   "outputs": [],
   "source": []
  },
  {
   "cell_type": "code",
   "execution_count": null,
   "id": "50c7c51d-a5a5-487a-b4d3-89a59a17e6ef",
   "metadata": {},
   "outputs": [],
   "source": []
  },
  {
   "cell_type": "code",
   "execution_count": null,
   "id": "70edbcec-9dd1-4e98-83fd-afe30b58b16c",
   "metadata": {},
   "outputs": [],
   "source": []
  },
  {
   "cell_type": "markdown",
   "id": "60502452-50ea-430c-9d91-79080b1a960c",
   "metadata": {},
   "source": [
    "# A5 e A9 alarms"
   ]
  },
  {
   "cell_type": "code",
   "execution_count": null,
   "id": "17ebb7e2-c314-41c0-94a9-1dba27539b08",
   "metadata": {},
   "outputs": [],
   "source": [
    "%%time\n",
    "\n",
    "alarm_corr = correlations(df_final.select(*useful_sensors,\"overheating\"), useful_sensors, \"overheating\")\n",
    "alarm_corr.head(5)\n",
    "top_alarm_corr = alarm_corr.head(5)[\"Sensors\"].tolist()"
   ]
  },
  {
   "cell_type": "code",
   "execution_count": null,
   "id": "0bc0fc1c-0a5e-4260-85d8-1e0d8c0c4b5e",
   "metadata": {},
   "outputs": [],
   "source": [
    "plot_correlations( df_final, \"overheating\", top_alarm_corr, alarm_corr )"
   ]
  },
  {
   "cell_type": "markdown",
   "id": "382d72be-2670-4585-86d7-1bd3943fa869",
   "metadata": {
    "jp-MarkdownHeadingCollapsed": true
   },
   "source": [
    "# Predictive Maintenance"
   ]
  },
  {
   "cell_type": "code",
   "execution_count": null,
   "id": "74b2eb24-c1e2-4709-9d0e-ae39801104cf",
   "metadata": {},
   "outputs": [],
   "source": []
  },
  {
   "cell_type": "code",
   "execution_count": null,
   "id": "b52e9ef3-aa05-4ddc-af83-72fdaa249675",
   "metadata": {},
   "outputs": [],
   "source": []
  },
  {
   "cell_type": "code",
   "execution_count": null,
   "id": "cf6efc3e-f06f-43ef-a106-e848cba4cef4",
   "metadata": {},
   "outputs": [],
   "source": []
  },
  {
   "cell_type": "markdown",
   "id": "e90eec7a-6138-4167-8f78-58bafab1248e",
   "metadata": {},
   "source": [
    "# <hr style=\"height:4px; background-color:black; border:none;\" />"
   ]
  },
  {
   "cell_type": "code",
   "execution_count": null,
   "id": "8bf53fce-df35-4ebd-b1bb-fdac104084fa",
   "metadata": {},
   "outputs": [],
   "source": []
  }
 ],
 "metadata": {
  "kernelspec": {
   "display_name": "Python 3 (ipykernel)",
   "language": "python",
   "name": "python3"
  },
  "language_info": {
   "codemirror_mode": {
    "name": "ipython",
    "version": 3
   },
   "file_extension": ".py",
   "mimetype": "text/x-python",
   "name": "python",
   "nbconvert_exporter": "python",
   "pygments_lexer": "ipython3",
   "version": "3.13.2"
  }
 },
 "nbformat": 4,
 "nbformat_minor": 5
}
