{
 "cells": [
  {
   "cell_type": "code",
   "execution_count": 35,
   "id": "80b60425-c731-4591-9166-8d40b259e68a",
   "metadata": {},
   "outputs": [],
   "source": [
    "spark.stop()"
   ]
  },
  {
   "cell_type": "code",
   "execution_count": 2,
   "id": "25d6fccc-e688-44c9-8812-a64d08b0d9c1",
   "metadata": {},
   "outputs": [],
   "source": [
    "#0 Docker, 1 CloudVeneto\n",
    "FIGHTER = 1\n",
    "\n",
    "# la porta dove vedere i jobs \n",
    "SparkUI = 4041\n",
    "# nicolò 4040\n",
    "# marco  4041\n",
    "# francesco 4042\n",
    "# raffaele  4043\n",
    "\n",
    "user = 'user_a'\n",
    "core = 4\n",
    "Npartition = 8"
   ]
  },
  {
   "cell_type": "code",
   "execution_count": 9,
   "id": "9cf7b138-5627-496f-96c2-a1418066309d",
   "metadata": {},
   "outputs": [],
   "source": [
    "import os\n",
    "import numpy as np\n",
    "import pandas as pd\n",
    "from math import ceil\n",
    "import matplotlib.pyplot as plt\n",
    "from joblib import Parallel, delayed\n",
    "\n",
    "from pyspark import SparkFiles\n",
    "from pyspark.sql import SparkSession, DataFrame, Window\n",
    "from pyspark.sql.types import StructType, StructField, IntegerType, DoubleType, TimestampType, BooleanType, StringType\n",
    "\n",
    "from pyspark.sql.functions import (\n",
    "    coalesce, corr, array,\n",
    "    col, lit, expr, when, count, count_if, row_number, sum as spark_sum, abs as spark_abs,\n",
    "    round as spark_round, min as spark_min, max as spark_max, avg as spark_avg,\n",
    "    first, last, lag, lead, row_number, desc, asc, bool_or, floor,\n",
    "    explode, sequence, from_unixtime, to_date, unix_timestamp,\n",
    "    window, min_by, mode, concat, monotonically_increasing_id\n",
    ")\n",
    "\n",
    "import datetime"
   ]
  },
  {
   "cell_type": "code",
   "execution_count": 7,
   "id": "a1a2db8e-b755-4e76-b608-f69aaee7606b",
   "metadata": {},
   "outputs": [],
   "source": [
    "if FIGHTER==0:\n",
    "\n",
    "    spark = SparkSession.builder \\\n",
    "        .master(\"spark://spark-master:7077\") \\\n",
    "        .appName(\"ProjectDocker\") \\\n",
    "        .config(\"spark.executor.memory\", \"1000m\") \\\n",
    "        .config(\"spark.sql.execution.arrow.pyspark.enabled\", \"true\") \\\n",
    "        .config(\"spark.sql.execution.arrow.pyspark.fallback.enabled\", \"false\") \\\n",
    "        .getOrCreate()\n",
    "\n",
    "        # SE NON FUNZIONA TOGLI I DUE CONFIG DI ARROW\n",
    "\n",
    "        # .config(\"spark.executor.memory\", \"1500m\")\n",
    "        # .config(\"spark.executor.cores\", \"1\")\\\n",
    "        # .config(\"spark.executor.instances\", \"12\")\\\n",
    "        # .config(\"spark.cores.max\", \"12\")\\\n",
    "        # .config(\"spark.default.parallelism\", \"24\")\\\n",
    "        # .config(\"spark.sql.adaptive.enabled\", \"true\")\\\n",
    "\n",
    "elif FIGHTER==1:\n",
    "\n",
    "        os.environ[\"PYSPARK_PYTHON\"] = \"/opt/miniconda3/bin/python\"\n",
    "        os.environ[\"PYSPARK_DRIVER_PYTHON\"] = \"/opt/miniconda3/bin/python\"\n",
    "        \n",
    "        spark = SparkSession.builder \\\n",
    "            .appName(\"ProjectCloudVeneto\") \\\n",
    "            .master(\"spark://10.67.22.135:7077\") \\\n",
    "            .config(\"spark.scheduler.mode\", \"FAIR\") \\\n",
    "            .config(\"spark.scheduler.pool\", user) \\\n",
    "            .config(\"spark.scheduler.allocation.file\", \"file:///usr/local/spark/conf/fairscheduler.xml\") \\\n",
    "            .config(\"spark.cores.max\", core) \\\n",
    "            .config(\"spark.sql.execution.arrow.pyspark.enabled\", \"true\") \\\n",
    "            .config(\"spark.sql.execution.arrow.pyspark.fallback.enabled\", \"false\") \\\n",
    "            .config(\"spark.dynamicAllocation.enabled\", \"false\") \\\n",
    "            .config(\"spark.shuffle.service.enabled\", \"false\") \\\n",
    "            .config(\"spark.ui.port\", SparkUI) \\\n",
    "            .getOrCreate()\n",
    "    \n",
    "else : print(\"Better choose an available fighter, you little bastard.\")\n",
    "\n",
    "sc = spark.sparkContext"
   ]
  },
  {
   "cell_type": "code",
   "execution_count": 5,
   "id": "ba300c4c-c6b1-45e1-98bc-06eed8ea5433",
   "metadata": {},
   "outputs": [
    {
     "name": "stderr",
     "output_type": "stream",
     "text": [
      "                                                                                "
     ]
    }
   ],
   "source": [
    "# if FIGHTER==0:\n",
    "#     df = spark.read.option(\"header\", True).option(\"inferSchema\", True).csv(\"/ProvePreliminari/SW-106.csv\")\n",
    "\n",
    "# elif FIGHTER==1:\n",
    "#     df = spark.read.option(\"header\", True).option(\"inferSchema\", True).csv(\"file:///mnt/shared/dataset.csv\")\n",
    "\n",
    "# else:\n",
    "#     print(\"Better choose an available fighter, you little bastard\")\n",
    "\n",
    "# df = df.repartition(Npartition)"
   ]
  },
  {
   "cell_type": "code",
   "execution_count": 30,
   "id": "5f37bc11-4ca2-4a67-9175-a0ee6d20521a",
   "metadata": {},
   "outputs": [],
   "source": [
    "from sklearn.metrics import roc_auc_score, roc_curve\n",
    "\n",
    "def ROC_ScoreDF(df):\n",
    "\n",
    "    #Filters all the blockID such that there is at least 1 anomaly\n",
    "    AnomalousBlocks_df = (\n",
    "        df\n",
    "        .groupBy(\"BlockID\")\n",
    "        .agg(F.max(\"HasAnomaly\").alias(\"HasAnomalyFlag\"))\n",
    "        .filter(F.col(\"HasAnomalyFlag\") == 1)\n",
    "        .select(\"BlockID\"))\n",
    "\n",
    "    #Filter the initial dataframe with only the anomalous blocks\n",
    "    AnomDF = df.join(AnomalousBlocks_df, on=\"BlockID\", how=\"inner\")\n",
    "\n",
    "    #BlockID of anomalous blocks \n",
    "    AnomalousBlocks = [row[\"BlockID\"] for row in AnomDF.select(\"BlockID\").distinct().collect()]\n",
    "\n",
    "    #Computes the number of distinct value for all the metrics in the anomalous dataframe\n",
    "    Metrics = ChangingMetrics(AnomDF)\n",
    "\n",
    "    results = []\n",
    "\n",
    "    #debug \n",
    "    AnomalousBlocks = [29]\n",
    "\n",
    "    #Main loop over all the anomalous block\n",
    "    for block in AnomalousBlocks:\n",
    "\n",
    "        sensors = SpecificMetric(Metrics, block, 10)\n",
    "\n",
    "        #Filter only the current block\n",
    "        BlockDF = AnomDF.filter(F.col(\"BlockID\") == block)\n",
    "\n",
    "        HasAnomCol = BlockDF.select(\"HasAnomaly\").collect()\n",
    "        \n",
    "        for sensor in sensors:\n",
    "\n",
    "            print(f'({block}, {sensor})')\n",
    "            SensorCol = BlockDF.select(sensor).collect()\n",
    "            \n",
    "            score = roc_auc_score(HasAnomCol, SensorCol)\n",
    "\n",
    "            if score is not None:\n",
    "                results.append((block, sensor, score))\n",
    "\n",
    "    # Convert to DataFrame\n",
    "    schema = [\"BlockID\", \"Sensor\", \"ROC_AUC\"]\n",
    "    result_df = df.sparkSession.createDataFrame(results, schema=schema)\n",
    "\n",
    "    return result_df\n",
    "    \n",
    "\n",
    "    \n",
    "    "
   ]
  },
  {
   "cell_type": "code",
   "execution_count": 31,
   "id": "e6ef52d9-9611-421a-97be-89a1a3f2bb28",
   "metadata": {},
   "outputs": [
    {
     "name": "stderr",
     "output_type": "stream",
     "text": [
      "25/08/09 07:23:36 WARN DAGScheduler: Broadcasting large task binary with size 3.0 MiB\n",
      "25/08/09 07:23:40 WARN DAGScheduler: Broadcasting large task binary with size 3.0 MiB\n",
      "                                                                                "
     ]
    },
    {
     "name": "stdout",
     "output_type": "stream",
     "text": [
      "(29, S10)\n",
      "(29, S100)\n",
      "(29, S101)\n",
      "(29, S102)\n",
      "(29, S107)\n",
      "(29, S109)\n",
      "(29, S122)\n",
      "(29, S124)\n",
      "(29, S126)\n",
      "(29, S138)\n",
      "(29, S140)\n",
      "(29, S143)\n",
      "(29, S147)\n",
      "(29, S151)\n",
      "(29, S154)\n",
      "(29, S157)\n",
      "(29, S158)\n",
      "(29, S159)\n",
      "(29, S164)\n",
      "(29, S166)\n",
      "(29, S178)\n",
      "(29, S180)\n",
      "(29, S37)\n",
      "(29, S39)\n",
      "(29, S40)\n",
      "(29, S41)\n",
      "(29, S46)\n",
      "(29, S47)\n",
      "(29, S5)\n",
      "(29, S70)\n",
      "(29, S71)\n",
      "(29, S81)\n",
      "(29, S83)\n",
      "(29, S9)\n",
      "(29, S90)\n",
      "(29, S94)\n",
      "(29, S97)\n"
     ]
    }
   ],
   "source": [
    "#test = ROC_ScoreDF(df_final)"
   ]
  },
  {
   "cell_type": "code",
   "execution_count": 32,
   "id": "88d1fa99-f45e-4562-8742-3f4fa85b6390",
   "metadata": {},
   "outputs": [
    {
     "name": "stderr",
     "output_type": "stream",
     "text": [
      "                                                                                "
     ]
    }
   ],
   "source": [
    "PandaDF = df_final.toPandas()\n",
    "\n",
    "Anom = PandaDF[PandaDF['BlockID'] == 119]\n",
    "Norm = PandaDF[PandaDF['BlockID'] == 118]"
   ]
  },
  {
   "cell_type": "code",
   "execution_count": 33,
   "id": "7e961642-2a88-4eb4-ba1d-0abf16965655",
   "metadata": {},
   "outputs": [
    {
     "data": {
      "text/plain": [
       "<matplotlib.collections.PathCollection at 0x7f35492a5550>"
      ]
     },
     "execution_count": 33,
     "metadata": {},
     "output_type": "execute_result"
    },
    {
     "data": {
      "image/png": "[encoded data removed]",
      "text/plain": [
       "<Figure size 640x480 with 1 Axes>"
      ]
     },
     "metadata": {},
     "output_type": "display_data"
    }
   ],
   "source": [
    "Complete = pd.concat([Norm, Anom])\n",
    "\n",
    "HasAnom118 = np.zeros(len(Norm))\n",
    "HasAnom119 = np.ones(len(Anom))\n",
    "HasAnom = np.concatenate([HasAnom118, HasAnom119])\n",
    "\n",
    "P10 = Complete['S10']\n",
    "\n",
    "plt.scatter(P10, HasAnom)\n"
   ]
  },
  {
   "cell_type": "code",
   "execution_count": 34,
   "id": "0ea279f3-073d-4743-8e1d-81fed8cb60d0",
   "metadata": {},
   "outputs": [
    {
     "data": {
      "text/plain": [
       "0.576312910284464"
      ]
     },
     "execution_count": 34,
     "metadata": {},
     "output_type": "execute_result"
    }
   ],
   "source": [
    "from sklearn.metrics import roc_auc_score, roc_curve\n",
    "\n",
    "score = roc_auc_score(HasAnom, P10)\n",
    "score"
   ]
  },
  {
   "cell_type": "code",
   "execution_count": 35,
   "id": "db63d7da-fce8-4103-ae08-105d52e86a23",
   "metadata": {},
   "outputs": [
    {
     "data": {
      "image/png": "[encoded data removed]",
      "text/plain": [
       "<Figure size 640x480 with 1 Axes>"
      ]
     },
     "metadata": {},
     "output_type": "display_data"
    }
   ],
   "source": [
    "fpr, tpr, thresholds = roc_curve(HasAnom, P10)\n",
    "plt.figure()\n",
    "plt.plot(fpr, tpr)\n",
    "plt.plot([0, 1], [0, 1], linestyle='--', color='gray')  # no-skill line\n",
    "plt.xlabel('False Positive Rate')\n",
    "plt.ylabel('True Positive Rate')\n",
    "plt.title('ROC Curve')\n",
    "plt.grid(True)\n",
    "plt.show()"
   ]
  },
  {
   "cell_type": "code",
   "execution_count": 171,
   "id": "e2847215-4756-4d43-86e6-6194d68a7d19",
   "metadata": {},
   "outputs": [],
   "source": [
    "spark.stop()"
   ]
  },
  {
   "cell_type": "markdown",
   "id": "7f6a205d-1fc4-42a1-9ad0-5d0a019f1446",
   "metadata": {},
   "source": [
    "# Unixtime (utile per controllare)"
   ]
  },
  {
   "cell_type": "code",
   "execution_count": 39,
   "id": "12afd444-d76d-4f90-a78b-e642ebad9313",
   "metadata": {},
   "outputs": [
    {
     "name": "stdout",
     "output_type": "stream",
     "text": [
      "2020-10-01 00:00:30\n",
      "2020-10-01 00:02:30\n"
     ]
    }
   ],
   "source": [
    "from datetime import datetime\n",
    "print ( datetime.fromtimestamp(1601510430) )\n",
    "print ( datetime.fromtimestamp(1601510550) )"
   ]
  },
  {
   "cell_type": "code",
   "execution_count": null,
   "id": "b19e1ef9-0a78-4112-af3f-6fec1d3cbd3b",
   "metadata": {},
   "outputs": [],
   "source": []
  },
  {
   "cell_type": "code",
   "execution_count": null,
   "id": "634333cb-c423-4490-bcc8-cdc53ace6dfa",
   "metadata": {},
   "outputs": [],
   "source": []
  },
  {
   "cell_type": "markdown",
   "id": "cf0f07d0-b73e-4043-9c8b-639e1085b2f3",
   "metadata": {},
   "source": [
    "# expr"
   ]
  },
  {
   "cell_type": "code",
   "execution_count": 31,
   "id": "c3dc375b-74a1-4e30-b3b7-04236992d20d",
   "metadata": {},
   "outputs": [
    {
     "name": "stdout",
     "output_type": "stream",
     "text": [
      "DataFrame iniziale:\n",
      "+-----------+---+---+\n",
      "|time_window| A5| A7|\n",
      "+-----------+---+---+\n",
      "|    window1|  1| 10|\n",
      "|    window1|  0| 20|\n",
      "|    window2|  1| 30|\n",
      "|    window2|  1| 40|\n",
      "+-----------+---+---+\n",
      "\n",
      "+--------+\n",
      "|media A7|\n",
      "+--------+\n",
      "|    25.0|\n",
      "+--------+\n",
      "\n",
      "+-----------+--------+\n",
      "|time_window|media A7|\n",
      "+-----------+--------+\n",
      "|    window1|    15.0|\n",
      "|    window2|    35.0|\n",
      "+-----------+--------+\n",
      "\n"
     ]
    }
   ],
   "source": [
    "data = [\n",
    "    (\"window1\", 1, 10),\n",
    "    (\"window1\", 0, 20),\n",
    "    (\"window2\", 1, 30),\n",
    "    (\"window2\", 1, 40),\n",
    "]\n",
    "columns = [\"time_window\", \"A5\", \"A7\"]\n",
    "\n",
    "df_1 = spark.createDataFrame(data, columns)\n",
    "\n",
    "print(\"DataFrame iniziale:\")\n",
    "df_1.show()\n",
    "\n",
    "\n",
    "df_2 = df_1.agg(spark_avg(col(\"A7\")).alias(\"media A7\"))  #di fatto sottointeso .goupBy su tutto il dataframe\n",
    "df_2.show()\n",
    "\n",
    "\n",
    "df_3 = df_1.groupBy(\"time_window\").agg(spark_avg(col(\"A7\")).alias(\"media A7\"))\n",
    "df_3.show()"
   ]
  },
  {
   "cell_type": "code",
   "execution_count": null,
   "id": "8361ab67",
   "metadata": {},
   "outputs": [],
   "source": []
  },
  {
   "cell_type": "code",
   "execution_count": null,
   "id": "58e70b5c",
   "metadata": {},
   "outputs": [],
   "source": []
  },
  {
   "cell_type": "code",
   "execution_count": null,
   "id": "df1ab566",
   "metadata": {},
   "outputs": [],
   "source": []
  },
  {
   "cell_type": "markdown",
   "id": "249fa25a-8720-4a82-99bf-7952861e8db9",
   "metadata": {},
   "source": [
    "# agg"
   ]
  },
  {
   "cell_type": "code",
   "execution_count": 21,
   "id": "8a36f313",
   "metadata": {},
   "outputs": [
    {
     "name": "stdout",
     "output_type": "stream",
     "text": [
      "DataFrame iniziale:\n",
      "+-----------+---+---+\n",
      "|time_window| A5| A7|\n",
      "+-----------+---+---+\n",
      "|    window1|  1| 10|\n",
      "|    window1|  0| 20|\n",
      "|    window2|  1| 30|\n",
      "|    window2|  1| 40|\n",
      "+-----------+---+---+\n",
      "\n",
      "Risultato aggregato:\n",
      "+-----------+---+----+\n",
      "|time_window| A5|  A7|\n",
      "+-----------+---+----+\n",
      "|    window2|  1|35.0|\n",
      "|    window1|  1|15.0|\n",
      "+-----------+---+----+\n",
      "\n"
     ]
    }
   ],
   "source": [
    "# 2. Creare il DataFrame di esempio\n",
    "data = [\n",
    "    (\"window1\", 1, 10),\n",
    "    (\"window1\", 0, 20),\n",
    "    (\"window2\", 1, 30),\n",
    "    (\"window2\", 1, 40),\n",
    "]\n",
    "columns = [\"time_window\", \"A5\", \"A7\"]\n",
    "\n",
    "df_windowed = spark.createDataFrame(data, columns)\n",
    "\n",
    "print(\"DataFrame iniziale:\")\n",
    "df_windowed.show()\n",
    "\n",
    "# 3. Definire le aggregazioni\n",
    "aggs = [\n",
    "    spark_max(col(\"A5\")).alias(\"A5\"),   # MAX per A5\n",
    "    spark_avg(col(\"A7\")).alias(\"A7\")    # AVG per A7\n",
    "]\n",
    "\n",
    "# 4. Eseguire la groupBy con le aggregazioni\n",
    "result_df = df_windowed.groupBy(\"time_window\").agg(*aggs)\n",
    "\n",
    "print(\"Risultato aggregato:\")\n",
    "result_df.show()"
   ]
  },
  {
   "cell_type": "code",
   "execution_count": null,
   "id": "9d198ac8-380a-4684-8b6c-d3d9913295b1",
   "metadata": {},
   "outputs": [],
   "source": []
  },
  {
   "cell_type": "code",
   "execution_count": null,
   "id": "7f85f95f-a1a1-4016-933c-dbea25403fc8",
   "metadata": {},
   "outputs": [],
   "source": []
  },
  {
   "cell_type": "markdown",
   "id": "48927d07-fae4-4b3a-8559-ddaaeca72085",
   "metadata": {},
   "source": [
    "# window"
   ]
  },
  {
   "cell_type": "code",
   "execution_count": 11,
   "id": "68c31bdb-eb47-45a2-8538-b461f55a7ce1",
   "metadata": {},
   "outputs": [
    {
     "name": "stdout",
     "output_type": "stream",
     "text": [
      "DataFrame originale:\n",
      "+-----+-----+-------------------+\n",
      "|user |value|timestamp          |\n",
      "+-----+-----+-------------------+\n",
      "|user1|10   |2023-01-01 12:00:00|\n",
      "|user2|20   |2023-01-01 12:03:00|\n",
      "|user1|30   |2023-01-01 12:07:00|\n",
      "|user2|40   |2023-01-01 12:12:00|\n",
      "|user1|50   |2023-01-01 12:18:00|\n",
      "+-----+-----+-------------------+\n",
      "\n",
      "Aggregato per finestre di 10 minuti:\n"
     ]
    },
    {
     "name": "stderr",
     "output_type": "stream",
     "text": [
      "[Stage 4:============================================>              (3 + 1) / 4]"
     ]
    },
    {
     "name": "stdout",
     "output_type": "stream",
     "text": [
      "+------------------------------------------+---------+-----+\n",
      "|window                                    |avg_value|count|\n",
      "+------------------------------------------+---------+-----+\n",
      "|{2023-01-01 12:00:00, 2023-01-01 12:10:00}|20.0     |3    |\n",
      "|{2023-01-01 12:10:00, 2023-01-01 12:20:00}|45.0     |2    |\n",
      "+------------------------------------------+---------+-----+\n",
      "\n"
     ]
    },
    {
     "name": "stderr",
     "output_type": "stream",
     "text": [
      "                                                                                "
     ]
    }
   ],
   "source": [
    "# 2. Creiamo un DataFrame con timestamp + valori\n",
    "data = [\n",
    "    (\"user1\", 10, datetime.datetime(2023, 1, 1, 12, 0, 0)),\n",
    "    (\"user2\", 20, datetime.datetime(2023, 1, 1, 12, 3, 0)),\n",
    "    (\"user1\", 30, datetime.datetime(2023, 1, 1, 12, 7, 0)),\n",
    "    (\"user2\", 40, datetime.datetime(2023, 1, 1, 12, 12, 0)),\n",
    "    (\"user1\", 50, datetime.datetime(2023, 1, 1, 12, 18, 0)),\n",
    "]\n",
    "\n",
    "schema = StructType([\n",
    "    StructField(\"user\", StringType(), True),\n",
    "    StructField(\"value\", IntegerType(), True),\n",
    "    StructField(\"timestamp\", TimestampType(), True),\n",
    "])\n",
    "\n",
    "df = spark.createDataFrame(data, schema)\n",
    "\n",
    "print(\"DataFrame originale:\")\n",
    "df.show(truncate=False)\n",
    "\n",
    "# 3. Applichiamo una window di 10 minuti sul timestamp\n",
    "df_windowed = (\n",
    "    df.groupBy(window(col(\"timestamp\"), \"10 minutes\"))  # ogni 10 minuti\n",
    "      .agg(\n",
    "          spark_avg(\"value\").alias(\"avg_value\"),\n",
    "          count(\"*\").alias(\"count\")\n",
    "      )\n",
    "      .orderBy(\"window\")\n",
    ")\n",
    "\n",
    "print(\"Aggregato per finestre di 10 minuti:\")\n",
    "df_windowed.show(truncate=False)"
   ]
  },
  {
   "cell_type": "code",
   "execution_count": 14,
   "id": "52c85e75-06c5-4984-981a-24c7f4573b94",
   "metadata": {},
   "outputs": [
    {
     "name": "stdout",
     "output_type": "stream",
     "text": [
      "DataFrame originale:\n",
      "+---+-------------------+\n",
      "|id |timestamp          |\n",
      "+---+-------------------+\n",
      "|1  |2023-01-01 12:00:00|\n",
      "|2  |2023-01-01 12:03:00|\n",
      "|3  |2023-01-01 12:07:00|\n",
      "|4  |2023-01-01 12:12:00|\n",
      "+---+-------------------+\n",
      "\n",
      "DataFrame con le finestre temporali:\n",
      "+------------------------------------------+\n",
      "|time_window                               |\n",
      "+------------------------------------------+\n",
      "|{2023-01-01 12:00:00, 2023-01-01 12:10:00}|\n",
      "|{2023-01-01 12:00:00, 2023-01-01 12:10:00}|\n",
      "|{2023-01-01 12:00:00, 2023-01-01 12:10:00}|\n",
      "|{2023-01-01 12:10:00, 2023-01-01 12:20:00}|\n",
      "+------------------------------------------+\n",
      "\n"
     ]
    }
   ],
   "source": [
    "# 2. Piccolo dataset con timestamp\n",
    "data = [\n",
    "    (1, datetime.datetime(2023, 1, 1, 12, 0, 0)),\n",
    "    (2, datetime.datetime(2023, 1, 1, 12, 3, 0)),\n",
    "    (3, datetime.datetime(2023, 1, 1, 12, 7, 0)),\n",
    "    (4, datetime.datetime(2023, 1, 1, 12, 12, 0)),\n",
    "]\n",
    "\n",
    "schema = StructType([\n",
    "    StructField(\"id\", IntegerType(), True),\n",
    "    StructField(\"timestamp\", TimestampType(), True),\n",
    "])\n",
    "\n",
    "df = spark.createDataFrame(data, schema)\n",
    "\n",
    "print(\"DataFrame originale:\")\n",
    "df.show(truncate=False)\n",
    "\n",
    "# 3. Usiamo SOLO la funzione window\n",
    "df_windowed = df.select(window(col(\"timestamp\"), \"10 minutes\").alias(\"time_window\"))\n",
    "\n",
    "print(\"DataFrame con le finestre temporali:\")\n",
    "df_windowed.show(truncate=False)"
   ]
  },
  {
   "cell_type": "code",
   "execution_count": null,
   "id": "84f24fec-fb4c-43f0-8d35-19e7f845bd66",
   "metadata": {},
   "outputs": [],
   "source": [
    "# {2023-01-01 12:00:00, 2023-01-01 12:10:00}\n",
    "# in realtà è una struct con due campi: start e end."
   ]
  },
  {
   "cell_type": "code",
   "execution_count": 18,
   "id": "fb6bdbb6-e554-40bb-a410-e00ba87a7429",
   "metadata": {},
   "outputs": [
    {
     "name": "stdout",
     "output_type": "stream",
     "text": [
      "+-------------------+-------------------+\n",
      "|             inizio|               fine|\n",
      "+-------------------+-------------------+\n",
      "|2023-01-01 12:00:00|2023-01-01 12:10:00|\n",
      "|2023-01-01 12:00:00|2023-01-01 12:10:00|\n",
      "|2023-01-01 12:00:00|2023-01-01 12:10:00|\n",
      "|2023-01-01 12:10:00|2023-01-01 12:20:00|\n",
      "+-------------------+-------------------+\n",
      "\n"
     ]
    }
   ],
   "source": [
    "df_estremi = df_windowed.select(col(\"time_window.start\").alias(\"inizio\"),col(\"time_window.end\").alias(\"fine\"))\n",
    "df_estremi.show()"
   ]
  },
  {
   "cell_type": "code",
   "execution_count": null,
   "id": "2a0f5d62-3b4e-487c-8091-07291c7557bc",
   "metadata": {},
   "outputs": [],
   "source": []
  },
  {
   "cell_type": "code",
   "execution_count": null,
   "id": "d0b7ef10-cfe8-4e4a-a529-ced8abcfb380",
   "metadata": {},
   "outputs": [],
   "source": []
  },
  {
   "cell_type": "code",
   "execution_count": null,
   "id": "17df5bcf-b338-41c3-af4c-f0e140ee8b18",
   "metadata": {},
   "outputs": [],
   "source": []
  },
  {
   "cell_type": "code",
   "execution_count": null,
   "id": "448c621f-d2a3-41c1-97ca-eeefca576ace",
   "metadata": {},
   "outputs": [],
   "source": []
  },
  {
   "cell_type": "code",
   "execution_count": null,
   "id": "eaadf93f-5055-4eef-8271-180aad5d43fc",
   "metadata": {},
   "outputs": [],
   "source": []
  },
  {
   "cell_type": "code",
   "execution_count": 34,
   "id": "95b77896-4b60-4933-88f8-f7a5b258ac44",
   "metadata": {},
   "outputs": [],
   "source": [
    "spark.stop()"
   ]
  },
  {
   "cell_type": "code",
   "execution_count": null,
   "id": "3174f47f-2f4e-464f-b914-6c7a4fbc154a",
   "metadata": {},
   "outputs": [],
   "source": []
  }
 ],
 "metadata": {
  "kernelspec": {
   "display_name": "Python 3 (ipykernel)",
   "language": "python",
   "name": "python3"
  },
  "language_info": {
   "codemirror_mode": {
    "name": "ipython",
    "version": 3
   },
   "file_extension": ".py",
   "mimetype": "text/x-python",
   "name": "python",
   "nbconvert_exporter": "python",
   "pygments_lexer": "ipython3",
   "version": "3.13.2"
  }
 },
 "nbformat": 4,
 "nbformat_minor": 5
}
