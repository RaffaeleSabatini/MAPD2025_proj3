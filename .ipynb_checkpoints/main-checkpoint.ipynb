{
 "cells": [
  {
   "cell_type": "markdown",
   "id": "37d92118-3f45-4d38-a2a9-730f57634aac",
   "metadata": {},
   "source": [
    "# Creation of the Spark Session and Context"
   ]
  },
  {
   "cell_type": "code",
   "execution_count": 123,
   "id": "efd5c59d-1172-405a-bafe-4754d41f8414",
   "metadata": {},
   "outputs": [],
   "source": [
    "spark.stop()"
   ]
  },
  {
   "cell_type": "code",
   "execution_count": 105,
   "id": "33a28d44-c369-4659-a27f-36556398bf56",
   "metadata": {},
   "outputs": [],
   "source": [
    "# Standard libraries\n",
    "import os\n",
    "import numpy as np\n",
    "import pandas as pd\n",
    "import matplotlib.pyplot as plt\n",
    "\n",
    "# PySpark core\n",
    "from pyspark import SparkFiles\n",
    "from pyspark.sql import SparkSession, DataFrame, Window\n",
    "from pyspark.sql.types import IntegerType\n",
    "\n",
    "# PySpark functions\n",
    "from pyspark.sql.functions import (\n",
    "    col, lag, expr, when, count, sum as sum_, abs as abs_, round as spark_round,\n",
    "    min as spark_min, max as spark_max, avg as spark_avg, min_by,\n",
    "    explode, sequence, from_unixtime, to_date, unix_timestamp,\n",
    "    first, desc, asc\n",
    ")"
   ]
  },
  {
   "cell_type": "code",
   "execution_count": 1,
   "id": "e8b76336-8f50-45ca-8605-531a1f1e9817",
   "metadata": {},
   "outputs": [
    {
     "name": "stderr",
     "output_type": "stream",
     "text": [
      "Setting default log level to \"WARN\".\n",
      "To adjust logging level use sc.setLogLevel(newLevel). For SparkR, use setLogLevel(newLevel).\n",
      "25/07/29 09:11:40 WARN NativeCodeLoader: Unable to load native-hadoop library for your platform... using builtin-java classes where applicable\n"
     ]
    }
   ],
   "source": [
    "os.environ[\"PYSPARK_PYTHON\"] = \"/opt/miniconda3/bin/python\"\n",
    "os.environ[\"PYSPARK_DRIVER_PYTHON\"] = \"/opt/miniconda3/bin/python\"\n",
    "\n",
    "spark = SparkSession.builder \\\n",
    "    .appName(\"MAPDProject\") \\\n",
    "    .master(\"spark://10.67.22.135:7077\") \\\n",
    "    .config(\"spark.scheduler.mode\", \"FAIR\") \\\n",
    "    .config(\"spark.dynamicAllocation.enabled\", \"false\") \\\n",
    "    .config(\"spark.shuffle.service.enabled\", \"false\") \\\n",
    "    .config(\"spark.scheduler.pool\", \"user_b\") \\\n",
    "    .getOrCreate()\n",
    "\n",
    "sc = spark.sparkContext"
   ]
  },
  {
   "cell_type": "markdown",
   "id": "a5025883-f632-4dd6-a155-cc400748ff88",
   "metadata": {},
   "source": [
    "# Dataset upload and partition"
   ]
  },
  {
   "cell_type": "code",
   "execution_count": 2,
   "id": "572c438c-52e6-48e2-ab72-8c4aba761f72",
   "metadata": {},
   "outputs": [],
   "source": [
    "Npartition = 16 # to change (one of project goal)"
   ]
  },
  {
   "cell_type": "code",
   "execution_count": 3,
   "id": "a4f13136-99cd-4587-b41a-939782920223",
   "metadata": {},
   "outputs": [
    {
     "name": "stderr",
     "output_type": "stream",
     "text": [
      "25/07/29 09:11:57 WARN FairSchedulableBuilder: A job was submitted with scheduler pool user_b, which has not been configured. This can happen when the file that pools are read from isn't set, or when that file doesn't contain user_b. Created user_b with default configuration (schedulingMode: FIFO, minShare: 0, weight: 1)\n",
      "                                                                                "
     ]
    }
   ],
   "source": [
    "df = spark.read.option(\"header\", True).csv(\"file:///mnt/shared/dataset.csv\")\n",
    "df = df.repartition(Npartition)"
   ]
  },
  {
   "cell_type": "code",
   "execution_count": 4,
   "id": "00454021-2f0f-41eb-8b68-29c894a914f3",
   "metadata": {},
   "outputs": [
    {
     "name": "stderr",
     "output_type": "stream",
     "text": [
      "[Stage 1:====================================================>    (36 + 3) / 39]"
     ]
    },
    {
     "name": "stdout",
     "output_type": "stream",
     "text": [
      "Number of partition used 16\n"
     ]
    }
   ],
   "source": [
    "print(f\"Number of partition used {df.rdd.getNumPartitions()}\")"
   ]
  },
  {
   "cell_type": "code",
   "execution_count": 5,
   "id": "81051779-dc36-4e67-980b-46843f3826aa",
   "metadata": {},
   "outputs": [
    {
     "name": "stdout",
     "output_type": "stream",
     "text": [
      "root\n",
      " |-- when: string (nullable = true)\n",
      " |-- hwid: string (nullable = true)\n",
      " |-- metric: string (nullable = true)\n",
      " |-- value: string (nullable = true)\n",
      "\n"
     ]
    }
   ],
   "source": [
    "df.printSchema()"
   ]
  },
  {
   "cell_type": "markdown",
   "id": "1bb6ebcb-2a1e-4c9d-9f15-2600f04883f4",
   "metadata": {},
   "source": [
    "# Focus on one hardware at time"
   ]
  },
  {
   "cell_type": "code",
   "execution_count": 6,
   "id": "13a9d3a5-9805-4732-868c-b40007b6dcca",
   "metadata": {},
   "outputs": [],
   "source": [
    "df = df.withColumn(\"when\", spark_round(col(\"when\") / 1000).cast(IntegerType()))"
   ]
  },
  {
   "cell_type": "code",
   "execution_count": 7,
   "id": "b274cc0f-fa59-4034-8939-d44866d42681",
   "metadata": {},
   "outputs": [
    {
     "name": "stderr",
     "output_type": "stream",
     "text": [
      "[Stage 4:=============================>                            (8 + 8) / 16]"
     ]
    },
    {
     "name": "stdout",
     "output_type": "stream",
     "text": [
      "+------+\n",
      "|  hwid|\n",
      "+------+\n",
      "|SW-088|\n",
      "|SW-106|\n",
      "|SW-065|\n",
      "|SW-115|\n",
      "+------+\n",
      "\n"
     ]
    },
    {
     "name": "stderr",
     "output_type": "stream",
     "text": [
      "                                                                                "
     ]
    }
   ],
   "source": [
    "hwid_list = df.select(\"hwid\").distinct()\n",
    "hwid_list.show()"
   ]
  },
  {
   "cell_type": "code",
   "execution_count": 8,
   "id": "91d73c3d-8f98-440b-84d8-3c650cd8db8a",
   "metadata": {},
   "outputs": [],
   "source": [
    "# CHANGE HERE HARDWARE TO ANALYZE\n",
    "hardware = \"SW-106\"\n",
    "df_hard = df.filter(col(\"hwid\") == hardware)"
   ]
  },
  {
   "cell_type": "code",
   "execution_count": 9,
   "id": "1475d0b5-bc02-4558-9594-3bb077c61086",
   "metadata": {},
   "outputs": [
    {
     "name": "stdout",
     "output_type": "stream",
     "text": [
      "root\n",
      " |-- when: integer (nullable = true)\n",
      " |-- hwid: string (nullable = true)\n",
      " |-- metric: string (nullable = true)\n",
      " |-- value: string (nullable = true)\n",
      "\n"
     ]
    }
   ],
   "source": [
    "df_hard.printSchema()"
   ]
  },
  {
   "cell_type": "code",
   "execution_count": 10,
   "id": "caf23a45-2011-4309-ba81-9d90f697d75b",
   "metadata": {},
   "outputs": [
    {
     "name": "stderr",
     "output_type": "stream",
     "text": [
      "[Stage 8:=======================================================> (38 + 1) / 39]"
     ]
    },
    {
     "name": "stdout",
     "output_type": "stream",
     "text": [
      "+----------+------+------+-----+\n",
      "|when      |hwid  |metric|value|\n",
      "+----------+------+------+-----+\n",
      "|1602780864|SW-106|S178  |0    |\n",
      "|1602163626|SW-106|S97   |48   |\n",
      "|1602387248|SW-106|S166  |266  |\n",
      "|1602411743|SW-106|SW    |1    |\n",
      "|1602812169|SW-106|S108  |0    |\n",
      "+----------+------+------+-----+\n",
      "only showing top 5 rows\n",
      "\n"
     ]
    },
    {
     "name": "stderr",
     "output_type": "stream",
     "text": [
      "                                                                                "
     ]
    }
   ],
   "source": [
    "df_hard.show(5, truncate=False)"
   ]
  },
  {
   "cell_type": "code",
   "execution_count": 11,
   "id": "92e86e13-dd87-4abd-a9a4-70321af57176",
   "metadata": {},
   "outputs": [
    {
     "name": "stderr",
     "output_type": "stream",
     "text": [
      "                                                                                "
     ]
    }
   ],
   "source": [
    "df_hard = df_hard.groupBy(\"when\").pivot(\"metric\").agg(first(\"value\"))\\\n",
    "    .withColumn(\"time\", from_unixtime(col(\"when\"))).orderBy(\"when\")"
   ]
  },
  {
   "cell_type": "code",
   "execution_count": 12,
   "id": "cf99b20f-f39e-496f-b541-1f3ab4a37092",
   "metadata": {},
   "outputs": [
    {
     "name": "stdout",
     "output_type": "stream",
     "text": [
      "root\n",
      " |-- when: integer (nullable = true)\n",
      " |-- A5: string (nullable = true)\n",
      " |-- A9: string (nullable = true)\n",
      " |-- ComError: string (nullable = true)\n",
      " |-- P1: string (nullable = true)\n",
      " |-- P10: string (nullable = true)\n",
      " |-- P15: string (nullable = true)\n",
      " |-- P16: string (nullable = true)\n",
      " |-- P17: string (nullable = true)\n",
      " |-- P18: string (nullable = true)\n",
      " |-- P2: string (nullable = true)\n",
      " |-- P5: string (nullable = true)\n",
      " |-- P6: string (nullable = true)\n",
      " |-- P7: string (nullable = true)\n",
      " |-- P8: string (nullable = true)\n",
      " |-- P9: string (nullable = true)\n",
      " |-- S1: string (nullable = true)\n",
      " |-- S10: string (nullable = true)\n",
      " |-- S100: string (nullable = true)\n",
      " |-- S101: string (nullable = true)\n",
      " |-- S102: string (nullable = true)\n",
      " |-- S106: string (nullable = true)\n",
      " |-- S107: string (nullable = true)\n",
      " |-- S108: string (nullable = true)\n",
      " |-- S109: string (nullable = true)\n",
      " |-- S11: string (nullable = true)\n",
      " |-- S110: string (nullable = true)\n",
      " |-- S112: string (nullable = true)\n",
      " |-- S113: string (nullable = true)\n",
      " |-- S114: string (nullable = true)\n",
      " |-- S115: string (nullable = true)\n",
      " |-- S117: string (nullable = true)\n",
      " |-- S118: string (nullable = true)\n",
      " |-- S122: string (nullable = true)\n",
      " |-- S123: string (nullable = true)\n",
      " |-- S124: string (nullable = true)\n",
      " |-- S125: string (nullable = true)\n",
      " |-- S126: string (nullable = true)\n",
      " |-- S127: string (nullable = true)\n",
      " |-- S128: string (nullable = true)\n",
      " |-- S129: string (nullable = true)\n",
      " |-- S130: string (nullable = true)\n",
      " |-- S137: string (nullable = true)\n",
      " |-- S138: string (nullable = true)\n",
      " |-- S140: string (nullable = true)\n",
      " |-- S143: string (nullable = true)\n",
      " |-- S147: string (nullable = true)\n",
      " |-- S15: string (nullable = true)\n",
      " |-- S151: string (nullable = true)\n",
      " |-- S154: string (nullable = true)\n",
      " |-- S157: string (nullable = true)\n",
      " |-- S158: string (nullable = true)\n",
      " |-- S159: string (nullable = true)\n",
      " |-- S16: string (nullable = true)\n",
      " |-- S163: string (nullable = true)\n",
      " |-- S164: string (nullable = true)\n",
      " |-- S165: string (nullable = true)\n",
      " |-- S166: string (nullable = true)\n",
      " |-- S167: string (nullable = true)\n",
      " |-- S169: string (nullable = true)\n",
      " |-- S17: string (nullable = true)\n",
      " |-- S170: string (nullable = true)\n",
      " |-- S171: string (nullable = true)\n",
      " |-- S172: string (nullable = true)\n",
      " |-- S173: string (nullable = true)\n",
      " |-- S174: string (nullable = true)\n",
      " |-- S175: string (nullable = true)\n",
      " |-- S176: string (nullable = true)\n",
      " |-- S178: string (nullable = true)\n",
      " |-- S179: string (nullable = true)\n",
      " |-- S180: string (nullable = true)\n",
      " |-- S181: string (nullable = true)\n",
      " |-- S183: string (nullable = true)\n",
      " |-- S19: string (nullable = true)\n",
      " |-- S2: string (nullable = true)\n",
      " |-- S201: string (nullable = true)\n",
      " |-- S202: string (nullable = true)\n",
      " |-- S203: string (nullable = true)\n",
      " |-- S204: string (nullable = true)\n",
      " |-- S205: string (nullable = true)\n",
      " |-- S206: string (nullable = true)\n",
      " |-- S25: string (nullable = true)\n",
      " |-- S3: string (nullable = true)\n",
      " |-- S33: string (nullable = true)\n",
      " |-- S34: string (nullable = true)\n",
      " |-- S35: string (nullable = true)\n",
      " |-- S37: string (nullable = true)\n",
      " |-- S39: string (nullable = true)\n",
      " |-- S40: string (nullable = true)\n",
      " |-- S41: string (nullable = true)\n",
      " |-- S42: string (nullable = true)\n",
      " |-- S43: string (nullable = true)\n",
      " |-- S45: string (nullable = true)\n",
      " |-- S46: string (nullable = true)\n",
      " |-- S47: string (nullable = true)\n",
      " |-- S49: string (nullable = true)\n",
      " |-- S5: string (nullable = true)\n",
      " |-- S50: string (nullable = true)\n",
      " |-- S53: string (nullable = true)\n",
      " |-- S54: string (nullable = true)\n",
      " |-- S55: string (nullable = true)\n",
      " |-- S56: string (nullable = true)\n",
      " |-- S57: string (nullable = true)\n",
      " |-- S6: string (nullable = true)\n",
      " |-- S63: string (nullable = true)\n",
      " |-- S64: string (nullable = true)\n",
      " |-- S69: string (nullable = true)\n",
      " |-- S7: string (nullable = true)\n",
      " |-- S70: string (nullable = true)\n",
      " |-- S71: string (nullable = true)\n",
      " |-- S72: string (nullable = true)\n",
      " |-- S73: string (nullable = true)\n",
      " |-- S8: string (nullable = true)\n",
      " |-- S80: string (nullable = true)\n",
      " |-- S81: string (nullable = true)\n",
      " |-- S83: string (nullable = true)\n",
      " |-- S86: string (nullable = true)\n",
      " |-- S9: string (nullable = true)\n",
      " |-- S90: string (nullable = true)\n",
      " |-- S94: string (nullable = true)\n",
      " |-- S97: string (nullable = true)\n",
      " |-- SA1: string (nullable = true)\n",
      " |-- SA10: string (nullable = true)\n",
      " |-- SA11: string (nullable = true)\n",
      " |-- SA12: string (nullable = true)\n",
      " |-- SA2: string (nullable = true)\n",
      " |-- SA3: string (nullable = true)\n",
      " |-- SA4: string (nullable = true)\n",
      " |-- SA5: string (nullable = true)\n",
      " |-- SA6: string (nullable = true)\n",
      " |-- SA7: string (nullable = true)\n",
      " |-- SA8: string (nullable = true)\n",
      " |-- SA9: string (nullable = true)\n",
      " |-- SW: string (nullable = true)\n",
      " |-- time: string (nullable = true)\n",
      "\n"
     ]
    }
   ],
   "source": [
    "df_hard.printSchema()"
   ]
  },
  {
   "cell_type": "code",
   "execution_count": 13,
   "id": "28b071f9-4c55-448f-87ed-ea874e8e764e",
   "metadata": {},
   "outputs": [],
   "source": [
    "selected_cols = [\"time\", \"S117\", \"S118\", \"S169\", \"S170\"]"
   ]
  },
  {
   "cell_type": "code",
   "execution_count": 14,
   "id": "6b4fa421-6c3d-4d9e-a18e-44a3f08c7ef6",
   "metadata": {},
   "outputs": [
    {
     "name": "stderr",
     "output_type": "stream",
     "text": [
      "[Stage 29:================>                                        (5 + 8) / 17]"
     ]
    },
    {
     "name": "stdout",
     "output_type": "stream",
     "text": [
      "+-------------------+----+----+----+----+\n",
      "|               time|S117|S118|S169|S170|\n",
      "+-------------------+----+----+----+----+\n",
      "|2020-10-01 00:00:22|   0|   1|NULL|NULL|\n",
      "|2020-10-01 00:00:25|NULL|NULL|   0|   1|\n",
      "|2020-10-01 00:00:53|   0|   1|NULL|NULL|\n",
      "|2020-10-01 00:00:55|NULL|NULL|   0|   1|\n",
      "|2020-10-01 00:01:23|   0|   1|NULL|NULL|\n",
      "+-------------------+----+----+----+----+\n",
      "only showing top 5 rows\n",
      "\n"
     ]
    },
    {
     "name": "stderr",
     "output_type": "stream",
     "text": [
      "                                                                                "
     ]
    }
   ],
   "source": [
    "# show first 5 rows\n",
    "df_hard.select(*selected_cols).orderBy(col(\"time\").asc()).show(5)"
   ]
  },
  {
   "cell_type": "code",
   "execution_count": 15,
   "id": "1b63cd73-76c6-4746-a301-24bf44285ed5",
   "metadata": {},
   "outputs": [
    {
     "name": "stderr",
     "output_type": "stream",
     "text": [
      "[Stage 35:==========================================>             (13 + 4) / 17]"
     ]
    },
    {
     "name": "stdout",
     "output_type": "stream",
     "text": [
      "+-------------------+----+----+----+----+\n",
      "|               time|S117|S118|S169|S170|\n",
      "+-------------------+----+----+----+----+\n",
      "|2021-03-27 07:27:36|NULL|NULL|   0|   0|\n",
      "|2021-03-27 07:28:03|   1|   0|NULL|NULL|\n",
      "|2021-03-27 07:28:06|NULL|NULL|   0|   0|\n",
      "|2021-03-27 07:28:34|   0|   0|NULL|NULL|\n",
      "|2021-03-27 07:28:37|NULL|NULL|   0|   0|\n",
      "+-------------------+----+----+----+----+\n",
      "\n"
     ]
    },
    {
     "name": "stderr",
     "output_type": "stream",
     "text": [
      "                                                                                "
     ]
    }
   ],
   "source": [
    "# show last 5 rows\n",
    "df_hard.select(*selected_cols).orderBy(col(\"time\").desc()).limit(5).orderBy(col(\"time\").asc()).show()"
   ]
  },
  {
   "cell_type": "markdown",
   "id": "0f446543-3012-4f64-8855-04f3a94b9725",
   "metadata": {},
   "source": [
    "# Timestamp analysis"
   ]
  },
  {
   "cell_type": "code",
   "execution_count": 16,
   "id": "5ba0f6fc-7d52-4f8b-9dab-a31bc4041a87",
   "metadata": {},
   "outputs": [],
   "source": [
    "def compute_time_differences(df, when_col=\"when\", max_collect=1_000_000):\n",
    "    \"\"\"\n",
    "    Computes time differences (Δwhen) between consecutive rows in a DataFrame.\n",
    "\n",
    "    Args:\n",
    "        df (DataFrame): Spark DataFrame with a time column (e.g., 'when').\n",
    "        when_col (str): Name of the time column to compute differences on.\n",
    "        max_collect (int): Threshold to safely collect diffs to driver.\n",
    "\n",
    "    Returns:\n",
    "        rdd_diff (RDD): RDD of differences (current - previous).\n",
    "    \"\"\"\n",
    "    rdd_times = df.select(when_col).rdd.map(lambda row: row[when_col])\n",
    "    rdd_shifted = rdd_times.zipWithIndex().map(lambda x: (x[1], x[0]))  # (index, time)\n",
    "    rdd_prev = rdd_shifted.map(lambda x: (x[0] + 1, x[1]))              # shift by +1 index\n",
    "    rdd_joined = rdd_shifted.join(rdd_prev).sortByKey()\n",
    "    rdd_diff = rdd_joined.map(lambda x: x[1][0] - x[1][1])\n",
    "\n",
    "    num_diffs = rdd_diff.count()\n",
    "    print(f\"Number of time differences: {num_diffs}\")\n",
    "\n",
    "    if num_diffs < max_collect:\n",
    "        return rdd_diff\n",
    "    else:\n",
    "        print(\"Too many differences to collect safely.\")\n",
    "        return None"
   ]
  },
  {
   "cell_type": "code",
   "execution_count": 37,
   "id": "02d3298f-a690-4ad9-87ce-84babcaf15b1",
   "metadata": {},
   "outputs": [],
   "source": [
    "def time_diff_summary(rdd_diff, spark, top_n=5):\n",
    "    \"\"\"\n",
    "    Summarizes the RDD of time differences into a frequency table and prints top/bottom values.\n",
    "\n",
    "    Args:\n",
    "        rdd_diff (RDD): RDD of integer time differences.\n",
    "        spark (SparkSession): Active Spark session.\n",
    "        top_n (int): Number of rows to show from top and bottom.\n",
    "\n",
    "    Returns:\n",
    "        df_freq (DataFrame): DataFrame with columns ['diff', 'count'].\n",
    "    \"\"\"\n",
    "    if rdd_diff is None:\n",
    "        print(\"No differences available to summarize.\")\n",
    "        return None\n",
    "\n",
    "    df_freq = rdd_diff.map(lambda d: (d, 1)) \\\n",
    "                      .reduceByKey(lambda a, b: a + b) \\\n",
    "                      .toDF([\"diff\", \"count\"]) \\\n",
    "                      .orderBy(\"diff\")\n",
    "\n",
    "    print(f\"\\n{top_n} smallest time differences:\")\n",
    "    df_freq.show(top_n, truncate=False)\n",
    "\n",
    "    print(f\"\\n{top_n} largest time differences:\")\n",
    "    df_freq.orderBy(\"diff\", ascending=False).show(top_n, truncate=False)\n",
    "\n",
    "    return df_freq"
   ]
  },
  {
   "cell_type": "code",
   "execution_count": 38,
   "id": "3b23163b-0c73-4674-8401-5024b4276d0d",
   "metadata": {},
   "outputs": [
    {
     "name": "stderr",
     "output_type": "stream",
     "text": [
      "                                                                                "
     ]
    },
    {
     "name": "stdout",
     "output_type": "stream",
     "text": [
      "Number of time differences: 398038\n",
      "\n",
      "5 smallest time differences:\n",
      "+----+------+\n",
      "|diff|count |\n",
      "+----+------+\n",
      "|2   |23809 |\n",
      "|3   |166233|\n",
      "|4   |5106  |\n",
      "|5   |464   |\n",
      "|6   |298   |\n",
      "+----+------+\n",
      "only showing top 5 rows\n",
      "\n",
      "\n",
      "5 largest time differences:\n",
      "+-------+-----+\n",
      "|diff   |count|\n",
      "+-------+-----+\n",
      "|5003774|1    |\n",
      "|2066908|1    |\n",
      "|757864 |1    |\n",
      "|48451  |1    |\n",
      "|28598  |1    |\n",
      "+-------+-----+\n",
      "only showing top 5 rows\n",
      "\n"
     ]
    }
   ],
   "source": [
    "# Compute time differences\n",
    "rdd_diff = compute_time_differences(df_hard)\n",
    "\n",
    "# Summarize and print top/bottom time gaps\n",
    "df_diff_summary = time_diff_summary(rdd_diff, spark)"
   ]
  },
  {
   "cell_type": "code",
   "execution_count": 19,
   "id": "a988ee9a-11ad-4296-bb6b-4af7dfda97ad",
   "metadata": {},
   "outputs": [],
   "source": [
    "def plot_diff_histogram(differences, min_diff, max_diff, delta):\n",
    "    \n",
    "    filtered = [d for d in differences if min_diff <= d <= max_diff]\n",
    "\n",
    "    bins = int((max_diff - min_diff) / delta)\n",
    "\n",
    "    plt.figure(figsize=(10, 6))\n",
    "    plt.hist(filtered, bins=bins, color=\"steelblue\", edgecolor=\"black\")\n",
    "    plt.title(f\"Time Difference Events (range {min_diff} - {max_diff} [s])\")\n",
    "    plt.xlabel(\"Time difference [s]\")\n",
    "    plt.ylabel(\"Counts\")\n",
    "    #plt.grid(True)\n",
    "    plt.show()"
   ]
  },
  {
   "cell_type": "code",
   "execution_count": 20,
   "id": "8da52466-b638-4f78-a69b-675637894c7f",
   "metadata": {},
   "outputs": [],
   "source": [
    "diffs = rdd_diff.collect() # check previously the dimension"
   ]
  },
  {
   "cell_type": "code",
   "execution_count": 21,
   "id": "a58fc7ad-7b64-43ba-a24a-c792ebcbba37",
   "metadata": {},
   "outputs": [
    {
     "data": {
      "image/png": "[encoded data removed]",
      "text/plain": [
       "<Figure size 1000x600 with 1 Axes>"
      ]
     },
     "metadata": {},
     "output_type": "display_data"
    }
   ],
   "source": [
    "plot_diff_histogram(differences=diffs, min_diff=0, max_diff=180, delta=2)"
   ]
  },
  {
   "cell_type": "code",
   "execution_count": 22,
   "id": "89ddab6d-ec14-4fa8-852b-1b82c8e37477",
   "metadata": {},
   "outputs": [
    {
     "data": {
      "image/png": "[encoded data removed]",
      "text/plain": [
       "<Figure size 1000x600 with 1 Axes>"
      ]
     },
     "metadata": {},
     "output_type": "display_data"
    }
   ],
   "source": [
    "plot_diff_histogram(differences=diffs, min_diff=180, max_diff=4000, delta=25)"
   ]
  },
  {
   "cell_type": "code",
   "execution_count": null,
   "id": "7273e1db-4af1-4865-a024-0e18656b22df",
   "metadata": {},
   "outputs": [],
   "source": []
  },
  {
   "cell_type": "markdown",
   "id": "3d3a42ed-503b-48f1-8424-3797e172ef8a",
   "metadata": {},
   "source": [
    "# Handling missing data & gaps"
   ]
  },
  {
   "cell_type": "markdown",
   "id": "604fd046-8e47-4bdd-b7eb-28b3a55c029c",
   "metadata": {
    "jp-MarkdownHeadingCollapsed": true
   },
   "source": [
    "### Prova sull'intero datset"
   ]
  },
  {
   "cell_type": "code",
   "execution_count": 23,
   "id": "30cf8b93-aa97-47b2-9a8e-fa10eae093f5",
   "metadata": {},
   "outputs": [],
   "source": [
    "# from pyspark.sql.functions import broadcast, abs as abs_, row_number\n",
    "# from pyspark.sql.window import Window\n",
    "\n",
    "# def resample_fast(df_hard, interval=60):\n",
    "#     #spark = df_hard.sparkSession\n",
    "#     half = interval / 2\n",
    "\n",
    "#     # Build tiny time grid and broadcast it\n",
    "#     min_time, max_time = df_hard.selectExpr(\"min(when)\", \"max(when)\").first()\n",
    "#     times = list(range(min_time, max_time + 1, interval))\n",
    "#     grid_df = spark.createDataFrame([(t,) for t in times], [\"target_when\"])\n",
    "#     grid_df = broadcast(grid_df)\n",
    "\n",
    "#     # Range join on when BETWEEN target_when ± half\n",
    "#     joined = df_hard.join(\n",
    "#         grid_df,\n",
    "#         (df_hard.when >= grid_df.target_when - half) &\n",
    "#         (df_hard.when <= grid_df.target_when + half),\n",
    "#         how=\"inner\"\n",
    "#     )\n",
    "\n",
    "#     # Pick the nearest row per target_when\n",
    "#     window_spec = Window.partitionBy(\"target_when\").orderBy(abs_(col(\"when\") - col(\"target_when\")))\n",
    "#     best = (\n",
    "#         joined\n",
    "#           .withColumn(\"rn\", row_number().over(window_spec))\n",
    "#           .filter(col(\"rn\") == 1)\n",
    "#           .drop(\"rn\")              # drop row‑number\n",
    "#           .drop(\"when\")            # DROP original `when`\n",
    "#           .withColumnRenamed(\"target_when\", \"when\")  # rename the grid col\n",
    "#     )\n",
    "\n",
    "#     return best\n",
    "\n",
    "# from functools import reduce\n",
    "\n",
    "# def resample_one_sensor(df_hard, sensor, interval=60):\n",
    "#     # Select only the timestamp and this single sensor\n",
    "#     df_sel = df_hard.select(\"time\",\"when\", sensor)\n",
    "#     return resample_fast(df_sel, interval).select(\"time\",\"when\", sensor)"
   ]
  },
  {
   "cell_type": "code",
   "execution_count": 24,
   "id": "f884c75b-6e0d-45d7-9615-f0859c7def77",
   "metadata": {},
   "outputs": [],
   "source": [
    "# INFINITE TIME\n",
    "\n",
    "# # List of your sensor columns\n",
    "# sensors = [c for c in df_hard.columns if c not in (\"time\",\"when\")]\n",
    "\n",
    "# # Resample each sensor individually\n",
    "# sensor_dfs = [resample_one_sensor(df_hard, s, 60) for s in sensors]\n",
    "\n",
    "# # Join them all back on \"when\"\n",
    "# df_resampled = reduce(\n",
    "#     lambda left, right: left.join(right, on=\"when\", how=\"outer\"),\n",
    "#     sensor_dfs\n",
    "# ).orderBy(\"when\")\n",
    "\n",
    "# df_resampled.show(5)"
   ]
  },
  {
   "cell_type": "code",
   "execution_count": 25,
   "id": "1be8132a-3f0c-48f8-ae56-03c69227e451",
   "metadata": {},
   "outputs": [],
   "source": [
    "# resample_one_sensor(df_hard, \"S117\", 60).show(5)"
   ]
  },
  {
   "cell_type": "markdown",
   "id": "4fca02a0-e945-4d6a-9e70-237afb583c78",
   "metadata": {},
   "source": [
    "### Su solo una colonna (metodo nearest) FUNZIONANTE"
   ]
  },
  {
   "cell_type": "code",
   "execution_count": 40,
   "id": "9eb44695-86d4-4d5d-8af8-93de34608f50",
   "metadata": {},
   "outputs": [],
   "source": [
    "def resample_sensor_simple(\n",
    "    df_hard: DataFrame,\n",
    "    sensor: str,\n",
    "    interval: int = 60\n",
    ") -> DataFrame:\n",
    "    \"\"\"\n",
    "    Resample a single sensor column to regular intervals using the nearest non-null value.\n",
    "\n",
    "    Args:\n",
    "        df_hard:   Spark DataFrame with columns ['when', sensor].\n",
    "        sensor:    Name of the sensor column (e.g., 'S117').\n",
    "        interval:  Resample interval in seconds.\n",
    "\n",
    "    Returns:\n",
    "        Resampled DataFrame with ['when', sensor, 'time'], using only non-null nearest values.\n",
    "    \"\"\"\n",
    "    spark = df_hard.sparkSession\n",
    "    half = interval / 2\n",
    "\n",
    "    # 1. Create target timestamp grid\n",
    "    bounds = df_hard.selectExpr(\"min(when) as min_t\", \"max(when) as max_t\").first()\n",
    "    min_t, max_t = bounds.min_t, bounds.max_t\n",
    "\n",
    "    grid_df = (\n",
    "        spark.range(1)\n",
    "             .selectExpr(f\"sequence({min_t}, {max_t}, {interval}) as times\")\n",
    "             .select(explode(\"times\").alias(\"target_when\"))\n",
    "    )\n",
    "\n",
    "    # 2. Range join within ±half interval and exclude NULLs before aggregation\n",
    "    joined = (\n",
    "        df_hard\n",
    "          .select(\"when\", sensor)\n",
    "          .filter(col(sensor).isNotNull())  # <-- filter out nulls before min_by\n",
    "          .join(\n",
    "              grid_df,\n",
    "              (col(\"when\") >= col(\"target_when\") - half) &\n",
    "              (col(\"when\") <= col(\"target_when\") + half),\n",
    "              how=\"inner\"\n",
    "          )\n",
    "          .withColumn(\"time_diff\", abs_(col(\"when\") - col(\"target_when\")))\n",
    "    )\n",
    "\n",
    "    # 3. Pick value with minimum time difference (nearest non-null)\n",
    "    result = (\n",
    "        joined.groupBy(\"target_when\")\n",
    "              .agg(min_by(col(sensor), col(\"time_diff\")).alias(sensor))\n",
    "    )\n",
    "\n",
    "    # 4. Format output\n",
    "    final = (\n",
    "        result\n",
    "          .withColumnRenamed(\"target_when\", \"when\")\n",
    "          .withColumn(\"time\", from_unixtime(col(\"when\")))\n",
    "          .orderBy(\"when\")\n",
    "    )\n",
    "\n",
    "    return final"
   ]
  },
  {
   "cell_type": "code",
   "execution_count": 41,
   "id": "89425435-d21b-4e22-8357-4074901dc376",
   "metadata": {},
   "outputs": [
    {
     "name": "stderr",
     "output_type": "stream",
     "text": [
      "25/07/29 10:06:46 WARN DAGScheduler: Broadcasting large task binary with size 2.0 MiB\n",
      "25/07/29 10:07:03 WARN DAGScheduler: Broadcasting large task binary with size 2.1 MiB\n",
      "[Stage 487:===================================================>   (16 + 1) / 17]"
     ]
    },
    {
     "name": "stdout",
     "output_type": "stream",
     "text": [
      "+----------+----+-------------------+\n",
      "|when      |S117|time               |\n",
      "+----------+----+-------------------+\n",
      "|1601510422|0   |2020-10-01 00:00:22|\n",
      "|1601510482|0   |2020-10-01 00:01:22|\n",
      "|1601510542|0   |2020-10-01 00:02:22|\n",
      "|1601510602|0   |2020-10-01 00:03:22|\n",
      "|1601510662|0   |2020-10-01 00:04:22|\n",
      "|1601510722|0   |2020-10-01 00:05:22|\n",
      "|1601510782|0   |2020-10-01 00:06:22|\n",
      "|1601510842|0   |2020-10-01 00:07:22|\n",
      "|1601510902|0   |2020-10-01 00:08:22|\n",
      "|1601510962|0   |2020-10-01 00:09:22|\n",
      "+----------+----+-------------------+\n",
      "only showing top 10 rows\n",
      "\n"
     ]
    },
    {
     "name": "stderr",
     "output_type": "stream",
     "text": [
      "25/07/29 10:07:24 WARN DAGScheduler: Broadcasting large task binary with size 2.1 MiB\n",
      "                                                                                "
     ]
    }
   ],
   "source": [
    "df_resampled_S117 = resample_sensor_simple(df_hard, \"S117\", interval=60)\n",
    "df_resampled_S117.show(10, truncate=False)"
   ]
  },
  {
   "cell_type": "markdown",
   "id": "7326d19b-fcfc-4259-a540-b36a948b1297",
   "metadata": {},
   "source": [
    "<span style=\"font-size: 200%\">Various checks to show that everything works</span>"
   ]
  },
  {
   "cell_type": "code",
   "execution_count": 42,
   "id": "a520425d-e090-433c-96f1-20fdbddce8ec",
   "metadata": {},
   "outputs": [
    {
     "name": "stderr",
     "output_type": "stream",
     "text": [
      "25/07/29 10:07:25 WARN DAGScheduler: Broadcasting large task binary with size 2.0 MiB\n",
      "25/07/29 10:07:41 WARN DAGScheduler: Broadcasting large task binary with size 2.1 MiB\n"
     ]
    },
    {
     "name": "stdout",
     "output_type": "stream",
     "text": [
      "+----------+----+-------------------+\n",
      "|      when|S117|               time|\n",
      "+----------+----+-------------------+\n",
      "|1601526622|   0|2020-10-01 04:30:22|\n",
      "|1601526682|   0|2020-10-01 04:31:22|\n",
      "|1601526742|   0|2020-10-01 04:32:22|\n",
      "|1601526862|   0|2020-10-01 04:34:22|\n",
      "|1601526922|   0|2020-10-01 04:35:22|\n",
      "|1601526982|   0|2020-10-01 04:36:22|\n",
      "|1601527042|   0|2020-10-01 04:37:22|\n",
      "|1601527102|   0|2020-10-01 04:38:22|\n",
      "|1601527162|   0|2020-10-01 04:39:22|\n",
      "|1601527222|   0|2020-10-01 04:40:22|\n",
      "|1601529262|   0|2020-10-01 05:14:22|\n",
      "|1601529322|   0|2020-10-01 05:15:22|\n",
      "|1601529382|   0|2020-10-01 05:16:22|\n",
      "|1601529442|   0|2020-10-01 05:17:22|\n",
      "|1601529502|   0|2020-10-01 05:18:22|\n",
      "|1601529562|   0|2020-10-01 05:19:22|\n",
      "|1601529622|   0|2020-10-01 05:20:22|\n",
      "|1601529682|   0|2020-10-01 05:21:22|\n",
      "|1601529742|   0|2020-10-01 05:22:22|\n",
      "|1601529802|   0|2020-10-01 05:23:22|\n",
      "+----------+----+-------------------+\n",
      "only showing top 20 rows\n",
      "\n"
     ]
    },
    {
     "name": "stderr",
     "output_type": "stream",
     "text": [
      "25/07/29 10:07:41 WARN DAGScheduler: Broadcasting large task binary with size 2.1 MiB\n",
      "                                                                                "
     ]
    }
   ],
   "source": [
    "# inspect a specific region\n",
    "start_ts = 1601526622\n",
    "end_ts   = 1601531000\n",
    "\n",
    "df_resampled_S117.filter(\n",
    "    (col(\"when\") >= start_ts) & \n",
    "    (col(\"when\") <= end_ts)\n",
    ").show()"
   ]
  },
  {
   "cell_type": "code",
   "execution_count": 35,
   "id": "15cc318b-2ebb-4c81-bf2a-cb34af9f6f98",
   "metadata": {},
   "outputs": [
    {
     "name": "stderr",
     "output_type": "stream",
     "text": [
      "[Stage 299:=====================================================> (38 + 1) / 39]"
     ]
    },
    {
     "name": "stdout",
     "output_type": "stream",
     "text": [
      "+-------------------+----------+----+\n",
      "|               time|      when|S117|\n",
      "+-------------------+----------+----+\n",
      "|2020-10-01 04:30:32|1601526632|   0|\n",
      "|2020-10-01 04:30:39|1601526639|NULL|\n",
      "|2020-10-01 04:31:02|1601526662|   0|\n",
      "|2020-10-01 04:31:05|1601526665|NULL|\n",
      "|2020-10-01 04:31:33|1601526693|   0|\n",
      "|2020-10-01 04:31:35|1601526695|NULL|\n",
      "|2020-10-01 04:32:03|1601526723|   0|\n",
      "|2020-10-01 04:34:10|1601526850|   0|\n",
      "|2020-10-01 04:34:13|1601526853|NULL|\n",
      "|2020-10-01 04:34:41|1601526881|   0|\n",
      "|2020-10-01 04:34:43|1601526883|NULL|\n",
      "|2020-10-01 04:35:11|1601526911|   0|\n",
      "|2020-10-01 04:35:14|1601526914|NULL|\n",
      "|2020-10-01 04:35:41|1601526941|   0|\n",
      "|2020-10-01 04:35:45|1601526945|NULL|\n",
      "|2020-10-01 04:36:11|1601526971|   0|\n",
      "|2020-10-01 04:36:19|1601526979|NULL|\n",
      "|2020-10-01 04:36:42|1601527002|   0|\n",
      "|2020-10-01 04:36:45|1601527005|NULL|\n",
      "|2020-10-01 04:37:12|1601527032|   0|\n",
      "+-------------------+----------+----+\n",
      "only showing top 20 rows\n",
      "\n"
     ]
    },
    {
     "name": "stderr",
     "output_type": "stream",
     "text": [
      "                                                                                "
     ]
    }
   ],
   "source": [
    "# inspect a specific region\n",
    "start_ts = 1601526622\n",
    "end_ts   = 1601531000\n",
    "\n",
    "df_hard.select(\"time\",\"when\",\"S117\").filter(\n",
    "    (col(\"when\") >= start_ts) & \n",
    "    (col(\"when\") <= end_ts)\n",
    ").show()"
   ]
  },
  {
   "cell_type": "code",
   "execution_count": 44,
   "id": "8c5110dd-15a6-4c37-a1d3-f67faaaab912",
   "metadata": {},
   "outputs": [
    {
     "name": "stderr",
     "output_type": "stream",
     "text": [
      "[Stage 503:=====================================================> (38 + 1) / 39]"
     ]
    },
    {
     "name": "stdout",
     "output_type": "stream",
     "text": [
      "+-------------------+----------+----+\n",
      "|               time|      when|S117|\n",
      "+-------------------+----------+----+\n",
      "|2020-10-01 04:38:23|1601527103|NULL|\n",
      "|2020-10-01 04:38:43|1601527123|   0|\n",
      "|2020-10-01 04:38:46|1601527126|NULL|\n",
      "|2020-10-01 04:39:14|1601527154|   0|\n",
      "|2020-10-01 04:39:17|1601527157|NULL|\n",
      "|2020-10-01 04:39:44|1601527184|   0|\n",
      "|2020-10-01 04:39:47|1601527187|NULL|\n",
      "|2020-10-01 04:40:14|1601527214|   0|\n",
      "|2020-10-01 04:40:17|1601527217|NULL|\n",
      "|2020-10-01 04:40:45|1601527245|   0|\n",
      "|2020-10-01 05:14:00|1601529240|   0|\n",
      "|2020-10-01 05:14:03|1601529243|NULL|\n",
      "|2020-10-01 05:14:31|1601529271|   0|\n",
      "|2020-10-01 05:14:33|1601529273|NULL|\n",
      "|2020-10-01 05:15:01|1601529301|   0|\n",
      "|2020-10-01 05:15:04|1601529304|NULL|\n",
      "|2020-10-01 05:15:31|1601529331|   0|\n",
      "|2020-10-01 05:15:34|1601529334|NULL|\n",
      "|2020-10-01 05:16:02|1601529362|   0|\n",
      "|2020-10-01 05:16:04|1601529364|NULL|\n",
      "+-------------------+----------+----+\n",
      "only showing top 20 rows\n",
      "\n"
     ]
    },
    {
     "name": "stderr",
     "output_type": "stream",
     "text": [
      "                                                                                "
     ]
    }
   ],
   "source": [
    "# inspect a specific region\n",
    "start_ts = 1601527100\n",
    "end_ts   = 1601529400\n",
    "\n",
    "df_hard.select(\"time\",\"when\",\"S117\").filter(\n",
    "    (col(\"when\") >= start_ts) & \n",
    "    (col(\"when\") <= end_ts)\n",
    ").show()"
   ]
  },
  {
   "cell_type": "code",
   "execution_count": 45,
   "id": "4a5de846-c5a6-4ad1-8121-3df91435ff28",
   "metadata": {},
   "outputs": [
    {
     "name": "stderr",
     "output_type": "stream",
     "text": [
      "25/07/29 10:10:24 WARN DAGScheduler: Broadcasting large task binary with size 2.0 MiB\n",
      "25/07/29 10:10:42 WARN DAGScheduler: Broadcasting large task binary with size 2.1 MiB\n",
      "25/07/29 10:11:00 WARN DAGScheduler: Broadcasting large task binary with size 2.1 MiB\n",
      "25/07/29 10:11:00 WARN DAGScheduler: Broadcasting large task binary with size 2.1 MiB\n",
      "25/07/29 10:11:00 WARN DAGScheduler: Broadcasting large task binary with size 2.1 MiB\n",
      "                                                                                "
     ]
    },
    {
     "name": "stdout",
     "output_type": "stream",
     "text": [
      "Number of time differences: 105888\n",
      "\n",
      "5 smallest time differences:\n",
      "+----+-----+\n",
      "|diff|count|\n",
      "+----+-----+\n",
      "|60  |98162|\n",
      "|120 |4869 |\n",
      "|180 |2168 |\n",
      "|240 |283  |\n",
      "|300 |131  |\n",
      "+----+-----+\n",
      "only showing top 5 rows\n",
      "\n",
      "\n",
      "5 largest time differences:\n",
      "+-------+-----+\n",
      "|diff   |count|\n",
      "+-------+-----+\n",
      "|5003760|1    |\n",
      "|2066880|1    |\n",
      "|757860 |1    |\n",
      "|51960  |1    |\n",
      "|28620  |1    |\n",
      "+-------+-----+\n",
      "only showing top 5 rows\n",
      "\n"
     ]
    }
   ],
   "source": [
    "# Check everything is fine\n",
    "\n",
    "# Compute time differences\n",
    "rdd_diff_S117 = compute_time_differences(df_resampled_S117)\n",
    "\n",
    "# Summarize and print top/bottom time gaps\n",
    "df_diff_summary_S117 = time_diff_summary(rdd_diff_S117, spark)"
   ]
  },
  {
   "cell_type": "code",
   "execution_count": 106,
   "id": "c5dce3a2-75a5-430a-b18b-6e5f4f35a6c2",
   "metadata": {},
   "outputs": [],
   "source": [
    "# questo dai dati di prima, sembra funzionare\n",
    "# |5003774|1    |\n",
    "# |2066908|1    |\n",
    "# |757864 |1    |\n",
    "# |48451  |1    |\n",
    "# |28598  |1    |"
   ]
  },
  {
   "cell_type": "markdown",
   "id": "918954cf-3faa-4535-b23f-ca83d8cc9dd2",
   "metadata": {},
   "source": [
    "<span style=\"font-size: 200%\">Filtered data block size</span>"
   ]
  },
  {
   "cell_type": "markdown",
   "id": "6b1e63c8-ee9b-4cf6-80e7-9d4162f13da4",
   "metadata": {
    "jp-MarkdownHeadingCollapsed": true
   },
   "source": [
    "#### Non parallelizzata (sposta tutto in unica partizione)"
   ]
  },
  {
   "cell_type": "code",
   "execution_count": 97,
   "id": "df384313-0b9d-4723-837c-1567440dca71",
   "metadata": {},
   "outputs": [],
   "source": [
    "def count_contiguous_blocks(df: DataFrame, interval: int, col_when: str = \"when\") -> DataFrame:\n",
    "    \"\"\"\n",
    "    Count contiguous blocks with exact interval spacing in the 'when' column.\n",
    "\n",
    "    Args:\n",
    "        df:         Input Spark DataFrame with a 'when' column in seconds.\n",
    "        interval:   Time interval in seconds (e.g., 60).\n",
    "        col_when:   Name of the time column (default = 'when').\n",
    "\n",
    "    Returns:\n",
    "        Spark DataFrame with:\n",
    "            - block_length: number of rows in each contiguous block\n",
    "            - block_count:  how many such blocks exist\n",
    "    \"\"\"\n",
    "    # Window partitioning (avoid single-partition performance issue)\n",
    "    w = Window.orderBy(col(col_when)).partitionBy()  # still no partition key but avoids warning\n",
    "\n",
    "    # 1. Calculate time difference between rows\n",
    "    df_with_diff = df.select(col(col_when)).withColumn(\n",
    "        \"prev\", lag(col(col_when)).over(w)\n",
    "    ).withColumn(\n",
    "        \"diff\", col(col_when) - col(\"prev\")\n",
    "    )\n",
    "\n",
    "    # 2. Mark the beginning of new blocks\n",
    "    df_with_flag = df_with_diff.withColumn(\n",
    "        \"is_new_block\", (col(\"diff\") != interval) | col(\"diff\").isNull()\n",
    "    )\n",
    "\n",
    "    # 3. Assign a block ID\n",
    "    df_with_block = df_with_flag.withColumn(\n",
    "        \"block_id\", sum_(col(\"is_new_block\").cast(\"int\")).over(w)\n",
    "    )\n",
    "\n",
    "    # 4. Count how many rows in each block\n",
    "    block_lengths = (\n",
    "        df_with_block.groupBy(\"block_id\")\n",
    "                     .count()\n",
    "                     .withColumnRenamed(\"count\", \"block_length\")\n",
    "    )\n",
    "\n",
    "    # 5. Count number of blocks per length\n",
    "    result = (\n",
    "        block_lengths.groupBy(\"block_length\")\n",
    "                     .count()\n",
    "                     .withColumnRenamed(\"count\", \"block_count\")\n",
    "                     .orderBy(\"block_length\")\n",
    "    )\n",
    "\n",
    "    return result"
   ]
  },
  {
   "cell_type": "code",
   "execution_count": 98,
   "id": "65513f30-5d86-47d9-bcd8-f611fe3e1d08",
   "metadata": {},
   "outputs": [],
   "source": [
    "def plot_diff_histogram(df_block_stats, min_length=1, max_length=100, step=1):\n",
    "    \"\"\"\n",
    "    Plots a histogram of block sizes from Spark DataFrame.\n",
    "\n",
    "    Args:\n",
    "        df_block_stats: DataFrame with columns [block_length, block_count]\n",
    "        min_length: Minimum block length to include in the plot\n",
    "        max_length: Maximum block length to include in the plot\n",
    "        step: Width of each histogram bar\n",
    "    \"\"\"\n",
    "    # Collect the result to the driver\n",
    "    data = df_block_stats.collect()\n",
    "\n",
    "    lengths = [row[\"block_length\"] for row in data]\n",
    "    counts = [row[\"block_count\"] for row in data]\n",
    "\n",
    "    plt.figure(figsize=(10, 5))\n",
    "    plt.bar(lengths, counts, width=step, align=\"center\")\n",
    "    plt.xlabel(\"Block Length\")\n",
    "    plt.ylabel(\"Number of Blocks\")\n",
    "    plt.title(\"Histogram of Contiguous Blocks\")\n",
    "    plt.xlim(min_length, max_length)\n",
    "    plt.grid(True)\n",
    "    plt.show()"
   ]
  },
  {
   "cell_type": "code",
   "execution_count": 99,
   "id": "934755c6-cc99-4645-9dc4-c43c875aa5a2",
   "metadata": {},
   "outputs": [
    {
     "name": "stderr",
     "output_type": "stream",
     "text": [
      "25/07/29 12:04:31 WARN WindowExec: No Partition Defined for Window operation! Moving all data to a single partition, this can cause serious performance degradation.\n",
      "25/07/29 12:04:31 WARN WindowExec: No Partition Defined for Window operation! Moving all data to a single partition, this can cause serious performance degradation.\n",
      "25/07/29 12:04:31 WARN WindowExec: No Partition Defined for Window operation! Moving all data to a single partition, this can cause serious performance degradation.\n",
      "25/07/29 12:04:31 WARN WindowExec: No Partition Defined for Window operation! Moving all data to a single partition, this can cause serious performance degradation.\n",
      "25/07/29 12:04:31 WARN DAGScheduler: Broadcasting large task binary with size 2.0 MiB\n",
      "25/07/29 12:04:32 WARN WindowExec: No Partition Defined for Window operation! Moving all data to a single partition, this can cause serious performance degradation.\n",
      "25/07/29 12:04:32 WARN WindowExec: No Partition Defined for Window operation! Moving all data to a single partition, this can cause serious performance degradation.\n",
      "25/07/29 12:04:32 WARN WindowExec: No Partition Defined for Window operation! Moving all data to a single partition, this can cause serious performance degradation.\n",
      "25/07/29 12:04:32 WARN WindowExec: No Partition Defined for Window operation! Moving all data to a single partition, this can cause serious performance degradation.\n",
      "25/07/29 12:04:45 WARN WindowExec: No Partition Defined for Window operation! Moving all data to a single partition, this can cause serious performance degradation.\n",
      "25/07/29 12:04:45 WARN WindowExec: No Partition Defined for Window operation! Moving all data to a single partition, this can cause serious performance degradation.\n",
      "25/07/29 12:04:45 WARN WindowExec: No Partition Defined for Window operation! Moving all data to a single partition, this can cause serious performance degradation.\n",
      "25/07/29 12:04:45 WARN WindowExec: No Partition Defined for Window operation! Moving all data to a single partition, this can cause serious performance degradation.\n",
      "25/07/29 12:04:48 WARN WindowExec: No Partition Defined for Window operation! Moving all data to a single partition, this can cause serious performance degradation.\n",
      "25/07/29 12:04:48 WARN WindowExec: No Partition Defined for Window operation! Moving all data to a single partition, this can cause serious performance degradation.\n",
      "25/07/29 12:04:48 WARN WindowExec: No Partition Defined for Window operation! Moving all data to a single partition, this can cause serious performance degradation.\n",
      "25/07/29 12:04:48 WARN WindowExec: No Partition Defined for Window operation! Moving all data to a single partition, this can cause serious performance degradation.\n",
      "25/07/29 12:04:48 WARN DAGScheduler: Broadcasting large task binary with size 2.1 MiB\n",
      "25/07/29 12:05:04 WARN WindowExec: No Partition Defined for Window operation! Moving all data to a single partition, this can cause serious performance degradation.\n",
      "25/07/29 12:05:04 WARN WindowExec: No Partition Defined for Window operation! Moving all data to a single partition, this can cause serious performance degradation.\n",
      "25/07/29 12:05:04 WARN WindowExec: No Partition Defined for Window operation! Moving all data to a single partition, this can cause serious performance degradation.\n",
      "25/07/29 12:05:04 WARN WindowExec: No Partition Defined for Window operation! Moving all data to a single partition, this can cause serious performance degradation.\n",
      "25/07/29 12:05:04 WARN DAGScheduler: Broadcasting large task binary with size 2.1 MiB\n",
      "25/07/29 12:05:05 WARN DAGScheduler: Broadcasting large task binary with size 2.1 MiB\n",
      "25/07/29 12:05:05 WARN WindowExec: No Partition Defined for Window operation! Moving all data to a single partition, this can cause serious performance degradation.\n",
      "25/07/29 12:05:05 WARN WindowExec: No Partition Defined for Window operation! Moving all data to a single partition, this can cause serious performance degradation.\n",
      "25/07/29 12:05:05 WARN WindowExec: No Partition Defined for Window operation! Moving all data to a single partition, this can cause serious performance degradation.\n",
      "25/07/29 12:05:05 WARN WindowExec: No Partition Defined for Window operation! Moving all data to a single partition, this can cause serious performance degradation.\n",
      "25/07/29 12:05:05 WARN DAGScheduler: Broadcasting large task binary with size 2.1 MiB\n"
     ]
    },
    {
     "name": "stdout",
     "output_type": "stream",
     "text": [
      "+------------+-----------+\n",
      "|block_length|block_count|\n",
      "+------------+-----------+\n",
      "|           1|        451|\n",
      "|           2|        539|\n",
      "|           3|        477|\n",
      "|           4|        452|\n",
      "|           5|        427|\n",
      "|           6|        404|\n",
      "|           7|        381|\n",
      "|           8|        368|\n",
      "|           9|        338|\n",
      "|          10|        322|\n",
      "|          11|        240|\n",
      "|          12|        252|\n",
      "|          13|        211|\n",
      "|          14|        217|\n",
      "|          15|        202|\n",
      "|          16|        183|\n",
      "|          17|        155|\n",
      "|          18|        175|\n",
      "|          19|        148|\n",
      "|          20|        108|\n",
      "+------------+-----------+\n",
      "only showing top 20 rows\n",
      "\n"
     ]
    },
    {
     "name": "stderr",
     "output_type": "stream",
     "text": [
      "25/07/29 12:05:05 WARN WindowExec: No Partition Defined for Window operation! Moving all data to a single partition, this can cause serious performance degradation.\n",
      "25/07/29 12:05:05 WARN WindowExec: No Partition Defined for Window operation! Moving all data to a single partition, this can cause serious performance degradation.\n",
      "25/07/29 12:05:05 WARN WindowExec: No Partition Defined for Window operation! Moving all data to a single partition, this can cause serious performance degradation.\n",
      "25/07/29 12:05:05 WARN WindowExec: No Partition Defined for Window operation! Moving all data to a single partition, this can cause serious performance degradation.\n",
      "25/07/29 12:05:05 WARN DAGScheduler: Broadcasting large task binary with size 2.1 MiB\n"
     ]
    }
   ],
   "source": [
    "# Select only the timestamp column\n",
    "df_sample = df_resampled_S117.select(\"when\")\n",
    "\n",
    "# Compute block statistics\n",
    "block_stats = count_contiguous_blocks(df_sample, interval=60)\n",
    "\n",
    "# Show the result\n",
    "block_stats.show()"
   ]
  },
  {
   "cell_type": "code",
   "execution_count": 100,
   "id": "9e3cdc6c-543f-471c-ab98-9decd0a64b4e",
   "metadata": {},
   "outputs": [
    {
     "name": "stderr",
     "output_type": "stream",
     "text": [
      "25/07/29 12:05:05 WARN WindowExec: No Partition Defined for Window operation! Moving all data to a single partition, this can cause serious performance degradation.\n",
      "25/07/29 12:05:05 WARN WindowExec: No Partition Defined for Window operation! Moving all data to a single partition, this can cause serious performance degradation.\n",
      "25/07/29 12:05:05 WARN WindowExec: No Partition Defined for Window operation! Moving all data to a single partition, this can cause serious performance degradation.\n",
      "25/07/29 12:05:05 WARN WindowExec: No Partition Defined for Window operation! Moving all data to a single partition, this can cause serious performance degradation.\n",
      "25/07/29 12:05:05 WARN DAGScheduler: Broadcasting large task binary with size 2.0 MiB\n",
      "25/07/29 12:05:13 WARN WindowExec: No Partition Defined for Window operation! Moving all data to a single partition, this can cause serious performance degradation.\n",
      "25/07/29 12:05:13 WARN WindowExec: No Partition Defined for Window operation! Moving all data to a single partition, this can cause serious performance degradation.\n",
      "25/07/29 12:05:13 WARN WindowExec: No Partition Defined for Window operation! Moving all data to a single partition, this can cause serious performance degradation.\n",
      "25/07/29 12:05:13 WARN WindowExec: No Partition Defined for Window operation! Moving all data to a single partition, this can cause serious performance degradation.\n",
      "25/07/29 12:05:19 WARN WindowExec: No Partition Defined for Window operation! Moving all data to a single partition, this can cause serious performance degradation.\n",
      "25/07/29 12:05:19 WARN WindowExec: No Partition Defined for Window operation! Moving all data to a single partition, this can cause serious performance degradation.\n",
      "25/07/29 12:05:19 WARN WindowExec: No Partition Defined for Window operation! Moving all data to a single partition, this can cause serious performance degradation.\n",
      "25/07/29 12:05:19 WARN WindowExec: No Partition Defined for Window operation! Moving all data to a single partition, this can cause serious performance degradation.\n",
      "25/07/29 12:05:23 WARN WindowExec: No Partition Defined for Window operation! Moving all data to a single partition, this can cause serious performance degradation.\n",
      "25/07/29 12:05:23 WARN WindowExec: No Partition Defined for Window operation! Moving all data to a single partition, this can cause serious performance degradation.\n",
      "25/07/29 12:05:23 WARN WindowExec: No Partition Defined for Window operation! Moving all data to a single partition, this can cause serious performance degradation.\n",
      "25/07/29 12:05:23 WARN WindowExec: No Partition Defined for Window operation! Moving all data to a single partition, this can cause serious performance degradation.\n",
      "25/07/29 12:05:23 WARN DAGScheduler: Broadcasting large task binary with size 2.1 MiB\n",
      "25/07/29 12:05:40 WARN WindowExec: No Partition Defined for Window operation! Moving all data to a single partition, this can cause serious performance degradation.\n",
      "25/07/29 12:05:40 WARN WindowExec: No Partition Defined for Window operation! Moving all data to a single partition, this can cause serious performance degradation.\n",
      "25/07/29 12:05:40 WARN WindowExec: No Partition Defined for Window operation! Moving all data to a single partition, this can cause serious performance degradation.\n",
      "25/07/29 12:05:40 WARN WindowExec: No Partition Defined for Window operation! Moving all data to a single partition, this can cause serious performance degradation.\n",
      "25/07/29 12:05:40 WARN DAGScheduler: Broadcasting large task binary with size 2.1 MiB\n",
      "25/07/29 12:05:40 WARN DAGScheduler: Broadcasting large task binary with size 2.1 MiB\n",
      "25/07/29 12:05:40 WARN WindowExec: No Partition Defined for Window operation! Moving all data to a single partition, this can cause serious performance degradation.\n",
      "25/07/29 12:05:40 WARN WindowExec: No Partition Defined for Window operation! Moving all data to a single partition, this can cause serious performance degradation.\n",
      "25/07/29 12:05:40 WARN WindowExec: No Partition Defined for Window operation! Moving all data to a single partition, this can cause serious performance degradation.\n",
      "25/07/29 12:05:40 WARN WindowExec: No Partition Defined for Window operation! Moving all data to a single partition, this can cause serious performance degradation.\n",
      "25/07/29 12:05:40 WARN DAGScheduler: Broadcasting large task binary with size 2.1 MiB\n",
      "25/07/29 12:05:40 WARN WindowExec: No Partition Defined for Window operation! Moving all data to a single partition, this can cause serious performance degradation.\n",
      "25/07/29 12:05:40 WARN WindowExec: No Partition Defined for Window operation! Moving all data to a single partition, this can cause serious performance degradation.\n",
      "25/07/29 12:05:40 WARN WindowExec: No Partition Defined for Window operation! Moving all data to a single partition, this can cause serious performance degradation.\n",
      "25/07/29 12:05:40 WARN WindowExec: No Partition Defined for Window operation! Moving all data to a single partition, this can cause serious performance degradation.\n",
      "25/07/29 12:05:40 WARN DAGScheduler: Broadcasting large task binary with size 2.1 MiB\n"
     ]
    },
    {
     "data": {
      "image/png": "[encoded data removed]",
      "text/plain": [
       "<Figure size 1000x500 with 1 Axes>"
      ]
     },
     "metadata": {},
     "output_type": "display_data"
    }
   ],
   "source": [
    "# Plot the histogram\n",
    "plot_diff_histogram(block_stats, min_length=1, max_length=100)"
   ]
  },
  {
   "cell_type": "markdown",
   "id": "11ff157f-db7d-489b-8873-cd4416380597",
   "metadata": {
    "jp-MarkdownHeadingCollapsed": true
   },
   "source": [
    "#### Partiziona con partitionBy(\"day\") -- risultati leggermente diversi, c'è qualcosa che non va --"
   ]
  },
  {
   "cell_type": "code",
   "execution_count": 101,
   "id": "4d2198e8-7fc1-4d5b-b7b8-eca3b743769d",
   "metadata": {},
   "outputs": [],
   "source": [
    "def count_contiguous_blocks(\n",
    "    df: DataFrame,\n",
    "    interval: int,\n",
    "    col_when: str = \"when\"\n",
    ") -> DataFrame:\n",
    "    \"\"\"\n",
    "    Count contiguous blocks of rows spaced exactly `interval` seconds apart,\n",
    "    partitioned by day for parallelism.\n",
    "\n",
    "    Args:\n",
    "      df:         Spark DataFrame with a timestamp column in seconds.\n",
    "      interval:   Expected spacing between consecutive rows (in seconds).\n",
    "      col_when:   Name of that timestamp column (default 'when').\n",
    "\n",
    "    Returns:\n",
    "      DataFrame with columns:\n",
    "        - block_length: number of rows in each contiguous block\n",
    "        - block_count:  how many such blocks exist\n",
    "    \"\"\"\n",
    "    # 1) Add a 'day' column for partitioning\n",
    "    df2 = df.withColumn(\"day\", to_date(from_unixtime(col(col_when))))\n",
    "\n",
    "    # 2) Window over each day, ordered by timestamp\n",
    "    w = Window.partitionBy(\"day\").orderBy(col(col_when))\n",
    "\n",
    "    # 3) Compute the gap to the previous timestamp\n",
    "    df3 = (\n",
    "        df2\n",
    "        .withColumn(\"prev_when\", lag(col(col_when), 1).over(w))\n",
    "        .withColumn(\"gap\", col(col_when) - col(\"prev_when\"))\n",
    "    )\n",
    "\n",
    "    # 4) Flag start of new block when gap != interval (or first in day)\n",
    "    df4 = df3.withColumn(\n",
    "        \"is_new_block\",\n",
    "        expr(f\"CASE WHEN gap IS NULL OR gap != {interval} THEN 1 ELSE 0 END\")\n",
    "    )\n",
    "\n",
    "    # 5) Cumulative sum over the window to assign a block_id\n",
    "    df5 = df4.withColumn(\n",
    "        \"block_id\",\n",
    "        sum_(col(\"is_new_block\")).over(w)\n",
    "    )\n",
    "\n",
    "    # 6) Count rows per (day, block_id) → this is block_length\n",
    "    blocks = (\n",
    "        df5\n",
    "        .groupBy(\"day\", \"block_id\")\n",
    "        .agg(count(\"*\").alias(\"block_length\"))\n",
    "    )\n",
    "\n",
    "    # 7) Count how many blocks have each length across all days\n",
    "    result = (\n",
    "        blocks\n",
    "        .groupBy(\"block_length\")\n",
    "        .agg(count(\"*\").alias(\"block_count\"))\n",
    "        .orderBy(\"block_length\")\n",
    "    )\n",
    "\n",
    "    return result"
   ]
  },
  {
   "cell_type": "code",
   "execution_count": 102,
   "id": "78b2ca2b-a4fa-4d2a-a6c8-4087f351ac1a",
   "metadata": {},
   "outputs": [],
   "source": [
    "def plot_diff_histogram(df_block_stats, min_length=1, max_length=100, step=1):\n",
    "    \"\"\"\n",
    "    Plot a histogram of contiguous block lengths.\n",
    "\n",
    "    Args:\n",
    "      df_block_stats: Spark DataFrame with ['block_length','block_count']\n",
    "      min_length:     smallest block_length to include\n",
    "      max_length:     largest block_length to include\n",
    "      step:           bar width\n",
    "    \"\"\"\n",
    "    pdf = (\n",
    "        df_block_stats\n",
    "        .filter((col(\"block_length\") >= min_length) &\n",
    "                (col(\"block_length\") <= max_length))\n",
    "        .orderBy(\"block_length\")\n",
    "        .toPandas()\n",
    "    )\n",
    "\n",
    "    if pdf.empty:\n",
    "        print(\"No blocks in the specified range.\")\n",
    "        return\n",
    "\n",
    "    plt.figure(figsize=(10,5))\n",
    "    plt.bar(pdf[\"block_length\"], pdf[\"block_count\"], width=step, align=\"center\")\n",
    "    plt.xlabel(\"Block Length\")\n",
    "    plt.ylabel(\"Number of Blocks\")\n",
    "    plt.title(\"Histogram of Contiguous Block Lengths\")\n",
    "    plt.grid(True)\n",
    "    plt.xlim(min_length, max_length)\n",
    "    plt.show()"
   ]
  },
  {
   "cell_type": "code",
   "execution_count": 103,
   "id": "bef75a4e-3df8-4478-96cc-fe428203f65f",
   "metadata": {},
   "outputs": [
    {
     "name": "stderr",
     "output_type": "stream",
     "text": [
      "25/07/29 12:06:37 WARN DAGScheduler: Broadcasting large task binary with size 2.0 MiB\n",
      "25/07/29 12:06:54 WARN DAGScheduler: Broadcasting large task binary with size 2.1 MiB\n",
      "25/07/29 12:07:14 WARN DAGScheduler: Broadcasting large task binary with size 2.1 MiB\n",
      "25/07/29 12:07:14 WARN DAGScheduler: Broadcasting large task binary with size 2.1 MiB\n",
      "25/07/29 12:07:14 WARN DAGScheduler: Broadcasting large task binary with size 2.1 MiB\n",
      "25/07/29 12:07:15 WARN DAGScheduler: Broadcasting large task binary with size 2.1 MiB\n"
     ]
    },
    {
     "name": "stdout",
     "output_type": "stream",
     "text": [
      "+------------+-----------+\n",
      "|block_length|block_count|\n",
      "+------------+-----------+\n",
      "|           1|        459|\n",
      "|           2|        544|\n",
      "|           3|        491|\n",
      "|           4|        458|\n",
      "|           5|        434|\n",
      "|           6|        407|\n",
      "|           7|        388|\n",
      "|           8|        373|\n",
      "|           9|        346|\n",
      "|          10|        324|\n",
      "|          11|        241|\n",
      "|          12|        260|\n",
      "|          13|        215|\n",
      "|          14|        216|\n",
      "|          15|        200|\n",
      "|          16|        181|\n",
      "|          17|        155|\n",
      "|          18|        175|\n",
      "|          19|        144|\n",
      "|          20|        110|\n",
      "+------------+-----------+\n",
      "only showing top 20 rows\n",
      "\n"
     ]
    },
    {
     "name": "stderr",
     "output_type": "stream",
     "text": [
      "25/07/29 12:07:15 WARN DAGScheduler: Broadcasting large task binary with size 2.1 MiB\n"
     ]
    }
   ],
   "source": [
    "# 1) Select only the timestamp column\n",
    "df_sample = df_resampled_S117.select(\"when\")\n",
    "\n",
    "# 2) Compute contiguous block stats at 60s spacing\n",
    "block_stats = count_contiguous_blocks(df_sample, interval=60)\n",
    "\n",
    "# 3) Inspect\n",
    "block_stats.show()"
   ]
  },
  {
   "cell_type": "code",
   "execution_count": 104,
   "id": "127a96ce-c606-4b71-a820-587c173eda37",
   "metadata": {},
   "outputs": [
    {
     "name": "stderr",
     "output_type": "stream",
     "text": [
      "25/07/29 12:07:15 WARN DAGScheduler: Broadcasting large task binary with size 2.0 MiB\n",
      "25/07/29 12:07:32 WARN DAGScheduler: Broadcasting large task binary with size 2.1 MiB\n",
      "25/07/29 12:07:50 WARN DAGScheduler: Broadcasting large task binary with size 2.1 MiB\n",
      "25/07/29 12:07:50 WARN DAGScheduler: Broadcasting large task binary with size 2.1 MiB\n",
      "25/07/29 12:07:51 WARN DAGScheduler: Broadcasting large task binary with size 2.1 MiB\n",
      "25/07/29 12:07:51 WARN DAGScheduler: Broadcasting large task binary with size 2.1 MiB\n",
      "25/07/29 12:07:51 WARN DAGScheduler: Broadcasting large task binary with size 2.1 MiB\n",
      "25/07/29 12:07:51 WARN DAGScheduler: Broadcasting large task binary with size 2.1 MiB\n",
      "25/07/29 12:07:51 WARN DAGScheduler: Broadcasting large task binary with size 2.1 MiB\n"
     ]
    },
    {
     "data": {
      "image/png": "[encoded data removed]",
      "text/plain": [
       "<Figure size 1000x500 with 1 Axes>"
      ]
     },
     "metadata": {},
     "output_type": "display_data"
    }
   ],
   "source": [
    "# 4) Plot histogram for blocks length 1–100\n",
    "plot_diff_histogram(block_stats, min_length=1, max_length=100, step=1)"
   ]
  },
  {
   "cell_type": "code",
   "execution_count": null,
   "id": "d373b431-09fb-4be5-b205-237db8c42fb6",
   "metadata": {},
   "outputs": [],
   "source": []
  },
  {
   "cell_type": "code",
   "execution_count": null,
   "id": "041b6528-8c7c-45c1-98b7-d64548d488d1",
   "metadata": {},
   "outputs": [],
   "source": []
  },
  {
   "cell_type": "markdown",
   "id": "8bf311c7-91c5-42c2-b69d-4ce24bee430e",
   "metadata": {},
   "source": [
    "### Con vari metodi riempimento (near,min,max,mean)"
   ]
  },
  {
   "cell_type": "code",
   "execution_count": 52,
   "id": "f6920ce8-101c-4288-aba4-92ff27f528cb",
   "metadata": {},
   "outputs": [],
   "source": [
    "def resample_sensor(\n",
    "    df_hard: DataFrame,\n",
    "    sensor: str,\n",
    "    interval: int = 60,\n",
    "    method: str = \"near\"\n",
    ") -> DataFrame:\n",
    "    \"\"\"\n",
    "    Resample a single sensor column to regular intervals.\n",
    "\n",
    "    Args:\n",
    "      df_hard:   DataFrame with 'when' (in seconds) and the sensor column.\n",
    "      sensor:    name of the sensor column (e.g. 'S117').\n",
    "      interval:  interval in seconds (e.g. 60).\n",
    "      method:    one of 'near', 'min', 'max', 'mean'.\n",
    "\n",
    "    Returns:\n",
    "      DataFrame with columns ['when', sensor, 'time'] at regular timestamps.\n",
    "      All values are non-null. If no data is found for a window, the row is skipped.\n",
    "    \"\"\"\n",
    "    spark = df_hard.sparkSession\n",
    "    half = interval / 2\n",
    "\n",
    "    # Validate method\n",
    "    if method not in (\"near\", \"min\", \"max\", \"mean\"):\n",
    "        raise ValueError(f\"Unsupported method '{method}'. Choose from 'near', 'min', 'max', 'mean'.\")\n",
    "\n",
    "    # 1. Create time grid\n",
    "    bounds = df_hard.selectExpr(\"min(when) as min_t\", \"max(when) as max_t\").first()\n",
    "    min_t, max_t = bounds.min_t, bounds.max_t\n",
    "\n",
    "    grid_df = (\n",
    "        spark.range(1)\n",
    "             .selectExpr(f\"sequence({min_t}, {max_t}, {interval}) as times\")\n",
    "             .select(explode(\"times\").alias(\"target_when\"))\n",
    "    )\n",
    "\n",
    "    # 2. Join with range ± half interval and exclude NULLs before aggregation\n",
    "    filtered = df_hard.select(\"when\", sensor).filter(col(sensor).isNotNull())\n",
    "\n",
    "    joined = (\n",
    "        filtered\n",
    "          .join(\n",
    "              grid_df,\n",
    "              (col(\"when\") >= col(\"target_when\") - half) &\n",
    "              (col(\"when\") <= col(\"target_when\") + half),\n",
    "              how=\"inner\"\n",
    "          )\n",
    "          .withColumn(\"time_diff\", abs_(col(\"when\") - col(\"target_when\")))\n",
    "    )\n",
    "\n",
    "    # 3. Aggregate based on method\n",
    "    if method == \"near\":\n",
    "        agg_expr = min_by(col(sensor), col(\"time_diff\")).alias(sensor)\n",
    "    elif method == \"min\":\n",
    "        agg_expr = spark_min(col(sensor)).alias(sensor)\n",
    "    elif method == \"max\":\n",
    "        agg_expr = spark_max(col(sensor)).alias(sensor)\n",
    "    else:  # mean\n",
    "        agg_expr = spark_avg(col(sensor)).alias(sensor)\n",
    "\n",
    "    result = (\n",
    "        joined.groupBy(\"target_when\")\n",
    "              .agg(agg_expr)\n",
    "    )\n",
    "\n",
    "    # 4. Final formatting\n",
    "    final = (\n",
    "        result\n",
    "          .withColumnRenamed(\"target_when\", \"when\")\n",
    "          .withColumn(\"time\", from_unixtime(col(\"when\")))\n",
    "          .orderBy(\"when\")\n",
    "    )\n",
    "\n",
    "    return final"
   ]
  },
  {
   "cell_type": "code",
   "execution_count": 53,
   "id": "148d2465-73f7-469c-a076-0b632c8148dd",
   "metadata": {},
   "outputs": [
    {
     "name": "stderr",
     "output_type": "stream",
     "text": [
      "ERROR:root:KeyboardInterrupt while sending command.              (16 + 16) / 39]\n",
      "Traceback (most recent call last):\n",
      "  File \"/usr/local/spark/python/lib/py4j-0.10.9.7-src.zip/py4j/java_gateway.py\", line 1038, in send_command\n",
      "    response = connection.send_command(command)\n",
      "  File \"/usr/local/spark/python/lib/py4j-0.10.9.7-src.zip/py4j/clientserver.py\", line 511, in send_command\n",
      "    answer = smart_decode(self.stream.readline()[:-1])\n",
      "                          ~~~~~~~~~~~~~~~~~~~~^^\n",
      "  File \"/opt/miniconda3/lib/python3.13/socket.py\", line 719, in readinto\n",
      "    return self._sock.recv_into(b)\n",
      "           ~~~~~~~~~~~~~~~~~~~~^^^\n",
      "KeyboardInterrupt\n"
     ]
    },
    {
     "ename": "KeyboardInterrupt",
     "evalue": "",
     "output_type": "error",
     "traceback": [
      "\u001b[31m---------------------------------------------------------------------------\u001b[39m",
      "\u001b[31mKeyboardInterrupt\u001b[39m                         Traceback (most recent call last)",
      "\u001b[36mCell\u001b[39m\u001b[36m \u001b[39m\u001b[32mIn[53]\u001b[39m\u001b[32m, line 2\u001b[39m\n\u001b[32m      1\u001b[39m \u001b[38;5;66;03m# Nearest‐time fill\u001b[39;00m\n\u001b[32m----> \u001b[39m\u001b[32m2\u001b[39m df_near = \u001b[43mresample_sensor\u001b[49m\u001b[43m(\u001b[49m\u001b[43mdf_hard\u001b[49m\u001b[43m,\u001b[49m\u001b[43m \u001b[49m\u001b[33;43m\"\u001b[39;49m\u001b[33;43mS117\u001b[39;49m\u001b[33;43m\"\u001b[39;49m\u001b[43m,\u001b[49m\u001b[43m \u001b[49m\u001b[43minterval\u001b[49m\u001b[43m=\u001b[49m\u001b[32;43m60\u001b[39;49m\u001b[43m,\u001b[49m\u001b[43m \u001b[49m\u001b[43mmethod\u001b[49m\u001b[43m=\u001b[49m\u001b[33;43m\"\u001b[39;49m\u001b[33;43mnear\u001b[39;49m\u001b[33;43m\"\u001b[39;49m\u001b[43m)\u001b[49m\n\u001b[32m      3\u001b[39m df_near.show(\u001b[32m5\u001b[39m)\n\u001b[32m      5\u001b[39m \u001b[38;5;66;03m# Minimum‐value fill\u001b[39;00m\n",
      "\u001b[36mCell\u001b[39m\u001b[36m \u001b[39m\u001b[32mIn[52]\u001b[39m\u001b[32m, line 35\u001b[39m, in \u001b[36mresample_sensor\u001b[39m\u001b[34m(df_hard, sensor, interval, method)\u001b[39m\n\u001b[32m     32\u001b[39m     \u001b[38;5;28;01mraise\u001b[39;00m \u001b[38;5;167;01mValueError\u001b[39;00m(\u001b[33mf\u001b[39m\u001b[33m\"\u001b[39m\u001b[33mUnsupported method \u001b[39m\u001b[33m'\u001b[39m\u001b[38;5;132;01m{\u001b[39;00mmethod\u001b[38;5;132;01m}\u001b[39;00m\u001b[33m'\u001b[39m\u001b[33m. Choose from \u001b[39m\u001b[33m'\u001b[39m\u001b[33mnear\u001b[39m\u001b[33m'\u001b[39m\u001b[33m, \u001b[39m\u001b[33m'\u001b[39m\u001b[33mmin\u001b[39m\u001b[33m'\u001b[39m\u001b[33m, \u001b[39m\u001b[33m'\u001b[39m\u001b[33mmax\u001b[39m\u001b[33m'\u001b[39m\u001b[33m, \u001b[39m\u001b[33m'\u001b[39m\u001b[33mmean\u001b[39m\u001b[33m'\u001b[39m\u001b[33m.\u001b[39m\u001b[33m\"\u001b[39m)\n\u001b[32m     34\u001b[39m \u001b[38;5;66;03m# 1. Create time grid\u001b[39;00m\n\u001b[32m---> \u001b[39m\u001b[32m35\u001b[39m bounds = \u001b[43mdf_hard\u001b[49m\u001b[43m.\u001b[49m\u001b[43mselectExpr\u001b[49m\u001b[43m(\u001b[49m\u001b[33;43m\"\u001b[39;49m\u001b[33;43mmin(when) as min_t\u001b[39;49m\u001b[33;43m\"\u001b[39;49m\u001b[43m,\u001b[49m\u001b[43m \u001b[49m\u001b[33;43m\"\u001b[39;49m\u001b[33;43mmax(when) as max_t\u001b[39;49m\u001b[33;43m\"\u001b[39;49m\u001b[43m)\u001b[49m\u001b[43m.\u001b[49m\u001b[43mfirst\u001b[49m\u001b[43m(\u001b[49m\u001b[43m)\u001b[49m\n\u001b[32m     36\u001b[39m min_t, max_t = bounds.min_t, bounds.max_t\n\u001b[32m     38\u001b[39m grid_df = (\n\u001b[32m     39\u001b[39m     spark.range(\u001b[32m1\u001b[39m)\n\u001b[32m     40\u001b[39m          .selectExpr(\u001b[33mf\u001b[39m\u001b[33m\"\u001b[39m\u001b[33msequence(\u001b[39m\u001b[38;5;132;01m{\u001b[39;00mmin_t\u001b[38;5;132;01m}\u001b[39;00m\u001b[33m, \u001b[39m\u001b[38;5;132;01m{\u001b[39;00mmax_t\u001b[38;5;132;01m}\u001b[39;00m\u001b[33m, \u001b[39m\u001b[38;5;132;01m{\u001b[39;00minterval\u001b[38;5;132;01m}\u001b[39;00m\u001b[33m) as times\u001b[39m\u001b[33m\"\u001b[39m)\n\u001b[32m     41\u001b[39m          .select(explode(\u001b[33m\"\u001b[39m\u001b[33mtimes\u001b[39m\u001b[33m\"\u001b[39m).alias(\u001b[33m\"\u001b[39m\u001b[33mtarget_when\u001b[39m\u001b[33m\"\u001b[39m))\n\u001b[32m     42\u001b[39m )\n",
      "\u001b[36mFile \u001b[39m\u001b[32m/usr/local/spark/python/pyspark/sql/dataframe.py:2997\u001b[39m, in \u001b[36mDataFrame.first\u001b[39m\u001b[34m(self)\u001b[39m\n\u001b[32m   2977\u001b[39m \u001b[38;5;28;01mdef\u001b[39;00m\u001b[38;5;250m \u001b[39m\u001b[34mfirst\u001b[39m(\u001b[38;5;28mself\u001b[39m) -> Optional[Row]:\n\u001b[32m   2978\u001b[39m \u001b[38;5;250m    \u001b[39m\u001b[33;03m\"\"\"Returns the first row as a :class:`Row`.\u001b[39;00m\n\u001b[32m   2979\u001b[39m \n\u001b[32m   2980\u001b[39m \u001b[33;03m    .. versionadded:: 1.3.0\u001b[39;00m\n\u001b[32m   (...)\u001b[39m\u001b[32m   2995\u001b[39m \u001b[33;03m    Row(age=2, name='Alice')\u001b[39;00m\n\u001b[32m   2996\u001b[39m \u001b[33;03m    \"\"\"\u001b[39;00m\n\u001b[32m-> \u001b[39m\u001b[32m2997\u001b[39m     \u001b[38;5;28;01mreturn\u001b[39;00m \u001b[38;5;28;43mself\u001b[39;49m\u001b[43m.\u001b[49m\u001b[43mhead\u001b[49m\u001b[43m(\u001b[49m\u001b[43m)\u001b[49m\n",
      "\u001b[36mFile \u001b[39m\u001b[32m/usr/local/spark/python/pyspark/sql/dataframe.py:2973\u001b[39m, in \u001b[36mDataFrame.head\u001b[39m\u001b[34m(self, n)\u001b[39m\n\u001b[32m   2941\u001b[39m \u001b[38;5;250m\u001b[39m\u001b[33;03m\"\"\"Returns the first ``n`` rows.\u001b[39;00m\n\u001b[32m   2942\u001b[39m \n\u001b[32m   2943\u001b[39m \u001b[33;03m.. versionadded:: 1.3.0\u001b[39;00m\n\u001b[32m   (...)\u001b[39m\u001b[32m   2970\u001b[39m \u001b[33;03m[Row(age=2, name='Alice')]\u001b[39;00m\n\u001b[32m   2971\u001b[39m \u001b[33;03m\"\"\"\u001b[39;00m\n\u001b[32m   2972\u001b[39m \u001b[38;5;28;01mif\u001b[39;00m n \u001b[38;5;129;01mis\u001b[39;00m \u001b[38;5;28;01mNone\u001b[39;00m:\n\u001b[32m-> \u001b[39m\u001b[32m2973\u001b[39m     rs = \u001b[38;5;28;43mself\u001b[39;49m\u001b[43m.\u001b[49m\u001b[43mhead\u001b[49m\u001b[43m(\u001b[49m\u001b[32;43m1\u001b[39;49m\u001b[43m)\u001b[49m\n\u001b[32m   2974\u001b[39m     \u001b[38;5;28;01mreturn\u001b[39;00m rs[\u001b[32m0\u001b[39m] \u001b[38;5;28;01mif\u001b[39;00m rs \u001b[38;5;28;01melse\u001b[39;00m \u001b[38;5;28;01mNone\u001b[39;00m\n\u001b[32m   2975\u001b[39m \u001b[38;5;28;01mreturn\u001b[39;00m \u001b[38;5;28mself\u001b[39m.take(n)\n",
      "\u001b[36mFile \u001b[39m\u001b[32m/usr/local/spark/python/pyspark/sql/dataframe.py:2975\u001b[39m, in \u001b[36mDataFrame.head\u001b[39m\u001b[34m(self, n)\u001b[39m\n\u001b[32m   2973\u001b[39m     rs = \u001b[38;5;28mself\u001b[39m.head(\u001b[32m1\u001b[39m)\n\u001b[32m   2974\u001b[39m     \u001b[38;5;28;01mreturn\u001b[39;00m rs[\u001b[32m0\u001b[39m] \u001b[38;5;28;01mif\u001b[39;00m rs \u001b[38;5;28;01melse\u001b[39;00m \u001b[38;5;28;01mNone\u001b[39;00m\n\u001b[32m-> \u001b[39m\u001b[32m2975\u001b[39m \u001b[38;5;28;01mreturn\u001b[39;00m \u001b[38;5;28;43mself\u001b[39;49m\u001b[43m.\u001b[49m\u001b[43mtake\u001b[49m\u001b[43m(\u001b[49m\u001b[43mn\u001b[49m\u001b[43m)\u001b[49m\n",
      "\u001b[36mFile \u001b[39m\u001b[32m/usr/local/spark/python/pyspark/sql/dataframe.py:1407\u001b[39m, in \u001b[36mDataFrame.take\u001b[39m\u001b[34m(self, num)\u001b[39m\n\u001b[32m   1378\u001b[39m \u001b[38;5;28;01mdef\u001b[39;00m\u001b[38;5;250m \u001b[39m\u001b[34mtake\u001b[39m(\u001b[38;5;28mself\u001b[39m, num: \u001b[38;5;28mint\u001b[39m) -> List[Row]:\n\u001b[32m   1379\u001b[39m \u001b[38;5;250m    \u001b[39m\u001b[33;03m\"\"\"Returns the first ``num`` rows as a :class:`list` of :class:`Row`.\u001b[39;00m\n\u001b[32m   1380\u001b[39m \n\u001b[32m   1381\u001b[39m \u001b[33;03m    .. versionadded:: 1.3.0\u001b[39;00m\n\u001b[32m   (...)\u001b[39m\u001b[32m   1405\u001b[39m \u001b[33;03m    [Row(age=14, name='Tom'), Row(age=23, name='Alice')]\u001b[39;00m\n\u001b[32m   1406\u001b[39m \u001b[33;03m    \"\"\"\u001b[39;00m\n\u001b[32m-> \u001b[39m\u001b[32m1407\u001b[39m     \u001b[38;5;28;01mreturn\u001b[39;00m \u001b[38;5;28;43mself\u001b[39;49m\u001b[43m.\u001b[49m\u001b[43mlimit\u001b[49m\u001b[43m(\u001b[49m\u001b[43mnum\u001b[49m\u001b[43m)\u001b[49m\u001b[43m.\u001b[49m\u001b[43mcollect\u001b[49m\u001b[43m(\u001b[49m\u001b[43m)\u001b[49m\n",
      "\u001b[36mFile \u001b[39m\u001b[32m/usr/local/spark/python/pyspark/sql/dataframe.py:1263\u001b[39m, in \u001b[36mDataFrame.collect\u001b[39m\u001b[34m(self)\u001b[39m\n\u001b[32m   1243\u001b[39m \u001b[38;5;250m\u001b[39m\u001b[33;03m\"\"\"Returns all the records as a list of :class:`Row`.\u001b[39;00m\n\u001b[32m   1244\u001b[39m \n\u001b[32m   1245\u001b[39m \u001b[33;03m.. versionadded:: 1.3.0\u001b[39;00m\n\u001b[32m   (...)\u001b[39m\u001b[32m   1260\u001b[39m \u001b[33;03m[Row(age=14, name='Tom'), Row(age=23, name='Alice'), Row(age=16, name='Bob')]\u001b[39;00m\n\u001b[32m   1261\u001b[39m \u001b[33;03m\"\"\"\u001b[39;00m\n\u001b[32m   1262\u001b[39m \u001b[38;5;28;01mwith\u001b[39;00m SCCallSiteSync(\u001b[38;5;28mself\u001b[39m._sc):\n\u001b[32m-> \u001b[39m\u001b[32m1263\u001b[39m     sock_info = \u001b[38;5;28;43mself\u001b[39;49m\u001b[43m.\u001b[49m\u001b[43m_jdf\u001b[49m\u001b[43m.\u001b[49m\u001b[43mcollectToPython\u001b[49m\u001b[43m(\u001b[49m\u001b[43m)\u001b[49m\n\u001b[32m   1264\u001b[39m \u001b[38;5;28;01mreturn\u001b[39;00m \u001b[38;5;28mlist\u001b[39m(_load_from_socket(sock_info, BatchedSerializer(CPickleSerializer())))\n",
      "\u001b[36mFile \u001b[39m\u001b[32m/usr/local/spark/python/lib/py4j-0.10.9.7-src.zip/py4j/java_gateway.py:1321\u001b[39m, in \u001b[36mJavaMember.__call__\u001b[39m\u001b[34m(self, *args)\u001b[39m\n\u001b[32m   1314\u001b[39m args_command, temp_args = \u001b[38;5;28mself\u001b[39m._build_args(*args)\n\u001b[32m   1316\u001b[39m command = proto.CALL_COMMAND_NAME +\\\n\u001b[32m   1317\u001b[39m     \u001b[38;5;28mself\u001b[39m.command_header +\\\n\u001b[32m   1318\u001b[39m     args_command +\\\n\u001b[32m   1319\u001b[39m     proto.END_COMMAND_PART\n\u001b[32m-> \u001b[39m\u001b[32m1321\u001b[39m answer = \u001b[38;5;28;43mself\u001b[39;49m\u001b[43m.\u001b[49m\u001b[43mgateway_client\u001b[49m\u001b[43m.\u001b[49m\u001b[43msend_command\u001b[49m\u001b[43m(\u001b[49m\u001b[43mcommand\u001b[49m\u001b[43m)\u001b[49m\n\u001b[32m   1322\u001b[39m return_value = get_return_value(\n\u001b[32m   1323\u001b[39m     answer, \u001b[38;5;28mself\u001b[39m.gateway_client, \u001b[38;5;28mself\u001b[39m.target_id, \u001b[38;5;28mself\u001b[39m.name)\n\u001b[32m   1325\u001b[39m \u001b[38;5;28;01mfor\u001b[39;00m temp_arg \u001b[38;5;129;01min\u001b[39;00m temp_args:\n",
      "\u001b[36mFile \u001b[39m\u001b[32m/usr/local/spark/python/lib/py4j-0.10.9.7-src.zip/py4j/java_gateway.py:1038\u001b[39m, in \u001b[36mGatewayClient.send_command\u001b[39m\u001b[34m(self, command, retry, binary)\u001b[39m\n\u001b[32m   1036\u001b[39m connection = \u001b[38;5;28mself\u001b[39m._get_connection()\n\u001b[32m   1037\u001b[39m \u001b[38;5;28;01mtry\u001b[39;00m:\n\u001b[32m-> \u001b[39m\u001b[32m1038\u001b[39m     response = \u001b[43mconnection\u001b[49m\u001b[43m.\u001b[49m\u001b[43msend_command\u001b[49m\u001b[43m(\u001b[49m\u001b[43mcommand\u001b[49m\u001b[43m)\u001b[49m\n\u001b[32m   1039\u001b[39m     \u001b[38;5;28;01mif\u001b[39;00m binary:\n\u001b[32m   1040\u001b[39m         \u001b[38;5;28;01mreturn\u001b[39;00m response, \u001b[38;5;28mself\u001b[39m._create_connection_guard(connection)\n",
      "\u001b[36mFile \u001b[39m\u001b[32m/usr/local/spark/python/lib/py4j-0.10.9.7-src.zip/py4j/clientserver.py:511\u001b[39m, in \u001b[36mClientServerConnection.send_command\u001b[39m\u001b[34m(self, command)\u001b[39m\n\u001b[32m    509\u001b[39m \u001b[38;5;28;01mtry\u001b[39;00m:\n\u001b[32m    510\u001b[39m     \u001b[38;5;28;01mwhile\u001b[39;00m \u001b[38;5;28;01mTrue\u001b[39;00m:\n\u001b[32m--> \u001b[39m\u001b[32m511\u001b[39m         answer = smart_decode(\u001b[38;5;28;43mself\u001b[39;49m\u001b[43m.\u001b[49m\u001b[43mstream\u001b[49m\u001b[43m.\u001b[49m\u001b[43mreadline\u001b[49m\u001b[43m(\u001b[49m\u001b[43m)\u001b[49m[:-\u001b[32m1\u001b[39m])\n\u001b[32m    512\u001b[39m         logger.debug(\u001b[33m\"\u001b[39m\u001b[33mAnswer received: \u001b[39m\u001b[38;5;132;01m{0}\u001b[39;00m\u001b[33m\"\u001b[39m.format(answer))\n\u001b[32m    513\u001b[39m         \u001b[38;5;66;03m# Happens when a the other end is dead. There might be an empty\u001b[39;00m\n\u001b[32m    514\u001b[39m         \u001b[38;5;66;03m# answer before the socket raises an error.\u001b[39;00m\n",
      "\u001b[36mFile \u001b[39m\u001b[32m/opt/miniconda3/lib/python3.13/socket.py:719\u001b[39m, in \u001b[36mSocketIO.readinto\u001b[39m\u001b[34m(self, b)\u001b[39m\n\u001b[32m    717\u001b[39m     \u001b[38;5;28;01mraise\u001b[39;00m \u001b[38;5;167;01mOSError\u001b[39;00m(\u001b[33m\"\u001b[39m\u001b[33mcannot read from timed out object\u001b[39m\u001b[33m\"\u001b[39m)\n\u001b[32m    718\u001b[39m \u001b[38;5;28;01mtry\u001b[39;00m:\n\u001b[32m--> \u001b[39m\u001b[32m719\u001b[39m     \u001b[38;5;28;01mreturn\u001b[39;00m \u001b[38;5;28;43mself\u001b[39;49m\u001b[43m.\u001b[49m\u001b[43m_sock\u001b[49m\u001b[43m.\u001b[49m\u001b[43mrecv_into\u001b[49m\u001b[43m(\u001b[49m\u001b[43mb\u001b[49m\u001b[43m)\u001b[49m\n\u001b[32m    720\u001b[39m \u001b[38;5;28;01mexcept\u001b[39;00m timeout:\n\u001b[32m    721\u001b[39m     \u001b[38;5;28mself\u001b[39m._timeout_occurred = \u001b[38;5;28;01mTrue\u001b[39;00m\n",
      "\u001b[31mKeyboardInterrupt\u001b[39m: "
     ]
    },
    {
     "name": "stderr",
     "output_type": "stream",
     "text": [
      "[Stage 567:====================================================>  (37 + 2) / 39]"
     ]
    }
   ],
   "source": [
    "# Nearest‐time fill\n",
    "df_near = resample_sensor(df_hard, \"S117\", interval=60, method=\"near\")\n",
    "df_near.show(5)\n",
    "\n",
    "# Minimum‐value fill\n",
    "df_min = resample_sensor(df_hard, \"S117\", interval=60, method=\"min\")\n",
    "df_min.show(5)\n",
    "\n",
    "# Maximum‐value fill\n",
    "df_max = resample_sensor(df_hard, \"S117\", interval=60, method=\"max\")\n",
    "df_max.show(5)\n",
    "\n",
    "# Mean‐value fill\n",
    "df_mean = resample_sensor(df_hard, \"S117\", interval=60, method=\"mean\")\n",
    "df_mean.show(5)\n",
    "\n",
    "# Invalid method raises:\n",
    "# resample_sensor(df_hard, \"S117\", 60, method=\"median\")\n",
    "# → ValueError: Unsupported method 'median'. Choose from 'near', 'min', 'max', 'mean'."
   ]
  },
  {
   "cell_type": "code",
   "execution_count": null,
   "id": "25499f6d-09e4-4fb4-9a90-b0460fcd5519",
   "metadata": {},
   "outputs": [],
   "source": []
  },
  {
   "cell_type": "code",
   "execution_count": null,
   "id": "775cbdbb-e618-4c4a-a9e2-d0d144bf1c6a",
   "metadata": {},
   "outputs": [],
   "source": []
  },
  {
   "cell_type": "code",
   "execution_count": null,
   "id": "bf4b61fd-e032-4c3c-963e-29e465736e7b",
   "metadata": {},
   "outputs": [],
   "source": []
  },
  {
   "cell_type": "markdown",
   "id": "4ca499f0-111e-48db-b9b9-9e1d54ccbcf6",
   "metadata": {},
   "source": [
    "### Per convertire il sensore binario"
   ]
  },
  {
   "cell_type": "code",
   "execution_count": 47,
   "id": "95fc527f-30c0-4221-bd42-0f2e2e583742",
   "metadata": {},
   "outputs": [],
   "source": [
    "# PROVA MARCO VECCHIA CONVERSIONE SENSORI A5 A9, ricopiata il codice può essere utile\n",
    "# --- OCCHIO --- questo ti pare che faccia la conversione del binario da dx verso sx, dovrebbe essere il contrario\n",
    "\n",
    "# def convert_a5_to_binary_bits(df,sensor):\n",
    "#     df_with_bits = df\n",
    "    \n",
    "#     for i in range(16):\n",
    "#         bit_position = 15 - i  # S1 = bit 15 (leftmost), S16 = bit 0 (rightmost)\n",
    "#         df_with_bits = df_with_bits.withColumn(\n",
    "#             f\"YOLO{i+1}\",\n",
    "#             (  col(sensor).bitwiseAND(1 << bit_position)  > 0 ).cast(\"int\")\n",
    "#         )\n",
    "    \n",
    "#     return df_with_bits\n",
    "\n",
    "# # Usage\n",
    "# df_with_binary = convert_a5_to_binary_bits(df_pivoted,\"A5\")"
   ]
  },
  {
   "cell_type": "code",
   "execution_count": null,
   "id": "6029d797-d124-43ef-8209-ae009d4d055f",
   "metadata": {},
   "outputs": [],
   "source": []
  },
  {
   "cell_type": "code",
   "execution_count": null,
   "id": "31659118-bfe4-4941-8049-7d8de813e0e7",
   "metadata": {},
   "outputs": [],
   "source": []
  },
  {
   "cell_type": "code",
   "execution_count": null,
   "id": "75b3cc88-8ee2-4e66-97e5-a9ee72a2f334",
   "metadata": {},
   "outputs": [],
   "source": []
  },
  {
   "cell_type": "code",
   "execution_count": null,
   "id": "297ddc42-0e1f-4b74-95cf-47772b4b1904",
   "metadata": {},
   "outputs": [],
   "source": []
  },
  {
   "cell_type": "markdown",
   "id": "e4008f36-62bb-4c20-9a6f-5a310152a8fb",
   "metadata": {},
   "source": [
    "# Anomaly Detection"
   ]
  },
  {
   "cell_type": "code",
   "execution_count": 56,
   "id": "bba3e04d-c6d4-4477-83ae-97221ac42da0",
   "metadata": {},
   "outputs": [],
   "source": [
    "def detect_switch_anomalies(df, sensor, window_minutes=10, switch_threshold=5):\n",
    "    \"\"\"\n",
    "    Detects frequent switching for binary sensor, partitioned by day to avoid single-node pressure.\n",
    "    \"\"\"\n",
    "\n",
    "    # Extract day (or hour) from timestamp to partition\n",
    "    df = df.withColumn(\"day\", to_date(from_unixtime(col(\"when\"))))\n",
    "\n",
    "    # Lag to get previous value within each partition --- OTHERWISE IT MOVES ALL IN THE SAME PARTITION\n",
    "    w_lag = Window.partitionBy(\"day\").orderBy(\"when\")\n",
    "    df_lagged = df.withColumn(\"prev\", lag(col(sensor)).over(w_lag))\n",
    "\n",
    "    # Detect change 0→1 or 1→0\n",
    "    df_changes = df_lagged.withColumn(\n",
    "        \"change\", when((col(\"prev\").isNotNull()) & (col(\"prev\") != col(sensor)), 1).otherwise(0)\n",
    "    )\n",
    "\n",
    "    # Rolling window over time with partition\n",
    "    w_time = Window.partitionBy(\"day\").orderBy(\"when\").rangeBetween(-window_minutes * 60, 0)\n",
    "    df_windowed = df_changes.withColumn(\n",
    "        \"change_count\", sum_(\"change\").over(w_time)\n",
    "    )\n",
    "\n",
    "    # Flag anomaly\n",
    "    df_anomaly = df_windowed.withColumn(\n",
    "        \"is_anomaly\", (col(\"change_count\") > switch_threshold)\n",
    "    ).drop(\"prev\", \"change\", \"change_count\", \"day\")\n",
    "\n",
    "    return df_anomaly"
   ]
  },
  {
   "cell_type": "code",
   "execution_count": 57,
   "id": "c849c25c-a75f-494b-b8ac-dcafe6e3ecf7",
   "metadata": {},
   "outputs": [
    {
     "name": "stderr",
     "output_type": "stream",
     "text": [
      "25/07/29 10:17:38 WARN DAGScheduler: Broadcasting large task binary with size 2.0 MiB\n",
      "25/07/29 10:17:55 WARN DAGScheduler: Broadcasting large task binary with size 2.1 MiB\n",
      "25/07/29 10:18:11 WARN DAGScheduler: Broadcasting large task binary with size 2.1 MiB\n",
      "25/07/29 10:18:12 WARN DAGScheduler: Broadcasting large task binary with size 2.1 MiB\n",
      "25/07/29 10:18:12 WARN DAGScheduler: Broadcasting large task binary with size 2.1 MiB\n",
      "25/07/29 10:18:12 WARN DAGScheduler: Broadcasting large task binary with size 2.1 MiB\n"
     ]
    },
    {
     "name": "stdout",
     "output_type": "stream",
     "text": [
      "+----------+----+-------------------+----------+\n",
      "|      when|S117|               time|is_anomaly|\n",
      "+----------+----+-------------------+----------+\n",
      "|1601521282|   1|2020-10-01 03:01:22|      true|\n",
      "|1601521342|   1|2020-10-01 03:02:22|      true|\n",
      "|1601521402|   1|2020-10-01 03:03:22|      true|\n",
      "|1601521522|   1|2020-10-01 03:05:22|      true|\n",
      "|1601521582|   1|2020-10-01 03:06:22|      true|\n",
      "|1601521642|   1|2020-10-01 03:07:22|      true|\n",
      "|1601521702|   1|2020-10-01 03:08:22|      true|\n",
      "|1601521762|   1|2020-10-01 03:09:22|      true|\n",
      "|1601521822|   1|2020-10-01 03:10:22|      true|\n",
      "|1601521882|   1|2020-10-01 03:11:22|      true|\n",
      "|1601522002|   1|2020-10-01 03:13:22|      true|\n",
      "|1601522062|   1|2020-10-01 03:14:22|      true|\n",
      "|1601522122|   1|2020-10-01 03:15:22|      true|\n",
      "|1601522182|   1|2020-10-01 03:16:22|      true|\n",
      "|1601522242|   1|2020-10-01 03:17:22|      true|\n",
      "|1601522302|   1|2020-10-01 03:18:22|      true|\n",
      "|1601522362|   1|2020-10-01 03:19:22|      true|\n",
      "|1601522422|   1|2020-10-01 03:20:22|      true|\n",
      "|1601522482|   1|2020-10-01 03:21:22|      true|\n",
      "|1601522542|   1|2020-10-01 03:22:22|      true|\n",
      "+----------+----+-------------------+----------+\n",
      "only showing top 20 rows\n",
      "\n"
     ]
    }
   ],
   "source": [
    "df_anom = detect_switch_anomalies(\n",
    "  df_resampled_S117,\n",
    "  sensor=\"S117\",\n",
    "  window_minutes=300,\n",
    "  switch_threshold=4\n",
    ")\n",
    "df_anom.filter(\"is_anomaly\").show()"
   ]
  },
  {
   "cell_type": "code",
   "execution_count": null,
   "id": "979993d2-4313-4a1f-988c-156c1c6e7e0e",
   "metadata": {},
   "outputs": [],
   "source": []
  },
  {
   "cell_type": "code",
   "execution_count": null,
   "id": "5c28753c-c068-4334-84de-1b6e141a9603",
   "metadata": {},
   "outputs": [],
   "source": []
  },
  {
   "cell_type": "code",
   "execution_count": null,
   "id": "e4142494-6dd2-4020-8a18-5f459c7e58e3",
   "metadata": {},
   "outputs": [],
   "source": []
  },
  {
   "cell_type": "code",
   "execution_count": null,
   "id": "44f9a30b-b7f2-49a2-9928-511fb064bd5f",
   "metadata": {},
   "outputs": [],
   "source": []
  },
  {
   "cell_type": "code",
   "execution_count": null,
   "id": "dc650a57-5e0b-4db0-bcf5-7f13bb73bcbd",
   "metadata": {},
   "outputs": [],
   "source": []
  },
  {
   "cell_type": "code",
   "execution_count": null,
   "id": "545b4d46-3a5c-4a13-8863-36d7f2a0cd4b",
   "metadata": {},
   "outputs": [],
   "source": []
  },
  {
   "cell_type": "code",
   "execution_count": null,
   "id": "cbb4ae3f-7772-4400-9541-bc41f9f587d2",
   "metadata": {},
   "outputs": [],
   "source": []
  },
  {
   "cell_type": "code",
   "execution_count": null,
   "id": "c8e15d87-3ea8-426e-b432-5a94d04aed75",
   "metadata": {},
   "outputs": [],
   "source": []
  },
  {
   "cell_type": "code",
   "execution_count": null,
   "id": "c63f463a-5d59-43b2-854e-f69d3d866df8",
   "metadata": {},
   "outputs": [],
   "source": []
  },
  {
   "cell_type": "code",
   "execution_count": null,
   "id": "916f98d6-1af1-4e82-8c7e-46b25d3b9479",
   "metadata": {},
   "outputs": [],
   "source": []
  },
  {
   "cell_type": "markdown",
   "id": "67fecb82-d909-4dc6-a026-16d5347faaa7",
   "metadata": {},
   "source": [
    "# Predictive Maintenance"
   ]
  },
  {
   "cell_type": "code",
   "execution_count": null,
   "id": "4f7b6c25-4344-4d39-b74f-886da19b1aa1",
   "metadata": {},
   "outputs": [],
   "source": []
  },
  {
   "cell_type": "code",
   "execution_count": null,
   "id": "7ff72c85-a4cb-4486-adf4-4bb541f5e867",
   "metadata": {},
   "outputs": [],
   "source": []
  },
  {
   "cell_type": "code",
   "execution_count": null,
   "id": "c282937a-70c2-4cd6-a0f3-85864215978e",
   "metadata": {},
   "outputs": [],
   "source": []
  },
  {
   "cell_type": "code",
   "execution_count": null,
   "id": "9167f121-b1ef-4e2c-bf48-07f55a14afad",
   "metadata": {},
   "outputs": [],
   "source": []
  },
  {
   "cell_type": "code",
   "execution_count": null,
   "id": "7604ef5e-bbb2-4528-ab5c-b6901b18a4a6",
   "metadata": {},
   "outputs": [],
   "source": []
  },
  {
   "cell_type": "code",
   "execution_count": null,
   "id": "1d2a8d74-a326-4733-a3f7-157b2b1ad302",
   "metadata": {},
   "outputs": [],
   "source": []
  },
  {
   "cell_type": "code",
   "execution_count": null,
   "id": "48c34c12-7e6b-44c1-99be-3a8635e2a905",
   "metadata": {},
   "outputs": [],
   "source": []
  },
  {
   "cell_type": "code",
   "execution_count": null,
   "id": "ba7593e0-7c05-4ff3-a3b8-6f0f6f24ce16",
   "metadata": {},
   "outputs": [],
   "source": []
  },
  {
   "cell_type": "markdown",
   "id": "2930c16b-276b-4e9a-b7b2-78a9e82c0776",
   "metadata": {},
   "source": [
    "# *** Remember to close Spark Session ***"
   ]
  },
  {
   "cell_type": "code",
   "execution_count": null,
   "id": "5e33c131-fe4d-4135-8844-5d1015fb0eb9",
   "metadata": {},
   "outputs": [],
   "source": [
    "spark.stop()"
   ]
  },
  {
   "cell_type": "code",
   "execution_count": null,
   "id": "88f2f446-cd02-4d0d-a3d9-f501963a87be",
   "metadata": {},
   "outputs": [],
   "source": []
  },
  {
   "cell_type": "code",
   "execution_count": null,
   "id": "a41fcced-1f35-4f53-b9bc-ba8e97617d51",
   "metadata": {},
   "outputs": [],
   "source": []
  },
  {
   "cell_type": "code",
   "execution_count": null,
   "id": "57265f1f-2d05-47e5-8427-099e79949cb9",
   "metadata": {},
   "outputs": [],
   "source": []
  }
 ],
 "metadata": {
  "kernelspec": {
   "display_name": "Python 3 (ipykernel)",
   "language": "python",
   "name": "python3"
  },
  "language_info": {
   "codemirror_mode": {
    "name": "ipython",
    "version": 3
   },
   "file_extension": ".py",
   "mimetype": "text/x-python",
   "name": "python",
   "nbconvert_exporter": "python",
   "pygments_lexer": "ipython3",
   "version": "3.13.2"
  }
 },
 "nbformat": 4,
 "nbformat_minor": 5
}
