{
 "cells": [
  {
   "cell_type": "markdown",
   "id": "37d92118-3f45-4d38-a2a9-730f57634aac",
   "metadata": {},
   "source": [
    "# Creation of the Spark Session and Context"
   ]
  },
  {
   "cell_type": "code",
   "execution_count": 1,
   "id": "efd5c59d-1172-405a-bafe-4754d41f8414",
   "metadata": {},
   "outputs": [
    {
     "ename": "NameError",
     "evalue": "name 'spark' is not defined",
     "output_type": "error",
     "traceback": [
      "\u001b[31m---------------------------------------------------------------------------\u001b[39m",
      "\u001b[31mNameError\u001b[39m                                 Traceback (most recent call last)",
      "\u001b[36mCell\u001b[39m\u001b[36m \u001b[39m\u001b[32mIn[1]\u001b[39m\u001b[32m, line 1\u001b[39m\n\u001b[32m----> \u001b[39m\u001b[32m1\u001b[39m \u001b[43mspark\u001b[49m.stop()\n",
      "\u001b[31mNameError\u001b[39m: name 'spark' is not defined"
     ]
    }
   ],
   "source": [
    "spark.stop()"
   ]
  },
  {
   "cell_type": "code",
   "execution_count": 25,
   "id": "e8b76336-8f50-45ca-8605-531a1f1e9817",
   "metadata": {},
   "outputs": [],
   "source": [
    "import pandas as pd\n",
    "import numpy as np\n",
    "import matplotlib.pyplot as plt\n",
    "import os\n",
    "import pyspark.sql.functions as sf\n",
    "from pyspark.sql import SparkSession\n",
    "from pyspark import SparkFiles\n",
    "from pyspark.sql.functions import col, from_unixtime, first, desc, asc, lag\n",
    "from pyspark.sql import Window\n",
    "\n",
    "os.environ[\"PYSPARK_PYTHON\"] = \"/opt/miniconda3/bin/python\"\n",
    "os.environ[\"PYSPARK_DRIVER_PYTHON\"] = \"/opt/miniconda3/bin/python\"\n",
    "\n",
    "spark = SparkSession.builder \\\n",
    "    .appName(\"MAPDProject\") \\\n",
    "    .master(\"spark://10.67.22.135:7077\") \\\n",
    "    .config(\"spark.scheduler.mode\", \"FAIR\") \\\n",
    "    .config(\"spark.dynamicAllocation.enabled\", \"false\") \\\n",
    "    .config(\"spark.shuffle.service.enabled\", \"false\") \\\n",
    "    .config(\"spark.scheduler.pool\", \"user_b\") \\\n",
    "    .getOrCreate()\n",
    "\n",
    "sc = spark.sparkContext"
   ]
  },
  {
   "cell_type": "markdown",
   "id": "a5025883-f632-4dd6-a155-cc400748ff88",
   "metadata": {},
   "source": [
    "# Dataset upload and partition"
   ]
  },
  {
   "cell_type": "code",
   "execution_count": 26,
   "id": "572c438c-52e6-48e2-ab72-8c4aba761f72",
   "metadata": {},
   "outputs": [],
   "source": [
    "Npartition = 16 # to change (one of project goal)"
   ]
  },
  {
   "cell_type": "code",
   "execution_count": 27,
   "id": "a4f13136-99cd-4587-b41a-939782920223",
   "metadata": {},
   "outputs": [
    {
     "name": "stderr",
     "output_type": "stream",
     "text": [
      "25/07/28 14:22:50 WARN FairSchedulableBuilder: A job was submitted with scheduler pool user_b, which has not been configured. This can happen when the file that pools are read from isn't set, or when that file doesn't contain user_b. Created user_b with default configuration (schedulingMode: FIFO, minShare: 0, weight: 1)\n",
      "                                                                                "
     ]
    }
   ],
   "source": [
    "df = spark.read.option(\"header\", True).csv(\"file:///mnt/shared/dataset.csv\")\n",
    "df = df.repartition(Npartition)"
   ]
  },
  {
   "cell_type": "code",
   "execution_count": 28,
   "id": "00454021-2f0f-41eb-8b68-29c894a914f3",
   "metadata": {},
   "outputs": [
    {
     "name": "stderr",
     "output_type": "stream",
     "text": [
      "[Stage 1:=======================================================> (38 + 1) / 39]"
     ]
    },
    {
     "name": "stdout",
     "output_type": "stream",
     "text": [
      "Number of partition used 16\n"
     ]
    }
   ],
   "source": [
    "print(f\"Number of partition used {df.rdd.getNumPartitions()}\")"
   ]
  },
  {
   "cell_type": "code",
   "execution_count": 29,
   "id": "81051779-dc36-4e67-980b-46843f3826aa",
   "metadata": {},
   "outputs": [
    {
     "name": "stdout",
     "output_type": "stream",
     "text": [
      "root\n",
      " |-- when: string (nullable = true)\n",
      " |-- hwid: string (nullable = true)\n",
      " |-- metric: string (nullable = true)\n",
      " |-- value: string (nullable = true)\n",
      "\n"
     ]
    }
   ],
   "source": [
    "df.printSchema()"
   ]
  },
  {
   "cell_type": "markdown",
   "id": "1bb6ebcb-2a1e-4c9d-9f15-2600f04883f4",
   "metadata": {},
   "source": [
    "# Focus on one hardware at time"
   ]
  },
  {
   "cell_type": "code",
   "execution_count": 30,
   "id": "13a9d3a5-9805-4732-868c-b40007b6dcca",
   "metadata": {},
   "outputs": [],
   "source": [
    "from pyspark.sql.functions import round as spark_round\n",
    "from pyspark.sql.types import IntegerType\n",
    "df = df.withColumn(\"when\", spark_round(col(\"when\") / 1000).cast(IntegerType()))"
   ]
  },
  {
   "cell_type": "code",
   "execution_count": 31,
   "id": "b274cc0f-fa59-4034-8939-d44866d42681",
   "metadata": {},
   "outputs": [
    {
     "name": "stderr",
     "output_type": "stream",
     "text": [
      "[Stage 4:==========================================>              (12 + 4) / 16]"
     ]
    },
    {
     "name": "stdout",
     "output_type": "stream",
     "text": [
      "+------+\n",
      "|  hwid|\n",
      "+------+\n",
      "|SW-088|\n",
      "|SW-106|\n",
      "|SW-065|\n",
      "|SW-115|\n",
      "+------+\n",
      "\n"
     ]
    },
    {
     "name": "stderr",
     "output_type": "stream",
     "text": [
      "                                                                                "
     ]
    }
   ],
   "source": [
    "hwid_list = df.select(\"hwid\").distinct()\n",
    "hwid_list.show()"
   ]
  },
  {
   "cell_type": "code",
   "execution_count": 32,
   "id": "91d73c3d-8f98-440b-84d8-3c650cd8db8a",
   "metadata": {},
   "outputs": [],
   "source": [
    "# CHANGE HERE HARDWARE TO ANALYZE\n",
    "hardware = \"SW-106\"\n",
    "df_hard = df.filter(col(\"hwid\") == hardware)"
   ]
  },
  {
   "cell_type": "code",
   "execution_count": 33,
   "id": "1475d0b5-bc02-4558-9594-3bb077c61086",
   "metadata": {},
   "outputs": [
    {
     "name": "stdout",
     "output_type": "stream",
     "text": [
      "root\n",
      " |-- when: integer (nullable = true)\n",
      " |-- hwid: string (nullable = true)\n",
      " |-- metric: string (nullable = true)\n",
      " |-- value: string (nullable = true)\n",
      "\n"
     ]
    }
   ],
   "source": [
    "df_hard.printSchema()"
   ]
  },
  {
   "cell_type": "code",
   "execution_count": 34,
   "id": "caf23a45-2011-4309-ba81-9d90f697d75b",
   "metadata": {},
   "outputs": [
    {
     "name": "stderr",
     "output_type": "stream",
     "text": [
      "[Stage 8:=======================================================> (38 + 1) / 39]"
     ]
    },
    {
     "name": "stdout",
     "output_type": "stream",
     "text": [
      "+----------+------+------+-----+\n",
      "|when      |hwid  |metric|value|\n",
      "+----------+------+------+-----+\n",
      "|1610895142|SW-106|S137  |63   |\n",
      "|1610982988|SW-106|S124  |-1   |\n",
      "|1610759570|SW-106|S100  |72   |\n",
      "|1613247746|SW-106|S47   |547  |\n",
      "|1610504021|SW-106|S81   |88   |\n",
      "+----------+------+------+-----+\n",
      "only showing top 5 rows\n",
      "\n"
     ]
    },
    {
     "name": "stderr",
     "output_type": "stream",
     "text": [
      "                                                                                "
     ]
    }
   ],
   "source": [
    "df_hard.show(5, truncate=False)"
   ]
  },
  {
   "cell_type": "code",
   "execution_count": 35,
   "id": "92e86e13-dd87-4abd-a9a4-70321af57176",
   "metadata": {},
   "outputs": [
    {
     "name": "stderr",
     "output_type": "stream",
     "text": [
      "                                                                                "
     ]
    }
   ],
   "source": [
    "df_hard = df_hard.groupBy(\"when\").pivot(\"metric\").agg(first(\"value\"))\\\n",
    "    .withColumn(\"time\", from_unixtime(col(\"when\"))).orderBy(\"when\")"
   ]
  },
  {
   "cell_type": "code",
   "execution_count": 36,
   "id": "cf99b20f-f39e-496f-b541-1f3ab4a37092",
   "metadata": {},
   "outputs": [
    {
     "name": "stdout",
     "output_type": "stream",
     "text": [
      "root\n",
      " |-- when: integer (nullable = true)\n",
      " |-- A5: string (nullable = true)\n",
      " |-- A9: string (nullable = true)\n",
      " |-- ComError: string (nullable = true)\n",
      " |-- P1: string (nullable = true)\n",
      " |-- P10: string (nullable = true)\n",
      " |-- P15: string (nullable = true)\n",
      " |-- P16: string (nullable = true)\n",
      " |-- P17: string (nullable = true)\n",
      " |-- P18: string (nullable = true)\n",
      " |-- P2: string (nullable = true)\n",
      " |-- P5: string (nullable = true)\n",
      " |-- P6: string (nullable = true)\n",
      " |-- P7: string (nullable = true)\n",
      " |-- P8: string (nullable = true)\n",
      " |-- P9: string (nullable = true)\n",
      " |-- S1: string (nullable = true)\n",
      " |-- S10: string (nullable = true)\n",
      " |-- S100: string (nullable = true)\n",
      " |-- S101: string (nullable = true)\n",
      " |-- S102: string (nullable = true)\n",
      " |-- S106: string (nullable = true)\n",
      " |-- S107: string (nullable = true)\n",
      " |-- S108: string (nullable = true)\n",
      " |-- S109: string (nullable = true)\n",
      " |-- S11: string (nullable = true)\n",
      " |-- S110: string (nullable = true)\n",
      " |-- S112: string (nullable = true)\n",
      " |-- S113: string (nullable = true)\n",
      " |-- S114: string (nullable = true)\n",
      " |-- S115: string (nullable = true)\n",
      " |-- S117: string (nullable = true)\n",
      " |-- S118: string (nullable = true)\n",
      " |-- S122: string (nullable = true)\n",
      " |-- S123: string (nullable = true)\n",
      " |-- S124: string (nullable = true)\n",
      " |-- S125: string (nullable = true)\n",
      " |-- S126: string (nullable = true)\n",
      " |-- S127: string (nullable = true)\n",
      " |-- S128: string (nullable = true)\n",
      " |-- S129: string (nullable = true)\n",
      " |-- S130: string (nullable = true)\n",
      " |-- S137: string (nullable = true)\n",
      " |-- S138: string (nullable = true)\n",
      " |-- S140: string (nullable = true)\n",
      " |-- S143: string (nullable = true)\n",
      " |-- S147: string (nullable = true)\n",
      " |-- S15: string (nullable = true)\n",
      " |-- S151: string (nullable = true)\n",
      " |-- S154: string (nullable = true)\n",
      " |-- S157: string (nullable = true)\n",
      " |-- S158: string (nullable = true)\n",
      " |-- S159: string (nullable = true)\n",
      " |-- S16: string (nullable = true)\n",
      " |-- S163: string (nullable = true)\n",
      " |-- S164: string (nullable = true)\n",
      " |-- S165: string (nullable = true)\n",
      " |-- S166: string (nullable = true)\n",
      " |-- S167: string (nullable = true)\n",
      " |-- S169: string (nullable = true)\n",
      " |-- S17: string (nullable = true)\n",
      " |-- S170: string (nullable = true)\n",
      " |-- S171: string (nullable = true)\n",
      " |-- S172: string (nullable = true)\n",
      " |-- S173: string (nullable = true)\n",
      " |-- S174: string (nullable = true)\n",
      " |-- S175: string (nullable = true)\n",
      " |-- S176: string (nullable = true)\n",
      " |-- S178: string (nullable = true)\n",
      " |-- S179: string (nullable = true)\n",
      " |-- S180: string (nullable = true)\n",
      " |-- S181: string (nullable = true)\n",
      " |-- S183: string (nullable = true)\n",
      " |-- S19: string (nullable = true)\n",
      " |-- S2: string (nullable = true)\n",
      " |-- S201: string (nullable = true)\n",
      " |-- S202: string (nullable = true)\n",
      " |-- S203: string (nullable = true)\n",
      " |-- S204: string (nullable = true)\n",
      " |-- S205: string (nullable = true)\n",
      " |-- S206: string (nullable = true)\n",
      " |-- S25: string (nullable = true)\n",
      " |-- S3: string (nullable = true)\n",
      " |-- S33: string (nullable = true)\n",
      " |-- S34: string (nullable = true)\n",
      " |-- S35: string (nullable = true)\n",
      " |-- S37: string (nullable = true)\n",
      " |-- S39: string (nullable = true)\n",
      " |-- S40: string (nullable = true)\n",
      " |-- S41: string (nullable = true)\n",
      " |-- S42: string (nullable = true)\n",
      " |-- S43: string (nullable = true)\n",
      " |-- S45: string (nullable = true)\n",
      " |-- S46: string (nullable = true)\n",
      " |-- S47: string (nullable = true)\n",
      " |-- S49: string (nullable = true)\n",
      " |-- S5: string (nullable = true)\n",
      " |-- S50: string (nullable = true)\n",
      " |-- S53: string (nullable = true)\n",
      " |-- S54: string (nullable = true)\n",
      " |-- S55: string (nullable = true)\n",
      " |-- S56: string (nullable = true)\n",
      " |-- S57: string (nullable = true)\n",
      " |-- S6: string (nullable = true)\n",
      " |-- S63: string (nullable = true)\n",
      " |-- S64: string (nullable = true)\n",
      " |-- S69: string (nullable = true)\n",
      " |-- S7: string (nullable = true)\n",
      " |-- S70: string (nullable = true)\n",
      " |-- S71: string (nullable = true)\n",
      " |-- S72: string (nullable = true)\n",
      " |-- S73: string (nullable = true)\n",
      " |-- S8: string (nullable = true)\n",
      " |-- S80: string (nullable = true)\n",
      " |-- S81: string (nullable = true)\n",
      " |-- S83: string (nullable = true)\n",
      " |-- S86: string (nullable = true)\n",
      " |-- S9: string (nullable = true)\n",
      " |-- S90: string (nullable = true)\n",
      " |-- S94: string (nullable = true)\n",
      " |-- S97: string (nullable = true)\n",
      " |-- SA1: string (nullable = true)\n",
      " |-- SA10: string (nullable = true)\n",
      " |-- SA11: string (nullable = true)\n",
      " |-- SA12: string (nullable = true)\n",
      " |-- SA2: string (nullable = true)\n",
      " |-- SA3: string (nullable = true)\n",
      " |-- SA4: string (nullable = true)\n",
      " |-- SA5: string (nullable = true)\n",
      " |-- SA6: string (nullable = true)\n",
      " |-- SA7: string (nullable = true)\n",
      " |-- SA8: string (nullable = true)\n",
      " |-- SA9: string (nullable = true)\n",
      " |-- SW: string (nullable = true)\n",
      " |-- time: string (nullable = true)\n",
      "\n"
     ]
    }
   ],
   "source": [
    "df_hard.printSchema()"
   ]
  },
  {
   "cell_type": "code",
   "execution_count": 37,
   "id": "28b071f9-4c55-448f-87ed-ea874e8e764e",
   "metadata": {},
   "outputs": [],
   "source": [
    "selected_cols = [\"time\", \"S117\", \"S118\", \"S169\", \"S170\"]"
   ]
  },
  {
   "cell_type": "code",
   "execution_count": 38,
   "id": "6b4fa421-6c3d-4d9e-a18e-44a3f08c7ef6",
   "metadata": {},
   "outputs": [
    {
     "name": "stderr",
     "output_type": "stream",
     "text": [
      "[Stage 29:=========>                                              (3 + 12) / 17]"
     ]
    },
    {
     "name": "stdout",
     "output_type": "stream",
     "text": [
      "+-------------------+----+----+----+----+\n",
      "|               time|S117|S118|S169|S170|\n",
      "+-------------------+----+----+----+----+\n",
      "|2020-10-01 00:00:22|   0|   1|NULL|NULL|\n",
      "|2020-10-01 00:00:25|NULL|NULL|   0|   1|\n",
      "|2020-10-01 00:00:53|   0|   1|NULL|NULL|\n",
      "|2020-10-01 00:00:55|NULL|NULL|   0|   1|\n",
      "|2020-10-01 00:01:23|   0|   1|NULL|NULL|\n",
      "+-------------------+----+----+----+----+\n",
      "only showing top 5 rows\n",
      "\n"
     ]
    },
    {
     "name": "stderr",
     "output_type": "stream",
     "text": [
      "                                                                                "
     ]
    }
   ],
   "source": [
    "# show first 5 rows\n",
    "df_hard.select(*selected_cols).orderBy(col(\"time\").asc()).show(5)"
   ]
  },
  {
   "cell_type": "code",
   "execution_count": 39,
   "id": "1b63cd73-76c6-4746-a301-24bf44285ed5",
   "metadata": {},
   "outputs": [
    {
     "name": "stderr",
     "output_type": "stream",
     "text": [
      "[Stage 32:=================================================>      (14 + 2) / 16]"
     ]
    },
    {
     "name": "stdout",
     "output_type": "stream",
     "text": [
      "+-------------------+----+----+----+----+\n",
      "|               time|S117|S118|S169|S170|\n",
      "+-------------------+----+----+----+----+\n",
      "|2021-03-27 07:27:36|NULL|NULL|   0|   0|\n",
      "|2021-03-27 07:28:03|   1|   0|NULL|NULL|\n",
      "|2021-03-27 07:28:06|NULL|NULL|   0|   0|\n",
      "|2021-03-27 07:28:34|   0|   0|NULL|NULL|\n",
      "|2021-03-27 07:28:37|NULL|NULL|   0|   0|\n",
      "+-------------------+----+----+----+----+\n",
      "\n"
     ]
    },
    {
     "name": "stderr",
     "output_type": "stream",
     "text": [
      "                                                                                "
     ]
    }
   ],
   "source": [
    "# show last 5 rows\n",
    "df_hard.select(*selected_cols).orderBy(col(\"time\").desc()).limit(5).orderBy(col(\"time\").asc()).show()"
   ]
  },
  {
   "cell_type": "markdown",
   "id": "0f446543-3012-4f64-8855-04f3a94b9725",
   "metadata": {},
   "source": [
    "# Timestamp analysis"
   ]
  },
  {
   "cell_type": "code",
   "execution_count": 40,
   "id": "5ba0f6fc-7d52-4f8b-9dab-a31bc4041a87",
   "metadata": {},
   "outputs": [
    {
     "name": "stderr",
     "output_type": "stream",
     "text": [
      "                                                                                "
     ]
    }
   ],
   "source": [
    "rdd_times = df_hard.select(\"when\").rdd.map(lambda row: row[\"when\"])\n",
    "\n",
    "rdd_shifted = rdd_times.zipWithIndex().map(lambda x: (x[1], x[0]))  # (index, value)\n",
    "rdd_prev = rdd_shifted.map(lambda x: (x[0] + 1, x[1]))              # shift index +1\n",
    "rdd_joined = rdd_shifted.join(rdd_prev).sortByKey()\n",
    "\n",
    "# Compute difference (actual - previous)\n",
    "rdd_diff = rdd_joined.map(lambda x: x[1][0] - x[1][1])"
   ]
  },
  {
   "cell_type": "code",
   "execution_count": 41,
   "id": "02d3298f-a690-4ad9-87ce-84babcaf15b1",
   "metadata": {},
   "outputs": [
    {
     "name": "stdout",
     "output_type": "stream",
     "text": [
      "5 smallest time differences:\n",
      "2\n",
      "2\n",
      "2\n",
      "2\n",
      "2\n",
      "\n",
      "\n",
      "5 largest time differences:\n",
      "28598\n",
      "48451\n",
      "757864\n",
      "2066908\n",
      "5003774\n"
     ]
    }
   ],
   "source": [
    "# Get 5 smallest time differences\n",
    "print(\"5 smallest time differences:\")\n",
    "smallest_diffs = rdd_diff.takeOrdered(5)\n",
    "for d in smallest_diffs:\n",
    "    print(d)\n",
    "\n",
    "print(\"\\n\")\n",
    "\n",
    "# Get 5 largest time differences\n",
    "print(\"5 largest time differences:\")\n",
    "largest_diffs = rdd_diff.top(5)  # 'top' returns largest by default\n",
    "for d in sorted(largest_diffs, reverse=False):  # sort ascending\n",
    "    print(d)\n"
   ]
  },
  {
   "cell_type": "code",
   "execution_count": 42,
   "id": "a988ee9a-11ad-4296-bb6b-4af7dfda97ad",
   "metadata": {},
   "outputs": [],
   "source": [
    "def plot_diff_histogram(differences, min_diff, max_diff, delta):\n",
    "    \n",
    "    filtered = [d for d in differences if min_diff <= d <= max_diff]\n",
    "\n",
    "    bins = int((max_diff - min_diff) / delta)\n",
    "\n",
    "    plt.figure(figsize=(10, 6))\n",
    "    plt.hist(filtered, bins=bins, color=\"steelblue\", edgecolor=\"black\")\n",
    "    plt.title(f\"Time Difference Events (range {min_diff} - {max_diff} [s])\")\n",
    "    plt.xlabel(\"Time difference [s]\")\n",
    "    plt.ylabel(\"Counts\")\n",
    "    #plt.grid(True)\n",
    "    plt.show()"
   ]
  },
  {
   "cell_type": "code",
   "execution_count": 43,
   "id": "8da52466-b638-4f78-a69b-675637894c7f",
   "metadata": {},
   "outputs": [
    {
     "name": "stdout",
     "output_type": "stream",
     "text": [
      "Number of time differences: 398038\n"
     ]
    }
   ],
   "source": [
    "# Check how many time differences are in the RDD\n",
    "num_diffs = rdd_diff.count()\n",
    "print(f\"Number of time differences: {num_diffs}\")\n",
    "\n",
    "# If safe, collect to driver\n",
    "if num_diffs < 1_000_000:\n",
    "    diffs = rdd_diff.collect()\n",
    "else:\n",
    "    print(\"Too many differences to collect safely.\")"
   ]
  },
  {
   "cell_type": "code",
   "execution_count": 44,
   "id": "a58fc7ad-7b64-43ba-a24a-c792ebcbba37",
   "metadata": {},
   "outputs": [
    {
     "data": {
      "image/png": "[encoded data removed]",
      "text/plain": [
       "<Figure size 1000x600 with 1 Axes>"
      ]
     },
     "metadata": {},
     "output_type": "display_data"
    }
   ],
   "source": [
    "plot_diff_histogram(differences=diffs, min_diff=0, max_diff=180, delta=2)"
   ]
  },
  {
   "cell_type": "code",
   "execution_count": 45,
   "id": "89ddab6d-ec14-4fa8-852b-1b82c8e37477",
   "metadata": {},
   "outputs": [
    {
     "data": {
      "image/png": "[encoded data removed]",
      "text/plain": [
       "<Figure size 1000x600 with 1 Axes>"
      ]
     },
     "metadata": {},
     "output_type": "display_data"
    }
   ],
   "source": [
    "plot_diff_histogram(differences=diffs, min_diff=180, max_diff=4000, delta=25)"
   ]
  },
  {
   "cell_type": "code",
   "execution_count": 46,
   "id": "c98c0c5c-c6af-4930-aef6-0ec0fc0610fc",
   "metadata": {},
   "outputs": [
    {
     "data": {
      "image/png": "[encoded data removed]",
      "text/plain": [
       "<Figure size 1000x600 with 1 Axes>"
      ]
     },
     "metadata": {},
     "output_type": "display_data"
    }
   ],
   "source": [
    "plot_diff_histogram(differences=diffs, min_diff=4000, max_diff=5_500_000, delta=100)"
   ]
  },
  {
   "cell_type": "code",
   "execution_count": null,
   "id": "7273e1db-4af1-4865-a024-0e18656b22df",
   "metadata": {},
   "outputs": [],
   "source": []
  },
  {
   "cell_type": "markdown",
   "id": "3d3a42ed-503b-48f1-8424-3797e172ef8a",
   "metadata": {},
   "source": [
    "# Handling missing data & gaps"
   ]
  },
  {
   "cell_type": "code",
   "execution_count": 52,
   "id": "30cf8b93-aa97-47b2-9a8e-fa10eae093f5",
   "metadata": {},
   "outputs": [],
   "source": [
    "from pyspark.sql.functions import col, abs as abs_, first, min as min_, max as max_, row_number\n",
    "from pyspark.sql.window import Window\n",
    "\n",
    "def resample_with_nearest(df_hard, interval=30):\n",
    "    spark = df_hard.sparkSession\n",
    "\n",
    "    # Step 1: Get time range\n",
    "    min_time, max_time = df_hard.select(min_(\"when\"), max_(\"when\")).first()\n",
    "    time_grid = list(range(min_time, max_time + 1, interval))\n",
    "\n",
    "    # Step 2: Create grid of target timestamps\n",
    "    grid_df = spark.createDataFrame([(t,) for t in time_grid], [\"target_when\"])\n",
    "\n",
    "    # Step 3: Cross join grid with data and find closest row in ±interval/2\n",
    "    joined = grid_df.crossJoin(df_hard) \\\n",
    "        .withColumn(\"time_diff\", abs_(col(\"target_when\") - col(\"when\"))) \\\n",
    "        .filter(abs_(col(\"target_when\") - col(\"when\")) <= interval / 2)\n",
    "\n",
    "    # Step 4: Keep closest match per target time using row_number\n",
    "    window_spec = Window.partitionBy(\"target_when\").orderBy(col(\"time_diff\").asc())\n",
    "    nearest = joined.withColumn(\"rn\", row_number().over(window_spec)) \\\n",
    "                    .filter(col(\"rn\") == 1)\n",
    "\n",
    "    # Step 5: Drop helper columns and rename target_when to when\n",
    "    result = nearest.drop(\"rn\", \"time_diff\", \"when\") \\\n",
    "                    .withColumnRenamed(\"target_when\", \"when\")\n",
    "\n",
    "    from functools import reduce  # make sure this is imported\n",
    "\n",
    "    # Step 6: Drop rows where all sensor columns are null\n",
    "    sensor_cols = [c for c in df_hard.columns if c not in [\"time\", \"when\"]]\n",
    "    not_all_null_condition = ~reduce(lambda a, b: a & b, [col(c).isNull() for c in sensor_cols])\n",
    "    result_filtered = result.filter(not_all_null_condition)\n",
    "\n",
    "    return result_filtered.orderBy(\"when\")"
   ]
  },
  {
   "cell_type": "code",
   "execution_count": 55,
   "id": "8407be24-df47-4acc-9db6-0c300554b387",
   "metadata": {},
   "outputs": [
    {
     "name": "stderr",
     "output_type": "stream",
     "text": [
      "ERROR:root:KeyboardInterrupt while sending command.>               (0 + 0) / 16]\n",
      "Traceback (most recent call last):\n",
      "  File \"/usr/local/spark/python/lib/py4j-0.10.9.7-src.zip/py4j/java_gateway.py\", line 1038, in send_command\n",
      "    response = connection.send_command(command)\n",
      "  File \"/usr/local/spark/python/lib/py4j-0.10.9.7-src.zip/py4j/clientserver.py\", line 511, in send_command\n",
      "    answer = smart_decode(self.stream.readline()[:-1])\n",
      "                          ~~~~~~~~~~~~~~~~~~~~^^\n",
      "  File \"/opt/miniconda3/lib/python3.13/socket.py\", line 719, in readinto\n",
      "    return self._sock.recv_into(b)\n",
      "           ~~~~~~~~~~~~~~~~~~~~^^^\n",
      "KeyboardInterrupt\n"
     ]
    },
    {
     "ename": "KeyboardInterrupt",
     "evalue": "",
     "output_type": "error",
     "traceback": [
      "\u001b[31m---------------------------------------------------------------------------\u001b[39m",
      "\u001b[31mKeyboardInterrupt\u001b[39m                         Traceback (most recent call last)",
      "\u001b[36mCell\u001b[39m\u001b[36m \u001b[39m\u001b[32mIn[55]\u001b[39m\u001b[32m, line 1\u001b[39m\n\u001b[32m----> \u001b[39m\u001b[32m1\u001b[39m df_resampled = \u001b[43mresample_with_nearest\u001b[49m\u001b[43m(\u001b[49m\u001b[43mdf_hard\u001b[49m\u001b[43m,\u001b[49m\u001b[43m \u001b[49m\u001b[43minterval\u001b[49m\u001b[43m=\u001b[49m\u001b[32;43m60\u001b[39;49m\u001b[43m)\u001b[49m\n\u001b[32m      2\u001b[39m df_resampled.select(*selected_cols).limit(\u001b[32m5\u001b[39m).show()\n",
      "\u001b[36mCell\u001b[39m\u001b[36m \u001b[39m\u001b[32mIn[52]\u001b[39m\u001b[32m, line 8\u001b[39m, in \u001b[36mresample_with_nearest\u001b[39m\u001b[34m(df_hard, interval)\u001b[39m\n\u001b[32m      5\u001b[39m spark = df_hard.sparkSession\n\u001b[32m      7\u001b[39m \u001b[38;5;66;03m# Step 1: Get time range\u001b[39;00m\n\u001b[32m----> \u001b[39m\u001b[32m8\u001b[39m min_time, max_time = \u001b[43mdf_hard\u001b[49m\u001b[43m.\u001b[49m\u001b[43mselect\u001b[49m\u001b[43m(\u001b[49m\u001b[43mmin_\u001b[49m\u001b[43m(\u001b[49m\u001b[33;43m\"\u001b[39;49m\u001b[33;43mwhen\u001b[39;49m\u001b[33;43m\"\u001b[39;49m\u001b[43m)\u001b[49m\u001b[43m,\u001b[49m\u001b[43m \u001b[49m\u001b[43mmax_\u001b[49m\u001b[43m(\u001b[49m\u001b[33;43m\"\u001b[39;49m\u001b[33;43mwhen\u001b[39;49m\u001b[33;43m\"\u001b[39;49m\u001b[43m)\u001b[49m\u001b[43m)\u001b[49m\u001b[43m.\u001b[49m\u001b[43mfirst\u001b[49m\u001b[43m(\u001b[49m\u001b[43m)\u001b[49m\n\u001b[32m      9\u001b[39m time_grid = \u001b[38;5;28mlist\u001b[39m(\u001b[38;5;28mrange\u001b[39m(min_time, max_time + \u001b[32m1\u001b[39m, interval))\n\u001b[32m     11\u001b[39m \u001b[38;5;66;03m# Step 2: Create grid of target timestamps\u001b[39;00m\n",
      "\u001b[36mFile \u001b[39m\u001b[32m/usr/local/spark/python/pyspark/sql/dataframe.py:2997\u001b[39m, in \u001b[36mDataFrame.first\u001b[39m\u001b[34m(self)\u001b[39m\n\u001b[32m   2977\u001b[39m \u001b[38;5;28;01mdef\u001b[39;00m\u001b[38;5;250m \u001b[39m\u001b[34mfirst\u001b[39m(\u001b[38;5;28mself\u001b[39m) -> Optional[Row]:\n\u001b[32m   2978\u001b[39m \u001b[38;5;250m    \u001b[39m\u001b[33;03m\"\"\"Returns the first row as a :class:`Row`.\u001b[39;00m\n\u001b[32m   2979\u001b[39m \n\u001b[32m   2980\u001b[39m \u001b[33;03m    .. versionadded:: 1.3.0\u001b[39;00m\n\u001b[32m   (...)\u001b[39m\u001b[32m   2995\u001b[39m \u001b[33;03m    Row(age=2, name='Alice')\u001b[39;00m\n\u001b[32m   2996\u001b[39m \u001b[33;03m    \"\"\"\u001b[39;00m\n\u001b[32m-> \u001b[39m\u001b[32m2997\u001b[39m     \u001b[38;5;28;01mreturn\u001b[39;00m \u001b[38;5;28;43mself\u001b[39;49m\u001b[43m.\u001b[49m\u001b[43mhead\u001b[49m\u001b[43m(\u001b[49m\u001b[43m)\u001b[49m\n",
      "\u001b[36mFile \u001b[39m\u001b[32m/usr/local/spark/python/pyspark/sql/dataframe.py:2973\u001b[39m, in \u001b[36mDataFrame.head\u001b[39m\u001b[34m(self, n)\u001b[39m\n\u001b[32m   2941\u001b[39m \u001b[38;5;250m\u001b[39m\u001b[33;03m\"\"\"Returns the first ``n`` rows.\u001b[39;00m\n\u001b[32m   2942\u001b[39m \n\u001b[32m   2943\u001b[39m \u001b[33;03m.. versionadded:: 1.3.0\u001b[39;00m\n\u001b[32m   (...)\u001b[39m\u001b[32m   2970\u001b[39m \u001b[33;03m[Row(age=2, name='Alice')]\u001b[39;00m\n\u001b[32m   2971\u001b[39m \u001b[33;03m\"\"\"\u001b[39;00m\n\u001b[32m   2972\u001b[39m \u001b[38;5;28;01mif\u001b[39;00m n \u001b[38;5;129;01mis\u001b[39;00m \u001b[38;5;28;01mNone\u001b[39;00m:\n\u001b[32m-> \u001b[39m\u001b[32m2973\u001b[39m     rs = \u001b[38;5;28;43mself\u001b[39;49m\u001b[43m.\u001b[49m\u001b[43mhead\u001b[49m\u001b[43m(\u001b[49m\u001b[32;43m1\u001b[39;49m\u001b[43m)\u001b[49m\n\u001b[32m   2974\u001b[39m     \u001b[38;5;28;01mreturn\u001b[39;00m rs[\u001b[32m0\u001b[39m] \u001b[38;5;28;01mif\u001b[39;00m rs \u001b[38;5;28;01melse\u001b[39;00m \u001b[38;5;28;01mNone\u001b[39;00m\n\u001b[32m   2975\u001b[39m \u001b[38;5;28;01mreturn\u001b[39;00m \u001b[38;5;28mself\u001b[39m.take(n)\n",
      "\u001b[36mFile \u001b[39m\u001b[32m/usr/local/spark/python/pyspark/sql/dataframe.py:2975\u001b[39m, in \u001b[36mDataFrame.head\u001b[39m\u001b[34m(self, n)\u001b[39m\n\u001b[32m   2973\u001b[39m     rs = \u001b[38;5;28mself\u001b[39m.head(\u001b[32m1\u001b[39m)\n\u001b[32m   2974\u001b[39m     \u001b[38;5;28;01mreturn\u001b[39;00m rs[\u001b[32m0\u001b[39m] \u001b[38;5;28;01mif\u001b[39;00m rs \u001b[38;5;28;01melse\u001b[39;00m \u001b[38;5;28;01mNone\u001b[39;00m\n\u001b[32m-> \u001b[39m\u001b[32m2975\u001b[39m \u001b[38;5;28;01mreturn\u001b[39;00m \u001b[38;5;28;43mself\u001b[39;49m\u001b[43m.\u001b[49m\u001b[43mtake\u001b[49m\u001b[43m(\u001b[49m\u001b[43mn\u001b[49m\u001b[43m)\u001b[49m\n",
      "\u001b[36mFile \u001b[39m\u001b[32m/usr/local/spark/python/pyspark/sql/dataframe.py:1407\u001b[39m, in \u001b[36mDataFrame.take\u001b[39m\u001b[34m(self, num)\u001b[39m\n\u001b[32m   1378\u001b[39m \u001b[38;5;28;01mdef\u001b[39;00m\u001b[38;5;250m \u001b[39m\u001b[34mtake\u001b[39m(\u001b[38;5;28mself\u001b[39m, num: \u001b[38;5;28mint\u001b[39m) -> List[Row]:\n\u001b[32m   1379\u001b[39m \u001b[38;5;250m    \u001b[39m\u001b[33;03m\"\"\"Returns the first ``num`` rows as a :class:`list` of :class:`Row`.\u001b[39;00m\n\u001b[32m   1380\u001b[39m \n\u001b[32m   1381\u001b[39m \u001b[33;03m    .. versionadded:: 1.3.0\u001b[39;00m\n\u001b[32m   (...)\u001b[39m\u001b[32m   1405\u001b[39m \u001b[33;03m    [Row(age=14, name='Tom'), Row(age=23, name='Alice')]\u001b[39;00m\n\u001b[32m   1406\u001b[39m \u001b[33;03m    \"\"\"\u001b[39;00m\n\u001b[32m-> \u001b[39m\u001b[32m1407\u001b[39m     \u001b[38;5;28;01mreturn\u001b[39;00m \u001b[38;5;28;43mself\u001b[39;49m\u001b[43m.\u001b[49m\u001b[43mlimit\u001b[49m\u001b[43m(\u001b[49m\u001b[43mnum\u001b[49m\u001b[43m)\u001b[49m\u001b[43m.\u001b[49m\u001b[43mcollect\u001b[49m\u001b[43m(\u001b[49m\u001b[43m)\u001b[49m\n",
      "\u001b[36mFile \u001b[39m\u001b[32m/usr/local/spark/python/pyspark/sql/dataframe.py:1263\u001b[39m, in \u001b[36mDataFrame.collect\u001b[39m\u001b[34m(self)\u001b[39m\n\u001b[32m   1243\u001b[39m \u001b[38;5;250m\u001b[39m\u001b[33;03m\"\"\"Returns all the records as a list of :class:`Row`.\u001b[39;00m\n\u001b[32m   1244\u001b[39m \n\u001b[32m   1245\u001b[39m \u001b[33;03m.. versionadded:: 1.3.0\u001b[39;00m\n\u001b[32m   (...)\u001b[39m\u001b[32m   1260\u001b[39m \u001b[33;03m[Row(age=14, name='Tom'), Row(age=23, name='Alice'), Row(age=16, name='Bob')]\u001b[39;00m\n\u001b[32m   1261\u001b[39m \u001b[33;03m\"\"\"\u001b[39;00m\n\u001b[32m   1262\u001b[39m \u001b[38;5;28;01mwith\u001b[39;00m SCCallSiteSync(\u001b[38;5;28mself\u001b[39m._sc):\n\u001b[32m-> \u001b[39m\u001b[32m1263\u001b[39m     sock_info = \u001b[38;5;28;43mself\u001b[39;49m\u001b[43m.\u001b[49m\u001b[43m_jdf\u001b[49m\u001b[43m.\u001b[49m\u001b[43mcollectToPython\u001b[49m\u001b[43m(\u001b[49m\u001b[43m)\u001b[49m\n\u001b[32m   1264\u001b[39m \u001b[38;5;28;01mreturn\u001b[39;00m \u001b[38;5;28mlist\u001b[39m(_load_from_socket(sock_info, BatchedSerializer(CPickleSerializer())))\n",
      "\u001b[36mFile \u001b[39m\u001b[32m/usr/local/spark/python/lib/py4j-0.10.9.7-src.zip/py4j/java_gateway.py:1321\u001b[39m, in \u001b[36mJavaMember.__call__\u001b[39m\u001b[34m(self, *args)\u001b[39m\n\u001b[32m   1314\u001b[39m args_command, temp_args = \u001b[38;5;28mself\u001b[39m._build_args(*args)\n\u001b[32m   1316\u001b[39m command = proto.CALL_COMMAND_NAME +\\\n\u001b[32m   1317\u001b[39m     \u001b[38;5;28mself\u001b[39m.command_header +\\\n\u001b[32m   1318\u001b[39m     args_command +\\\n\u001b[32m   1319\u001b[39m     proto.END_COMMAND_PART\n\u001b[32m-> \u001b[39m\u001b[32m1321\u001b[39m answer = \u001b[38;5;28;43mself\u001b[39;49m\u001b[43m.\u001b[49m\u001b[43mgateway_client\u001b[49m\u001b[43m.\u001b[49m\u001b[43msend_command\u001b[49m\u001b[43m(\u001b[49m\u001b[43mcommand\u001b[49m\u001b[43m)\u001b[49m\n\u001b[32m   1322\u001b[39m return_value = get_return_value(\n\u001b[32m   1323\u001b[39m     answer, \u001b[38;5;28mself\u001b[39m.gateway_client, \u001b[38;5;28mself\u001b[39m.target_id, \u001b[38;5;28mself\u001b[39m.name)\n\u001b[32m   1325\u001b[39m \u001b[38;5;28;01mfor\u001b[39;00m temp_arg \u001b[38;5;129;01min\u001b[39;00m temp_args:\n",
      "\u001b[36mFile \u001b[39m\u001b[32m/usr/local/spark/python/lib/py4j-0.10.9.7-src.zip/py4j/java_gateway.py:1038\u001b[39m, in \u001b[36mGatewayClient.send_command\u001b[39m\u001b[34m(self, command, retry, binary)\u001b[39m\n\u001b[32m   1036\u001b[39m connection = \u001b[38;5;28mself\u001b[39m._get_connection()\n\u001b[32m   1037\u001b[39m \u001b[38;5;28;01mtry\u001b[39;00m:\n\u001b[32m-> \u001b[39m\u001b[32m1038\u001b[39m     response = \u001b[43mconnection\u001b[49m\u001b[43m.\u001b[49m\u001b[43msend_command\u001b[49m\u001b[43m(\u001b[49m\u001b[43mcommand\u001b[49m\u001b[43m)\u001b[49m\n\u001b[32m   1039\u001b[39m     \u001b[38;5;28;01mif\u001b[39;00m binary:\n\u001b[32m   1040\u001b[39m         \u001b[38;5;28;01mreturn\u001b[39;00m response, \u001b[38;5;28mself\u001b[39m._create_connection_guard(connection)\n",
      "\u001b[36mFile \u001b[39m\u001b[32m/usr/local/spark/python/lib/py4j-0.10.9.7-src.zip/py4j/clientserver.py:511\u001b[39m, in \u001b[36mClientServerConnection.send_command\u001b[39m\u001b[34m(self, command)\u001b[39m\n\u001b[32m    509\u001b[39m \u001b[38;5;28;01mtry\u001b[39;00m:\n\u001b[32m    510\u001b[39m     \u001b[38;5;28;01mwhile\u001b[39;00m \u001b[38;5;28;01mTrue\u001b[39;00m:\n\u001b[32m--> \u001b[39m\u001b[32m511\u001b[39m         answer = smart_decode(\u001b[38;5;28;43mself\u001b[39;49m\u001b[43m.\u001b[49m\u001b[43mstream\u001b[49m\u001b[43m.\u001b[49m\u001b[43mreadline\u001b[49m\u001b[43m(\u001b[49m\u001b[43m)\u001b[49m[:-\u001b[32m1\u001b[39m])\n\u001b[32m    512\u001b[39m         logger.debug(\u001b[33m\"\u001b[39m\u001b[33mAnswer received: \u001b[39m\u001b[38;5;132;01m{0}\u001b[39;00m\u001b[33m\"\u001b[39m.format(answer))\n\u001b[32m    513\u001b[39m         \u001b[38;5;66;03m# Happens when a the other end is dead. There might be an empty\u001b[39;00m\n\u001b[32m    514\u001b[39m         \u001b[38;5;66;03m# answer before the socket raises an error.\u001b[39;00m\n",
      "\u001b[36mFile \u001b[39m\u001b[32m/opt/miniconda3/lib/python3.13/socket.py:719\u001b[39m, in \u001b[36mSocketIO.readinto\u001b[39m\u001b[34m(self, b)\u001b[39m\n\u001b[32m    717\u001b[39m     \u001b[38;5;28;01mraise\u001b[39;00m \u001b[38;5;167;01mOSError\u001b[39;00m(\u001b[33m\"\u001b[39m\u001b[33mcannot read from timed out object\u001b[39m\u001b[33m\"\u001b[39m)\n\u001b[32m    718\u001b[39m \u001b[38;5;28;01mtry\u001b[39;00m:\n\u001b[32m--> \u001b[39m\u001b[32m719\u001b[39m     \u001b[38;5;28;01mreturn\u001b[39;00m \u001b[38;5;28;43mself\u001b[39;49m\u001b[43m.\u001b[49m\u001b[43m_sock\u001b[49m\u001b[43m.\u001b[49m\u001b[43mrecv_into\u001b[49m\u001b[43m(\u001b[49m\u001b[43mb\u001b[49m\u001b[43m)\u001b[49m\n\u001b[32m    720\u001b[39m \u001b[38;5;28;01mexcept\u001b[39;00m timeout:\n\u001b[32m    721\u001b[39m     \u001b[38;5;28mself\u001b[39m._timeout_occurred = \u001b[38;5;28;01mTrue\u001b[39;00m\n",
      "\u001b[31mKeyboardInterrupt\u001b[39m: "
     ]
    }
   ],
   "source": [
    "df_resampled = resample_with_nearest(df_hard, interval=60)\n",
    "df_resampled.select(*selected_cols).limit(5).show()"
   ]
  },
  {
   "cell_type": "code",
   "execution_count": null,
   "id": "cd173324-7eb1-4918-b3fc-89f670007dc4",
   "metadata": {},
   "outputs": [],
   "source": []
  },
  {
   "cell_type": "code",
   "execution_count": null,
   "id": "f884c75b-6e0d-45d7-9615-f0859c7def77",
   "metadata": {},
   "outputs": [],
   "source": []
  },
  {
   "cell_type": "code",
   "execution_count": null,
   "id": "1be8132a-3f0c-48f8-ae56-03c69227e451",
   "metadata": {},
   "outputs": [],
   "source": []
  },
  {
   "cell_type": "code",
   "execution_count": null,
   "id": "9eb44695-86d4-4d5d-8af8-93de34608f50",
   "metadata": {},
   "outputs": [],
   "source": []
  },
  {
   "cell_type": "code",
   "execution_count": null,
   "id": "89425435-d21b-4e22-8357-4074901dc376",
   "metadata": {},
   "outputs": [],
   "source": []
  },
  {
   "cell_type": "code",
   "execution_count": null,
   "id": "4a5de846-c5a6-4ad1-8121-3df91435ff28",
   "metadata": {},
   "outputs": [],
   "source": []
  },
  {
   "cell_type": "code",
   "execution_count": null,
   "id": "c5dce3a2-75a5-430a-b18b-6e5f4f35a6c2",
   "metadata": {},
   "outputs": [],
   "source": []
  },
  {
   "cell_type": "code",
   "execution_count": null,
   "id": "7469d98f-6196-4593-acb2-9f8cbb516610",
   "metadata": {},
   "outputs": [],
   "source": []
  },
  {
   "cell_type": "code",
   "execution_count": null,
   "id": "25499f6d-09e4-4fb4-9a90-b0460fcd5519",
   "metadata": {},
   "outputs": [],
   "source": []
  },
  {
   "cell_type": "code",
   "execution_count": null,
   "id": "eb6cbfd6-8612-4be6-8629-1294778dec58",
   "metadata": {},
   "outputs": [],
   "source": []
  },
  {
   "cell_type": "code",
   "execution_count": null,
   "id": "9c4ff1dd-93db-4005-accf-721b5838d53d",
   "metadata": {},
   "outputs": [],
   "source": []
  },
  {
   "cell_type": "code",
   "execution_count": null,
   "id": "d5993654-7c21-436e-8552-4b4d3b23d88b",
   "metadata": {},
   "outputs": [],
   "source": []
  },
  {
   "cell_type": "code",
   "execution_count": null,
   "id": "6029d797-d124-43ef-8209-ae009d4d055f",
   "metadata": {},
   "outputs": [],
   "source": []
  },
  {
   "cell_type": "code",
   "execution_count": null,
   "id": "31659118-bfe4-4941-8049-7d8de813e0e7",
   "metadata": {},
   "outputs": [],
   "source": []
  },
  {
   "cell_type": "code",
   "execution_count": null,
   "id": "75b3cc88-8ee2-4e66-97e5-a9ee72a2f334",
   "metadata": {},
   "outputs": [],
   "source": []
  },
  {
   "cell_type": "code",
   "execution_count": null,
   "id": "297ddc42-0e1f-4b74-95cf-47772b4b1904",
   "metadata": {},
   "outputs": [],
   "source": []
  },
  {
   "cell_type": "markdown",
   "id": "e4008f36-62bb-4c20-9a6f-5a310152a8fb",
   "metadata": {},
   "source": [
    "# Anomaly Detection"
   ]
  },
  {
   "cell_type": "code",
   "execution_count": null,
   "id": "bba3e04d-c6d4-4477-83ae-97221ac42da0",
   "metadata": {},
   "outputs": [],
   "source": []
  },
  {
   "cell_type": "code",
   "execution_count": null,
   "id": "44f9a30b-b7f2-49a2-9928-511fb064bd5f",
   "metadata": {},
   "outputs": [],
   "source": []
  },
  {
   "cell_type": "code",
   "execution_count": null,
   "id": "dc650a57-5e0b-4db0-bcf5-7f13bb73bcbd",
   "metadata": {},
   "outputs": [],
   "source": []
  },
  {
   "cell_type": "code",
   "execution_count": null,
   "id": "545b4d46-3a5c-4a13-8863-36d7f2a0cd4b",
   "metadata": {},
   "outputs": [],
   "source": []
  },
  {
   "cell_type": "code",
   "execution_count": null,
   "id": "cbb4ae3f-7772-4400-9541-bc41f9f587d2",
   "metadata": {},
   "outputs": [],
   "source": []
  },
  {
   "cell_type": "code",
   "execution_count": null,
   "id": "c8e15d87-3ea8-426e-b432-5a94d04aed75",
   "metadata": {},
   "outputs": [],
   "source": []
  },
  {
   "cell_type": "code",
   "execution_count": null,
   "id": "c63f463a-5d59-43b2-854e-f69d3d866df8",
   "metadata": {},
   "outputs": [],
   "source": []
  },
  {
   "cell_type": "code",
   "execution_count": null,
   "id": "916f98d6-1af1-4e82-8c7e-46b25d3b9479",
   "metadata": {},
   "outputs": [],
   "source": []
  },
  {
   "cell_type": "markdown",
   "id": "67fecb82-d909-4dc6-a026-16d5347faaa7",
   "metadata": {},
   "source": [
    "# Predictive Maintenance"
   ]
  },
  {
   "cell_type": "code",
   "execution_count": null,
   "id": "4f7b6c25-4344-4d39-b74f-886da19b1aa1",
   "metadata": {},
   "outputs": [],
   "source": []
  },
  {
   "cell_type": "code",
   "execution_count": null,
   "id": "7ff72c85-a4cb-4486-adf4-4bb541f5e867",
   "metadata": {},
   "outputs": [],
   "source": []
  },
  {
   "cell_type": "code",
   "execution_count": null,
   "id": "c282937a-70c2-4cd6-a0f3-85864215978e",
   "metadata": {},
   "outputs": [],
   "source": []
  },
  {
   "cell_type": "code",
   "execution_count": null,
   "id": "9167f121-b1ef-4e2c-bf48-07f55a14afad",
   "metadata": {},
   "outputs": [],
   "source": []
  },
  {
   "cell_type": "code",
   "execution_count": null,
   "id": "7604ef5e-bbb2-4528-ab5c-b6901b18a4a6",
   "metadata": {},
   "outputs": [],
   "source": []
  },
  {
   "cell_type": "code",
   "execution_count": null,
   "id": "1d2a8d74-a326-4733-a3f7-157b2b1ad302",
   "metadata": {},
   "outputs": [],
   "source": []
  },
  {
   "cell_type": "code",
   "execution_count": null,
   "id": "48c34c12-7e6b-44c1-99be-3a8635e2a905",
   "metadata": {},
   "outputs": [],
   "source": []
  },
  {
   "cell_type": "code",
   "execution_count": null,
   "id": "ba7593e0-7c05-4ff3-a3b8-6f0f6f24ce16",
   "metadata": {},
   "outputs": [],
   "source": []
  },
  {
   "cell_type": "markdown",
   "id": "2930c16b-276b-4e9a-b7b2-78a9e82c0776",
   "metadata": {},
   "source": [
    "# *** Remember to close Spark Session ***"
   ]
  },
  {
   "cell_type": "code",
   "execution_count": null,
   "id": "5e33c131-fe4d-4135-8844-5d1015fb0eb9",
   "metadata": {},
   "outputs": [],
   "source": [
    "spark.stop()"
   ]
  },
  {
   "cell_type": "code",
   "execution_count": null,
   "id": "88f2f446-cd02-4d0d-a3d9-f501963a87be",
   "metadata": {},
   "outputs": [],
   "source": []
  },
  {
   "cell_type": "code",
   "execution_count": null,
   "id": "a41fcced-1f35-4f53-b9bc-ba8e97617d51",
   "metadata": {},
   "outputs": [],
   "source": []
  },
  {
   "cell_type": "code",
   "execution_count": null,
   "id": "57265f1f-2d05-47e5-8427-099e79949cb9",
   "metadata": {},
   "outputs": [],
   "source": []
  }
 ],
 "metadata": {
  "kernelspec": {
   "display_name": "Python 3 (ipykernel)",
   "language": "python",
   "name": "python3"
  },
  "language_info": {
   "codemirror_mode": {
    "name": "ipython",
    "version": 3
   },
   "file_extension": ".py",
   "mimetype": "text/x-python",
   "name": "python",
   "nbconvert_exporter": "python",
   "pygments_lexer": "ipython3",
   "version": "3.13.2"
  }
 },
 "nbformat": 4,
 "nbformat_minor": 5
}
