{
 "cells": [
  {
   "cell_type": "code",
   "execution_count": 2,
   "id": "554f65f6-b4b4-4f60-a033-c227fc9d2642",
   "metadata": {},
   "outputs": [
    {
     "name": "stderr",
     "output_type": "stream",
     "text": [
      "Setting default log level to \"WARN\".\n",
      "To adjust logging level use sc.setLogLevel(newLevel). For SparkR, use setLogLevel(newLevel).\n",
      "25/07/24 17:21:21 WARN NativeCodeLoader: Unable to load native-hadoop library for your platform... using builtin-java classes where applicable\n"
     ]
    }
   ],
   "source": [
    "import pandas as pd\n",
    "import numpy as np\n",
    "import matplotlib.pyplot as plt\n",
    "import os\n",
    "from pyspark.sql import SparkSession\n",
    "\n",
    "os.environ[\"PYSPARK_PYTHON\"] = \"/opt/miniconda3/bin/python\"\n",
    "os.environ[\"PYSPARK_DRIVER_PYTHON\"] = \"/opt/miniconda3/bin/python\"\n",
    "\n",
    "spark = SparkSession.builder \\\n",
    "    .appName(\"User_B_Session\") \\\n",
    "    .master(\"spark://10.67.22.135:7077\") \\\n",
    "    .config(\"spark.scheduler.mode\", \"FAIR\") \\\n",
    "    .config(\"spark.dynamicAllocation.enabled\", \"false\") \\\n",
    "    .config(\"spark.shuffle.service.enabled\", \"false\") \\\n",
    "    .config(\"spark.scheduler.pool\", \"user_b\") \\\n",
    "    .getOrCreate()\n",
    "\n",
    "sc = spark.sparkContext"
   ]
  },
  {
   "cell_type": "code",
   "execution_count": 8,
   "id": "1011300b-030d-4c57-a21a-f6bd67866aeb",
   "metadata": {},
   "outputs": [],
   "source": [
    "path = os.path.realpath('/usr/share/div_dataset/SW-106.csv')\n",
    "pandas_df = pd.read_csv(path)\n",
    "N = 100000 # Per brevità\n",
    "df = spark.createDataFrame(pandas_df.iloc[0:N, ])"
   ]
  },
  {
   "cell_type": "code",
   "execution_count": 16,
   "id": "26ce31c1-375e-4f14-a051-b1abcd929a34",
   "metadata": {},
   "outputs": [
    {
     "name": "stdout",
     "output_type": "stream",
     "text": [
      "root\n",
      " |-- when: long (nullable = true)\n",
      " |-- hwid: string (nullable = true)\n",
      " |-- metric: string (nullable = true)\n",
      " |-- value: long (nullable = true)\n",
      "\n"
     ]
    },
    {
     "data": {
      "text/plain": [
       "[Row(when=1601510422405, hwid='SW-106', metric='S49', value=0),\n",
       " Row(when=1601510422405, hwid='SW-106', metric='S50', value=0),\n",
       " Row(when=1601510422405, hwid='SW-106', metric='S53', value=0),\n",
       " Row(when=1601510422405, hwid='SW-106', metric='S54', value=0),\n",
       " Row(when=1601510422405, hwid='SW-106', metric='S55', value=1),\n",
       " Row(when=1601510422405, hwid='SW-106', metric='S56', value=0),\n",
       " Row(when=1601510422405, hwid='SW-106', metric='S57', value=0),\n",
       " Row(when=1601510422405, hwid='SW-106', metric='S63', value=0),\n",
       " Row(when=1601510422405, hwid='SW-106', metric='S64', value=0),\n",
       " Row(when=1601510422405, hwid='SW-106', metric='S69', value=0)]"
      ]
     },
     "execution_count": 16,
     "metadata": {},
     "output_type": "execute_result"
    }
   ],
   "source": [
    "df.printSchema()\n",
    "df.take(10)"
   ]
  },
  {
   "cell_type": "code",
   "execution_count": 20,
   "id": "343e0368-ced5-4dde-af4c-676a9166c57e",
   "metadata": {},
   "outputs": [
    {
     "data": {
      "text/plain": [
       "[Row(when=1601510422405, hwid='SW-106', metric='S125', value=57),\n",
       " Row(when=1601510425346, hwid='SW-106', metric='S181', value=57),\n",
       " Row(when=1601510452526, hwid='SW-106', metric='S125', value=57),\n",
       " Row(when=1601510455485, hwid='SW-106', metric='S181', value=57),\n",
       " Row(when=1601510482806, hwid='SW-106', metric='S125', value=57),\n",
       " Row(when=1601510485785, hwid='SW-106', metric='S181', value=57),\n",
       " Row(when=1601510512906, hwid='SW-106', metric='S125', value=57),\n",
       " Row(when=1601510515906, hwid='SW-106', metric='S181', value=57),\n",
       " Row(when=1601510543186, hwid='SW-106', metric='S125', value=57),\n",
       " Row(when=1601510546146, hwid='SW-106', metric='S181', value=57)]"
      ]
     },
     "execution_count": 20,
     "metadata": {},
     "output_type": "execute_result"
    }
   ],
   "source": [
    "filtered_df = df.filter((df.metric == 'S125')|(df.metric == 'S181'))\n"
   ]
  },
  {
   "cell_type": "code",
   "execution_count": null,
   "id": "d8273c62-ab32-42c8-8633-c023244afc45",
   "metadata": {},
   "outputs": [],
   "source": []
  },
  {
   "cell_type": "code",
   "execution_count": null,
   "id": "85fb27ad-61dd-4b7d-a4b1-a486ba90ca9e",
   "metadata": {},
   "outputs": [],
   "source": []
  },
  {
   "cell_type": "code",
   "execution_count": null,
   "id": "ef153b97-8d84-4463-a665-f9f9511048c7",
   "metadata": {},
   "outputs": [],
   "source": []
  }
 ],
 "metadata": {
  "kernelspec": {
   "display_name": "Python 3 (ipykernel)",
   "language": "python",
   "name": "python3"
  },
  "language_info": {
   "codemirror_mode": {
    "name": "ipython",
    "version": 3
   },
   "file_extension": ".py",
   "mimetype": "text/x-python",
   "name": "python",
   "nbconvert_exporter": "python",
   "pygments_lexer": "ipython3",
   "version": "3.13.2"
  }
 },
 "nbformat": 4,
 "nbformat_minor": 5
}
